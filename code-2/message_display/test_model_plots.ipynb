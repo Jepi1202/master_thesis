{
 "cells": [
  {
   "cell_type": "code",
   "execution_count": 1,
   "metadata": {},
   "outputs": [
    {
     "name": "stderr",
     "output_type": "stream",
     "text": [
      "/home/jpierre/anaconda3/envs/myenvPy/lib/python3.9/site-packages/tqdm/auto.py:21: TqdmWarning: IProgress not found. Please update jupyter and ipywidgets. See https://ipywidgets.readthedocs.io/en/stable/user_install.html\n",
      "  from .autonotebook import tqdm as notebook_tqdm\n"
     ]
    }
   ],
   "source": [
    "import matplotlib.pyplot as plt\n",
    "import os\n",
    "import sys\n",
    "from tqdm import tqdm\n",
    "import torch\n",
    "from torch_geometric.data import Data\n",
    "\n",
    "def path_link(path:str):\n",
    "    sys.path.append(path)\n",
    "\n",
    "path_link('/home/jpierre/v2/lib')\n",
    "\n",
    "from measure import plotStdMessage\n",
    "\n",
    "import shutil"
   ]
  },
  {
   "cell_type": "code",
   "execution_count": null,
   "metadata": {},
   "outputs": [],
   "source": [
    "PATH = 'master/code/runs1'\n",
    "DISPLAY_PATH = 'master/code/display_l1'"
   ]
  },
  {
   "cell_type": "code",
   "execution_count": null,
   "metadata": {},
   "outputs": [],
   "source": []
  },
  {
   "cell_type": "code",
   "execution_count": 2,
   "metadata": {},
   "outputs": [],
   "source": [
    "def findModels(path):\n",
    "    pathLists = []\n",
    "    for root, dirs, files in tqdm(os.walk(path)):\n",
    "            for file in files:\n",
    "                  \n",
    "                if file.endswith('.pt'):\n",
    "                    pathLists.append(os.path.join(root, file))\n",
    "\n",
    "\n",
    "    return pathLists\n",
    "\n",
    "\n",
    "def delete_wandb_dirs(start_path):\n",
    "    for root, dirs, files in os.walk(start_path, topdown=False):\n",
    "        for dir_name in dirs:\n",
    "            if dir_name == \"wandb\":\n",
    "                dir_path = os.path.join(root, dir_name)\n",
    "                print(f\"Deleting: {dir_path}\")\n",
    "                shutil.rmtree(dir_path)\n",
    "\n",
    "\n",
    "def getName(path):\n",
    "    run_name = path.split('/')[-3]\n",
    "\n",
    "    model_type = path.split('/')[-1].split('.')[0]\n",
    "\n",
    "    if 'best' in model_type:\n",
    "        model_type = '_best'\n",
    "\n",
    "    else:\n",
    "         model_type = '_latest'\n",
    "\n",
    "    name = run_name + model_type\n",
    "\n",
    "    return name\n",
    "\n",
    "\n",
    "def getModelName(key):\n",
    "\n",
    "    name = ''\n",
    "\n",
    "    if 'simplest' in key:\n",
    "        name = name + 'simplest'\n",
    "\n",
    "    ## other possibilities\n",
    "\n",
    "    if 'no-dropout' in key:\n",
    "        name = name + '_no-dropout'\n",
    "    else:\n",
    "        name = name + '_dropout'\n",
    "\n",
    "    if 'no-encoder' in key:\n",
    "        name = name + '_no-encoder'\n",
    "    else:\n",
    "        name = name + '_encoder'\n",
    "\n",
    "    return name\n",
    "         \n",
    "\n",
    "def loadModel(modelName:str, inputShape:int = 8, edges_shape = 5, path = None):\n",
    "    \"\"\" \n",
    "    Function to import the model\n",
    "\n",
    "    Args:\n",
    "    -----\n",
    "        - `modelName`: name of the model\n",
    "        - `inputShape`: inout shape of the NN\n",
    "        - `edges_shape`: edge shape of the NN\n",
    "        - `path`: path where the models are\n",
    "    \"\"\"\n",
    "\n",
    "    sys.path.append(path)\n",
    "\n",
    "    loadFun = __import__(f'{modelName}', fromlist = ('loadNetwork'))\n",
    "\n",
    "    model = loadFun.loadNetwork(inputShape, edges_shape)\n",
    "\n",
    "    return model\n",
    "\n",
    "\n",
    "def getLoader(key):\n",
    "    if '0-001' in key:\n",
    "        laoder = ...\n",
    "        \n",
    "    else:\n",
    "        loader = ...\n",
    "        \n",
    "    return loader\n",
    "\n",
    "\n",
    "\n",
    "\n",
    "def plotModels(modelList, pathPlot):\n",
    "    \n",
    "    with torch.no_grad():\n",
    "        # get the data for the different models\n",
    "\n",
    "        for model_path in tqdm(modelList):\n",
    "            # find name that identify the model\n",
    "            name_plot = getName(model_path)\n",
    "\n",
    "            # load model\n",
    "            model = loadModel(getModelName(name_plot))\n",
    "            std_dict = torch.load(model_path)\n",
    "            model.load_state_dict(std_dict)\n",
    "            model.eval()\n",
    "\n",
    "\n",
    "            # condition loader on the dt\n",
    "\n",
    "            # get data\n",
    "\n",
    "            # get messages\n",
    "            message = model.message()\n",
    "\n",
    "            # plot the message\n",
    "            plotStdMessage(message)\n",
    "\n",
    "            plt.savefig(f\"{name_plot}.png\")\n",
    "            plt.close()"
   ]
  },
  {
   "cell_type": "code",
   "execution_count": 14,
   "metadata": {},
   "outputs": [
    {
     "name": "stdout",
     "output_type": "stream",
     "text": [
      "Deleting: master/code/runs1/zip_r1/0_001/simplest_normal_0-001_dropout_encoder_aug/wandb\n",
      "Deleting: master/code/runs1/zip_r1/0_001/simplest_normal_0-001_dropout_encoder_no-aug/wandb\n",
      "Deleting: master/code/runs1/zip_r1/0_001/simplest_normal_0-001_dropout_no-encoder_aug/wandb\n",
      "Deleting: master/code/runs1/zip_r1/0_001/simplest_normal_0-001_dropout_no-encoder_no_aug/wandb\n",
      "Deleting: master/code/runs1/zip_r1/0_001/simplest_normal_0-001_no-dropout_encoder_aug/wandb\n",
      "Deleting: master/code/runs1/zip_r1/0_001/simplest_normal_0-001_no-dropout_encoder_no-aug/wandb\n",
      "Deleting: master/code/runs1/zip_r1/0_001/simplest_normal_0-001_no-dropout_no-encoder_aug/wandb\n",
      "Deleting: master/code/runs1/zip_r1/0_001/simplest_normal_0-001_no-dropout_no-encoder_no_aug/wandb\n",
      "Deleting: master/code/runs1/zip_r1/simplest_mew_noise_0001/wandb\n",
      "Deleting: master/code/runs1/zip_r1/simplest_mew_noise_001/wandb\n",
      "Deleting: master/code/runs1/zip_r1/simplest_mew_normal_0001/wandb\n",
      "Deleting: master/code/runs1/zip_r1/simplest_mew_normal_001/wandb\n",
      "Deleting: master/code/runs1/zip_r1/test_no_drop/wandb\n"
     ]
    }
   ],
   "source": [
    "delete_wandb_dirs(PATH)"
   ]
  },
  {
   "cell_type": "code",
   "execution_count": 15,
   "metadata": {},
   "outputs": [
    {
     "name": "stderr",
     "output_type": "stream",
     "text": [
      "58it [00:00, 139.35it/s]\n"
     ]
    }
   ],
   "source": [
    "model_list = findModels(PATH)"
   ]
  },
  {
   "cell_type": "code",
   "execution_count": 27,
   "metadata": {},
   "outputs": [
    {
     "name": "stdout",
     "output_type": "stream",
     "text": [
      "master/code/runs1/zip_r1/0_001/simplest_normal_0-001_dropout_encoder_aug/model_trained/simplest_drop_enc_aug_latest.pt\n",
      "simplest_normal_0-001_dropout_encoder_aug_latest\n"
     ]
    }
   ],
   "source": [
    "i = 2\n",
    "print(model_list[i])\n",
    "print(getName(model_list[i]))"
   ]
  },
  {
   "cell_type": "code",
   "execution_count": 28,
   "metadata": {},
   "outputs": [
    {
     "name": "stdout",
     "output_type": "stream",
     "text": [
      "['master/code/runs1/zip_r1/0_001/simplest_normal_0-001_dropout_encoder_aug/model_trained/simplest_best.pt', 'master/code/runs1/zip_r1/0_001/simplest_normal_0-001_dropout_encoder_aug/model_trained/simplest_drop_enc_aug_best.pt', 'master/code/runs1/zip_r1/0_001/simplest_normal_0-001_dropout_encoder_aug/model_trained/simplest_drop_enc_aug_latest.pt', 'master/code/runs1/zip_r1/0_001/simplest_normal_0-001_dropout_encoder_aug/model_trained/simplest_latest.pt', 'master/code/runs1/zip_r1/0_001/simplest_normal_0-001_dropout_encoder_no-aug/model_trained/simplest_best.pt', 'master/code/runs1/zip_r1/0_001/simplest_normal_0-001_dropout_encoder_no-aug/model_trained/simplest_dropout_encoder_no-aug_best.pt', 'master/code/runs1/zip_r1/0_001/simplest_normal_0-001_dropout_encoder_no-aug/model_trained/simplest_dropout_encoder_no-aug_latest.pt', 'master/code/runs1/zip_r1/0_001/simplest_normal_0-001_dropout_encoder_no-aug/model_trained/simplest_latest.pt', 'master/code/runs1/zip_r1/0_001/simplest_normal_0-001_dropout_no-encoder_aug/model_trained/simplest_best.pt', 'master/code/runs1/zip_r1/0_001/simplest_normal_0-001_dropout_no-encoder_aug/model_trained/simplest_drop_enc_aug_best.pt', 'master/code/runs1/zip_r1/0_001/simplest_normal_0-001_dropout_no-encoder_aug/model_trained/simplest_drop_no-enc_aug_best.pt', 'master/code/runs1/zip_r1/0_001/simplest_normal_0-001_dropout_no-encoder_aug/model_trained/simplest_drop_no-enc_aug_latest.pt', 'master/code/runs1/zip_r1/0_001/simplest_normal_0-001_dropout_no-encoder_aug/model_trained/simplest_latest.pt', 'master/code/runs1/zip_r1/0_001/simplest_normal_0-001_dropout_no-encoder_no_aug/model_trained/simplest_best.pt', 'master/code/runs1/zip_r1/0_001/simplest_normal_0-001_dropout_no-encoder_no_aug/model_trained/simplest_drop_enc_aug_best.pt', 'master/code/runs1/zip_r1/0_001/simplest_normal_0-001_dropout_no-encoder_no_aug/model_trained/simplest_drop_no-enc_no-aug_best.pt', 'master/code/runs1/zip_r1/0_001/simplest_normal_0-001_dropout_no-encoder_no_aug/model_trained/simplest_drop_no-enc_no-aug_latest.pt', 'master/code/runs1/zip_r1/0_001/simplest_normal_0-001_dropout_no-encoder_no_aug/model_trained/simplest_latest.pt', 'master/code/runs1/zip_r1/0_001/simplest_normal_0-001_no-dropout_encoder_aug/model_trained/simplest_best.pt', 'master/code/runs1/zip_r1/0_001/simplest_normal_0-001_no-dropout_encoder_aug/model_trained/simplest_latest.pt', 'master/code/runs1/zip_r1/0_001/simplest_normal_0-001_no-dropout_encoder_aug/model_trained/simplest_no-dropout_encoder_aug_best.pt', 'master/code/runs1/zip_r1/0_001/simplest_normal_0-001_no-dropout_encoder_aug/model_trained/simplest_no-dropout_encoder_aug_latest.pt', 'master/code/runs1/zip_r1/0_001/simplest_normal_0-001_no-dropout_encoder_no-aug/model_trained/simplest_best.pt', 'master/code/runs1/zip_r1/0_001/simplest_normal_0-001_no-dropout_encoder_no-aug/model_trained/simplest_latest.pt', 'master/code/runs1/zip_r1/0_001/simplest_normal_0-001_no-dropout_encoder_no-aug/model_trained/simplest_no-dropout_encoder_no-aug_best.pt', 'master/code/runs1/zip_r1/0_001/simplest_normal_0-001_no-dropout_encoder_no-aug/model_trained/simplest_no-dropout_encoder_no-aug_latest.pt', 'master/code/runs1/zip_r1/0_001/simplest_normal_0-001_no-dropout_no-encoder_aug/model_trained/simplest_best.pt', 'master/code/runs1/zip_r1/0_001/simplest_normal_0-001_no-dropout_no-encoder_aug/model_trained/simplest_drop_enc_aug_best.pt', 'master/code/runs1/zip_r1/0_001/simplest_normal_0-001_no-dropout_no-encoder_aug/model_trained/simplest_latest.pt', 'master/code/runs1/zip_r1/0_001/simplest_normal_0-001_no-dropout_no-encoder_aug/model_trained/simplest_no-drop_no-enc_aug_best.pt', 'master/code/runs1/zip_r1/0_001/simplest_normal_0-001_no-dropout_no-encoder_aug/model_trained/simplest_no-drop_no-enc_aug_latest.pt', 'master/code/runs1/zip_r1/0_001/simplest_normal_0-001_no-dropout_no-encoder_no_aug/model_trained/simplest_best.pt', 'master/code/runs1/zip_r1/0_001/simplest_normal_0-001_no-dropout_no-encoder_no_aug/model_trained/simplest_drop_enc_aug_best.pt', 'master/code/runs1/zip_r1/0_001/simplest_normal_0-001_no-dropout_no-encoder_no_aug/model_trained/simplest_latest.pt', 'master/code/runs1/zip_r1/0_001/simplest_normal_0-001_no-dropout_no-encoder_no_aug/model_trained/simplest_no-drop_no-enc_no-aug_best.pt', 'master/code/runs1/zip_r1/0_001/simplest_normal_0-001_no-dropout_no-encoder_no_aug/model_trained/simplest_no-drop_no-enc_no-aug_latest.pt', 'master/code/runs1/zip_r1/simplest_mew_noise_0001/model_trained/simplest_best.pt', 'master/code/runs1/zip_r1/simplest_mew_noise_0001/model_trained/simplest_latest.pt', 'master/code/runs1/zip_r1/simplest_mew_noise_001/model_trained/simplest_best.pt', 'master/code/runs1/zip_r1/simplest_mew_noise_001/model_trained/simplest_latest.pt', 'master/code/runs1/zip_r1/simplest_mew_normal_0001/model_trained/simplest_best.pt', 'master/code/runs1/zip_r1/simplest_mew_normal_0001/model_trained/simplest_latest.pt', 'master/code/runs1/zip_r1/simplest_mew_normal_001/model_trained/simplest_best.pt', 'master/code/runs1/zip_r1/simplest_mew_normal_001/model_trained/simplest_latest.pt', 'master/code/runs1/zip_r1/test_no_drop/model_trained/simplest_best.pt', 'master/code/runs1/zip_r1/test_no_drop/model_trained/simplest_latest.pt']\n"
     ]
    }
   ],
   "source": [
    "print(model_list)"
   ]
  },
  {
   "cell_type": "code",
   "execution_count": 17,
   "metadata": {},
   "outputs": [
    {
     "name": "stdout",
     "output_type": "stream",
     "text": [
      "True\n"
     ]
    }
   ],
   "source": [
    "print(os.path.exists(model_list[0]))"
   ]
  },
  {
   "cell_type": "code",
   "execution_count": null,
   "metadata": {},
   "outputs": [],
   "source": []
  },
  {
   "cell_type": "code",
   "execution_count": null,
   "metadata": {},
   "outputs": [],
   "source": []
  },
  {
   "cell_type": "code",
   "execution_count": null,
   "metadata": {},
   "outputs": [],
   "source": []
  },
  {
   "cell_type": "code",
   "execution_count": 3,
   "metadata": {},
   "outputs": [
    {
     "name": "stdout",
     "output_type": "stream",
     "text": [
      "Deleting: /home/jpierre/v2/new_runs/zip_r1/simplest_mew_noise_0001/wandb\n",
      "Deleting: /home/jpierre/v2/new_runs/zip_r1/simplest_mew_noise_001/wandb\n",
      "Deleting: /home/jpierre/v2/new_runs/zip_r1/simplest_mew_normal_0001/wandb\n",
      "Deleting: /home/jpierre/v2/new_runs/zip_r1/simplest_mew_normal_001/wandb\n",
      "Deleting: /home/jpierre/v2/new_runs/zip_r1/test_no_drop/wandb\n",
      "Deleting: /home/jpierre/v2/new_runs/zip_r1/0_001/simplest_normal_0-001_dropout_encoder_aug/wandb\n",
      "Deleting: /home/jpierre/v2/new_runs/zip_r1/0_001/simplest_normal_0-001_dropout_encoder_no-aug/wandb\n",
      "Deleting: /home/jpierre/v2/new_runs/zip_r1/0_001/simplest_normal_0-001_no-dropout_encoder_aug/wandb\n",
      "Deleting: /home/jpierre/v2/new_runs/zip_r1/0_001/simplest_normal_0-001_no-dropout_encoder_no-aug/wandb\n",
      "Deleting: /home/jpierre/v2/new_runs/zip_r1/0_001/simplest_normal_0-001_dropout_no-encoder_aug/wandb\n",
      "Deleting: /home/jpierre/v2/new_runs/zip_r1/0_001/simplest_normal_0-001_dropout_no-encoder_no_aug/wandb\n",
      "Deleting: /home/jpierre/v2/new_runs/zip_r1/0_001/simplest_normal_0-001_no-dropout_no-encoder_no_aug/wandb\n",
      "Deleting: /home/jpierre/v2/new_runs/zip_r1/0_001/simplest_normal_0-001_no-dropout_no-encoder_aug/wandb\n"
     ]
    }
   ],
   "source": [
    "delete_wandb_dirs('/home/jpierre/v2/new_runs/zip_r1')"
   ]
  }
 ],
 "metadata": {
  "kernelspec": {
   "display_name": "Python [conda env:myenvPy]",
   "language": "python",
   "name": "conda-env-myenvPy-py"
  },
  "language_info": {
   "codemirror_mode": {
    "name": "ipython",
    "version": 3
   },
   "file_extension": ".py",
   "mimetype": "text/x-python",
   "name": "python",
   "nbconvert_exporter": "python",
   "pygments_lexer": "ipython3",
   "version": "3.9.18"
  }
 },
 "nbformat": 4,
 "nbformat_minor": 2
}

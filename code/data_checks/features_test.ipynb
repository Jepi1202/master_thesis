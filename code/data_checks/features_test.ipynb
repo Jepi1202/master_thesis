{
 "cells": [
  {
   "cell_type": "code",
   "execution_count": 1,
   "metadata": {},
   "outputs": [],
   "source": [
    "import torch\n",
    "import numpy as np\n",
    "import os\n",
    "import re\n",
    "import random\n",
    "from tqdm import tqdm\n",
    "import matplotlib.pyplot as plt"
   ]
  },
  {
   "cell_type": "markdown",
   "metadata": {},
   "source": [
    "### Different datasets"
   ]
  },
  {
   "cell_type": "code",
   "execution_count": 2,
   "metadata": {},
   "outputs": [
    {
     "data": {
      "text/plain": [
       "['mew_0.01',\n",
       " 'mew_noise',\n",
       " 'mew_noise_0.01',\n",
       " 'mew',\n",
       " 'mew_0.01_bis',\n",
       " 'mew_0.001_noisy',\n",
       " 'mew_0.001_normal',\n",
       " 'mew_0.01_noisy',\n",
       " 'mew_0.01_normal',\n",
       " 'smallest_0_001_normal']"
      ]
     },
     "execution_count": 2,
     "metadata": {},
     "output_type": "execute_result"
    }
   ],
   "source": [
    "p = '/scratch/users/jpierre'\n",
    "os.listdir(p)"
   ]
  },
  {
   "cell_type": "markdown",
   "metadata": {},
   "source": [
    "### Checking the features"
   ]
  },
  {
   "cell_type": "code",
   "execution_count": 3,
   "metadata": {},
   "outputs": [],
   "source": [
    "dataset = 'mew_0.001_normal'\n",
    "torch_dataset = f'/scratch/users/jpierre/{dataset}/training/torch_file'\n",
    "np_dataset = f'/scratch/users/jpierre/{dataset}/training/np_file'\n",
    "df_file = f'/scratch/users/jpierre/{dataset}'\n",
    "\n",
    "p_out = os.path.join(os.getcwd(), f'{dataset}')\n",
    "if not os.path.exists(p_out):\n",
    "    os.makedirs(p_out)"
   ]
  },
  {
   "cell_type": "code",
   "execution_count": 4,
   "metadata": {},
   "outputs": [
    {
     "name": "stderr",
     "output_type": "stream",
     "text": [
      "/home/jpierre/anaconda3/envs/myenvPy/lib/python3.9/site-packages/tqdm/auto.py:21: TqdmWarning: IProgress not found. Please update jupyter and ipywidgets. See https://ipywidgets.readthedocs.io/en/stable/user_install.html\n",
      "  from .autonotebook import tqdm as notebook_tqdm\n"
     ]
    }
   ],
   "source": [
    "simNb = 2\n",
    "nbStep = 15\n",
    "\n",
    "a = torch.load(f'{torch_dataset}/sim_{simNb}_step_{nbStep}.pt')"
   ]
  },
  {
   "cell_type": "code",
   "execution_count": 5,
   "metadata": {},
   "outputs": [
    {
     "name": "stdout",
     "output_type": "stream",
     "text": [
      "Data(x=[300, 10], edge_index=[2, 352], edge_attr=[352, 5], y=[300, 10, 2])\n"
     ]
    }
   ],
   "source": [
    "print(a)"
   ]
  },
  {
   "cell_type": "code",
   "execution_count": 6,
   "metadata": {},
   "outputs": [
    {
     "name": "stdout",
     "output_type": "stream",
     "text": [
      "tensor([-1.0169e+02, -1.0292e+02,  3.8472e-02, -4.7006e-02,  3.7468e-02,\n",
      "        -4.7420e-02,  3.6304e-02, -4.7888e-02,  3.4955e-02, -4.8418e-02])\n",
      "tensor([[ 0.0393, -0.0466],\n",
      "        [ 0.0401, -0.0463],\n",
      "        [ 0.0407, -0.0460],\n",
      "        [ 0.0413, -0.0458],\n",
      "        [ 0.0418, -0.0455],\n",
      "        [ 0.0422, -0.0453],\n",
      "        [ 0.0425, -0.0452],\n",
      "        [ 0.0428, -0.0450],\n",
      "        [ 0.0431, -0.0449],\n",
      "        [ 0.0433, -0.0447]])\n",
      "tensor([2.0519, 0.9253, 0.3793, 1.0000, 1.0000])\n"
     ]
    }
   ],
   "source": [
    "print(a.x[0])\n",
    "print(a.y[0])\n",
    "print(a.edge_attr[0])"
   ]
  },
  {
   "cell_type": "code",
   "execution_count": 7,
   "metadata": {},
   "outputs": [
    {
     "name": "stdout",
     "output_type": "stream",
     "text": [
      "tensor([-1.0165e+02, -1.0296e+02,  3.9339e-02, -4.6639e-02,  3.8472e-02,\n",
      "        -4.7006e-02,  3.7468e-02, -4.7420e-02,  3.6304e-02, -4.7888e-02])\n",
      "tensor([[ 0.0401, -0.0463],\n",
      "        [ 0.0407, -0.0460],\n",
      "        [ 0.0413, -0.0458],\n",
      "        [ 0.0418, -0.0455],\n",
      "        [ 0.0422, -0.0453],\n",
      "        [ 0.0425, -0.0452],\n",
      "        [ 0.0428, -0.0450],\n",
      "        [ 0.0431, -0.0449],\n",
      "        [ 0.0433, -0.0447],\n",
      "        [ 0.0435, -0.0446]])\n",
      "tensor([2.0636, 0.9239, 0.3827, 1.0000, 1.0000])\n"
     ]
    }
   ],
   "source": [
    "a = torch.load(f'{torch_dataset}/sim_{simNb}_step_{nbStep+1}.pt')\n",
    "print(a.x[0])\n",
    "print(a.y[0])\n",
    "print(a.edge_attr[0])"
   ]
  },
  {
   "cell_type": "markdown",
   "metadata": {},
   "source": [
    "### Get a whole bunch of data"
   ]
  },
  {
   "cell_type": "code",
   "execution_count": 8,
   "metadata": {},
   "outputs": [],
   "source": [
    "def getSimulations(file, nb = 10, nbSteps = 200):\n",
    "    \n",
    "    sim_numbers = set()\n",
    "    pattern = r\"sim_(\\d+)_step_\"\n",
    "    for filename in os.listdir(file):\n",
    "        match = re.search(pattern, filename)\n",
    "        if match:\n",
    "            sim_number = match.group(1)\n",
    "            sim_numbers.add(int(sim_number))\n",
    "            \n",
    "    v = sorted(sim_numbers)\n",
    "        \n",
    "    random.shuffle(v)\n",
    "    \n",
    "    vals = v[:nb]\n",
    "    nameList = []\n",
    "    \n",
    "    \n",
    "    for v in vals:\n",
    "        for i in range(nbSteps):\n",
    "            name = f'{torch_dataset}/sim_{v}_step_{i}.pt'\n",
    "            \n",
    "            nameList.append(name)\n",
    "            \n",
    "    return nameList, v\n",
    "\n",
    "\n",
    "def getSimulation(torch_directory, simNb):\n",
    "    \n",
    "    vals = []\n",
    "    \n",
    "    p = f'{torch_directory}/sim_{simNb}'\n",
    "    for filename in os.listdir(torch_directory):\n",
    "        if filename.startswith(p):\n",
    "            vals.append(filename)\n",
    "            \n",
    "    return vals\n"
   ]
  },
  {
   "cell_type": "code",
   "execution_count": 9,
   "metadata": {},
   "outputs": [],
   "source": [
    "nameList, nbList = getSimulations(torch_dataset)\n",
    "data = [torch.load(f) for f in nameList]"
   ]
  },
  {
   "cell_type": "markdown",
   "metadata": {},
   "source": [
    "### Speed distribution"
   ]
  },
  {
   "cell_type": "code",
   "execution_count": 10,
   "metadata": {},
   "outputs": [
    {
     "name": "stderr",
     "output_type": "stream",
     "text": [
      "100%|██████████| 2000/2000 [00:00<00:00, 91836.35it/s]\n"
     ]
    }
   ],
   "source": [
    "speeds = [data[i].y[:, :, 0] for i in tqdm(range(len(data)))]\n",
    "s = torch.stack(speeds)"
   ]
  },
  {
   "cell_type": "code",
   "execution_count": 11,
   "metadata": {},
   "outputs": [
    {
     "name": "stdout",
     "output_type": "stream",
     "text": [
      "torch.Size([2000, 300, 10])\n"
     ]
    }
   ],
   "source": [
    "print(s.shape)"
   ]
  },
  {
   "cell_type": "code",
   "execution_count": 12,
   "metadata": {},
   "outputs": [],
   "source": [
    "def plotDistr(v, bins = 'auto', density = True, xlabel = 'x', ylabel = 'Density', nameFile = None):\n",
    "    plt.hist(v, bins = bins, density = density)\n",
    "    plt.xlabel(xlabel)\n",
    "    plt.ylabel(ylabel)\n",
    "    \n",
    "    if nameFile:\n",
    "        plt.savefig(nameFile)\n",
    "        plt.close()\n",
    "    else:\n",
    "        plt.show()"
   ]
  },
  {
   "cell_type": "code",
   "execution_count": 13,
   "metadata": {},
   "outputs": [
    {
     "name": "stdout",
     "output_type": "stream",
     "text": [
      "/scratch/users/jpierre/mew_0.001_normal/speed_x.png\n"
     ]
    }
   ],
   "source": [
    "print(f'{df_file}/speed_x.png')"
   ]
  },
  {
   "cell_type": "code",
   "execution_count": 14,
   "metadata": {},
   "outputs": [
    {
     "data": {
      "image/png": "[encoded data removed]",
      "text/plain": [
       "<Figure size 640x480 with 1 Axes>"
      ]
     },
     "metadata": {},
     "output_type": "display_data"
    },
    {
     "data": {
      "image/png": "[encoded data removed]",
      "text/plain": [
       "<Figure size 640x480 with 1 Axes>"
      ]
     },
     "metadata": {},
     "output_type": "display_data"
    },
    {
     "data": {
      "image/png": "[encoded data removed]",
      "text/plain": [
       "<Figure size 640x480 with 1 Axes>"
      ]
     },
     "metadata": {},
     "output_type": "display_data"
    }
   ],
   "source": [
    "# s_x\n",
    "\n",
    "speed_x = s[:, :, 0].view(-1).numpy()\n",
    "plotDistr(speed_x, bins = 100, xlabel = 'speed_x', nameFile = f'{p_out}/speed_x.png')\n",
    "plotDistr(speed_x, bins = 100, xlabel = 'speed_x')\n",
    "# s_y\n",
    "\n",
    "speed_y = s[:, :, 1].view(-1).numpy()\n",
    "plotDistr(speed_y, bins = 100, xlabel = 'speed_y', nameFile = f'{p_out}/speed_y.png')\n",
    "plotDistr(speed_y, bins = 100, xlabel = 'speed_y')\n",
    "# norm of speed\n",
    "\n",
    "speed = torch.sqrt(s[:, :, 0].view(-1) ** 2 + s[:, :, 1].view(-1) ** 2).numpy()\n",
    "plotDistr(speed, bins = 100, xlabel = 'speed norm', nameFile = f'{p_out}/speed_norm.png')\n",
    "plotDistr(speed, bins = 100, xlabel = 'speed norm')"
   ]
  },
  {
   "cell_type": "markdown",
   "metadata": {},
   "source": [
    "### Degree distribution"
   ]
  },
  {
   "cell_type": "code",
   "execution_count": 15,
   "metadata": {},
   "outputs": [],
   "source": [
    "from torch_geometric.utils import degree as deg"
   ]
  },
  {
   "cell_type": "code",
   "execution_count": 16,
   "metadata": {},
   "outputs": [],
   "source": [
    "degs = torch.stack([deg(data[i].edge_index[0, :], num_nodes=data[i].x.size(0)) for i in range(len(data))]).view(-1).numpy()"
   ]
  },
  {
   "cell_type": "code",
   "execution_count": 17,
   "metadata": {},
   "outputs": [
    {
     "name": "stdout",
     "output_type": "stream",
     "text": [
      "0.0\n",
      "5.0\n"
     ]
    }
   ],
   "source": [
    "print(np.min(degs))\n",
    "print(np.max(degs))"
   ]
  },
  {
   "cell_type": "code",
   "execution_count": 18,
   "metadata": {},
   "outputs": [
    {
     "data": {
      "image/png": "[encoded data removed]",
      "text/plain": [
       "<Figure size 640x480 with 1 Axes>"
      ]
     },
     "metadata": {},
     "output_type": "display_data"
    }
   ],
   "source": [
    "plotDistr(degs, bins = 'auto', density = False, xlabel = 'Degree', ylabel = 'Number of instances', nameFile = f'{p_out}/degree_hist.png')\n",
    "plotDistr(degs, bins = 'auto', density = False, xlabel = 'Degree', ylabel = 'Number of instances')"
   ]
  },
  {
   "cell_type": "markdown",
   "metadata": {},
   "source": [
    "### Distance distribution"
   ]
  },
  {
   "cell_type": "code",
   "execution_count": 19,
   "metadata": {},
   "outputs": [],
   "source": [
    "def calculate_distances(graph):\n",
    "    start_points = graph.x[graph.edge_index[0]]\n",
    "    end_points = graph.x[graph.edge_index[1]]\n",
    "\n",
    "    # Calculate the Euclidean distances\n",
    "    distances = torch.sqrt(torch.sum((start_points - end_points) ** 2, dim=1))\n",
    "    return distances"
   ]
  },
  {
   "cell_type": "code",
   "execution_count": 20,
   "metadata": {},
   "outputs": [],
   "source": [
    "dist = []\n",
    "\n",
    "for i in range(len(data)):\n",
    "    dist.extend(calculate_distances(data[i]).numpy().tolist())\n",
    "    \n",
    "dist = np.array(dist)"
   ]
  },
  {
   "cell_type": "code",
   "execution_count": 21,
   "metadata": {},
   "outputs": [
    {
     "data": {
      "image/png": "[encoded data removed]",
      "text/plain": [
       "<Figure size 640x480 with 1 Axes>"
      ]
     },
     "metadata": {},
     "output_type": "display_data"
    }
   ],
   "source": [
    "plotDistr(dist, bins = 100, xlabel = 'Distances', nameFile = f'{p_out}/dist_hist.png')\n",
    "plotDistr(dist, bins = 100, xlabel = 'Distances')"
   ]
  },
  {
   "cell_type": "markdown",
   "metadata": {},
   "source": [
    "### Interaction force"
   ]
  },
  {
   "cell_type": "code",
   "execution_count": 22,
   "metadata": {},
   "outputs": [],
   "source": [
    "def calculate_interaction(dist, k, epsilon, radii = 1.0):\n",
    "    \"\"\"\n",
    "    Given the vectors ri and rj, compute the force between them\n",
    "    \"\"\"\n",
    "\n",
    "\n",
    "    bij = radii + radii\n",
    "\n",
    "    if dist < bij*(1 + epsilon):\n",
    "        force = k*(dist - bij)  \n",
    "    elif dist < bij*(1 + 2*epsilon):\n",
    "        force = -k*(dist - bij - 2*epsilon*bij)\n",
    "    else:\n",
    "        force = 0.0\n",
    "    return force"
   ]
  },
  {
   "cell_type": "code",
   "execution_count": 23,
   "metadata": {},
   "outputs": [
    {
     "data": {
      "image/png": "[encoded data removed]",
      "text/plain": [
       "<Figure size 640x480 with 1 Axes>"
      ]
     },
     "metadata": {},
     "output_type": "display_data"
    }
   ],
   "source": [
    "d = np.linspace(0, 6, 100)\n",
    "k = 0.6\n",
    "eps = 0.5\n",
    "y = [calculate_interaction(d[i], k, eps) for i in range(len(d))]\n",
    "\n",
    "plt.plot(d, y)\n",
    "plt.show()"
   ]
  },
  {
   "cell_type": "markdown",
   "metadata": {},
   "source": [
    "### Get videos"
   ]
  },
  {
   "cell_type": "code",
   "execution_count": null,
   "metadata": {},
   "outputs": [],
   "source": []
  }
 ],
 "metadata": {
  "kernelspec": {
   "display_name": "Python [conda env:myenvPy]",
   "language": "python",
   "name": "conda-env-myenvPy-py"
  },
  "language_info": {
   "codemirror_mode": {
    "name": "ipython",
    "version": 3
   },
   "file_extension": ".py",
   "mimetype": "text/x-python",
   "name": "python",
   "nbconvert_exporter": "python",
   "pygments_lexer": "ipython3",
   "version": "3.9.18"
  }
 },
 "nbformat": 4,
 "nbformat_minor": 4
}

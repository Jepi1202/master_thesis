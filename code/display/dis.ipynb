{
 "cells": [
  {
   "cell_type": "code",
   "execution_count": 5,
   "metadata": {},
   "outputs": [],
   "source": [
    "import os\n",
    "import sys\n",
    "import cv2\n",
    "import numpy as np\n",
    "\n",
    "def path_link(path:str):\n",
    "    sys.path.append(path)\n",
    "\n",
    "path_link('master/code/lib')"
   ]
  },
  {
   "cell_type": "code",
   "execution_count": 6,
   "metadata": {},
   "outputs": [],
   "source": [
    "def create_simulation_video_cv2(data, filename='simulation.mp4', fps=10, size=(600, 600)):\n",
    "    \"\"\"\n",
    "    Creates an MP4 video from a PyTorch tensor representing cell movements using cv2.\n",
    "\n",
    "    Parameters:\n",
    "    - data: A PyTorch tensor of shape [T, N, 2], where T is the number of timesteps,\n",
    "            N is the number of cells, and 2 corresponds to the coordinates (x, y).\n",
    "    - filename: Name of the output MP4 file.\n",
    "    - fps: Frames per second for the output video.\n",
    "    - size: Size of the output video frame.\n",
    "    \"\"\"\n",
    "    # Convert the data to numpy for easier manipulation\n",
    "    data_np = data\n",
    "    \n",
    "    # Normalize coordinates to fit within the video frame size\n",
    "    data_np -= data_np.min(axis=(0, 1), keepdims=True)\n",
    "    data_np /= data_np.max(axis=(0, 1), keepdims=True)\n",
    "    data_np *= np.array([size[0] - 1, size[1] - 1])\n",
    "    \n",
    "    # Define the codec and create VideoWriter object\n",
    "    fourcc = cv2.VideoWriter_fourcc(*'mp4v')  # Be sure to use lowercase\n",
    "    out = cv2.VideoWriter(filename, fourcc, fps, size)\n",
    "    \n",
    "    for i in range(data_np.shape[0]):\n",
    "        frame = np.zeros((size[1], size[0], 3), dtype=np.uint8)\n",
    "        for x, y in data_np[i]:\n",
    "            # Draw the cell as a circle\n",
    "            cv2.circle(frame, (int(x), int(y)), radius=5, color=(0, 255, 0), thickness=-1)\n",
    "        out.write(frame)\n",
    "    \n",
    "    out.release()\n",
    "    "
   ]
  },
  {
   "cell_type": "code",
   "execution_count": null,
   "metadata": {},
   "outputs": [],
   "source": []
  },
  {
   "cell_type": "code",
   "execution_count": 16,
   "metadata": {},
   "outputs": [],
   "source": [
    "p1 = '/master/data/training/np_file'\n",
    "p = os.path.join(p1, 'simulation_1.npy')\n",
    "\n",
    "mat = np.load(p)"
   ]
  },
  {
   "cell_type": "code",
   "execution_count": 17,
   "metadata": {},
   "outputs": [
    {
     "name": "stdout",
     "output_type": "stream",
     "text": [
      "False\n"
     ]
    }
   ],
   "source": [
    "print(os.path.exists('master/code/display/test2.mp4'))\n",
    "create_simulation_video_cv2(mat, 'master/code/display/test2.mp4')"
   ]
  },
  {
   "cell_type": "code",
   "execution_count": null,
   "metadata": {},
   "outputs": [],
   "source": []
  }
 ],
 "metadata": {
  "kernelspec": {
   "display_name": "Python 3 (ipykernel)",
   "language": "python",
   "name": "python3"
  },
  "language_info": {
   "codemirror_mode": {
    "name": "ipython",
    "version": 3
   },
   "file_extension": ".py",
   "mimetype": "text/x-python",
   "name": "python",
   "nbconvert_exporter": "python",
   "pygments_lexer": "ipython3",
   "version": "3.11.9"
  }
 },
 "nbformat": 4,
 "nbformat_minor": 2
}

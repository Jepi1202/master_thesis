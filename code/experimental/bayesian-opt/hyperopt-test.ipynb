{
 "cells": [
  {
   "cell_type": "code",
   "execution_count": null,
   "metadata": {},
   "outputs": [],
   "source": [
    "from hyperopt import hp, fmin, tpe, Trials, space_eval, STATUS_OK\n"
   ]
  },
  {
   "cell_type": "code",
   "execution_count": null,
   "metadata": {},
   "outputs": [],
   "source": [
    "# parameter space\n",
    "\n",
    "param_space = {\n",
    "    'lr': hp.uniform(0.1 ** 6, 0.05),\n",
    "    'batch': hp.uniform(8, 128),\n",
    "    'scaleL1': hp.uniform( 0.1 ** 6, 0.1)\n",
    "}"
   ]
  },
  {
   "cell_type": "code",
   "execution_count": null,
   "metadata": {},
   "outputs": [],
   "source": [
    "# trials\n",
    "\n",
    "trials = Trials()"
   ]
  },
  {
   "cell_type": "code",
   "execution_count": null,
   "metadata": {},
   "outputs": [],
   "source": [
    "# get a function that gives the best validation accuracy\n",
    "def function_accucay():\n",
    "    ..."
   ]
  },
  {
   "cell_type": "code",
   "execution_count": null,
   "metadata": {},
   "outputs": [],
   "source": [
    "best_params = fmin(\n",
    "    fn = function_accucay,\n",
    "    space = param_space,\n",
    "    algo = tpe.suggest,\n",
    "    max_evals = 15,\n",
    "    trials = trials\n",
    ")"
   ]
  }
 ],
 "metadata": {
  "language_info": {
   "name": "python"
  }
 },
 "nbformat": 4,
 "nbformat_minor": 2
}

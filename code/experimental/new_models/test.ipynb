{
 "cells": [
  {
   "cell_type": "code",
   "execution_count": 6,
   "metadata": {},
   "outputs": [],
   "source": [
    "import numpy as np\n",
    "import matplotlib.pyplot as plt\n",
    "import torch"
   ]
  },
  {
   "cell_type": "code",
   "execution_count": 3,
   "metadata": {},
   "outputs": [],
   "source": [
    "nb = 100\n",
    "\n",
    "dist = np.random.uniform(0, 6, nb)\n",
    "theta = np.random.uniform(0, np.pi*2, nb)\n",
    "cosine = np.cos(theta)\n",
    "sine = np.sin(theta)\n",
    "r = np.ones(nb)"
   ]
  },
  {
   "cell_type": "code",
   "execution_count": 7,
   "metadata": {},
   "outputs": [],
   "source": [
    "a = torch.from_numpy(np.column_stack((dist, cosine, sine, r, r)))"
   ]
  },
  {
   "cell_type": "code",
   "execution_count": 33,
   "metadata": {},
   "outputs": [],
   "source": [
    "def calculate_interaction(dist, cosine, sine, rad1, rad2, k, epsilon):\n",
    "    \"\"\"\n",
    "    Given the vectors ri and rj, compute the force between them\n",
    "    \"\"\"\n",
    "\n",
    "    dist = dist.unsqueeze(-1)\n",
    "    cosine = cosine.unsqueeze(-1)\n",
    "    sine = sine.unsqueeze(-1)\n",
    "    rad1 = rad1.unsqueeze(-1)\n",
    "    rad2 = rad2.unsqueeze(-1)\n",
    "\n",
    "    dist_x = cosine * dist\n",
    "    dist_y = sine * dist\n",
    "\n",
    "    rij = torch.hstack((dist_x.reshape(-1, 1), dist_y.reshape(-1, 1)))\n",
    "\n",
    "\n",
    "    r = dist\n",
    "\n",
    "    # Combined radius of both particles (assume unit radii for now)\n",
    "    #bij = 2.0                       # Ri + Rj \n",
    "    bij = rad1 + rad2\n",
    "\n",
    "    force = torch.zeros((dist.shape[0], 2))\n",
    "\n",
    "    force = torch.where(r < bij*(1 + epsilon), k*(r - bij)*rij/r, -k*(r - bij - 2*epsilon*bij)*rij/r)\n",
    "    force = torch.where(r >= bij*(1 + 2*epsilon), torch.tensor([0.0, 0.0]), force)\n",
    "\n",
    "\n",
    "    return force"
   ]
  },
  {
   "cell_type": "code",
   "execution_count": 30,
   "metadata": {},
   "outputs": [
    {
     "name": "stdout",
     "output_type": "stream",
     "text": [
      "\n"
     ]
    }
   ],
   "source": [
    "print()"
   ]
  },
  {
   "cell_type": "code",
   "execution_count": 31,
   "metadata": {},
   "outputs": [
    {
     "name": "stdout",
     "output_type": "stream",
     "text": [
      "torch.Size([100, 5])\n"
     ]
    }
   ],
   "source": [
    "print(a.shape)"
   ]
  },
  {
   "cell_type": "code",
   "execution_count": 32,
   "metadata": {},
   "outputs": [
    {
     "name": "stdout",
     "output_type": "stream",
     "text": [
      "torch.Size([100, 2])\n",
      "torch.Size([100, 1])\n",
      "torch.Size([100, 2])\n",
      "torch.Size([100, 2])\n"
     ]
    }
   ],
   "source": [
    "res = calculate_interaction(a[:, 0], a[:, 1], a[:, 2], a[:, 3], a[:, 4], 0.6, 0.5)"
   ]
  },
  {
   "cell_type": "code",
   "execution_count": 36,
   "metadata": {},
   "outputs": [
    {
     "data": {
      "image/png": "[encoded data removed]",
      "text/plain": [
       "<Figure size 640x480 with 1 Axes>"
      ]
     },
     "metadata": {},
     "output_type": "display_data"
    }
   ],
   "source": [
    "res_test = torch.sqrt(res[:, 0] ** 2 + res[:, 1] ** 2)\n",
    "\n",
    "plt.scatter(dist, res_test)\n",
    "plt.show()"
   ]
  }
 ],
 "metadata": {
  "kernelspec": {
   "display_name": "Python 3 (ipykernel)",
   "language": "python",
   "name": "python3"
  },
  "language_info": {
   "codemirror_mode": {
    "name": "ipython",
    "version": 3
   },
   "file_extension": ".py",
   "mimetype": "text/x-python",
   "name": "python",
   "nbconvert_exporter": "python",
   "pygments_lexer": "ipython3",
   "version": "3.11.9"
  }
 },
 "nbformat": 4,
 "nbformat_minor": 2
}

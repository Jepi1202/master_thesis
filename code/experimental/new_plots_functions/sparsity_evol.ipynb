{
 "cells": [
  {
   "cell_type": "code",
   "execution_count": null,
   "metadata": {},
   "outputs": [],
   "source": [
    "import matplotlib.pyplot as plt\n",
    "import numpy as np\n",
    "\n",
    "import cv2\n",
    "from matplotlib.backends.backend_agg import FigureCanvasAgg as FigureCanvas\n"
   ]
  },
  {
   "cell_type": "code",
   "execution_count": null,
   "metadata": {},
   "outputs": [],
   "source": [
    "def getSparsityPlot(messages, videoOut = True):\n",
    "\n",
    "\n",
    "    stdMessage = np.std(messages,axis = -1)\n",
    "    \n",
    "    fig, ax = plt.subplots(1, 1)\n",
    "    ax.pcolormesh(stdMessage[np.argsort(stdMessage)[::-1][None, :15]], cmap='gray_r', edgecolors='k')\n",
    "    plt.axis('off')\n",
    "    plt.grid(True)\n",
    "    ax.set_aspect('equal')\n",
    "    plt.text(15.5, 0.5, '...', fontsize=30)\n",
    "    plt.tight_layout()\n",
    "\n",
    "    if videoOut:\n",
    "        # Render the plot to a canvas and convert to numpy array\n",
    "        canvas = FigureCanvas(fig)\n",
    "        canvas.draw()\n",
    "        frame = np.frombuffer(canvas.tostring_rgb(), dtype='uint8')\n",
    "        frame = frame.reshape(fig.canvas.get_width_height()[::-1] + (3,))\n",
    "        plt.close(fig)\n",
    "        return frame\n",
    "    \n",
    "    else:\n",
    "        return None"
   ]
  },
  {
   "cell_type": "code",
   "execution_count": null,
   "metadata": {},
   "outputs": [],
   "source": [
    "# frames = [getSparsityPlot(mess) for mess in messageList]\n",
    "\n",
    "def getVideoFromFrames(frames, outputFile, fps = 10):\n",
    "    height, width, layers = frames[0].shape\n",
    "    size = (width, height)\n",
    "\n",
    "    video_writer = cv2.VideoWriter(outputFile, cv2.VideoWriter_fourcc(*'mp4v'), fps, size)\n",
    "\n",
    "    for frame in frames:\n",
    "        # Convert RGB to BGR for OpenCV\n",
    "        frame_bgr = cv2.cvtColor(frame, cv2.COLOR_RGB2BGR)\n",
    "        video_writer.write(frame_bgr)\n",
    "\n",
    "    video_writer.release()"
   ]
  },
  {
   "cell_type": "code",
   "execution_count": null,
   "metadata": {},
   "outputs": [],
   "source": []
  }
 ],
 "metadata": {
  "language_info": {
   "name": "python"
  }
 },
 "nbformat": 4,
 "nbformat_minor": 2
}

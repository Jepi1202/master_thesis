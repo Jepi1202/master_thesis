{
 "cells": [
  {
   "cell_type": "code",
   "execution_count": 1,
   "metadata": {},
   "outputs": [],
   "source": [
    "import cv2\n",
    "import numpy as np\n",
    "import matplotlib.pyplot as plt\n",
    "from matplotlib.backends.backend_agg import FigureCanvasAgg as FigureCanvas"
   ]
  },
  {
   "cell_type": "code",
   "execution_count": 2,
   "metadata": {},
   "outputs": [],
   "source": [
    "def plt2frame(fig):\n",
    "    canvas = FigureCanvas(fig)\n",
    "    canvas.draw()\n",
    "    frame = np.frombuffer(canvas.buffer_rgba(), dtype='uint8')\n",
    "    frame = frame.reshape(fig.canvas.get_width_height()[::-1] + (4,))\n",
    "    frame = cv2.cvtColor(frame, cv2.COLOR_RGBA2RGB)\n",
    "    plt.close(fig)\n",
    "\n",
    "    return frame\n",
    "\n",
    "\n",
    "def getSparsityPlot(messages, videoOut = True):\n",
    "\n",
    "    #stdMessage = np.std(messages,axis = -1)\n",
    "    stdMessage = np.std(messages,axis = 0)\n",
    "    \n",
    "    fig, ax = plt.subplots(1, 1)\n",
    "    ax.pcolormesh(stdMessage[np.argsort(stdMessage)[::-1][None, :15]], cmap='gray_r', edgecolors='k')\n",
    "    plt.axis('off')\n",
    "    plt.grid(True)\n",
    "    ax.set_aspect('equal')\n",
    "    plt.text(15.5, 0.5, '...', fontsize=30)\n",
    "    plt.tight_layout()\n",
    "\n",
    "    if videoOut:\n",
    "        return plt2frame(fig)\n",
    "    \n",
    "    else:\n",
    "        return None"
   ]
  },
  {
   "cell_type": "code",
   "execution_count": 3,
   "metadata": {},
   "outputs": [],
   "source": [
    "def create_mp4_with_frames(output_path, frames, fps=10):\n",
    "    if not frames:\n",
    "        raise ValueError(\"No frames to write to video.\")\n",
    "    \n",
    "    height, width, _ = frames[0].shape\n",
    "    fourcc = cv2.VideoWriter_fourcc(*'mp4v')\n",
    "    video_writer = cv2.VideoWriter(output_path, fourcc, fps, (width, height))\n",
    "\n",
    "    for frame in frames:\n",
    "        video_writer.write(frame)\n",
    "    \n",
    "    video_writer.release()\n",
    "\n",
    "def combine_video_with_new_frame(input_path, output_path, new_frame):\n",
    "    cap = cv2.VideoCapture(input_path)\n",
    "    if not cap.isOpened():\n",
    "        print(f\"Error: Cannot open video file {input_path}\")\n",
    "        return\n",
    "\n",
    "    frames = []\n",
    "    while True:\n",
    "        ret, frame = cap.read()\n",
    "        if not ret:\n",
    "            break\n",
    "        frames.append(frame)\n",
    "    \n",
    "    cap.release()\n",
    "    frames.append(new_frame)\n",
    "    create_mp4_with_frames(output_path, frames)"
   ]
  },
  {
   "cell_type": "code",
   "execution_count": 4,
   "metadata": {},
   "outputs": [
    {
     "data": {
      "text/plain": [
       "True"
      ]
     },
     "execution_count": 4,
     "metadata": {},
     "output_type": "execute_result"
    }
   ],
   "source": [
    "name = '/master/code/experimental/new_plots_functions'\n",
    "import os\n",
    "\n",
    "os.path.exists(name)"
   ]
  },
  {
   "cell_type": "code",
   "execution_count": 5,
   "metadata": {},
   "outputs": [],
   "source": [
    "name = '/master/code/experimental/new_plots_functions/test-message-0.mp4'\n",
    "\n",
    "for i in range(20):\n",
    "    a = np.random.random((1000, 128))\n",
    "    frame = getSparsityPlot(a)\n",
    "\n",
    "    if i == 0:\n",
    "        create_mp4_with_frames(name, [frame])\n",
    "    else:\n",
    "        combine_video_with_new_frame(name, name, frame)"
   ]
  },
  {
   "cell_type": "code",
   "execution_count": null,
   "metadata": {},
   "outputs": [],
   "source": []
  }
 ],
 "metadata": {
  "kernelspec": {
   "display_name": "Python 3 (ipykernel)",
   "language": "python",
   "name": "python3"
  },
  "language_info": {
   "codemirror_mode": {
    "name": "ipython",
    "version": 3
   },
   "file_extension": ".py",
   "mimetype": "text/x-python",
   "name": "python",
   "nbconvert_exporter": "python",
   "pygments_lexer": "ipython3",
   "version": "3.11.9"
  }
 },
 "nbformat": 4,
 "nbformat_minor": 2
}

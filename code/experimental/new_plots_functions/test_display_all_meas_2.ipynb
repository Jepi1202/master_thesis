{
 "cells": [
  {
   "cell_type": "code",
   "execution_count": 2,
   "metadata": {},
   "outputs": [],
   "source": [
    "import torch\n",
    "import numpy as np\n",
    "import matplotlib.pyplot as plt\n",
    "from torch_geometric.data import Data\n",
    "from torch_geometric.utils import degree as deg\n",
    "from tqdm import tqdm\n",
    "\n",
    "import sys\n",
    "import os\n",
    "def path_link(path:str):\n",
    "    sys.path.append(path)\n",
    "\n",
    "path_link('master/code/lib')\n",
    "\n",
    "from norm import normalizeGraph\n"
   ]
  },
  {
   "cell_type": "code",
   "execution_count": 30,
   "metadata": {},
   "outputs": [],
   "source": [
    "DEVICE = torch.device('cuda:0' if torch.cuda.is_available() else 'cpu')"
   ]
  },
  {
   "cell_type": "code",
   "execution_count": 3,
   "metadata": {},
   "outputs": [],
   "source": [
    "DISPLAY_POSS = ['sparsity_peaks',\n",
    "                'sparsity_bar',\n",
    "                'error_time',\n",
    "                'MSE_rollout',\n",
    "                'heatmap',\n",
    "                'MSD',\n",
    "                'scattering',\n",
    "                'jacobian',\n",
    "                'angle_error',\n",
    "                'norm_error',\n",
    "                'degree_error',\n",
    "                'mean_distance_neighbors',\n",
    "                'speed_effect_error',\n",
    "                'diff_speed_effect_error',\n",
    "                # distribution,\n",
    "                # linearPlot,\n",
    "                'l1_error'\n",
    "                ]"
   ]
  },
  {
   "cell_type": "markdown",
   "metadata": {},
   "source": [
    "### ---  dict"
   ]
  },
  {
   "cell_type": "code",
   "execution_count": 206,
   "metadata": {},
   "outputs": [],
   "source": [
    "def getDisplayDict():\n",
    "    d = {}\n",
    "\n",
    "    for poss in DISPLAY_POSS:\n",
    "        d[poss] = {}\n",
    "\n",
    "        for elem in ['wandb', 'plot', 'pandas', 'param']:\n",
    "            d[poss][elem] = None\n",
    "\n",
    "    return d    \n",
    "\n",
    "\n",
    "\n",
    "def computeDictBool(d):\n",
    "    \"\"\"\n",
    "    Adds a boolean to state if the different computations are necesary\n",
    "    \"\"\"\n",
    "\n",
    "    for poss in d.keys():\n",
    "\n",
    "        d[poss]['comp'] = False\n",
    "\n",
    "        for elem in d[poss].keys():\n",
    "            if d[poss][elem] is not None:\n",
    "                d[poss]['comp'] = True\n",
    "                break\n",
    "\n",
    "    return d"
   ]
  },
  {
   "cell_type": "code",
   "execution_count": 18,
   "metadata": {},
   "outputs": [],
   "source": [
    "class SimulationData():\n",
    "    def __init__(self, data):\n",
    "        self.data = data # list of graph"
   ]
  },
  {
   "cell_type": "code",
   "execution_count": 35,
   "metadata": {},
   "outputs": [],
   "source": [
    "DISPLAY_PATH = '/master/code/experimental/new_plots_functions/dumb'"
   ]
  },
  {
   "cell_type": "markdown",
   "metadata": {},
   "source": [
    "### --- Load a model"
   ]
  },
  {
   "cell_type": "code",
   "execution_count": 42,
   "metadata": {},
   "outputs": [],
   "source": [
    "PATH = '/master/code/analyze_models/exps/test_new_activation_0'\n",
    "\n",
    "MODEL_PATH = '/master/code/models/mod_base'"
   ]
  },
  {
   "cell_type": "code",
   "execution_count": 43,
   "metadata": {},
   "outputs": [],
   "source": [
    "def findModels(path):\n",
    "    pathLists = []\n",
    "    for root, dirs, files in tqdm(os.walk(path)):\n",
    "            for file in files:\n",
    "                  \n",
    "                  if file.endswith('.pt'):\n",
    "                        pathLists.append(os.path.join(root, file))\n",
    "\n",
    "\n",
    "    return pathLists\n",
    "\n",
    "\n",
    "def delete_wandb_dirs(start_path):\n",
    "    for root, dirs, files in os.walk(start_path, topdown=False):\n",
    "        for dir_name in dirs:\n",
    "            if dir_name == \"wandb\":\n",
    "                dir_path = os.path.join(root, dir_name)\n",
    "                print(f\"Deleting: {dir_path}\")\n",
    "                shutil.rmtree(dir_path)\n",
    "\n",
    "\n",
    "def getLoader(path, batch_size = 32, shuffleBool = True, root = None, jsonFile = None, mode = 'training'):\n",
    "    datasetTraining = dl.DataLoader2(root, path = path, jsonFile = jsonFile, mode = mode)\n",
    "    loader = DataLoader(datasetTraining, batch_size=batch_size, shuffle = shuffleBool)\n",
    "    \n",
    "    return loader\n",
    "\n",
    "\n",
    "def getName(path):\n",
    "    run_name = path.split('/')[-3]\n",
    "\n",
    "    model_type = path.split('/')[-1].split('.')[0]\n",
    "\n",
    "    if 'best' in model_type:\n",
    "        model_type = '_best'\n",
    "\n",
    "    else:\n",
    "         model_type = '_latest'\n",
    "\n",
    "    name = run_name + model_type\n",
    "\n",
    "    return name\n",
    "\n",
    "\n",
    "def getModelName(key):\n",
    "\n",
    "    name = ''\n",
    "\n",
    "    #if 'simplest' in key:\n",
    "    #    name = name + 'simplest'\n",
    "    \n",
    "    name = name + 'simplest'\n",
    "\n",
    "    ## other possibilities\n",
    "\n",
    "    if 'no-dropout' in key:\n",
    "        name = name + '_no-dropout'\n",
    "    else:\n",
    "        name = name + '_dropout'\n",
    "\n",
    "    if 'no-encoder' in key:\n",
    "        name = name + '_no-encoder'\n",
    "    else:\n",
    "        name = name + '_encoder'\n",
    "\n",
    "    if 'relu' in key:\n",
    "        name = name + '-relu'\n",
    "\n",
    "    return name\n",
    "         \n",
    "\n",
    "def loadModel(modelName:str, inputShape:int = 8, edges_shape = 5, path = None):\n",
    "    \"\"\" \n",
    "    Function to import the model\n",
    "\n",
    "    Args:\n",
    "    -----\n",
    "        - `modelName`: name of the model\n",
    "        - `inputShape`: inout shape of the NN\n",
    "        - `edges_shape`: edge shape of the NN\n",
    "        - `path`: path where the models are\n",
    "    \"\"\"\n",
    "\n",
    "    sys.path.append(path)\n",
    "\n",
    "    loadFun = __import__(f'{modelName}', fromlist = ('loadNetwork'))\n",
    "\n",
    "    model = loadFun.loadNetwork(inputShape, edges_shape)\n",
    "\n",
    "    return model\n",
    "\n",
    "\n",
    "\n",
    "def findLoader(key):\n",
    "\n",
    "    # remains initial conditions to consider\n",
    "    if 'normal' in key:\n",
    "        if '0_01' in key:\n",
    "            dataloader_path = '/master/code/simulation/path/mew_0_01_normal.json'\n",
    "\n",
    "        else:       # 0.001\n",
    "            dataloader_path = '/master/code/simulation/path/mew_0_001_normal.json'\n",
    "\n",
    "    else:       # noisy\n",
    "        if '0_01' in key:\n",
    "            dataloader_path = '/master/code/simulation/path/mew_0_01_noisy.json'\n",
    "\n",
    "        else:       # 0.001\n",
    "            dataloader_path = '/master/code/simulation/path/mew_0_001_noisy.json'\n",
    "\n",
    "    print(dataloader_path)\n",
    "\n",
    "\n",
    "    return getLoader(None, 128, True, None, dataloader_path, 'test')"
   ]
  },
  {
   "cell_type": "code",
   "execution_count": null,
   "metadata": {},
   "outputs": [],
   "source": []
  },
  {
   "cell_type": "code",
   "execution_count": 45,
   "metadata": {},
   "outputs": [
    {
     "name": "stderr",
     "output_type": "stream",
     "text": [
      "16it [00:00, 48.16it/s]"
     ]
    },
    {
     "name": "stdout",
     "output_type": "stream",
     "text": [
      "['/master/code/analyze_models/exps/test_new_activation_0/test_new_activation/master-thesis_normal_classic_dt-0.001_lr-0.0005_batch-16_encoder-no-encoder_dropout-dropout_relu-exp/model_trained/simplest_drop_no-enc_aug_best.pt', '/master/code/analyze_models/exps/test_new_activation_0/test_new_activation/master-thesis_normal_classic_dt-0.001_lr-0.0005_batch-16_encoder-no-encoder_dropout-dropout_relu-exp/model_trained/simplest_drop_no-enc_aug_latest.pt', '/master/code/analyze_models/exps/test_new_activation_0/test_new_activation/master-thesis_normal_classic_dt-0.001_lr-0.005_batch-16_encoder-no-encoder_dropout-dropout_relu-exp/model_trained/simplest_drop_no-enc_aug_best.pt', '/master/code/analyze_models/exps/test_new_activation_0/test_new_activation/master-thesis_normal_classic_dt-0.001_lr-0.005_batch-16_encoder-no-encoder_dropout-dropout_relu-exp/model_trained/simplest_drop_no-enc_aug_latest.pt', '/master/code/analyze_models/exps/test_new_activation_0/test_new_activation/master-thesis_normal_classic_dt-0.001_lr-0.005_batch-16_encoder-no-encoder_dropout-no-dropout_relu-exp/model_trained/simplest_drop_no-enc_aug_best.pt', '/master/code/analyze_models/exps/test_new_activation_0/test_new_activation/master-thesis_normal_classic_dt-0.001_lr-0.005_batch-16_encoder-no-encoder_dropout-no-dropout_relu-exp/model_trained/simplest_drop_no-enc_aug_latest.pt', '/master/code/analyze_models/exps/test_new_activation_0/test_new_activation/master-thesis_normal_classic_dt-0.001_lr-0.005_batch-16_encoder-no-encoder_scaleL1-0.001_dropout-no-dropout_relu-exp-test/model_trained/simplest_drop_no-enc_aug_best (1).pt', '/master/code/analyze_models/exps/test_new_activation_0/test_new_activation/master-thesis_normal_classic_dt-0.001_lr-0.005_batch-16_encoder-no-encoder_scaleL1-0.001_dropout-no-dropout_relu-exp-test/model_trained/simplest_drop_no-enc_aug_latest.pt']\n",
      "8\n"
     ]
    },
    {
     "name": "stderr",
     "output_type": "stream",
     "text": [
      "\n"
     ]
    }
   ],
   "source": [
    "model_list = findModels(PATH)\n",
    "print(model_list)\n",
    "print(len(model_list))"
   ]
  },
  {
   "cell_type": "code",
   "execution_count": 46,
   "metadata": {},
   "outputs": [
    {
     "name": "stdout",
     "output_type": "stream",
     "text": [
      ">>>> loading simplest\n",
      "INFO >>> relu end of message MLP\n",
      "INFO >>> with NO encoder\n",
      "INFO >>> with NO dropout\n"
     ]
    }
   ],
   "source": [
    "model_path = model_list[7]\n",
    "\n",
    "name_plot = getName(model_path)\n",
    "try:\n",
    "    model = loadModel(getModelName(name_plot), path=MODEL_PATH)\n",
    "    std_dict = torch.load(model_path)\n",
    "    model.load_state_dict(std_dict)\n",
    "    model = model.to(DEVICE)\n",
    "    model.eval()\n",
    "except:\n",
    "    print(\"njfngkvjsdn\")"
   ]
  },
  {
   "cell_type": "markdown",
   "metadata": {},
   "source": [
    "### ---- 1 step measure"
   ]
  },
  {
   "cell_type": "markdown",
   "metadata": {},
   "source": [
    "> get some data"
   ]
  },
  {
   "cell_type": "code",
   "execution_count": 47,
   "metadata": {},
   "outputs": [],
   "source": [
    "import simulation as sim\n",
    "import features as ft\n",
    "\n",
    "def getSim():\n",
    "    lim = 0.85 * 100\n",
    "\n",
    "    xPos = np.linspace(-lim, lim, 10)\n",
    "    yPos = np.linspace(-lim, lim, 10)\n",
    "    gridX, gridY = np.meshgrid(xPos, yPos)\n",
    "    delta = np.random.uniform(0, 7, gridX.shape + (2,))\n",
    "\n",
    "    gridX2 = gridX + delta[:, :, 0]\n",
    "    gridY2 = gridY + delta[:, :, 1]\n",
    "\n",
    "    pos = np.stack([gridX.ravel(), gridY.ravel()], axis=1)\n",
    "    pos_perturbed = np.stack([gridX2.ravel(), gridY2.ravel()], axis=1)\n",
    "\n",
    "    pos = np.concatenate([pos, pos_perturbed], axis=0)\n",
    "\n",
    "    angles = np.random.rand(pos.shape[0]) * 2 * np.pi\n",
    "\n",
    "    data = sim.compute_main(200, (60, 3.5, 70, 0.5), 120, T = 200, initialization = (pos, angles), dt = 0.001)[0]\n",
    "\n",
    "    x, y, attr, inds = ft.processSimulation(data)\n",
    "\n",
    "    return x, y, attr, inds"
   ]
  },
  {
   "cell_type": "code",
   "execution_count": 48,
   "metadata": {},
   "outputs": [
    {
     "name": "stdout",
     "output_type": "stream",
     "text": [
      "v0:60, tau:3.5, k:70, epsilon:0.5\n"
     ]
    },
    {
     "name": "stderr",
     "output_type": "stream",
     "text": [
      "100%|██████████| 200/200 [00:02<00:00, 69.60it/s]\n"
     ]
    },
    {
     "name": "stdout",
     "output_type": "stream",
     "text": [
      "v0:60, tau:3.5, k:70, epsilon:0.5\n"
     ]
    },
    {
     "name": "stderr",
     "output_type": "stream",
     "text": [
      "100%|██████████| 200/200 [00:02<00:00, 70.96it/s]\n"
     ]
    },
    {
     "name": "stdout",
     "output_type": "stream",
     "text": [
      "v0:60, tau:3.5, k:70, epsilon:0.5\n"
     ]
    },
    {
     "name": "stderr",
     "output_type": "stream",
     "text": [
      "100%|██████████| 200/200 [00:02<00:00, 81.87it/s] \n"
     ]
    },
    {
     "name": "stdout",
     "output_type": "stream",
     "text": [
      "v0:60, tau:3.5, k:70, epsilon:0.5\n"
     ]
    },
    {
     "name": "stderr",
     "output_type": "stream",
     "text": [
      "100%|██████████| 200/200 [00:03<00:00, 51.68it/s]\n"
     ]
    },
    {
     "name": "stdout",
     "output_type": "stream",
     "text": [
      "v0:60, tau:3.5, k:70, epsilon:0.5\n"
     ]
    },
    {
     "name": "stderr",
     "output_type": "stream",
     "text": [
      "100%|██████████| 200/200 [00:03<00:00, 52.07it/s]\n"
     ]
    }
   ],
   "source": [
    "data = []\n",
    "for i in range(5):\n",
    "\n",
    "    xList, yList, attrList, indsList = getSim()\n",
    "    simul_graphs = [Data(x = xList[t][:, 2:], y = yList[t] , edge_attr = attrList[t], edge_index = indsList[t]) for t in range(len(xList))]\n",
    "    s = SimulationData(simul_graphs)\n",
    "    data.append(s)"
   ]
  },
  {
   "cell_type": "markdown",
   "metadata": {},
   "source": [
    "> perform the 1 step measures"
   ]
  },
  {
   "cell_type": "code",
   "execution_count": 207,
   "metadata": {},
   "outputs": [],
   "source": [
    "d = getDisplayDict()\n",
    "\n",
    "d['sparsity_peaks']['plot'] = os.path.join(DISPLAY_PATH, 'l1_peaks.png')\n",
    "d['sparsity_bar']['plot'] = os.path.join(DISPLAY_PATH, 'l1_bar.png')\n",
    "d['angle_error']['plot'] = os.path.join(DISPLAY_PATH, 'angle_error.png')\n",
    "d['norm_error']['plot'] = os.path.join(DISPLAY_PATH, 'norm_error.png')\n",
    "d['degree_error']['plot'] = os.path.join(DISPLAY_PATH, 'degree_error.png')\n",
    "d['speed_effect_error']['plot'] = os.path.join(DISPLAY_PATH, 'speed_effect_error.png')\n",
    "\n",
    "\n",
    "d = computeDictBool(d)"
   ]
  },
  {
   "cell_type": "code",
   "execution_count": 51,
   "metadata": {},
   "outputs": [],
   "source": [
    "def getStdMessage(model, attr):\n",
    "    model.eval()\n",
    "    with torch.no_grad():\n",
    "        v = model.GNN.message(None, None, attr).cpu().detach().numpy()\n",
    "    return v\n",
    "\n",
    "\n",
    "\n",
    "def plotStdMessage(messages):\n",
    "\n",
    "    std = np.std(messages, axis = 0)\n",
    "\n",
    "    plt.plot(std)\n",
    "    plt.xlabel('features')\n",
    "    plt.ylabel('Standard Deviation')\n",
    "\n",
    "    return std\n",
    "\n",
    "\n"
   ]
  },
  {
   "cell_type": "code",
   "execution_count": 154,
   "metadata": {},
   "outputs": [],
   "source": [
    "def plotBoxPlot(diff, vals, bins, xlabel = 'X values', ylabel = 'y values', showfliers = False):\n",
    "\n",
    "    groups = np.digitize(diff, bins)\n",
    "    grouped_vals = {i: [] for i in range(len(bins)+1)}\n",
    "\n",
    "\n",
    "    for i in range(len(groups)):\n",
    "        grouped_vals[groups[i]].append(vals[i])\n",
    "    \n",
    "    centers_0 = [(bins[i] + bins[i+1]) / 2 for i in range(len(bins)-1)]\n",
    "    centers_0 = [bins[0]-2] + centers_0 + [bins[-1]+2]\n",
    "    #medians = [np.median(g) if g else 0 for g in data_to_plot]\n",
    "    \n",
    "    medians = []\n",
    "    centers = []\n",
    "    data_to_plot = []\n",
    "    for k in sorted(grouped_vals.keys()):\n",
    "        if len(grouped_vals[k]) > 0:\n",
    "\n",
    "            data_to_plot.append(grouped_vals[k])\n",
    "            centers.append(centers_0[k])\n",
    "            medians.append(np.median(grouped_vals[k]))\n",
    "\n",
    "    boxprops = dict(linestyle='-', linewidth=2, color='black')  # Custom box properties\n",
    "    medianprops = dict(linestyle='-', linewidth=0, color='orange')  # Invisible median line\n",
    "\n",
    "    \n",
    "    boxplot_elements = plt.boxplot(data_to_plot, positions=centers, boxprops=boxprops, medianprops=medianprops, showfliers=showfliers, widths = 0.2)\n",
    "\n",
    "    plt.plot(centers, medians, 'o-', color='orange', label='Medians')\n",
    "\n",
    "\n",
    "    plt.xlabel(xlabel)\n",
    "    plt.ylabel(ylabel)\n",
    "\n",
    "    return medians"
   ]
  },
  {
   "cell_type": "code",
   "execution_count": 184,
   "metadata": {},
   "outputs": [],
   "source": [
    "from matplotlib.backends.backend_agg import FigureCanvasAgg as FigureCanvas\n",
    "\n",
    "\n",
    "def getSparsityPlot(messages, videoOut = True):\n",
    "\n",
    "\n",
    "    #stdMessage = np.std(messages,axis = -1)\n",
    "    stdMessage = np.std(messages,axis = 0)\n",
    "    \n",
    "    fig, ax = plt.subplots(1, 1)\n",
    "    ax.pcolormesh(stdMessage[np.argsort(stdMessage)[::-1][None, :15]], cmap='gray_r', edgecolors='k')\n",
    "    plt.axis('off')\n",
    "    plt.grid(True)\n",
    "    ax.set_aspect('equal')\n",
    "    plt.text(15.5, 0.5, '...', fontsize=30)\n",
    "    plt.tight_layout()\n",
    "\n",
    "    if videoOut:\n",
    "        # Render the plot to a canvas and convert to numpy array\n",
    "        canvas = FigureCanvas(fig)\n",
    "        canvas.draw()\n",
    "        frame = np.frombuffer(canvas.tostring_rgb(), dtype='uint8')\n",
    "        frame = frame.reshape(fig.canvas.get_width_height()[::-1] + (3,))\n",
    "        plt.close(fig)\n",
    "        return frame\n",
    "    \n",
    "    else:\n",
    "        return None"
   ]
  },
  {
   "cell_type": "code",
   "execution_count": 194,
   "metadata": {},
   "outputs": [
    {
     "data": {
      "image/png": "[encoded data removed]",
      "text/plain": [
       "<Figure size 640x480 with 1 Axes>"
      ]
     },
     "metadata": {},
     "output_type": "display_data"
    }
   ],
   "source": [
    "stdMessage = np.std(r['message'],axis = 0)\n",
    "a = np.argsort(stdMessage)[::-1][None, :15]\n",
    "c = stdMessage[a]\n",
    "plt.plot(c[0], '.')\n",
    "plt.show()"
   ]
  },
  {
   "cell_type": "code",
   "execution_count": 186,
   "metadata": {},
   "outputs": [
    {
     "data": {
      "image/png": "[encoded data removed]",
      "text/plain": [
       "<Figure size 640x480 with 1 Axes>"
      ]
     },
     "metadata": {},
     "output_type": "display_data"
    }
   ],
   "source": [
    "getSparsityPlot(r['message'], videoOut = False)"
   ]
  },
  {
   "cell_type": "code",
   "execution_count": 155,
   "metadata": {},
   "outputs": [],
   "source": [
    "def plotDegreeLoss(degreeList, errorList, option = 'mean'):\n",
    "\n",
    "    # either along x axis, y axis, or the mean\n",
    "    if option == 'mean':\n",
    "        errorList = np.mean(errorList, axis = -1)\n",
    "    elif option == 'x':\n",
    "        errorList = errorList[:, 0]\n",
    "    elif option == 'y':\n",
    "        errorList = errorList[:, 1]\n",
    "\n",
    "    else:\n",
    "        print(\"ISSUE >>>>>>>>>>>>>>>>>><<< plot degree - error badly initialized\")\n",
    "    \n",
    "    \n",
    "    maxBin = min(np.max(degreeList), 8)\n",
    "    bins = np.arange(maxBin+2) - 0.5\n",
    "\n",
    "    plotBoxPlot(degreeList, errorList, bins, xlabel = 'Degree', ylabel = 'L1 Error')\n",
    "\n",
    "    return None"
   ]
  },
  {
   "cell_type": "code",
   "execution_count": 156,
   "metadata": {},
   "outputs": [],
   "source": [
    "def errorsDiv(pred, gt):\n",
    "    \n",
    "    v = np.pi * 2\n",
    "    anglePred = np.arctan2(pred[:, 1], pred[:, 0])\n",
    "    angleGT = np.arctan2(gt[:, 1], gt[:, 0])\n",
    "\n",
    "    normPred = np.linalg.norm(pred, axis=-1)\n",
    "    normGT = np.linalg.norm(gt, axis=-1)\n",
    "\n",
    "    errorNorm = np.abs(normPred - normGT)\n",
    "    errorAngle = errorAngle = np.abs((anglePred - angleGT + np.pi) % (2 * np.pi) - np.pi)\n",
    "\n",
    "    return errorAngle, errorNorm\n"
   ]
  },
  {
   "cell_type": "code",
   "execution_count": 233,
   "metadata": {},
   "outputs": [],
   "source": [
    "def plotSpeedEffect(speed, error, namePlot, wbBool = False):\n",
    "\n",
    "    plt.scatter(speed, error)\n",
    "    plt.xlabel('Speed')\n",
    "    plt.ylabel('Error')\n",
    "    if wbBool:\n",
    "        wandb.log({f\"{namePlot}\": wandb.Image(plt)})\n",
    "    else:\n",
    "        plt.savefig(namePlot)\n",
    "    plt.close()"
   ]
  },
  {
   "cell_type": "code",
   "execution_count": null,
   "metadata": {},
   "outputs": [],
   "source": []
  },
  {
   "cell_type": "code",
   "execution_count": null,
   "metadata": {},
   "outputs": [],
   "source": []
  },
  {
   "cell_type": "code",
   "execution_count": 220,
   "metadata": {},
   "outputs": [],
   "source": [
    "def evaluateModel(model, sim_data, display_dict, device = DEVICE):\n",
    "    \"\"\" \n",
    "    Args:\n",
    "    -----\n",
    "        - `model`: GNN to test\n",
    "        - `data`: list of SimulationData (to get the graphs)\n",
    "        # might want to put a list of path instead for memory (should be fine though)\n",
    "    \"\"\"\n",
    "\n",
    "    res = {}\n",
    "    nbCall = 0\n",
    "\n",
    "    evalLoss = 0\n",
    "    distList = []           # list of distances\n",
    "    errorList = []          # list of errors\n",
    "    degreeList = []         # list of degrees\n",
    "    normError = []          # list of norm errors\n",
    "    angleError = []         # list of angles errors\n",
    "    speedList = []              # list of speeds\n",
    "    messages = None\n",
    "    \n",
    "\n",
    "    for sim in sim_data:\n",
    "        data = sim.data\n",
    "\n",
    "        for graph in data:\n",
    "\n",
    "            graph = graph.to(device)\n",
    "            pos = graph.x[:, :2]\n",
    "            graph.x = graph.x[:, 2:]\n",
    "            graph = normalizeGraph(graph)\n",
    "            pred = model(graph)  \n",
    "            \n",
    "            graph.y = torch.swapaxes(graph.y, 0, 1)\n",
    "\n",
    "\n",
    "            evalLoss += torch.nn.functional.l1_loss(pred.reshape(-1), graph.y[0, :, :].reshape(-1))\n",
    "            nbCall += pred.reshape(-1).shape[0]\n",
    "\n",
    "            #errors = torch.mean(torch.abs(pred - graph.y[0, :, :]),dim = -1)\n",
    "            errors = torch.abs(pred - graph.y[0, :, :])\n",
    "\n",
    "            errorList.extend(errors.cpu().detach().numpy().tolist())\n",
    "\n",
    "\n",
    "            # update the output dictionnary\n",
    "\n",
    "            ##if display_dict['']['comp']:\n",
    "             #   pass\n",
    "\n",
    "            if display_dict['speed_effect_error']['comp']:\n",
    "                s = np.sqrt((graph.x[:, 0] ** 2 + graph.x[:, 1] ** 2).cpu().detach().numpy())\n",
    "                speedList.extend(s.tolist())\n",
    "\n",
    "            if display_dict['degree_error']['comp']:\n",
    "                degs = deg(graph.edge_index[0, :], num_nodes=graph.x.size(0))\n",
    "                degreeList.extend(degs.cpu().detach().numpy().tolist())\n",
    "\n",
    "\n",
    "            if display_dict['mean_distance_neighbors']['comp']:\n",
    "                #dist = graph.edge_attr[:, 0]\n",
    "                #distList.extend(dist.cpu().numpy().tolist()) \n",
    "                #if not cfg.degree_error:\n",
    "                #    errorList.extend(errors.cpu().numpy().tolist())\n",
    "                pass\n",
    "\n",
    "\n",
    "            if display_dict['angle_error']['comp'] or display_dict['norm_error']['comp']:\n",
    "                \n",
    "                errorAngle, errorNorm = errorsDiv(pred.cpu().detach().numpy(), graph.y[0, :, :].cpu().detach().numpy())\n",
    "                if display_dict['angle_error']['comp']:\n",
    "                    normError.extend(errorNorm.tolist())\n",
    "                if display_dict['norm_error']['comp']:\n",
    "                    angleError.extend(errorAngle.tolist())\n",
    "\n",
    "\n",
    "            if display_dict['sparsity_peaks']['comp'] or display_dict['sparsity_bar']['comp']:\n",
    "                m = getStdMessage(model, graph.edge_attr)\n",
    "                if messages is None:\n",
    "                    messages = m\n",
    "                else:\n",
    "                    messages = np.vstack((messages, m))\n",
    "\n",
    "\n",
    "            \n",
    "\n",
    "\n",
    "    # saving results\n",
    "\n",
    "    evalLoss = evalLoss / nbCall\n",
    "    res['evalLoss'] = evalLoss\n",
    "\n",
    "    errorList = np.array(errorList)\n",
    "    res['errorList'] = errorList\n",
    "\n",
    "    if display_dict['mean_distance_neighbors']['comp']:\n",
    "        distList = np.array(distList)\n",
    "        res['distList'] = distList\n",
    "\n",
    "    if display_dict['degree_error']['comp']:\n",
    "        degreeList = np.array(degreeList)\n",
    "        res['degreeList'] = degreeList\n",
    "\n",
    "    if display_dict['angle_error']['comp']:\n",
    "        angleError = np.array(angleError)\n",
    "        res['angleError'] = angleError * 180 / np.pi\n",
    "\n",
    "    if display_dict['norm_error']['comp']:\n",
    "        normError = np.array(normError)\n",
    "        res['normError'] = normError\n",
    "\n",
    "    if display_dict['sparsity_peaks']['comp'] or display_dict['sparsity_bar']['comp']:\n",
    "        res['message'] = messages\n",
    "\n",
    "    if display_dict['speed_effect_error']['comp']:\n",
    "        res['speed'] = speedList\n",
    "\n",
    "    return res"
   ]
  },
  {
   "cell_type": "code",
   "execution_count": 221,
   "metadata": {},
   "outputs": [
    {
     "name": "stdout",
     "output_type": "stream",
     "text": [
      "Data(x=[200, 8], edge_index=[2, 122], edge_attr=[122, 5], y=[10, 200, 2])\n"
     ]
    }
   ],
   "source": [
    "print(data[0].data[0])"
   ]
  },
  {
   "cell_type": "code",
   "execution_count": 222,
   "metadata": {},
   "outputs": [
    {
     "name": "stdout",
     "output_type": "stream",
     "text": [
      "v0:60, tau:3.5, k:70, epsilon:0.5\n"
     ]
    },
    {
     "name": "stderr",
     "output_type": "stream",
     "text": [
      "  5%|▌         | 10/200 [00:00<00:02, 92.67it/s]"
     ]
    },
    {
     "name": "stderr",
     "output_type": "stream",
     "text": [
      "100%|██████████| 200/200 [00:01<00:00, 120.41it/s]\n"
     ]
    },
    {
     "name": "stdout",
     "output_type": "stream",
     "text": [
      "v0:60, tau:3.5, k:70, epsilon:0.5\n"
     ]
    },
    {
     "name": "stderr",
     "output_type": "stream",
     "text": [
      "100%|██████████| 200/200 [00:01<00:00, 127.71it/s]\n"
     ]
    },
    {
     "name": "stdout",
     "output_type": "stream",
     "text": [
      "v0:60, tau:3.5, k:70, epsilon:0.5\n"
     ]
    },
    {
     "name": "stderr",
     "output_type": "stream",
     "text": [
      "100%|██████████| 200/200 [00:01<00:00, 113.33it/s]\n"
     ]
    },
    {
     "name": "stdout",
     "output_type": "stream",
     "text": [
      "v0:60, tau:3.5, k:70, epsilon:0.5\n"
     ]
    },
    {
     "name": "stderr",
     "output_type": "stream",
     "text": [
      "100%|██████████| 200/200 [00:02<00:00, 73.64it/s] \n"
     ]
    },
    {
     "name": "stdout",
     "output_type": "stream",
     "text": [
      "v0:60, tau:3.5, k:70, epsilon:0.5\n"
     ]
    },
    {
     "name": "stderr",
     "output_type": "stream",
     "text": [
      "100%|██████████| 200/200 [00:01<00:00, 114.35it/s]\n"
     ]
    }
   ],
   "source": [
    "data = []\n",
    "for i in range(5):\n",
    "\n",
    "    xList, yList, attrList, indsList = getSim()\n",
    "    simul_graphs = [Data(x = xList[t], y = yList[t] , edge_attr = attrList[t], edge_index = indsList[t]) for t in range(len(xList))]\n",
    "    s = SimulationData(simul_graphs)\n",
    "    data.append(s)\n",
    "    \n",
    "r = evaluateModel(model, data, d, device = DEVICE)"
   ]
  },
  {
   "cell_type": "code",
   "execution_count": 234,
   "metadata": {},
   "outputs": [],
   "source": [
    "import wandb\n",
    "\n",
    "def saveLoader(d, display_dict):\n",
    "    \"\"\" \n",
    "    Function to obtain the satistics \n",
    "    \"\"\"\n",
    "\n",
    "    resPandas = {}\n",
    "\n",
    "    if display_dict['sparsity_peaks']['comp']:\n",
    "        if display_dict['sparsity_peaks']['plot']:\n",
    "            plotStdMessage(d['message'])\n",
    "            plt.savefig(display_dict['sparsity_peaks']['plot'])\n",
    "            plt.close()\n",
    "        if display_dict['sparsity_peaks']['wandb']:\n",
    "            plotStdMessage(d['message'])\n",
    "            wandb.log({f\"{display_dict['sparsity_peaks']['wandb']}\": wandb.Image(plt)})\n",
    "            plt.close()\n",
    "        if display_dict['sparsity_peaks']['pandas']:\n",
    "            pass\n",
    "\n",
    "\n",
    "    if display_dict['sparsity_bar']['comp']:\n",
    "        if display_dict['sparsity_bar']['plot']:\n",
    "            getSparsityPlot(d['message'], videoOut = False)\n",
    "            plt.savefig(display_dict['sparsity_bar']['plot'])\n",
    "            plt.close()\n",
    "        if display_dict['sparsity_bar']['wandb']:\n",
    "            getSparsityPlot(d['message'], videoOut = False)\n",
    "            wandb.log({f\"{display_dict['sparsity_bar']['wandb']}\": wandb.Image(plt)})\n",
    "            plt.close()\n",
    "        if display_dict['sparsity_bar']['pandas']:\n",
    "            pass\n",
    "\n",
    "\n",
    "    if display_dict['angle_error']['comp']:\n",
    "        if display_dict['angle_error']['plot']:\n",
    "            plt.hist(d['angleError'], bins = 'auto', density=True)\n",
    "            plt.savefig(display_dict['angle_error']['plot'])\n",
    "            plt.close()\n",
    "        if display_dict['angle_error']['wandb']:\n",
    "            wandb.log({'Median Angle Error':np.median(d['angleError']) })\n",
    "        if display_dict['angle_error']['pandas']:\n",
    "            resPandas['Angle error'] = np.median(d['angleError'])\n",
    "\n",
    "\n",
    "    if display_dict['norm_error']['comp']:\n",
    "        if display_dict['norm_error']['plot']:\n",
    "            plt.hist(d['angleError'], bins = 'auto', density=True)\n",
    "            plt.savefig(display_dict['norm_error']['plot'])\n",
    "            plt.close()\n",
    "        if display_dict['norm_error']['wandb']:\n",
    "            wandb.log({'Median Norm Error':np.median(d['normError']) })\n",
    "        if display_dict['norm_error']['pandas']:\n",
    "            resPandas['Norm error'] = np.median(d['normError'])\n",
    "\n",
    "\n",
    "    #if display_dict['dist']['comp']:\n",
    "    #    pass\n",
    "\n",
    "\n",
    "    if display_dict['degree_error']['comp']:\n",
    "        if display_dict['degree_error']['plot']:\n",
    "            plotDegreeLoss(d['degreeList'], d['errorList'])\n",
    "            plt.savefig(display_dict['degree_error']['plot'])\n",
    "            plt.close()\n",
    "        if display_dict['degree_error']['wandb']:\n",
    "            plotDegreeLoss(d['degreeList'], d['errorList'])\n",
    "            wandb.log({f\"{display_dict['degreeList']['wandb']}\": wandb.Image(plt)})\n",
    "            plt.close()\n",
    "        if display_dict['degree_error']['pandas']:\n",
    "            # get median values for the different degrees\n",
    "            # add them to the pandas dict\n",
    "            pass\n",
    "\n",
    "\n",
    "    if display_dict['speed_effect_error']['comp']:\n",
    "        if display_dict['speed_effect_error']['plot']:\n",
    "            baseName = display_dict['speed_effect_error']['plot'][:-4]\n",
    "            plotSpeedEffect(d['speed'], d['angleError'], baseName + '_anlge.png')\n",
    "            plotSpeedEffect(d['speed'], d['normError'], baseName + '_norm.png')\n",
    "            plotSpeedEffect(d['speed'], np.mean(d['errorList'], axis = -1), baseName + '_mean.png')\n",
    "            plotSpeedEffect(d['speed'], d['errorList'][:, 0], baseName + '_comp_0.png')\n",
    "            plotSpeedEffect(d['speed'], d['errorList'][:, 1], baseName + '_comp_1.png')\n",
    "        if display_dict['speed_effect_error']['wandb']:\n",
    "            plotSpeedEffect(d['speed'], np.mean(d['errorList'], axis = -1), 'mean Error', wbBool = True)\n",
    "        if display_dict['speed_effect_error']['pandas']:\n",
    "            pass\n",
    "\n",
    "\n"
   ]
  },
  {
   "cell_type": "code",
   "execution_count": 235,
   "metadata": {},
   "outputs": [
    {
     "name": "stdout",
     "output_type": "stream",
     "text": [
      "189000\n"
     ]
    }
   ],
   "source": [
    "print(len(r['errorList']))"
   ]
  },
  {
   "cell_type": "code",
   "execution_count": 236,
   "metadata": {},
   "outputs": [
    {
     "name": "stdout",
     "output_type": "stream",
     "text": [
      "189000\n"
     ]
    }
   ],
   "source": [
    "print(len(r['speed']))"
   ]
  },
  {
   "cell_type": "code",
   "execution_count": 237,
   "metadata": {},
   "outputs": [
    {
     "name": "stdout",
     "output_type": "stream",
     "text": [
      "(189000,)\n"
     ]
    }
   ],
   "source": [
    "print(np.array(r['speed']).shape)"
   ]
  },
  {
   "cell_type": "code",
   "execution_count": 238,
   "metadata": {},
   "outputs": [
    {
     "name": "stdout",
     "output_type": "stream",
     "text": [
      "(189000, 2)\n"
     ]
    }
   ],
   "source": [
    "print(np.array(r['errorList']).shape)"
   ]
  },
  {
   "cell_type": "code",
   "execution_count": null,
   "metadata": {},
   "outputs": [],
   "source": []
  },
  {
   "cell_type": "code",
   "execution_count": 239,
   "metadata": {},
   "outputs": [
    {
     "name": "stdout",
     "output_type": "stream",
     "text": [
      "83690\n"
     ]
    }
   ],
   "source": [
    "print(len(np.unique(r['speed'])))"
   ]
  },
  {
   "cell_type": "code",
   "execution_count": 240,
   "metadata": {},
   "outputs": [
    {
     "data": {
      "text/plain": [
       "<matplotlib.collections.PathCollection at 0x7fe0eb41fd50>"
      ]
     },
     "execution_count": 240,
     "metadata": {},
     "output_type": "execute_result"
    },
    {
     "data": {
      "image/png": "[encoded data removed]",
      "text/plain": [
       "<Figure size 640x480 with 1 Axes>"
      ]
     },
     "metadata": {},
     "output_type": "display_data"
    }
   ],
   "source": [
    "plt.scatter(r['speed'], r['errorList'][:, 1])"
   ]
  },
  {
   "cell_type": "code",
   "execution_count": 241,
   "metadata": {},
   "outputs": [],
   "source": [
    "saveLoader(r, d)"
   ]
  },
  {
   "cell_type": "code",
   "execution_count": null,
   "metadata": {},
   "outputs": [],
   "source": []
  }
 ],
 "metadata": {
  "kernelspec": {
   "display_name": "Python 3 (ipykernel)",
   "language": "python",
   "name": "python3"
  }
 },
 "nbformat": 4,
 "nbformat_minor": 2
}

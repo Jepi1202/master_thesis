{
 "cells": [
  {
   "cell_type": "code",
   "execution_count": 93,
   "metadata": {},
   "outputs": [],
   "source": [
    "import os\n",
    "import sys\n",
    "import numpy as np\n",
    "from tqdm import tqdm"
   ]
  },
  {
   "cell_type": "code",
   "execution_count": 94,
   "metadata": {},
   "outputs": [],
   "source": [
    "# 1: load models\n",
    "# 2: load associtaed pysr model (same but simplifies to get the values right before the last MLP)\n",
    "# save into csv files"
   ]
  },
  {
   "cell_type": "code",
   "execution_count": 95,
   "metadata": {},
   "outputs": [],
   "source": [
    "PATH = \"/master/code/experimental/pysr/apply_model_pySr\""
   ]
  },
  {
   "cell_type": "code",
   "execution_count": 96,
   "metadata": {},
   "outputs": [
    {
     "name": "stdout",
     "output_type": "stream",
     "text": [
      "True\n"
     ]
    }
   ],
   "source": [
    "print(os.path.exists(PATH))"
   ]
  },
  {
   "cell_type": "code",
   "execution_count": 97,
   "metadata": {},
   "outputs": [],
   "source": [
    "def getModelName(key):\n",
    "\n",
    "    name = ''\n",
    "\n",
    "    #if 'simplest' in key:\n",
    "    #    name = name + 'simplest'\n",
    "    \n",
    "    name = name + 'simplest'\n",
    "\n",
    "    ## other possibilities\n",
    "\n",
    "    if 'no-dropout' in key:\n",
    "        name = name + '_no-dropout'\n",
    "    else:\n",
    "        name = name + '_dropout'\n",
    "\n",
    "    if 'no-encoder' in key:\n",
    "        name = name + '_no-encoder'\n",
    "    else:\n",
    "        name = name + '_encoder'\n",
    "\n",
    "    if 'relu' in key:\n",
    "        name = name + '-relu'\n",
    "\n",
    "    return name\n",
    "\n",
    "\n",
    "def loadModel(modelName:str, inputShape:int = 8, edges_shape = 5, path = None):\n",
    "    \"\"\" \n",
    "    Function to import the model\n",
    "\n",
    "    Args:\n",
    "    -----\n",
    "        - `modelName`: name of the model\n",
    "        - `inputShape`: inout shape of the NN\n",
    "        - `edges_shape`: edge shape of the NN\n",
    "        - `path`: path where the models are\n",
    "    \"\"\"\n",
    "\n",
    "    sys.path.append(path)\n",
    "\n",
    "    loadFun = __import__(f'{modelName}', fromlist = ('loadNetwork'))\n",
    "\n",
    "    model = loadFun.loadNetwork(inputShape, edges_shape)\n",
    "\n",
    "    return model\n",
    "\n",
    "\n",
    "def findModels(path):\n",
    "    pathLists = []\n",
    "    for root, dirs, files in tqdm(os.walk(path)):\n",
    "            for file in files:\n",
    "                \n",
    "                if file.endswith('.pt'):\n",
    "                    pathLists.append(os.path.join(root, file))\n",
    "\n",
    "\n",
    "    return pathLists"
   ]
  },
  {
   "cell_type": "code",
   "execution_count": 98,
   "metadata": {},
   "outputs": [
    {
     "name": "stderr",
     "output_type": "stream",
     "text": [
      "1it [00:00, 112.73it/s]"
     ]
    },
    {
     "name": "stdout",
     "output_type": "stream",
     "text": [
      "simplest_no-dropout_no-encoder\n",
      "simplest_no-dropout_no-encoder\n"
     ]
    },
    {
     "name": "stderr",
     "output_type": "stream",
     "text": [
      "\n"
     ]
    }
   ],
   "source": [
    "modelsList = findModels(PATH)\n",
    "\n",
    "for std_path in modelsList:\n",
    "    modelName = getModelName(std_path)\n",
    "    print(modelName)\n",
    "\n",
    "    modelName = modelName + '-pysr'"
   ]
  },
  {
   "cell_type": "code",
   "execution_count": 113,
   "metadata": {},
   "outputs": [],
   "source": [
    "import torch\n",
    "import torch.nn as nn\n",
    "from torch_geometric.nn import MessagePassing\n",
    "\n",
    "LATENT_SHAPE = 128\n",
    "\n",
    "# GNN related parameters\n",
    "EDGES_SHAPE = 5\n",
    "MESSAGE_SHAPE = 128\n",
    "HIDDEN_NN_SHAPE = 128\n",
    "\n",
    "# output\n",
    "OUTPUT_SHAPE = 2\n",
    "\n",
    "class MLP(nn.Module):\n",
    "    \"\"\" \n",
    "    linearly growing size\n",
    "    \"\"\"\n",
    "    def __init__(self, inputShape:int, outputShape:int, dropout:float = 0.3):\n",
    "        super(MLP, self).__init__()\n",
    "\n",
    "        self.inputShape = inputShape\n",
    "        self.outputShape = outputShape\n",
    "\n",
    "        self.delta = (inputShape - outputShape) // 3\n",
    "        dim1 = inputShape - self.delta\n",
    "        dim2 = dim1 - self.delta\n",
    "\n",
    "        self.mlp = nn.Sequential(\n",
    "            nn.Linear(inputShape, dim1),\n",
    "            nn.LeakyReLU(),\n",
    "            nn.Linear(dim1, dim2),\n",
    "            # nn.ELU(),\n",
    "            nn.LeakyReLU(),\n",
    "            nn.Linear(dim2, outputShape),\n",
    "        )\n",
    "        \n",
    "        self.init_weights()\n",
    "    \n",
    "    def forward(self, x):\n",
    "        x = self.mlp(x)\n",
    "        return x\n",
    "    \n",
    "    def init_weights(self):\n",
    "        for layer in self.mlp.children():\n",
    "            if isinstance(layer, nn.Linear):\n",
    "                nn.init.kaiming_normal_(layer.weight, nonlinearity='leaky_relu')\n",
    "                # nn.init.xavier_normal_(layer.weight)\n",
    "                # nn.init.zeros_(layer.bias)\n",
    "                layer.bias.data.fill_(0.)\n",
    "\n",
    "class MLP2(nn.Module):\n",
    "    \"\"\"\n",
    "    constant size\n",
    "    \"\"\"\n",
    "    def __init__(self, inputShape:int, latentShape:int, outputShape:int, dropout:float = 0.3):\n",
    "        super(MLP2, self).__init__()\n",
    "\n",
    "        self.inputShape = inputShape\n",
    "        self.latentShape = latentShape\n",
    "        self.outputShape = outputShape\n",
    "\n",
    "        self.mlp = nn.Sequential(\n",
    "            nn.Linear(inputShape, latentShape),\n",
    "            nn.LeakyReLU(),\n",
    "            nn.Linear(latentShape, latentShape),\n",
    "            nn.LeakyReLU(),\n",
    "            nn.Linear(latentShape, outputShape),\n",
    "        )\n",
    "        \n",
    "        self.init_weights()\n",
    "    \n",
    "    def forward(self, x):\n",
    "        x = self.mlp(x)\n",
    "        return x\n",
    "    \n",
    "    def init_weights(self):\n",
    "        for layer in self.mlp.children():\n",
    "            if isinstance(layer, nn.Linear):\n",
    "                nn.init.kaiming_normal_(layer.weight, nonlinearity='leaky_relu')\n",
    "                # nn.init.xavier_normal_(layer.weight)\n",
    "                # nn.init.zeros_(layer.bias)\n",
    "                layer.bias.data.fill_(0.)\n",
    "\n",
    "class GN_edge(MessagePassing):\n",
    "    \"\"\" \n",
    "    Message passing neural network in which the message passing\n",
    "    only considers the edges features\n",
    "    \"\"\"\n",
    "    def __init__(self, inputShape:int, messageShape:int, outputShape:int, shapeEdges:int = 7, hiddenShape:int=64, aggr:str='add', predBool=True):\n",
    "        super(GN_edge, self).__init__(aggr=aggr)\n",
    "\n",
    "        self.inputShape = inputShape\n",
    "        self.messageShape = messageShape\n",
    "        self.outputShape = outputShape\n",
    "        self.hiddenShape = hiddenShape\n",
    "        \n",
    "        self.messageMLP = MLP2(shapeEdges, hiddenShape, messageShape)\n",
    "        self.reluLayer = nn.ReLU()\n",
    "        self.norm = torch.nn.LayerNorm(messageShape + inputShape)\n",
    "        \n",
    "        self.updateMLP = MLP(messageShape + inputShape, outputShape)\n",
    "\n",
    "        self.predBool = predBool\n",
    "    \n",
    "    def forward(self, x: torch.tensor, edge_index: torch.tensor, edge_attr: torch.tensor):\n",
    "        # Propagate messages\n",
    "        out, xVal = self.propagate(edge_index, size=(x.size(0), x.size(0)), edge_attr=edge_attr, x=x)\n",
    "        \n",
    "        return out, xVal\n",
    "      \n",
    "    def message(self, x_i: torch.tensor, x_j: torch.tensor, edge_attr: torch.tensor):\n",
    "        \"\"\" \n",
    "        Performs the message passing in the graph neural network\n",
    "        \n",
    "        Args:\n",
    "        -----\n",
    "        - `x_i`: tensor associated to node i\n",
    "        - `x_j`: tensor associated to node j\n",
    "        \"\"\"\n",
    "        y = self.messageMLP(edge_attr)\n",
    "        return y\n",
    "    \n",
    "    def update(self, aggr_out: torch.tensor, x: torch.tensor):\n",
    "        \"\"\" \n",
    "        Function to update all the nodes after the aggregation\n",
    "        \n",
    "        Args:\n",
    "        -----\n",
    "        - `aggr_out`: result after the aggregation [# Nodes, messageShape]\n",
    "        - `x`: current node [1, inputShape]\n",
    "        \"\"\"\n",
    "\n",
    "        xVal = self.norm(torch.cat([x, aggr_out], dim=-1))\n",
    "\n",
    "        if self.predBool:\n",
    "            return self.updateMLP(xVal), xVal \n",
    "        else:\n",
    "            return self.updateMLP(xVal)\n",
    "\n",
    "class Simplest(nn.Module):\n",
    "    def __init__(self, inShape:int, latentShape:int, outShape:int, messageShape:int, edge_shape:int = EDGES_SHAPE, hiddenGN:int = 128, predBool=False):\n",
    "        \"\"\" \n",
    "        Neural network to combine everything\n",
    "        \n",
    "        Args:\n",
    "        -----\n",
    "        - `inShape`: shape of the input vector\n",
    "        - `latentShape`: shape of the latent space\n",
    "        - `outShape`: shape of the output vector\n",
    "        - `messageShape`: shape of the message in the GN\n",
    "        - `hiddenGN`: shape of the hidden layers in the MLP of the GN\n",
    "        \"\"\"\n",
    "        super().__init__()\n",
    "        \n",
    "        self.inShape = inShape\n",
    "        self.latentShape = latentShape\n",
    "        self.outShape = outShape\n",
    "        \n",
    "        # GNN\n",
    "        self.GNN = GN_edge(inShape, messageShape, outShape, edge_shape, hiddenGN, predBool=predBool)\n",
    "        \n",
    "    def forward(self, graph):\n",
    "        \"\"\" \n",
    "        Args:\n",
    "        -----\n",
    "        - `x`: value for the nodes [# Nodes, #Timesteps x inShape]\n",
    "        - `edge_index`\n",
    "        - `edge_attr`\n",
    "        \"\"\"\n",
    "        x = graph.x\n",
    "        edge_index = graph.edge_index\n",
    "        edge_attr = graph.edge_attr\n",
    "        \n",
    "        # gnn part\n",
    "        y, intermediate = self.GNN(x, edge_index, edge_attr)  # [#Nodes, outShape]\n",
    "\n",
    "        return y, intermediate\n",
    "\n",
    "    def applyEnc(self, x):\n",
    "        return x\n",
    "    \n",
    "    def L1Reg(self, graph):\n",
    "        atr = graph.edge_attr\n",
    "\n",
    "        messages = self.GNN.message(None, None, atr)\n",
    "\n",
    "        loss = 0.01 * torch.sum(torch.abs(messages)) / graph.edge_index[0, :].shape[0]\n",
    "\n",
    "        return loss\n",
    "    \n",
    "    def getMessage(self, x, y, a):\n",
    "        return self.GNN.message(None, None, a)\n",
    "    \n",
    "    def getEncoding(self, x):\n",
    "        return self.applyEnc(x)\n",
    "\n",
    "def loadNetwork(inputShape, edge_shape=EDGES_SHAPE):\n",
    "    print('>>>> loading simplest')\n",
    "    print('INFO >>> relu end of message MLP')\n",
    "    print('INFO >>> with NO encoder')\n",
    "    print('INFO >>> with NO dropout')\n",
    "    print('INFO >>> PYSR mode')\n",
    "    net = Simplest(inputShape, LATENT_SHAPE, OUTPUT_SHAPE, MESSAGE_SHAPE, edge_shape, HIDDEN_NN_SHAPE)\n",
    "\n",
    "    return net\n"
   ]
  },
  {
   "cell_type": "code",
   "execution_count": 114,
   "metadata": {},
   "outputs": [],
   "source": [
    "std_dict = torch.load(modelsList[0])"
   ]
  },
  {
   "cell_type": "code",
   "execution_count": 115,
   "metadata": {},
   "outputs": [],
   "source": [
    "net = Simplest(8, LATENT_SHAPE, OUTPUT_SHAPE, MESSAGE_SHAPE,5, HIDDEN_NN_SHAPE, predBool=True)"
   ]
  },
  {
   "cell_type": "code",
   "execution_count": 116,
   "metadata": {},
   "outputs": [
    {
     "data": {
      "text/plain": [
       "<All keys matched successfully>"
      ]
     },
     "execution_count": 116,
     "metadata": {},
     "output_type": "execute_result"
    }
   ],
   "source": [
    "net.load_state_dict(std_dict)"
   ]
  },
  {
   "cell_type": "markdown",
   "metadata": {},
   "source": [
    "### Test"
   ]
  },
  {
   "cell_type": "code",
   "execution_count": 117,
   "metadata": {},
   "outputs": [],
   "source": [
    "def path_link(path:str):\n",
    "    sys.path.append(path)\n",
    "\n",
    "path_link('master/code/lib')"
   ]
  },
  {
   "cell_type": "code",
   "execution_count": 118,
   "metadata": {},
   "outputs": [],
   "source": [
    "import simulation_v2 as sim \n",
    "import features as ft\n"
   ]
  },
  {
   "cell_type": "code",
   "execution_count": 119,
   "metadata": {},
   "outputs": [],
   "source": [
    "lim = 0.85 * 100\n",
    "\n",
    "xPos = np.linspace(-lim, lim, 10)\n",
    "yPos = np.linspace(-lim, lim, 10)\n",
    "gridX, gridY = np.meshgrid(xPos, yPos)\n",
    "delta = np.random.uniform(0, 7, gridX.shape + (2,))\n",
    "\n",
    "gridX2 = gridX + delta[:, :, 0]\n",
    "gridY2 = gridY + delta[:, :, 1]\n",
    "\n",
    "pos = np.stack([gridX.ravel(), gridY.ravel()], axis=1)\n",
    "pos_perturbed = np.stack([gridX2.ravel(), gridY2.ravel()], axis=1)\n",
    "\n",
    "pos = np.concatenate([pos, pos_perturbed], axis=0)\n",
    "\n",
    "angles = np.random.rand(pos.shape[0]) * 2 * np.pi"
   ]
  },
  {
   "cell_type": "code",
   "execution_count": 120,
   "metadata": {},
   "outputs": [
    {
     "name": "stdout",
     "output_type": "stream",
     "text": [
      "v0:60, tau:3.5, k:70, epsilon:0.5\n"
     ]
    },
    {
     "name": "stderr",
     "output_type": "stream",
     "text": [
      "100%|██████████| 999/999 [00:09<00:00, 109.74it/s]\n"
     ]
    }
   ],
   "source": [
    "# generate a simulation\n",
    "data = sim.compute_main(200, (60, 3.5, 70, 0.5), 120, T = 1000, initialization = (pos, angles), dt = 0.001)[0]\n",
    "#data = sim.compute_main(100, (60, 3.5, 70, 0.5), 120, T = 1000, dt = 0.001)[0]\n",
    "\n",
    "# get speeds\n",
    "x, y, attr, inds = ft.processSimulation(data)"
   ]
  },
  {
   "cell_type": "code",
   "execution_count": 121,
   "metadata": {},
   "outputs": [],
   "source": [
    "from torch_geometric.data import Data\n",
    "from norm import normalizeGraph\n",
    "\n",
    "g = Data(x = x[0][:, 2:], y = y[0], edge_attr = attr[0], edge_index = inds[0])"
   ]
  },
  {
   "cell_type": "code",
   "execution_count": 122,
   "metadata": {},
   "outputs": [],
   "source": [
    "g = normalizeGraph(g)\n",
    "y = net(g)"
   ]
  },
  {
   "cell_type": "code",
   "execution_count": 123,
   "metadata": {},
   "outputs": [
    {
     "name": "stdout",
     "output_type": "stream",
     "text": [
      "torch.Size([200, 2])\n"
     ]
    }
   ],
   "source": [
    "print(y[0].shape)"
   ]
  },
  {
   "cell_type": "code",
   "execution_count": 124,
   "metadata": {},
   "outputs": [
    {
     "name": "stdout",
     "output_type": "stream",
     "text": [
      "torch.Size([200, 136])\n"
     ]
    }
   ],
   "source": [
    "print(y[1].shape)"
   ]
  },
  {
   "cell_type": "code",
   "execution_count": null,
   "metadata": {},
   "outputs": [],
   "source": [
    "print()"
   ]
  },
  {
   "cell_type": "code",
   "execution_count": 127,
   "metadata": {},
   "outputs": [],
   "source": [
    "v =np.std(y[1][:, :128].cpu().detach().numpy(), axis=0)"
   ]
  },
  {
   "cell_type": "code",
   "execution_count": 128,
   "metadata": {},
   "outputs": [
    {
     "data": {
      "image/png": "[encoded data removed]",
      "text/plain": [
       "<Figure size 640x480 with 1 Axes>"
      ]
     },
     "metadata": {},
     "output_type": "display_data"
    }
   ],
   "source": [
    "import matplotlib.pyplot as plt\n",
    "import numpy as np\n",
    "\n",
    "plt.plot(v)\n",
    "plt.show()"
   ]
  },
  {
   "cell_type": "code",
   "execution_count": null,
   "metadata": {},
   "outputs": [],
   "source": [
    "print()"
   ]
  }
 ],
 "metadata": {
  "kernelspec": {
   "display_name": "Python 3 (ipykernel)",
   "language": "python",
   "name": "python3"
  }
 },
 "nbformat": 4,
 "nbformat_minor": 2
}

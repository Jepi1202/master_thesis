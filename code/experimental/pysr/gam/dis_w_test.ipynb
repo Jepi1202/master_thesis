{
 "cells": [
  {
   "cell_type": "code",
   "execution_count": 1,
   "metadata": {},
   "outputs": [
    {
     "name": "stdout",
     "output_type": "stream",
     "text": [
      "yessss\n"
     ]
    }
   ],
   "source": [
    "import os\n",
    "import numpy as np\n",
    "import sys\n",
    "from torch_geometric.data import Data\n",
    "import matplotlib.pyplot as plt\n",
    "import torch\n",
    "\n",
    "\n",
    "def path_link(path:str):\n",
    "    sys.path.append(path)\n",
    "\n",
    "path_link('/master/code/lib')\n",
    "\n",
    "\n",
    "from utils.testing_gen import get_mult_data, Parameters_Simulation\n",
    "import features as ft\n",
    "from utils.pysr_help import getEdges, get_weights\n",
    "from utils.loading import loadModel\n",
    "\n",
    "\n",
    "\n",
    "NB_SIM = 5\n",
    "NB_STEP = 200\n",
    "PATH_MODELS = '/master/code/experimental/pysr/gam/models'\n",
    "DISPLAY_PATH = '/master/code/experimental/pysr/gam/weights_evol'\n",
    "MODEL = 'GAM_GNN'"
   ]
  },
  {
   "cell_type": "code",
   "execution_count": 2,
   "metadata": {},
   "outputs": [],
   "source": [
    "\n",
    "def getData(params: Parameters_Simulation, nb:int):\n",
    "    data = get_mult_data(params, nb)\n",
    "\n",
    "\n",
    "    dataList = []\n",
    "\n",
    "    for i in range(data.shape[0]):\n",
    "        x, y, attr, inds = ft.processSimulation(data[i])\n",
    "\n",
    "        for i in range(len(x)):\n",
    "            g = Data(x = x[i][:, 2:], y = y[i], edge_attr = attr[i], edge_index = inds[i])\n",
    "            dataList.append(g)\n",
    "\n",
    "        return dataList\n",
    "    \n"
   ]
  },
  {
   "cell_type": "code",
   "execution_count": 52,
   "metadata": {},
   "outputs": [],
   "source": [
    "def find_models_and_paths(model_path:str, display_path:str)->tuple:\n",
    "    model_list = []\n",
    "    out_list = []\n",
    "    \n",
    "    nb = 0\n",
    "\n",
    "    for root, dirs, files in os.walk(model_path):\n",
    "        for file in files:\n",
    "            if file.endswith('pt'):\n",
    "                model_list.append(os.path.join(root, file))\n",
    "\n",
    "                name = file.split('.')[0]\n",
    "\n",
    "                out_list.append(os.path.join(display_path, f'test-{nb}-{name}.png'))\n",
    "                nb += 1\n",
    "\n",
    "\n",
    "    return model_list, out_list"
   ]
  },
  {
   "cell_type": "code",
   "execution_count": null,
   "metadata": {},
   "outputs": [],
   "source": []
  },
  {
   "cell_type": "code",
   "execution_count": 53,
   "metadata": {},
   "outputs": [],
   "source": [
    "models, path_out_models = find_models_and_paths(PATH_MODELS, DISPLAY_PATH)"
   ]
  },
  {
   "cell_type": "code",
   "execution_count": 5,
   "metadata": {},
   "outputs": [
    {
     "name": "stdout",
     "output_type": "stream",
     "text": [
      "v0:60, tau:3.5, k:70, epsilon:0.5\n"
     ]
    },
    {
     "name": "stderr",
     "output_type": "stream",
     "text": [
      "100%|██████████| 199/199 [00:04<00:00, 48.55it/s]\n"
     ]
    },
    {
     "name": "stdout",
     "output_type": "stream",
     "text": [
      "v0:60, tau:3.5, k:70, epsilon:0.5\n"
     ]
    },
    {
     "name": "stderr",
     "output_type": "stream",
     "text": [
      "100%|██████████| 199/199 [00:03<00:00, 50.55it/s]\n"
     ]
    },
    {
     "name": "stdout",
     "output_type": "stream",
     "text": [
      "v0:60, tau:3.5, k:70, epsilon:0.5\n"
     ]
    },
    {
     "name": "stderr",
     "output_type": "stream",
     "text": [
      "100%|██████████| 199/199 [00:03<00:00, 62.80it/s]\n"
     ]
    },
    {
     "name": "stdout",
     "output_type": "stream",
     "text": [
      "v0:60, tau:3.5, k:70, epsilon:0.5\n"
     ]
    },
    {
     "name": "stderr",
     "output_type": "stream",
     "text": [
      "100%|██████████| 199/199 [00:02<00:00, 82.97it/s]\n"
     ]
    },
    {
     "name": "stdout",
     "output_type": "stream",
     "text": [
      "v0:60, tau:3.5, k:70, epsilon:0.5\n"
     ]
    },
    {
     "name": "stderr",
     "output_type": "stream",
     "text": [
      "100%|██████████| 199/199 [00:03<00:00, 59.69it/s]\n"
     ]
    }
   ],
   "source": [
    "params = Parameters_Simulation()\n",
    "params.nbStep = NB_STEP\n",
    "dataList = getData(params, nb = NB_SIM)\n",
    "edges = getEdges(dataList)"
   ]
  },
  {
   "cell_type": "code",
   "execution_count": 54,
   "metadata": {},
   "outputs": [
    {
     "name": "stdout",
     "output_type": "stream",
     "text": [
      "['/master/code/experimental/pysr/gam/weights_evol/test-0-GAM_GNN_best.png', '/master/code/experimental/pysr/gam/weights_evol/test-1-GAM_GNN_latest.png', '/master/code/experimental/pysr/gam/weights_evol/test-2-GAM_GNN_best.png', '/master/code/experimental/pysr/gam/weights_evol/test-3-GAM_GNN_latest.png', '/master/code/experimental/pysr/gam/weights_evol/test-4-GAM_GNN_best.png', '/master/code/experimental/pysr/gam/weights_evol/test-5-GAM_GNN_latest.png', '/master/code/experimental/pysr/gam/weights_evol/test-6-GAM_GNN_best.png', '/master/code/experimental/pysr/gam/weights_evol/test-7-GAM_GNN_latest.png', '/master/code/experimental/pysr/gam/weights_evol/test-8-GAM_GNN_best.png', '/master/code/experimental/pysr/gam/weights_evol/test-9-GAM_GNN_latest.png']\n"
     ]
    }
   ],
   "source": [
    "print(path_out_models)"
   ]
  },
  {
   "cell_type": "code",
   "execution_count": 6,
   "metadata": {},
   "outputs": [
    {
     "name": "stdout",
     "output_type": "stream",
     "text": [
      ">>>> loading simplest\n",
      "INFO >>> with NO encoder\n",
      "INFO >>> with NO dropout\n"
     ]
    },
    {
     "data": {
      "text/plain": [
       "GAM_GNN(\n",
       "  (GNN): GN_edge_GAM()\n",
       ")"
      ]
     },
     "execution_count": 6,
     "metadata": {},
     "output_type": "execute_result"
    }
   ],
   "source": [
    "i = 0\n",
    "\n",
    "model = models[i]\n",
    "path = path_out_models[i]\n",
    "\n",
    "\n",
    "mod = loadModel(MODEL)\n",
    "std_dict = torch.load(model)\n",
    "mod.load_state_dict(std_dict)\n",
    "mod.eval()"
   ]
  },
  {
   "cell_type": "code",
   "execution_count": 10,
   "metadata": {},
   "outputs": [],
   "source": [
    "def get_weights(model, data, nbDim = 2, nbMax = 2, pySr_data = False):\n",
    "    \n",
    "    res = None\n",
    "    resEdges = None\n",
    "\n",
    "    if pySr_data:\n",
    "\n",
    "        for graph in data:\n",
    "\n",
    "            weights, sha = model.get_weights(graph)\n",
    "            weights = weights.cpu().detach().numpy()\n",
    "            weights.reshape(sha)\n",
    "\n",
    "            if res is None:\n",
    "                res = weights\n",
    "                shape_edges =  graph.edge_attr.shape\n",
    "                resEdges = graph.edge_attr.repeat(1, nbDim).reshape(shape_edges[0] * nbDim, shape_edges[1]).cpu().detach().numpy()\n",
    "            else:\n",
    "                res = np.vstack((res, weights))\n",
    "                shape_edges =  graph.edge_attr.shape\n",
    "                v = graph.edge_attr.repeat(1, nbDim).reshape(shape_edges[0] * nbDim, shape_edges[1]).cpu().detach().numpy()\n",
    "                resEdges = np.vstack((resEdges, graph.edge_attr.repeat(1, nbDim).reshape(shape_edges[0] * nbDim, shape_edges[1]).cpu().detach().numpy()))\n",
    "\n",
    "        return res, resEdges\n",
    "\n",
    "    else:\n",
    "        for graph in data:\n",
    "\n",
    "            weights, sha = model.get_weights(graph)\n",
    "            weights = weights.cpu().detach().numpy()\n",
    "\n",
    "            if res is None:\n",
    "                res = weights\n",
    "\n",
    "            else:\n",
    "                res = np.vstack((res, weights))\n",
    "\n",
    "        return res, None"
   ]
  },
  {
   "cell_type": "code",
   "execution_count": 55,
   "metadata": {},
   "outputs": [],
   "source": [
    "weights, edgs = get_weights(mod, dataList, nbMax = None)"
   ]
  },
  {
   "cell_type": "code",
   "execution_count": 57,
   "metadata": {},
   "outputs": [
    {
     "data": {
      "image/png": "[encoded data removed]",
      "text/plain": [
       "<Figure size 600x500 with 2 Axes>"
      ]
     },
     "metadata": {},
     "output_type": "display_data"
    }
   ],
   "source": [
    "variables = [r'$r \\;$', r'$\\cos(\\theta) \\;$', r'$\\sin(\\theta) \\;$', r'$R1 \\;$', r'$R2 \\;$']\n",
    "degree = 2\n",
    "result = compute_string_products(variables, degree)\n",
    "\n",
    "pcolorPlot(np.median(weights, axis = 0), num_parts=2, labels = result*2)\n",
    "\n",
    "#plt.savefig(...)"
   ]
  },
  {
   "cell_type": "code",
   "execution_count": 12,
   "metadata": {},
   "outputs": [
    {
     "name": "stdout",
     "output_type": "stream",
     "text": [
      "(20174, 40)\n"
     ]
    },
    {
     "ename": "AttributeError",
     "evalue": "'NoneType' object has no attribute 'shape'",
     "output_type": "error",
     "traceback": [
      "\u001b[0;31m---------------------------------------------------------------------------\u001b[0m",
      "\u001b[0;31mAttributeError\u001b[0m                            Traceback (most recent call last)",
      "Cell \u001b[0;32mIn[12], line 2\u001b[0m\n\u001b[1;32m      1\u001b[0m \u001b[38;5;28mprint\u001b[39m(weights\u001b[38;5;241m.\u001b[39mshape)\n\u001b[0;32m----> 2\u001b[0m \u001b[38;5;28mprint\u001b[39m(\u001b[43medgs\u001b[49m\u001b[38;5;241;43m.\u001b[39;49m\u001b[43mshape\u001b[49m)\n",
      "\u001b[0;31mAttributeError\u001b[0m: 'NoneType' object has no attribute 'shape'"
     ]
    }
   ],
   "source": [
    "print(weights.shape)\n",
    "print(edgs.shape)"
   ]
  },
  {
   "cell_type": "code",
   "execution_count": 13,
   "metadata": {},
   "outputs": [
    {
     "name": "stdout",
     "output_type": "stream",
     "text": [
      "(20174, 40)\n"
     ]
    }
   ],
   "source": [
    "print(weights.shape)"
   ]
  },
  {
   "cell_type": "code",
   "execution_count": 15,
   "metadata": {},
   "outputs": [
    {
     "name": "stdout",
     "output_type": "stream",
     "text": [
      "['$r \\\\;$', '$\\\\cos(\\\\theta) \\\\;$', '$\\\\sin(\\\\theta) \\\\;$', '$R1 \\\\;$', '$R2 \\\\;$', '$r \\\\;$$r \\\\;$', '$r \\\\;$$\\\\cos(\\\\theta) \\\\;$', '$r \\\\;$$\\\\sin(\\\\theta) \\\\;$', '$r \\\\;$$R1 \\\\;$', '$r \\\\;$$R2 \\\\;$', '$\\\\cos(\\\\theta) \\\\;$$\\\\cos(\\\\theta) \\\\;$', '$\\\\cos(\\\\theta) \\\\;$$\\\\sin(\\\\theta) \\\\;$', '$\\\\cos(\\\\theta) \\\\;$$R1 \\\\;$', '$\\\\cos(\\\\theta) \\\\;$$R2 \\\\;$', '$\\\\sin(\\\\theta) \\\\;$$\\\\sin(\\\\theta) \\\\;$', '$\\\\sin(\\\\theta) \\\\;$$R1 \\\\;$', '$\\\\sin(\\\\theta) \\\\;$$R2 \\\\;$', '$R1 \\\\;$$R1 \\\\;$', '$R1 \\\\;$$R2 \\\\;$', '$R2 \\\\;$$R2 \\\\;$']\n"
     ]
    }
   ],
   "source": [
    "import itertools\n",
    "\n",
    "\n",
    "def compute_string_products(strings, degree):\n",
    "    \"\"\"\n",
    "    Compute all polynomial products up to a given degree for a list of strings.\n",
    "    \n",
    "    Args:\n",
    "        strings (list of str): The input list of strings.\n",
    "        degree (int): The maximum degree of the polynomial terms.\n",
    "\n",
    "    Returns:\n",
    "        list of str: A list containing all polynomial products.\n",
    "    \"\"\"\n",
    "    num_variables = len(strings)\n",
    "    products = []\n",
    "\n",
    "    for d in range(1, degree + 1):\n",
    "        for combo in itertools.combinations_with_replacement(range(num_variables), d):\n",
    "            # Create a product string by joining the corresponding strings\n",
    "            product = ''.join([strings[i] for i in combo])\n",
    "            products.append(product)\n",
    "\n",
    "    return products\n",
    "\n",
    "# Example usage\n",
    "variables = [r'$r \\;$', r'$\\cos(\\theta) \\;$', r'$\\sin(\\theta) \\;$', r'$R1 \\;$', r'$R2 \\;$']\n",
    "degree = 2\n",
    "result = compute_string_products(variables, degree)\n",
    "print(result)"
   ]
  },
  {
   "cell_type": "code",
   "execution_count": 18,
   "metadata": {},
   "outputs": [],
   "source": [
    "def pcolorPlot(vals, labels, num_parts):\n",
    "    vals_reshaped = vals.reshape(1, -1)\n",
    "    total_length = vals_reshaped.shape[1]\n",
    "    part_size = total_length // num_parts  # Size of each part\n",
    "\n",
    "    # Create a figure with subplots equal to the number of parts\n",
    "    fig, axes = plt.subplots(num_parts, 1, figsize=(6, 2.5 * num_parts), gridspec_kw={'height_ratios': [1]*num_parts, 'hspace': 0})\n",
    "    \n",
    "    # If there's only one part, axes won't be a list, so we convert it\n",
    "    if num_parts == 1:\n",
    "        axes = [axes]\n",
    "    \n",
    "    for i in range(num_parts):\n",
    "        start_idx = i * part_size\n",
    "        end_idx = start_idx + part_size if i < num_parts - 1 else total_length\n",
    "        \n",
    "        vals_part = vals_reshaped[:, start_idx:end_idx]\n",
    "        labels_part = labels[start_idx:end_idx]\n",
    "        \n",
    "        ax = axes[i]\n",
    "        c = ax.pcolormesh(vals_part, cmap='gray_r', edgecolors='k')\n",
    "        \n",
    "        if i == 0:  # Add labels only to the first part\n",
    "            for j, label in enumerate(labels_part):\n",
    "                ax.text(j + 0.5, 1.25, label, ha='center', va='bottom', fontsize=10, rotation=90, color='black')\n",
    "        \n",
    "        ax.axis('off')\n",
    "        ax.set_aspect('equal')\n",
    "\n",
    "    # Adjust the layout based on the number of parts\n",
    "    plt.subplots_adjust(hspace=0.01, top=0.50, bottom=0.20)\n",
    "    plt.show()"
   ]
  },
  {
   "cell_type": "code",
   "execution_count": 21,
   "metadata": {},
   "outputs": [
    {
     "data": {
      "image/png": "[encoded data removed]",
      "text/plain": [
       "<Figure size 640x480 with 1 Axes>"
      ]
     },
     "metadata": {},
     "output_type": "display_data"
    }
   ],
   "source": [
    "pcolorPlot(np.median(weights, axis = 0), labels = result)"
   ]
  },
  {
   "cell_type": "code",
   "execution_count": 28,
   "metadata": {},
   "outputs": [],
   "source": [
    "def pcolorPlot2(vals, labels):\n",
    "    vals_reshaped = vals.reshape(1, -1)\n",
    "    middle_index = vals_reshaped.shape[1] // 2  # Calculate the middle index\n",
    "\n",
    "    # Split the values and labels into two halves\n",
    "    vals_left = vals_reshaped[:, :middle_index]\n",
    "    vals_right = vals_reshaped[:, middle_index:]\n",
    "    \n",
    "    labels_left = labels[:middle_index]\n",
    "    labels_right = labels[middle_index:]\n",
    "    \n",
    "    # Plot for the left part\n",
    "    fig, ax = plt.subplots(1, 1)\n",
    "    c = ax.pcolormesh(vals_left, cmap='gray_r', edgecolors='k')\n",
    "    \n",
    "    for i, label in enumerate(labels_left):\n",
    "        ax.text(i + 0.5, 1.25, label, ha='center', va='bottom', fontsize=12, rotation=90, color='black')\n",
    "    \n",
    "    plt.axis('off')\n",
    "    ax.set_aspect('equal')\n",
    "    plt.tight_layout()\n",
    "    \n",
    "    # Plot for the right part\n",
    "    fig, ax = plt.subplots(1, 1)\n",
    "    c = ax.pcolormesh(vals_right, cmap='gray_r', edgecolors='k')\n",
    "    \n",
    "    #for i, label in enumerate(labels_right):\n",
    "    #    ax.text(i + 0.5, 1.25, label, ha='center', va='bottom', fontsize=12, rotation=90, color='black')\n",
    "    \n",
    "    plt.axis('off')\n",
    "    ax.set_aspect('equal')\n",
    "    plt.tight_layout()\n",
    "    plt.show()"
   ]
  },
  {
   "cell_type": "code",
   "execution_count": 29,
   "metadata": {},
   "outputs": [
    {
     "data": {
      "image/png": "[encoded data removed]",
      "text/plain": [
       "<Figure size 640x480 with 1 Axes>"
      ]
     },
     "metadata": {},
     "output_type": "display_data"
    },
    {
     "data": {
      "image/png": "[encoded data removed]",
      "text/plain": [
       "<Figure size 640x480 with 1 Axes>"
      ]
     },
     "metadata": {},
     "output_type": "display_data"
    }
   ],
   "source": [
    "pcolorPlot2(np.median(weights, axis = 0), labels = result)"
   ]
  },
  {
   "cell_type": "code",
   "execution_count": 45,
   "metadata": {},
   "outputs": [
    {
     "data": {
      "image/png": "[encoded data removed]",
      "text/plain": [
       "<Figure size 600x250 with 2 Axes>"
      ]
     },
     "metadata": {},
     "output_type": "display_data"
    }
   ],
   "source": [
    "import numpy as np\n",
    "import matplotlib.pyplot as plt\n",
    "\n",
    "def pcolorPlot(vals, labels):\n",
    "    vals_reshaped = vals.reshape(1, -1)\n",
    "    middle_index = vals_reshaped.shape[1] // 2  # Calculate the middle index\n",
    "\n",
    "    # Split the values and labels into two halves\n",
    "    vals_left = vals_reshaped[:, :middle_index]\n",
    "    vals_right = vals_reshaped[:, middle_index:]\n",
    "    \n",
    "    labels_left = labels[:middle_index]\n",
    "    \n",
    "    # Create a figure with two subplots, one on top of the other\n",
    "    fig, (ax_top, ax_bottom) = plt.subplots(2, 1, figsize=(6, 2.5), gridspec_kw={'height_ratios': [1, 1], 'hspace': 0})\n",
    "    \n",
    "    # Plot for the top part (with labels)\n",
    "    c1 = ax_top.pcolormesh(vals_left, cmap='gray_r', edgecolors='k')\n",
    "    for i, label in enumerate(labels_left):\n",
    "        ax_top.text(i + 0.5, 1.25, label, ha='center', va='bottom', fontsize=10, rotation=90, color='black')\n",
    "    ax_top.axis('off')\n",
    "    ax_top.set_aspect('equal')\n",
    "    \n",
    "    # Plot for the bottom part (without labels)\n",
    "    c2 = ax_bottom.pcolormesh(vals_right, cmap='gray_r', edgecolors='k')\n",
    "    ax_bottom.axis('off')\n",
    "    ax_bottom.set_aspect('equal')\n",
    "    \n",
    "    # Tighten the layout to reduce the space between subplots\n",
    "    plt.subplots_adjust(hspace=0.01, top=0.50, bottom=0.20)\n",
    "    \n",
    "    plt.show()\n",
    "\n",
    "\n",
    "pcolorPlot(np.median(weights, axis = 0), labels = result*2)"
   ]
  },
  {
   "cell_type": "code",
   "execution_count": 50,
   "metadata": {},
   "outputs": [
    {
     "data": {
      "image/png": "[encoded data removed]",
      "text/plain": [
       "<Figure size 600x500 with 2 Axes>"
      ]
     },
     "metadata": {},
     "output_type": "display_data"
    }
   ],
   "source": [
    "def pcolorPlot(vals, labels, num_parts):\n",
    "    vals_reshaped = vals.reshape(1, -1)\n",
    "    total_length = vals_reshaped.shape[1]\n",
    "    part_size = total_length // num_parts  # Size of each part\n",
    "\n",
    "    # Create a figure with subplots equal to the number of parts\n",
    "    fig, axes = plt.subplots(num_parts, 1, figsize=(6, 2.5 * num_parts), gridspec_kw={'height_ratios': [1]*num_parts, 'hspace': 0})\n",
    "    \n",
    "    # If there's only one part, axes won't be a list, so we convert it\n",
    "    if num_parts == 1:\n",
    "        axes = [axes]\n",
    "    \n",
    "    for i in range(num_parts):\n",
    "        start_idx = i * part_size\n",
    "        end_idx = start_idx + part_size if i < num_parts - 1 else total_length\n",
    "        \n",
    "        vals_part = vals_reshaped[:, start_idx:end_idx]\n",
    "        labels_part = labels[start_idx:end_idx]\n",
    "        \n",
    "        ax = axes[i]\n",
    "        c = ax.pcolormesh(vals_part, cmap='gray_r', edgecolors='k')\n",
    "        \n",
    "        if i == 0:  # Add labels only to the first part\n",
    "            for j, label in enumerate(labels_part):\n",
    "                ax.text(j + 0.5, 1.25, label, ha='center', va='bottom', fontsize=10, rotation=90, color='black')\n",
    "        \n",
    "        ax.axis('off')\n",
    "        ax.set_aspect('equal')\n",
    "\n",
    "    # Adjust the layout based on the number of parts\n",
    "    plt.subplots_adjust(hspace=0.01, top=0.50, bottom=0.20)\n",
    "    plt.show()\n",
    "\n",
    "pcolorPlot(np.median(weights, axis = 0), num_parts=2, labels = result*2)"
   ]
  },
  {
   "cell_type": "code",
   "execution_count": 114,
   "metadata": {},
   "outputs": [],
   "source": [
    "import os\n",
    "import numpy as np\n",
    "import sys\n",
    "from torch_geometric.data import Data\n",
    "import matplotlib.pyplot as plt\n",
    "import torch\n",
    "from tqdm import tqdm\n",
    "\n",
    "import itertools\n",
    "\n",
    "\n",
    "\n",
    "def path_link(path:str):\n",
    "    sys.path.append(path)\n",
    "\n",
    "path_link('/master/code/lib')\n",
    "\n",
    "\n",
    "from utils.testing_gen import get_mult_data, Parameters_Simulation\n",
    "import features as ft\n",
    "from utils.pysr_help import getEdges, get_weights\n",
    "from utils.loading import loadModel\n",
    "from utils.tools import makedirs\n",
    "\n",
    "\n",
    "\n",
    "\n",
    "NB_SIM = 5\n",
    "NB_STEP = 1000\n",
    "PATH_MODELS = '/master/code/experimental/pysr/gam/models/exp_1_relu'\n",
    "DISPLAY_PATH = '/master/code/experimental/pysr/gam/weights_evol/figures'\n",
    "#MODEL = 'GAM_GNN'\n",
    "MODEL = 'GAM_GNN-relu'\n",
    "\n",
    "\n",
    "def scatPlot(weights, sum_weights, radius, names, path, display = False, degree = 2):\n",
    "    \n",
    "    \n",
    "    for i in range(len(names)):\n",
    "        plt.scatter(radius, weights[:, i])\n",
    "        plt.xlabel(\"Radius [micro m]\")\n",
    "        plt.ylabel(f\"Weight of {names[i]}\")\n",
    "\n",
    "        name_plot = os.path.join(path, f'{names[i]}.png')\n",
    "        k = 0\n",
    "        while os.path.exists(name_plot):\n",
    "            name_plot = f'{name_plot.split(\".\")[0]}-{k}.png'\n",
    "            k+=1\n",
    "\n",
    "\n",
    "        if display: \n",
    "            plt.show()\n",
    "        else:\n",
    "            plt.savefig(name_plot)\n",
    "            plt.close()\n",
    "    \n",
    "    # sum plot\n",
    "    \n",
    "    for i in range(degree):\n",
    "        \n",
    "        plt.scatter(radius,sum_weights[:, i])\n",
    "        plt.xlabel(\"Radius [micro m]\")\n",
    "        plt.ylabel(f\"Sum Weight - {i}\")\n",
    "\n",
    "        name_plot = os.path.join(path, f'sum-weights-{i}.png')\n",
    "\n",
    "        k = 0\n",
    "        while os.path.exists(name_plot):\n",
    "            name_plot = f'{name_plot.split(\".\")[0]}-{k}.png'\n",
    "            k+=1\n",
    "\n",
    "        if display: \n",
    "            plt.show()\n",
    "        else:\n",
    "            plt.savefig(name_plot)\n",
    "            plt.close()\n",
    "\n",
    "\n",
    "\n",
    "    \n",
    "\n",
    "\n",
    "def getData(params: Parameters_Simulation, nb:int):\n",
    "    data = get_mult_data(params, nb)\n",
    "\n",
    "\n",
    "    dataList = []\n",
    "\n",
    "    for i in range(data.shape[0]):\n",
    "        x, y, attr, inds = ft.processSimulation(data[i])\n",
    "\n",
    "        for i in range(len(x)):\n",
    "            g = Data(x = x[i][:, 2:], y = y[i], edge_attr = attr[i], edge_index = inds[i])\n",
    "            dataList.append(g)\n",
    "\n",
    "        return dataList\n",
    "    \n",
    "    \n",
    "\n",
    "\n",
    "def find_models_and_paths(model_path:str, display_path:str)->tuple:\n",
    "    model_list = []\n",
    "    out_list = []\n",
    "    \n",
    "    nb = 0\n",
    "\n",
    "    for root, dirs, files in os.walk(model_path):\n",
    "        for file in files:\n",
    "            if file.endswith('pt'):\n",
    "                model_list.append(os.path.join(root, file))\n",
    "\n",
    "                name = file.split('.')[0]\n",
    "\n",
    "                out_list.append(os.path.join(display_path, f'test-{nb}-{name}.png'))\n",
    "                nb += 1\n",
    "\n",
    "\n",
    "    return model_list, out_list\n",
    "\n",
    "\n",
    "def compute_string_products(strings, degree):\n",
    "    \"\"\"\n",
    "    Compute all polynomial products up to a given degree for a list of strings.\n",
    "    \n",
    "    Args:\n",
    "        strings (list of str): The input list of strings.\n",
    "        degree (int): The maximum degree of the polynomial terms.\n",
    "\n",
    "    Returns:\n",
    "        list of str: A list containing all polynomial products.\n",
    "    \"\"\"\n",
    "    num_variables = len(strings)\n",
    "    products = []\n",
    "\n",
    "    for d in range(1, degree + 1):\n",
    "        for combo in itertools.combinations_with_replacement(range(num_variables), d):\n",
    "            # Create a product string by joining the corresponding strings\n",
    "            product = ''.join([strings[i] for i in combo])\n",
    "            products.append(product)\n",
    "\n",
    "    return products\n"
   ]
  },
  {
   "cell_type": "code",
   "execution_count": 60,
   "metadata": {},
   "outputs": [
    {
     "name": "stdout",
     "output_type": "stream",
     "text": [
      "v0:60, tau:3.5, k:70, epsilon:0.5\n"
     ]
    },
    {
     "name": "stderr",
     "output_type": "stream",
     "text": [
      "100%|██████████| 999/999 [00:20<00:00, 49.28it/s]\n"
     ]
    },
    {
     "name": "stdout",
     "output_type": "stream",
     "text": [
      "v0:60, tau:3.5, k:70, epsilon:0.5\n"
     ]
    },
    {
     "name": "stderr",
     "output_type": "stream",
     "text": [
      "100%|██████████| 999/999 [00:27<00:00, 36.55it/s]\n"
     ]
    },
    {
     "name": "stdout",
     "output_type": "stream",
     "text": [
      "v0:60, tau:3.5, k:70, epsilon:0.5\n"
     ]
    },
    {
     "name": "stderr",
     "output_type": "stream",
     "text": [
      "100%|██████████| 999/999 [00:21<00:00, 47.07it/s]\n"
     ]
    },
    {
     "name": "stdout",
     "output_type": "stream",
     "text": [
      "v0:60, tau:3.5, k:70, epsilon:0.5\n"
     ]
    },
    {
     "name": "stderr",
     "output_type": "stream",
     "text": [
      "100%|██████████| 999/999 [00:21<00:00, 47.50it/s]\n"
     ]
    },
    {
     "name": "stdout",
     "output_type": "stream",
     "text": [
      "v0:60, tau:3.5, k:70, epsilon:0.5\n"
     ]
    },
    {
     "name": "stderr",
     "output_type": "stream",
     "text": [
      "100%|██████████| 999/999 [00:19<00:00, 52.39it/s]\n"
     ]
    }
   ],
   "source": [
    "models, path_out_models = find_models_and_paths(PATH_MODELS, DISPLAY_PATH)\n",
    "\n",
    "# get the data\n",
    "\n",
    "params = Parameters_Simulation()\n",
    "params.nbStep = NB_STEP\n",
    "dataList = getData(params, nb = NB_SIM)\n",
    "edges = getEdges(dataList)\n",
    "\n",
    "variables = [r'$r \\;$', r'$\\cos(\\theta) \\;$', r'$\\sin(\\theta) \\;$', r'$R1 \\;$', r'$R2 \\;$']\n",
    "degree = 2\n",
    "result = compute_string_products(variables, degree)"
   ]
  },
  {
   "cell_type": "code",
   "execution_count": 110,
   "metadata": {},
   "outputs": [],
   "source": [
    "def get_sum_gam_weights(model, data):\n",
    "\n",
    "    resWeights = None\n",
    "\n",
    "    for graph in data:\n",
    "        atr = graph.edge_attr\n",
    "\n",
    "        w_sum = model.GNN.message(None, None, atr).cpu().detach().numpy()\n",
    "\n",
    "\n",
    "        if resWeights is None:\n",
    "            resWeights = w_sum\n",
    "\n",
    "        else:\n",
    "            resWeights = np.vstack((resWeights, w_sum))\n",
    "\n",
    "\n",
    "    return resWeights"
   ]
  },
  {
   "cell_type": "code",
   "execution_count": 94,
   "metadata": {},
   "outputs": [],
   "source": [
    "def get_weights(model, data, nbDim = 2, nbMax = 2, pySr_data = False):\n",
    "    \n",
    "    res = None\n",
    "    resEdges = None\n",
    "\n",
    "    if pySr_data:\n",
    "\n",
    "        for graph in data:\n",
    "\n",
    "            weights, sha = model.get_weights(graph)\n",
    "            weights = weights.cpu().detach().numpy()\n",
    "            weights.reshape(sha)\n",
    "\n",
    "            if res is None:\n",
    "                res = weights\n",
    "                shape_edges =  graph.edge_attr.shape\n",
    "                resEdges = graph.edge_attr.repeat(1, nbDim).reshape(shape_edges[0] * nbDim, shape_edges[1]).cpu().detach().numpy()\n",
    "            else:\n",
    "                res = np.vstack((res, weights))\n",
    "                shape_edges =  graph.edge_attr.shape\n",
    "                v = graph.edge_attr.repeat(1, nbDim).reshape(shape_edges[0] * nbDim, shape_edges[1]).cpu().detach().numpy()\n",
    "                resEdges = np.vstack((resEdges, graph.edge_attr.repeat(1, nbDim).reshape(shape_edges[0] * nbDim, shape_edges[1]).cpu().detach().numpy()))\n",
    "\n",
    "        return res, resEdges\n",
    "\n",
    "    else:\n",
    "        for graph in data:\n",
    "\n",
    "            weights, sha = model.get_weights(graph)\n",
    "            weights = weights.cpu().detach().numpy()\n",
    "\n",
    "            if res is None:\n",
    "                res = weights\n",
    "\n",
    "            else:\n",
    "                res = np.vstack((res, weights))\n",
    "\n",
    "            if resEdges is None:\n",
    "                resEdges = graph.edge_attr\n",
    "\n",
    "            else:\n",
    "                resEdges = np.vstack((resEdges, graph.edge_attr))\n",
    "\n",
    "        return res, resEdges"
   ]
  },
  {
   "cell_type": "code",
   "execution_count": null,
   "metadata": {},
   "outputs": [],
   "source": [
    "def get_sum_gam_weights(model, data)"
   ]
  },
  {
   "cell_type": "code",
   "execution_count": 95,
   "metadata": {},
   "outputs": [],
   "source": [
    "def makedirs(file):\n",
    "    f = file\n",
    "\n",
    "    i = 1\n",
    "    while os.path.exists(f):\n",
    "        f = f'{file}_{i}'\n",
    "        i += 1\n",
    "    \n",
    "    os.makedirs(f)\n",
    "\n",
    "    return f"
   ]
  },
  {
   "cell_type": "code",
   "execution_count": 96,
   "metadata": {},
   "outputs": [
    {
     "name": "stdout",
     "output_type": "stream",
     "text": [
      ">>>> loading simplest\n",
      "INFO >>> with NO encoder\n",
      "INFO >>> with NO dropout\n"
     ]
    }
   ],
   "source": [
    "i = 0\n",
    "\n",
    "model = models[i]\n",
    "mod = loadModel(MODEL)\n",
    "std_dict = torch.load(models[i], map_location=\"cpu\")\n",
    "mod.load_state_dict(std_dict)\n",
    "mod.eval()\n",
    "\n",
    "path = path_out_models[i]\n",
    "makedirs(path)\n",
    "\n",
    "weights, edgs = get_weights(mod, dataList, nbMax = None)"
   ]
  },
  {
   "cell_type": "code",
   "execution_count": 111,
   "metadata": {},
   "outputs": [],
   "source": [
    "sum_w = get_sum_gam_weights(mod, dataList)"
   ]
  },
  {
   "cell_type": "code",
   "execution_count": 113,
   "metadata": {},
   "outputs": [
    {
     "name": "stdout",
     "output_type": "stream",
     "text": [
      "(298436, 40)\n",
      "(298436, 5)\n",
      "(298436, 2)\n"
     ]
    }
   ],
   "source": [
    "print(weights.shape)\n",
    "print(edgs.shape)\n",
    "print(sum_w.shape)"
   ]
  },
  {
   "cell_type": "code",
   "execution_count": 118,
   "metadata": {},
   "outputs": [
    {
     "data": {
      "image/png": "[encoded data removed]",
      "text/plain": [
       "<Figure size 640x480 with 1 Axes>"
      ]
     },
     "metadata": {},
     "output_type": "display_data"
    },
    {
     "data": {
      "image/png": "[encoded data removed]",
      "text/plain": [
       "<Figure size 640x480 with 1 Axes>"
      ]
     },
     "metadata": {},
     "output_type": "display_data"
    }
   ],
   "source": [
    "scatPlot(weights, \n",
    "                radius = edgs[:, 0], \n",
    "                sum_weights=sum_w,\n",
    "                names = result * 2, \n",
    "                path = path, \n",
    "                display = True)"
   ]
  },
  {
   "cell_type": "code",
   "execution_count": null,
   "metadata": {},
   "outputs": [],
   "source": []
  }
 ],
 "metadata": {
  "kernelspec": {
   "display_name": "Python 3 (ipykernel)",
   "language": "python",
   "name": "python3"
  }
 },
 "nbformat": 4,
 "nbformat_minor": 2
}

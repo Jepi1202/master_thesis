{
 "cells": [
  {
   "cell_type": "code",
   "execution_count": 27,
   "metadata": {},
   "outputs": [],
   "source": [
    "import torch\n",
    "import os \n",
    "import sys\n",
    "import yaml\n",
    "import numpy as np\n",
    "from typing import Optional, Union\n",
    "from tqdm import tqdm\n",
    "\n",
    "def path_link(path:str):\n",
    "    sys.path.append(path)\n",
    "\n",
    "path_link('/master/code/lib')\n",
    "\n",
    "import features as ft\n",
    "import simulation_v2 as sim\n",
    "\n",
    "import NNSimulator as NNSim\n",
    "from torch_geometric.data import Data\n"
   ]
  },
  {
   "cell_type": "code",
   "execution_count": 2,
   "metadata": {},
   "outputs": [],
   "source": [
    "class Parameters():\n",
    "    def __init__(self):\n",
    "        self.dt = 0.001\n",
    "        self.v0 = 60\n",
    "        self.k = 70\n",
    "        self.epsilon = 0.5\n",
    "        self.tau = 3.5\n",
    "        self.R = 1\n",
    "        self.N = 200\n",
    "        self.boundary = 100\n",
    "\n",
    "        self.nbStep = 150"
   ]
  },
  {
   "cell_type": "code",
   "execution_count": 4,
   "metadata": {},
   "outputs": [],
   "source": [
    "PATH = '/master/code/analyze_models/exps/exp-test'\n",
    "MODEL_PATH = '/master/code/models/mod_base'\n",
    "\n",
    "DISPLAY_PATH = ['/master/code/analyze_models/display/test']"
   ]
  },
  {
   "cell_type": "code",
   "execution_count": 6,
   "metadata": {},
   "outputs": [],
   "source": [
    "def findModels(path):\n",
    "    pathLists = []\n",
    "    for root, dirs, files in tqdm(os.walk(path)):\n",
    "            for file in files:\n",
    "                  \n",
    "                  if file.endswith('.pt'):\n",
    "                        pathLists.append(os.path.join(root, file))\n",
    "\n",
    "\n",
    "    return pathLists\n",
    "\n",
    "\n",
    "def delete_wandb_dirs(start_path):\n",
    "    for root, dirs, files in os.walk(start_path, topdown=False):\n",
    "        for dir_name in dirs:\n",
    "            if dir_name == \"wandb\":\n",
    "                dir_path = os.path.join(root, dir_name)\n",
    "                print(f\"Deleting: {dir_path}\")\n",
    "                shutil.rmtree(dir_path)\n",
    "\n",
    "\n",
    "\n",
    "def getName(path):\n",
    "    run_name = path.split('/')[-3]\n",
    "\n",
    "    model_type = path.split('/')[-1].split('.')[0]\n",
    "\n",
    "    if 'best' in model_type:\n",
    "        model_type = '_best'\n",
    "\n",
    "    else:\n",
    "         model_type = '_latest'\n",
    "\n",
    "    name = run_name + model_type\n",
    "\n",
    "    return name\n",
    "\n",
    "\n",
    "def loadModel(modelName:str, inputShape:int = 8, edges_shape = 5, path = None):\n",
    "    \"\"\" \n",
    "    Function to import the model\n",
    "\n",
    "    Args:\n",
    "    -----\n",
    "        - `modelName`: name of the model\n",
    "        - `inputShape`: inout shape of the NN\n",
    "        - `edges_shape`: edge shape of the NN\n",
    "        - `path`: path where the models are\n",
    "    \"\"\"\n",
    "\n",
    "    sys.path.append(path)\n",
    "\n",
    "    loadFun = __import__(f'{modelName}', fromlist = ('loadNetwork'))\n",
    "\n",
    "    model = loadFun.loadNetwork(inputShape, edges_shape)\n",
    "\n",
    "    return model\n",
    "\n",
    "\n",
    "\n",
    "def getModelName(key):\n",
    "\n",
    "    name = ''\n",
    "\n",
    "    #if 'simplest' in key:\n",
    "    #    name = name + 'simplest'\n",
    "    \n",
    "    name = name + 'simplest'\n",
    "\n",
    "    ## other possibilities\n",
    "\n",
    "    if 'no-dropout' in key:\n",
    "        name = name + '_no-dropout'\n",
    "    else:\n",
    "        name = name + '_dropout'\n",
    "\n",
    "    if 'no-encoder' in key:\n",
    "        name = name + '_no-encoder'\n",
    "    else:\n",
    "        name = name + '_encoder'\n",
    "\n",
    "    if 'relu' in key:\n",
    "        name = name + '-relu'\n",
    "\n",
    "    return name"
   ]
  },
  {
   "cell_type": "code",
   "execution_count": 13,
   "metadata": {},
   "outputs": [],
   "source": [
    "def getData(params):\n",
    "    N = params.N\n",
    "    v0 = params.v0\n",
    "    k = params.k\n",
    "    eps = params.epsilon\n",
    "    tau = params.tau\n",
    "    R = params.R\n",
    "    dt = params.dt\n",
    "    nbStep = params.nbStep\n",
    "    boundary = params.boundary\n",
    "\n",
    "    lim = 0.85 * 100\n",
    "\n",
    "    xPos = np.linspace(-lim, lim, 10)\n",
    "    yPos = np.linspace(-lim, lim, 10)\n",
    "    gridX, gridY = np.meshgrid(xPos, yPos)\n",
    "    delta = np.random.uniform(0, 7, gridX.shape + (2,))\n",
    "\n",
    "    gridX2 = gridX + delta[:, :, 0]\n",
    "    gridY2 = gridY + delta[:, :, 1]\n",
    "\n",
    "    pos = np.stack([gridX.ravel(), gridY.ravel()], axis=1)\n",
    "    pos_perturbed = np.stack([gridX2.ravel(), gridY2.ravel()], axis=1)\n",
    "\n",
    "    pos = np.concatenate([pos, pos_perturbed], axis=0)\n",
    "\n",
    "    angles = np.random.rand(pos.shape[0]) * 2 * np.pi\n",
    "\n",
    "    data = sim.compute_main(N, (v0, tau, k, eps), boundary, T = nbStep, initialization = (pos, angles), dt = dt)[0]\n",
    "\n",
    "    x, y, attr, inds = ft.processSimulation(data)\n",
    "\n",
    "    dataList = []\n",
    "\n",
    "    for i in range(len(x)):\n",
    "        g = Data(x = x[i][:, 2:], y = y[i], edge_attr = attr[i], edge_index = inds[i])\n",
    "        dataList.append(g)\n",
    "\n",
    "    return data, dataList, x"
   ]
  },
  {
   "cell_type": "code",
   "execution_count": 36,
   "metadata": {},
   "outputs": [],
   "source": [
    "DEVICE = torch.device(\"cuda:0\" if torch.cuda.is_available() else \"cpu\")\n",
    "\n",
    "\n",
    "def simulate(modelList, T, tau = 8):\n",
    "    params = Parameters()\n",
    "    params.nbStep = T + tau\n",
    "\n",
    "    with torch.no_grad():\n",
    "        # get the data for the different models\n",
    "\n",
    "        for model_path in tqdm(modelList):\n",
    "\n",
    "            name_plot = getName(model_path)\n",
    "\n",
    "            model = loadModel(getModelName(name_plot), path=MODEL_PATH)\n",
    "            print(name_plot)\n",
    "            print(model_path)\n",
    "            print(getModelName(name_plot))\n",
    "            std_dict = torch.load(model_path)\n",
    "            model.load_state_dict(std_dict)\n",
    "            model = model.to(DEVICE)\n",
    "            model.eval()\n",
    "\n",
    "\n",
    "            path = os.path.join(DISPLAY_PATH[0], f'{name_plot}.mp4')\n",
    "\n",
    "\n",
    "            data, graphs, x = getData(params)\n",
    "\n",
    "            startState = graphs[tau].to(DEVICE)\n",
    "\n",
    "            \n",
    "\n",
    "            out = NNSim.genSim(model, T, startState, x[tau][:, :2], train = False)\n",
    "\n",
    "            return data, out\n",
    "\n",
    "\n",
    "            \n",
    "\n",
    "\n",
    "\n",
    "\n",
    "\n",
    "\n",
    "\n",
    "            "
   ]
  },
  {
   "cell_type": "code",
   "execution_count": 37,
   "metadata": {},
   "outputs": [
    {
     "name": "stderr",
     "output_type": "stream",
     "text": [
      "4it [00:00, 40.25it/s]\n"
     ]
    }
   ],
   "source": [
    "list_exp = ['/master/code/analyze_models/exps/exp-test']\n",
    "exp = list_exp[0]\n",
    "disp = DISPLAY_PATH[0]\n",
    "\n",
    "model_list = findModels(exp)"
   ]
  },
  {
   "cell_type": "code",
   "execution_count": 38,
   "metadata": {},
   "outputs": [
    {
     "name": "stdout",
     "output_type": "stream",
     "text": [
      "2\n"
     ]
    }
   ],
   "source": [
    "print(len(model_list))"
   ]
  },
  {
   "cell_type": "code",
   "execution_count": 52,
   "metadata": {},
   "outputs": [
    {
     "name": "stderr",
     "output_type": "stream",
     "text": [
      "  0%|          | 0/2 [00:00<?, ?it/s]"
     ]
    },
    {
     "name": "stdout",
     "output_type": "stream",
     "text": [
      ">>>> loading simplest\n",
      "INFO >>> with NO encoder\n",
      "INFO >>> with NO dropout\n",
      "master-thesis_normal_classic_dt-0.01_lr-0.001_batch-16_encoder-no-encoder_dropout-no-dropout-exp_best\n",
      "/master/code/analyze_models/exps/exp-test/test_new_activation/master-thesis_normal_classic_dt-0.01_lr-0.001_batch-16_encoder-no-encoder_dropout-no-dropout-exp/model_trained/simplest_no-dropout_no-encoder_aug_best_0-001-test.pt\n",
      "simplest_no-dropout_no-encoder\n",
      "v0:60, tau:3.5, k:70, epsilon:0.5\n"
     ]
    },
    {
     "name": "stderr",
     "output_type": "stream",
     "text": [
      "100%|██████████| 157/157 [00:04<00:00, 36.46it/s]\n",
      "100%|██████████| 150/150 [00:31<00:00,  4.77it/s]\n",
      "  0%|          | 0/2 [00:36<?, ?it/s]\n"
     ]
    }
   ],
   "source": [
    "data, out = simulate(model_list, T = 150, tau = 8)"
   ]
  },
  {
   "cell_type": "code",
   "execution_count": 53,
   "metadata": {},
   "outputs": [
    {
     "name": "stdout",
     "output_type": "stream",
     "text": [
      "(151, 200, 2)\n"
     ]
    }
   ],
   "source": [
    "print(data[7:].shape)"
   ]
  },
  {
   "cell_type": "code",
   "execution_count": 54,
   "metadata": {},
   "outputs": [
    {
     "name": "stdout",
     "output_type": "stream",
     "text": [
      "torch.Size([151, 200, 2])\n"
     ]
    }
   ],
   "source": [
    "print(out.shape)"
   ]
  },
  {
   "cell_type": "code",
   "execution_count": 55,
   "metadata": {},
   "outputs": [],
   "source": [
    "import display as disp"
   ]
  },
  {
   "cell_type": "code",
   "execution_count": 56,
   "metadata": {},
   "outputs": [],
   "source": [
    "path = os.path.join(DISPLAY_PATH[0], f'test.mp4')\n",
    "vidParams = disp.videoParameters(path)"
   ]
  },
  {
   "cell_type": "code",
   "execution_count": 57,
   "metadata": {},
   "outputs": [],
   "source": [
    "d_gt = torch.from_numpy(data[7:])\n",
    "d_repd = out"
   ]
  },
  {
   "cell_type": "code",
   "execution_count": 58,
   "metadata": {},
   "outputs": [],
   "source": [
    "\n",
    "disp.compareVideo(d_repd.clone(), d_gt.clone(), vidParams,bounds=((-140, 140), (-140, 140)))"
   ]
  },
  {
   "cell_type": "code",
   "execution_count": 50,
   "metadata": {},
   "outputs": [
    {
     "name": "stdout",
     "output_type": "stream",
     "text": [
      "/master/code/analyze_models/display/test/test.mp4\n"
     ]
    }
   ],
   "source": [
    "print(path)"
   ]
  },
  {
   "cell_type": "code",
   "execution_count": null,
   "metadata": {},
   "outputs": [],
   "source": []
  }
 ],
 "metadata": {
  "kernelspec": {
   "display_name": "Python 3 (ipykernel)",
   "language": "python",
   "name": "python3"
  },
  "language_info": {
   "codemirror_mode": {
    "name": "ipython",
    "version": 3
   },
   "file_extension": ".py",
   "mimetype": "text/x-python",
   "name": "python",
   "nbconvert_exporter": "python",
   "pygments_lexer": "ipython3",
   "version": "3.11.9"
  }
 },
 "nbformat": 4,
 "nbformat_minor": 2
}

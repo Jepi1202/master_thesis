{
 "cells": [
  {
   "cell_type": "code",
   "execution_count": 130,
   "metadata": {},
   "outputs": [],
   "source": [
    "import numpy as np\n",
    "import matplotlib.pyplot as plt\n",
    "from tqdm import tqdm\n",
    "import sys\n",
    "import os\n",
    "import re\n",
    "from tqdm import tqdm\n",
    "\n",
    "def path_link(path:str):\n",
    "    sys.path.append(path)\n",
    "\n",
    "path_link('/master/code/lib')\n",
    "\n",
    "import utils.stats as stats\n",
    "import utils.testing_gen as gen\n",
    "import utils.loading as load\n",
    "import utils.nn_gen as nn_gen\n",
    "from utils.tools import array2List"
   ]
  },
  {
   "cell_type": "code",
   "execution_count": 131,
   "metadata": {},
   "outputs": [],
   "source": [
    "### gen dat\n",
    "\n",
    "def getParams():\n",
    "    params = gen.Parameters_Simulation()  \n",
    "\n",
    "\n",
    "    params.dt = 0.001\n",
    "    params.v0 = 60\n",
    "    params.k = 70\n",
    "    params.epsilon = 0.5\n",
    "    params.tau = 3.5\n",
    "    params.R = 1\n",
    "    params.N = 200\n",
    "    params.boundary = 100\n",
    "    params.nbStep = 1000\n",
    "\n",
    "\n",
    "    params.noisy = 0        # function dans utils\n",
    "    params.features_x = 'delta'\n",
    "    params.features_edge = 'first'\n",
    "\n",
    "\n",
    "    return params"
   ]
  },
  {
   "cell_type": "code",
   "execution_count": 133,
   "metadata": {},
   "outputs": [],
   "source": [
    "NB_SIM = 1"
   ]
  },
  {
   "cell_type": "code",
   "execution_count": 134,
   "metadata": {},
   "outputs": [
    {
     "name": "stdout",
     "output_type": "stream",
     "text": [
      "v0:60, tau:3.5, k:70, epsilon:0.5\n"
     ]
    },
    {
     "name": "stderr",
     "output_type": "stream",
     "text": [
      "100%|██████████| 999/999 [00:11<00:00, 88.61it/s] \n"
     ]
    },
    {
     "name": "stdout",
     "output_type": "stream",
     "text": [
      "v0:60, tau:3.5, k:70, epsilon:0.5\n"
     ]
    },
    {
     "name": "stderr",
     "output_type": "stream",
     "text": [
      "100%|██████████| 999/999 [00:11<00:00, 86.17it/s] \n"
     ]
    }
   ],
   "source": [
    "params1 = getParams()\n",
    "\n",
    "params2 = getParams()\n",
    "params2.noisy = 1\n",
    "\n",
    "\n",
    "data_gt_1  = gen.get_mult_data(params1, NB_SIM)\n",
    "graphs_gt_1  = gen.sims2Graphs(data_gt_1, params1.features_x)\n",
    "data_gt_list_1 = array2List(data_gt_1)\n",
    "\n",
    "\n",
    "data_gt_2 = gen.get_mult_data(params2, NB_SIM)\n",
    "graphs_gt_2 = gen.sims2Graphs(data_gt_2, params2.features_x)\n",
    "data_gt_list_2 = array2List(data_gt_2)"
   ]
  },
  {
   "cell_type": "code",
   "execution_count": 171,
   "metadata": {},
   "outputs": [],
   "source": [
    "def rdf(sim, boundary = 120, nb_bins = 240, max_dist = 240):\n",
    "    \"\"\" \n",
    "    sim [T, N, 2]\n",
    "    \"\"\"\n",
    "    T, N, _ = sim.shape\n",
    "\n",
    "\n",
    "    r = np.linspace(0.001, max_dist, nb_bins)\n",
    "    dr = r[1] - r[0]\n",
    "\n",
    "    g_r = np.zeros_like(r)\n",
    "\n",
    "\n",
    "    for t in tqdm(range(T)):\n",
    "        for i in range(N):\n",
    "            for j in range(i+1, N):\n",
    "\n",
    "                dist = sim[t, i] - sim[t, j]\n",
    "                dist = np.linalg.norm(dist, axis = -1)\n",
    "\n",
    "                if dist < max_dist:\n",
    "                    index_dist = int(dist / dr)\n",
    "                    g_r[index_dist] += 2\n",
    "\n",
    "    #print(g_r)\n",
    "\n",
    "    rho = N / (2 * boundary) ** 2\n",
    "\n",
    "    #print(rho)\n",
    "\n",
    "    g_r = g_r / (2 * np.pi * r * dr * rho * T * N)\n",
    "\n",
    "    #print((2 * np.pi * r * dr * rho ))\n",
    "\n",
    "    return g_r, r\n",
    "\n",
    "# check it\n",
    "def rdf2(sim, boundary=120, nb_bins=720, max_dist=240):\n",
    "    \"\"\" \n",
    "    sim [T, N, 2]\n",
    "    \"\"\"\n",
    "    T, N, _ = sim.shape\n",
    "\n",
    "    r = np.linspace(0.001, max_dist, nb_bins)\n",
    "    dr = r[1] - r[0]\n",
    "    g_r = np.zeros_like(r)\n",
    "\n",
    "    for t in tqdm(range(T)):\n",
    "        for i in range(N):\n",
    "            # Vectorized computation of distances\n",
    "            dist_vec = sim[t, i] - sim[t, i+1:N]\n",
    "            dist = np.linalg.norm(dist_vec, axis=-1)\n",
    "\n",
    "            # Filter distances that are within the max_dist\n",
    "            valid_distances = dist[dist < max_dist]\n",
    "            \n",
    "            # Convert distances to bin indices\n",
    "            indices = (valid_distances / dr).astype(int)\n",
    "            \n",
    "            # Increment g_r based on indices\n",
    "            np.add.at(g_r, indices, 2)\n",
    "\n",
    "    # Density of particles\n",
    "    rho = N / (2 * boundary) ** 2\n",
    "\n",
    "    # Normalization of g_r\n",
    "    normalization_factor = 2 * np.pi * r * dr * rho * T * N\n",
    "    g_r /= normalization_factor\n",
    "\n",
    "    return g_r, r"
   ]
  },
  {
   "cell_type": "code",
   "execution_count": 172,
   "metadata": {},
   "outputs": [
    {
     "name": "stderr",
     "output_type": "stream",
     "text": [
      "100%|██████████| 1000/1000 [00:06<00:00, 159.57it/s]\n"
     ]
    }
   ],
   "source": [
    "for i in range(data_gt_1.shape[0]):\n",
    "    #res1 = rdf(data_gt_1[i])\n",
    "    res2 = rdf2(data_gt_1[i])\n",
    "\n"
   ]
  },
  {
   "cell_type": "code",
   "execution_count": 151,
   "metadata": {},
   "outputs": [
    {
     "name": "stdout",
     "output_type": "stream",
     "text": [
      "True\n"
     ]
    }
   ],
   "source": [
    "print(np.all(res1[0] == res2[0]))"
   ]
  },
  {
   "cell_type": "code",
   "execution_count": 152,
   "metadata": {},
   "outputs": [
    {
     "name": "stdout",
     "output_type": "stream",
     "text": [
      "True\n"
     ]
    }
   ],
   "source": [
    "print(np.all(res1[1] == res2[1]))"
   ]
  },
  {
   "cell_type": "code",
   "execution_count": 153,
   "metadata": {},
   "outputs": [
    {
     "name": "stdout",
     "output_type": "stream",
     "text": [
      "(100,)\n"
     ]
    }
   ],
   "source": [
    "print(res1[0].shape)"
   ]
  },
  {
   "cell_type": "code",
   "execution_count": 154,
   "metadata": {},
   "outputs": [
    {
     "data": {
      "image/png": "[encoded data removed]",
      "text/plain": [
       "<Figure size 640x480 with 1 Axes>"
      ]
     },
     "metadata": {},
     "output_type": "display_data"
    }
   ],
   "source": [
    "plt.plot(res1[1][1:], res1[0][1:])\n",
    "plt.plot(res2[1][1:], res2[0][1:])\n",
    "plt.show()"
   ]
  },
  {
   "cell_type": "code",
   "execution_count": 173,
   "metadata": {},
   "outputs": [
    {
     "data": {
      "text/plain": [
       "[<matplotlib.lines.Line2D at 0x7fb565017490>]"
      ]
     },
     "execution_count": 173,
     "metadata": {},
     "output_type": "execute_result"
    },
    {
     "data": {
      "image/png": "[encoded data removed]",
      "text/plain": [
       "<Figure size 640x480 with 1 Axes>"
      ]
     },
     "metadata": {},
     "output_type": "display_data"
    }
   ],
   "source": [
    "plt.plot(res2[1][:40], res2[0][:40])"
   ]
  },
  {
   "cell_type": "code",
   "execution_count": null,
   "metadata": {},
   "outputs": [],
   "source": []
  }
 ],
 "metadata": {
  "kernelspec": {
   "display_name": "Python 3 (ipykernel)",
   "language": "python",
   "name": "python3"
  },
  "language_info": {
   "codemirror_mode": {
    "name": "ipython",
    "version": 3
   },
   "file_extension": ".py",
   "mimetype": "text/x-python",
   "name": "python",
   "nbconvert_exporter": "python",
   "pygments_lexer": "ipython3",
   "version": "3.11.9"
  }
 },
 "nbformat": 4,
 "nbformat_minor": 2
}

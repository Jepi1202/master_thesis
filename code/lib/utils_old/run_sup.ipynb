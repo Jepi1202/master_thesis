{
 "cells": [
  {
   "cell_type": "code",
   "execution_count": 1,
   "metadata": {},
   "outputs": [],
   "source": [
    "import os"
   ]
  },
  {
   "cell_type": "code",
   "execution_count": 6,
   "metadata": {},
   "outputs": [],
   "source": [
    "def createFolders(cwd = None):\n",
    "    if cwd is None:\n",
    "        cwd = os.getcwd()\n",
    "        print(f'cwd >>> {cwd}')\n",
    "    p = os.path.join(cwd, 'docs')\n",
    "    os.makedirs(p)\n",
    "\n",
    "    # drop, enc, aug\n",
    "\n",
    "    for d in ['drop', 'no-drop']:\n",
    "        p_d = os.path.join(p, d)\n",
    "        os.makedirs(p_d)\n",
    "        for e in ['enc', 'no-enc']:\n",
    "            p_e = os.path.join(p_d, e)\n",
    "            os.makedirs(p_e)\n",
    "            for a in ['aug', 'no-aug']:\n",
    "                p_a = os.path.join(p_e, a)\n",
    "                os.makedirs(p_a)"
   ]
  },
  {
   "cell_type": "code",
   "execution_count": 8,
   "metadata": {},
   "outputs": [],
   "source": [
    "createFolders(cwd = '/master/code/lib/utils')"
   ]
  }
 ],
 "metadata": {
  "kernelspec": {
   "display_name": "Python 3 (ipykernel)",
   "language": "python",
   "name": "python3"
  }
 },
 "nbformat": 4,
 "nbformat_minor": 2
}

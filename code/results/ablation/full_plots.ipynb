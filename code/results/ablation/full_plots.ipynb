{
 "cells": [
  {
   "cell_type": "code",
   "execution_count": null,
   "metadata": {},
   "outputs": [],
   "source": [
    "import torch\n",
    "import numpy as np\n",
    "import matplotlib.pyplot as plt\n",
    "# Creating custom legend handles\n",
    "import matplotlib.lines as mlines\n",
    "import sys\n",
    "import os\n",
    "import re\n",
    "from tqdm import tqdm\n",
    "\n",
    "def path_link(path:str):\n",
    "    sys.path.append(path)\n",
    "\n",
    "path_link('/master/code/lib')\n",
    "\n",
    "import utils.stats as stats\n",
    "import utils.testing_gen as gen\n",
    "import utils.loading as load\n",
    "import utils.nn_gen as nn_gen\n",
    "from utils.tools import array2List"
   ]
  },
  {
   "cell_type": "code",
   "execution_count": null,
   "metadata": {},
   "outputs": [],
   "source": [
    "PATH_NORMAL = []\n",
    "PATH_NOISY = []\n",
    "NAMES = []\n",
    "COLORS = ['blue', 'red', 'green', 'orange']"
   ]
  },
  {
   "cell_type": "code",
   "execution_count": null,
   "metadata": {},
   "outputs": [],
   "source": [
    "class id():\n",
    "    def __init__(self):\n",
    "        self.nbLayer = None\n",
    "        self.dropout = None\n",
    "        self.layerNorm = None\n",
    "        self.path = None\n",
    "        self.loss = None\n",
    "        self.eval_loss = None\n",
    "        self.eval_sim_loss = None\n",
    "        self.data_type = None\n",
    "\n",
    "\n",
    "    def load_id(self, path:str):\n",
    "        try:\n",
    "            if 'noisy' in path:\n",
    "                self.data_type = 'noisy'\n",
    "\n",
    "            elif 'normal' in path:\n",
    "                self.data_type = 'normal'\n",
    "            \n",
    "            \n",
    "            self.path = path\n",
    "\n",
    "            self.loss = os.path.join(os.path.dirname(path), 'loss_list.npy')\n",
    "            self.eval_loss = os.path.join(os.path.dirname(path), 'eval_list.npy')\n",
    "            self.eval_sim_loss = os.path.join(os.path.dirname(path), 'eval_sim_list.npy')\n",
    "        except:\n",
    "            print(path)"
   ]
  },
  {
   "cell_type": "code",
   "execution_count": null,
   "metadata": {},
   "outputs": [],
   "source": [
    "res_normal = []\n",
    "res_noisy = []\n",
    "\n",
    "for path in PATH_NORMAL:\n",
    "    id_val = id()\n",
    "    res_normal.append(id_val.load_id(id_val))\n",
    "\n",
    "for path in PATH_NOISY:\n",
    "    id_val = id()\n",
    "    res_noisy.append(id_val.load_id(id_val))"
   ]
  },
  {
   "cell_type": "markdown",
   "metadata": {},
   "source": [
    "### Losses"
   ]
  },
  {
   "cell_type": "code",
   "execution_count": null,
   "metadata": {},
   "outputs": [],
   "source": [
    "for i, r in enumerate(res_normal):\n",
    "    v = np.load(r.loss)\n",
    "    plt.loglog(v, color = COLORS[i])\n",
    "\n",
    "plt.minorticks_on()\n",
    "plt.grid(which='both', linestyle='--', linewidth=0.5)\n",
    "plt.xlabel('Optimization steps')\n",
    "plt.ylabel('Training Loss')\n",
    "plt.show()"
   ]
  },
  {
   "cell_type": "code",
   "execution_count": null,
   "metadata": {},
   "outputs": [],
   "source": [
    "for i, r in enumerate(res_normal):\n",
    "    v = np.load(r.eval_loss)\n",
    "    plt.loglog(v, color = COLORS[i])\n",
    "\n",
    "plt.minorticks_on()\n",
    "plt.grid(which='both', linestyle='--', linewidth=0.5)\n",
    "plt.xlabel('Optimization steps')\n",
    "plt.ylabel('Training Loss')\n",
    "plt.show()"
   ]
  },
  {
   "cell_type": "code",
   "execution_count": null,
   "metadata": {},
   "outputs": [],
   "source": [
    "for i, r in enumerate(res_normal):\n",
    "    v = np.load(r.eval_sim_loss)\n",
    "    plt.loglog(v, color = COLORS[i])\n",
    "\n",
    "plt.minorticks_on()\n",
    "plt.grid(which='both', linestyle='--', linewidth=0.5)\n",
    "plt.xlabel('Optimization steps')\n",
    "plt.ylabel('Training Loss')\n",
    "plt.show()"
   ]
  }
 ],
 "metadata": {
  "language_info": {
   "name": "python"
  }
 },
 "nbformat": 4,
 "nbformat_minor": 2
}

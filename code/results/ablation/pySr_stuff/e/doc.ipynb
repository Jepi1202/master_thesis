{
 "cells": [
  {
   "cell_type": "code",
   "execution_count": null,
   "metadata": {},
   "outputs": [],
   "source": [
    "from pysr import PySRRegressor\n",
    "#import simpy as sp\n",
    "import os\n",
    "import yaml\n",
    "import numpy as np\n",
    "\n",
    "import json\n",
    "\n",
    "\n",
    "#PATH = '/home/jpierre/v2/pySr/data/mod1/data.json'\n",
    "#PATH_CFG = '/master/code/experimental/pysr/cfg_pysr'\n",
    "PATH = '/home/jpierre/v2/pySr/data/normal/normal_action-None_dropout0_l1-0-lim0.json'\n",
    "\n",
    "NB_RUN = 1000\n",
    "BINARY_OP = [\"+\", \"*\", 'cond']\n",
    "UNARY_OP = [\"inv(x) = 1/x\"]\n",
    "VARIABLES = ['v_x_0', 'v_y_0', 'v_x_1', 'v_y_1', 'v_x_2', 'v_y_2', 'v_x_3', 'v_y_3', 'd', 'delta_x', 'delta_y', 'r_i', 'r_j']\n",
    "MAX_SIZE = 13\n",
    "PARSIMONY = 0.0000032\n",
    "\n",
    "\n",
    "\n",
    "def readJson(filePath:str):\n",
    "    \"\"\"\n",
    "    Function to read json \n",
    "    \"\"\"\n",
    "    \n",
    "    with open(filePath, 'r') as f:\n",
    "        data = json.load(f)\n",
    "    return data\n",
    "\n",
    "\n",
    "def writeJson(data, filePath):\n",
    "    \"\"\"\n",
    "    Function to write json \n",
    "    \"\"\"\n",
    "    with open(filePath, 'w') as f:\n",
    "        json.dump(data, f, indent=2)\n",
    "\n",
    "\n",
    "def getData(jsonPath = PATH):\n",
    "    # for now\n",
    "\n",
    "\n",
    "    messages = np.array(readJson(jsonPath)['messages'])\n",
    "    edges = np.array(readJson(jsonPath)['edges'])[:, :3]\n",
    "\n",
    "    return edges, messages\n",
    "\n",
    "\n",
    "\n",
    "def getPySrModel(nbRun = NB_RUN, binaryOp = BINARY_OP, unaryOp = UNARY_OP, maxsize = MAX_SIZE):\n",
    "\n",
    "    model = PySRRegressor(\n",
    "        niterations=nbRun,\n",
    "        binary_operators=binaryOp,\n",
    "        #unary_operators= [\"inv(x) = 1/x\",],\n",
    "        #populations=15,\n",
    "        model_selection = \"best\",\n",
    "        maxsize = maxsize,\n",
    "        #complexity_of_variables = 2,\n",
    "        #parsimony = PARSIMONY,\n",
    "        #nested_constraints = {\"cond\": {\"*\":0}},\n",
    "        #adaptive_parsimony_scaling = 1000,\n",
    "        #ncycles_per_iteration = 1000,\n",
    "        #turbo = True,\n",
    "        #extra_sympy_mappings = {\"inv\": lambda x: 1 / x}\n",
    "        elementwise_loss = 'L1DistLoss()',\n",
    "        weight_optimize = 0.001\n",
    "    )\n",
    "\n",
    "    return model\n",
    "\n",
    "\n",
    "def fittingModel(model, X, y, verbose:bool = False, variables = VARIABLES):\n",
    "\n",
    "    if verbose:\n",
    "        print(\">>>>> Fitting pySr\")\n",
    "\n",
    "\n",
    "    # Fit model\n",
    "    model.fit(X, y, \n",
    "    variable_names = variables,\n",
    "    # X_units = [\"\"],\n",
    "    # y_units = \"\",\n",
    "    complexity_of_variables = [1, 3, 3]\n",
    "    )\n",
    "\n",
    "\n",
    "    return model"
   ]
  },
  {
   "cell_type": "code",
   "execution_count": null,
   "metadata": {},
   "outputs": [],
   "source": [
    "X, Y = getData()"
   ]
  },
  {
   "cell_type": "code",
   "execution_count": null,
   "metadata": {},
   "outputs": [],
   "source": [
    "print(X.shape)\n",
    "print(Y.shape)\n",
    "\n",
    "print(np.min(X[:, 0]))\n",
    "print(np.max(X[:, 0]))"
   ]
  },
  {
   "cell_type": "code",
   "execution_count": null,
   "metadata": {},
   "outputs": [],
   "source": [
    "pyReg = getPySrModel()\n",
    "\n",
    "mod = fittingModel(pyReg, X, Y, variables=[' r ', ' cosine ', ' sine '])"
   ]
  },
  {
   "cell_type": "code",
   "execution_count": null,
   "metadata": {},
   "outputs": [],
   "source": [
    "print(mod.latex_table(indices=None, precision=3, columns=['equation', 'complexity', 'loss', 'score']))"
   ]
  },
  {
   "cell_type": "code",
   "execution_count": null,
   "metadata": {},
   "outputs": [],
   "source": [
    "print(mod.sympy())"
   ]
  }
 ],
 "metadata": {
  "language_info": {
   "name": "python"
  }
 },
 "nbformat": 4,
 "nbformat_minor": 2
}

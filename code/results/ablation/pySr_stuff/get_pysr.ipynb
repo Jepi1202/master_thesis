{
 "cells": [
  {
   "cell_type": "code",
   "execution_count": 20,
   "metadata": {},
   "outputs": [],
   "source": [
    "import torch\n",
    "import numpy as np\n",
    "import matplotlib.pyplot as plt\n",
    "# Creating custom legend handles\n",
    "import matplotlib.lines as mlines\n",
    "import sys\n",
    "import os\n",
    "import re\n",
    "from tqdm import tqdm\n",
    "\n",
    "def path_link(path:str):\n",
    "    sys.path.append(path)\n",
    "\n",
    "path_link('/master/code/lib')\n",
    "\n",
    "import utils.stats as stats\n",
    "import utils.testing_gen as gen\n",
    "import utils.loading as load\n",
    "import utils.nn_gen as nn_gen\n",
    "from utils.tools import array2List, writeJson\n",
    "\n",
    "from sklearn.linear_model import LinearRegression\n",
    "from sklearn.metrics import r2_score"
   ]
  },
  {
   "cell_type": "code",
   "execution_count": 21,
   "metadata": {},
   "outputs": [],
   "source": [
    "#PATH = ['/master/code/last/finished_exps/simplest']\n",
    "PATH = ['/master/code/results/models/noisy/0-001/delta']\n",
    "\n",
    "PATH_DISPLAY = '/master/code/results/ablation/pySr_stuff'"
   ]
  },
  {
   "cell_type": "code",
   "execution_count": 22,
   "metadata": {},
   "outputs": [],
   "source": [
    "class id():\n",
    "    def __init__(self):\n",
    "        self.dropout = None\n",
    "        self.l1 = None\n",
    "        self.path = None\n",
    "        self.loss = None\n",
    "        self.eval_loss = None\n",
    "        self.eval_sim_loss = None\n",
    "        self.data_type = None\n",
    "        self.action_r = None\n",
    "        self.cfg = None\n",
    "\n",
    "\n",
    "    def load_id(self, path:str):\n",
    "        try:\n",
    "            if 'scaleL1' in path:\n",
    "                nb_layer_match = re.search(r'scaleL1-(\\d+\\.\\d+|\\d+)', path)\n",
    "                self.l1 = float(nb_layer_match.group(1))\n",
    "\n",
    "\n",
    "            if 'l1' in path:\n",
    "                nb_layer_match = re.search(r'l1-(\\d+\\.\\d+|\\d+)', path)\n",
    "                self.l1 = float(nb_layer_match.group(1))\n",
    "\n",
    "            if 'dropout' in path:\n",
    "                try:\n",
    "                    dropout_match = re.search(r'dropout-(\\d+)', path)\n",
    "                    self.dropout = int(dropout_match.group(1))\n",
    "                except:\n",
    "                    self.dropout = 0\n",
    "\n",
    "\n",
    "\n",
    "\n",
    "\n",
    "            if 'action' in path:\n",
    "                self.action_r = 1\n",
    "            else:\n",
    "                0\n",
    "\n",
    "\n",
    "\n",
    "\n",
    "            \n",
    "\n",
    "            if 'noisy' in path:\n",
    "                self.data_type = 'noisy'\n",
    "\n",
    "            elif 'normal' in path:\n",
    "                self.data_type = 'normal'\n",
    "            \n",
    "            \n",
    "            self.path = path\n",
    "\n",
    "            self.loss = os.path.join(os.path.dirname(path), 'loss_list.npy')\n",
    "            self.eval_loss = os.path.join(os.path.dirname(path), 'eval_list.npy')\n",
    "            self.eval_sim_loss = os.path.join(os.path.dirname(path), 'eval_sim_list.npy')\n",
    "            self.cfg = os.path.join(os.path.dirname(os.path.dirname(path)), 'cfg.yml')\n",
    "\n",
    "        except:\n",
    "            print(path)\n",
    "\n",
    "    def label(self):\n",
    "        return f'{self.data_type}_action-{self.action_r}_dropout{self.dropout}_l1-{self.l1}'"
   ]
  },
  {
   "cell_type": "code",
   "execution_count": 23,
   "metadata": {},
   "outputs": [],
   "source": [
    "def get_path_models(path):\n",
    "\n",
    "    res = []\n",
    "\n",
    "    for root, dirs, files in os.walk(path):\n",
    "        for file in files:\n",
    "            if file.endswith('best.pt'):\n",
    "                id_model = id()\n",
    "                id_model.load_id(os.path.join(root, file))\n",
    "\n",
    "                res.append(id_model)\n",
    "\n",
    "\n",
    "    return res"
   ]
  },
  {
   "cell_type": "code",
   "execution_count": 24,
   "metadata": {},
   "outputs": [],
   "source": [
    "def get_path_mdoels(ids_list, path_display_base):\n",
    "\n",
    "    model_list = []\n",
    "    path_display_list = []\n",
    "    cfg_list = []\n",
    "\n",
    "    for id in ids_list:\n",
    "        path = id.path\n",
    "        name = id.label()\n",
    "        config = id.cfg\n",
    "\n",
    "\n",
    "        model_list.append(path)\n",
    "        path_display_list.append(os.path.join(path_display_base, name))\n",
    "        cfg_list.append(config)\n",
    "\n",
    "    return model_list, path_display_list, cfg_list\n",
    "        "
   ]
  },
  {
   "cell_type": "code",
   "execution_count": 25,
   "metadata": {},
   "outputs": [
    {
     "name": "stdout",
     "output_type": "stream",
     "text": [
      "/master/code/results/models/noisy/0-001/delta/mt_noisy_dType-delta_dt-0.001_lr-0.001_l1-0.0001_batch-32_end/model_trained/simplest_no-dropout_no-encoder_best.pt >>> {'dropout': 0, 'l1': 0.0001, 'path': '/master/code/results/models/noisy/0-001/delta/mt_noisy_dType-delta_dt-0.001_lr-0.001_l1-0.0001_batch-32_end/model_trained/simplest_no-dropout_no-encoder_best.pt', 'loss': '/master/code/results/models/noisy/0-001/delta/mt_noisy_dType-delta_dt-0.001_lr-0.001_l1-0.0001_batch-32_end/model_trained/loss_list.npy', 'eval_loss': '/master/code/results/models/noisy/0-001/delta/mt_noisy_dType-delta_dt-0.001_lr-0.001_l1-0.0001_batch-32_end/model_trained/eval_list.npy', 'eval_sim_loss': '/master/code/results/models/noisy/0-001/delta/mt_noisy_dType-delta_dt-0.001_lr-0.001_l1-0.0001_batch-32_end/model_trained/eval_sim_list.npy', 'data_type': 'noisy', 'action_r': None, 'cfg': '/master/code/results/models/noisy/0-001/delta/mt_noisy_dType-delta_dt-0.001_lr-0.001_l1-0.0001_batch-32_end/cfg.yml'}\n",
      "/master/code/results/models/noisy/0-001/delta/mt_noisy_dType-delta_dt-0.001_lr-0.001_l1-0.001_batch-32_end/model_trained/simplest_no-dropout_no-encoder_best.pt >>> {'dropout': 0, 'l1': 0.001, 'path': '/master/code/results/models/noisy/0-001/delta/mt_noisy_dType-delta_dt-0.001_lr-0.001_l1-0.001_batch-32_end/model_trained/simplest_no-dropout_no-encoder_best.pt', 'loss': '/master/code/results/models/noisy/0-001/delta/mt_noisy_dType-delta_dt-0.001_lr-0.001_l1-0.001_batch-32_end/model_trained/loss_list.npy', 'eval_loss': '/master/code/results/models/noisy/0-001/delta/mt_noisy_dType-delta_dt-0.001_lr-0.001_l1-0.001_batch-32_end/model_trained/eval_list.npy', 'eval_sim_loss': '/master/code/results/models/noisy/0-001/delta/mt_noisy_dType-delta_dt-0.001_lr-0.001_l1-0.001_batch-32_end/model_trained/eval_sim_list.npy', 'data_type': 'noisy', 'action_r': None, 'cfg': '/master/code/results/models/noisy/0-001/delta/mt_noisy_dType-delta_dt-0.001_lr-0.001_l1-0.001_batch-32_end/cfg.yml'}\n",
      "/master/code/results/models/noisy/0-001/delta/mt_noisy_dType-delta_dt-0.001_lr-0.001_l1-0.01_batch-32_end/model_trained/simplest_no-dropout_no-encoder_best.pt >>> {'dropout': 0, 'l1': 0.01, 'path': '/master/code/results/models/noisy/0-001/delta/mt_noisy_dType-delta_dt-0.001_lr-0.001_l1-0.01_batch-32_end/model_trained/simplest_no-dropout_no-encoder_best.pt', 'loss': '/master/code/results/models/noisy/0-001/delta/mt_noisy_dType-delta_dt-0.001_lr-0.001_l1-0.01_batch-32_end/model_trained/loss_list.npy', 'eval_loss': '/master/code/results/models/noisy/0-001/delta/mt_noisy_dType-delta_dt-0.001_lr-0.001_l1-0.01_batch-32_end/model_trained/eval_list.npy', 'eval_sim_loss': '/master/code/results/models/noisy/0-001/delta/mt_noisy_dType-delta_dt-0.001_lr-0.001_l1-0.01_batch-32_end/model_trained/eval_sim_list.npy', 'data_type': 'noisy', 'action_r': None, 'cfg': '/master/code/results/models/noisy/0-001/delta/mt_noisy_dType-delta_dt-0.001_lr-0.001_l1-0.01_batch-32_end/cfg.yml'}\n",
      "/master/code/results/models/noisy/0-001/delta/mt_noisy_dType-delta_dt-0.001_lr-0.001_l1-1e-05_batch-32_end/model_trained/simplest_no-dropout_no-encoder_best.pt >>> {'dropout': 0, 'l1': 1.0, 'path': '/master/code/results/models/noisy/0-001/delta/mt_noisy_dType-delta_dt-0.001_lr-0.001_l1-1e-05_batch-32_end/model_trained/simplest_no-dropout_no-encoder_best.pt', 'loss': '/master/code/results/models/noisy/0-001/delta/mt_noisy_dType-delta_dt-0.001_lr-0.001_l1-1e-05_batch-32_end/model_trained/loss_list.npy', 'eval_loss': '/master/code/results/models/noisy/0-001/delta/mt_noisy_dType-delta_dt-0.001_lr-0.001_l1-1e-05_batch-32_end/model_trained/eval_list.npy', 'eval_sim_loss': '/master/code/results/models/noisy/0-001/delta/mt_noisy_dType-delta_dt-0.001_lr-0.001_l1-1e-05_batch-32_end/model_trained/eval_sim_list.npy', 'data_type': 'noisy', 'action_r': None, 'cfg': '/master/code/results/models/noisy/0-001/delta/mt_noisy_dType-delta_dt-0.001_lr-0.001_l1-1e-05_batch-32_end/cfg.yml'}\n"
     ]
    }
   ],
   "source": [
    "res = []\n",
    "\n",
    "for path in PATH:\n",
    "    res.extend(get_path_models(path))\n",
    "\n",
    "\n",
    "for r in res:\n",
    "    print(f'{r.path} >>> {r.__dict__}')\n",
    "\n",
    "\n",
    "models_list, paths_list, cfg_list = get_path_mdoels(res, PATH_DISPLAY)"
   ]
  },
  {
   "cell_type": "markdown",
   "metadata": {},
   "source": [
    "# ========================"
   ]
  },
  {
   "cell_type": "markdown",
   "metadata": {},
   "source": [
    "generate some data"
   ]
  },
  {
   "cell_type": "code",
   "execution_count": 26,
   "metadata": {},
   "outputs": [],
   "source": [
    "def getParams():\n",
    "    params = gen.Parameters_Simulation()  \n",
    "\n",
    "\n",
    "    params.dt = 0.001\n",
    "    params.v0 = 60\n",
    "    params.k = 70\n",
    "    params.epsilon = 0.5\n",
    "    params.tau = 3.5\n",
    "    params.R = 1\n",
    "    params.N = 200\n",
    "    params.boundary = 100\n",
    "    params.nbStep = 300\n",
    "\n",
    "\n",
    "    params.noisy = 1        # function dans utils\n",
    "    params.features_x = 'delta'\n",
    "    params.features_edge = 'first'\n",
    "\n",
    "\n",
    "    return params"
   ]
  },
  {
   "cell_type": "code",
   "execution_count": 27,
   "metadata": {},
   "outputs": [
    {
     "name": "stdout",
     "output_type": "stream",
     "text": [
      "1\n",
      "v0:60, tau:3.5, k:70, epsilon:0.5\n",
      "0.14285714285714285\n",
      "1\n"
     ]
    },
    {
     "name": "stderr",
     "output_type": "stream",
     "text": [
      "100%|██████████| 299/299 [00:02<00:00, 104.64it/s]\n"
     ]
    },
    {
     "name": "stdout",
     "output_type": "stream",
     "text": [
      "1\n",
      "v0:60, tau:3.5, k:70, epsilon:0.5\n",
      "0.14285714285714285\n",
      "1\n"
     ]
    },
    {
     "name": "stderr",
     "output_type": "stream",
     "text": [
      "100%|██████████| 299/299 [00:02<00:00, 109.88it/s]\n"
     ]
    }
   ],
   "source": [
    "NB_SIM = 2\n",
    "\n",
    "params = getParams()                # adapt ...\n",
    "data_gt = gen.get_mult_data(params, NB_SIM)\n",
    "graphs_gt = gen.sims2Graphs(data_gt, params.features_x)"
   ]
  },
  {
   "cell_type": "markdown",
   "metadata": {},
   "source": [
    "# =============="
   ]
  },
  {
   "cell_type": "markdown",
   "metadata": {},
   "source": [
    "Create folder, get messages, \n",
    "- plot the messages, \n",
    "- the bar plot of the most used message features and \n",
    "- the scatter plot of the interaction intensity wrt most significant message"
   ]
  },
  {
   "cell_type": "code",
   "execution_count": 28,
   "metadata": {},
   "outputs": [],
   "source": [
    "#MODEL_PATH = '/master/code/last/models'\n",
    "MODEL_PATH = '/master/code/models'\n",
    "\n",
    "#MODEL = 'baseline'\n",
    "#MODEL = 'simplest'\n",
    "MODEL = 'simplest_no-dropout_no-encoder'\n",
    "DEVICE = torch.device(\"cuda\" if torch.cuda.is_available() else 'cpu')\n",
    "import yaml\n",
    "from utils.pysr_help import getPrediction, getEdges, getGroundTruth"
   ]
  },
  {
   "cell_type": "code",
   "execution_count": 29,
   "metadata": {},
   "outputs": [],
   "source": [
    "def loadModel(modelName:str, d, path = MODEL_PATH):\n",
    "    \"\"\" \n",
    "    Function to import the model\n",
    "\n",
    "    Args:\n",
    "    -----\n",
    "        - `modelName`: name of the model\n",
    "        - `inputShape`: inout shape of the NN\n",
    "        - `edges_shape`: edge shape of the NN\n",
    "        - `path`: path where the models are\n",
    "    \"\"\"\n",
    "\n",
    "    sys.path.append(path)\n",
    "\n",
    "    loadFun = __import__(f'{modelName}', fromlist = ('loadNetwork'))\n",
    "\n",
    "    #model = loadFun.loadNetwork(inputShape, edges_shape)\n",
    "    model = loadFun.loadNetwork(d)\n",
    "\n",
    "    return model\n",
    "\n",
    "\n",
    "def getModel(cfg, std_path, device = DEVICE, model_path = MODEL_PATH):\n",
    "\n",
    "    with open(cfg, 'r') as file:\n",
    "        cfg = yaml.safe_load(file) \n",
    "\n",
    "    trainingInfos = cfg['training']\n",
    "\n",
    "    try:\n",
    "        d_model = trainingInfos['cfg_mod'][f'{trainingInfos[\"cfg_mod\"][\"model_name\"]}']\n",
    "    except:\n",
    "        d_model = None\n",
    "        print('Exception d_model')\n",
    "\n",
    "    model = loadModel(MODEL, d_model, model_path)\n",
    "\n",
    "\n",
    "\n",
    "    state_dict = torch.load(std_path, map_location = 'cpu')\n",
    "\n",
    "    model.load_state_dict(state_dict)\n",
    "\n",
    "    model.eval()\n",
    "\n",
    "    model = model.to(device)\n",
    "\n",
    "    return model\n",
    "\n",
    "    "
   ]
  },
  {
   "cell_type": "code",
   "execution_count": 30,
   "metadata": {},
   "outputs": [],
   "source": [
    "def get_message(model, attr):\n",
    "    model.eval()\n",
    "    with torch.no_grad():\n",
    "        v = model.GNN.message(None, None, attr).cpu().detach().numpy()\n",
    "    return v"
   ]
  },
  {
   "cell_type": "code",
   "execution_count": 31,
   "metadata": {},
   "outputs": [],
   "source": [
    "def plotStdMessage(messages, path):\n",
    "\n",
    "    std = np.std(messages, axis = 0)\n",
    "\n",
    "    plt.bar(np.arange(std.shape[0]), std, color = 'blue')\n",
    "    \n",
    "    plt.ylabel('Std of the messages')\n",
    "    plt.xlabel('Features of the messages')\n",
    "    plt.xticks(rotation=90)\n",
    "    plt.ylim([np.min(std) - 0.001, np.max(std) + 0.001])\n",
    "    plt.tight_layout()\n",
    "    plt.savefig(path)\n",
    "\n",
    "    return std"
   ]
  },
  {
   "cell_type": "code",
   "execution_count": 32,
   "metadata": {},
   "outputs": [],
   "source": [
    "def plot_scatter_messages(messages, data, path, nb_messages = 5):\n",
    "    edges = getEdges(data)\n",
    "\n",
    "    std_messages = np.std(messages, axis = 0)\n",
    "    inds = np.argsort(std_messages)\n",
    "    inds = np.flip(inds[-nb_messages:])\n",
    "\n",
    "    names = ['Distance', 'Cosine', 'Sine', 'Radius 1', 'Radius 2']\n",
    "\n",
    "    for i in range(edges.shape[1]):\n",
    "        path_scatter = os.path.join(path, names[i])\n",
    "\n",
    "        print(path_scatter)\n",
    "        if not os.path.exists(path_scatter):\n",
    "            os.makedirs(path_scatter)\n",
    "\n",
    "        for j in range(len(inds)):\n",
    "            indice_j = inds[j]\n",
    "\n",
    "            plt.scatter(edges[:, i], messages[:, indice_j])\n",
    "            plt.xlabel(names[i])\n",
    "            plt.ylabel('Message')\n",
    "            plt.savefig(os.path.join(path_scatter, f'{names[i]}-{j}.png'))\n",
    "            plt.close()"
   ]
  },
  {
   "cell_type": "code",
   "execution_count": 33,
   "metadata": {},
   "outputs": [],
   "source": [
    "def plot_scatter_intens(graphs_gt, messages, path, nb_messages = 5, k=70, epsilon = 0.5):\n",
    "\n",
    "    std_messages = np.std(messages, axis = 0)\n",
    "    inds = np.argsort(std_messages)\n",
    "    inds = np.flip(inds[-nb_messages:])\n",
    "\n",
    "    interact_norm = getGroundTruth(graphs_gt, k=70, epsilon = 0.5)\n",
    "\n",
    "    for i in range(nb_messages):\n",
    "        path_scat = os.path.join(path, f'nb-{i} - x.png')\n",
    "        index_message = inds[i]\n",
    "\n",
    "        \n",
    "        plt.scatter(messages[:, index_message], interact_norm[:, 0], alpha=0.4, zorder = 2)\n",
    "        plt.xlabel('Message')\n",
    "        plt.ylabel('Interaction - x')\n",
    "        plt.grid(zorder = 1)\n",
    "        plt.savefig(path_scat)\n",
    "        plt.close()\n",
    "\n",
    "\n",
    "        path_scat = os.path.join(path, f'nb-{i} - y.png')\n",
    "\n",
    "        \n",
    "        plt.scatter(messages[:, index_message], interact_norm[:, 1], alpha=0.4, zorder = 2)\n",
    "        plt.xlabel('Message')\n",
    "        plt.ylabel('Interaction - y')\n",
    "        plt.grid(zorder = 1)\n",
    "        plt.savefig(path_scat)\n",
    "        plt.close()\n",
    "        \n"
   ]
  },
  {
   "cell_type": "code",
   "execution_count": 34,
   "metadata": {},
   "outputs": [
    {
     "name": "stdout",
     "output_type": "stream",
     "text": [
      "simplest_no-dropout_no-encoder\n"
     ]
    }
   ],
   "source": [
    "print(MODEL)"
   ]
  },
  {
   "cell_type": "code",
   "execution_count": 35,
   "metadata": {},
   "outputs": [],
   "source": [
    "def get_linear_predictions(X, Y):\n",
    "\n",
    "    resMod = []\n",
    "    pred = []\n",
    "    for i in range(Y.shape[1]):\n",
    "        model = LinearRegression()\n",
    "        model.fit(X, Y[:, i])\n",
    "\n",
    "        y_pred = model.predict(X)\n",
    "\n",
    "        pred.append(y_pred)\n",
    "        resMod.append(model)\n",
    "\n",
    "\n",
    "    return resMod, np.column_stack(pred)\n",
    "\n",
    "def get_R2_score(messages, graphs_gt, nb_messages = 2):\n",
    "    std_messages = np.std(messages, axis = 0)\n",
    "    inds = np.argsort(std_messages)\n",
    "    inds = np.flip(inds[-nb_messages:])\n",
    "\n",
    "    model = LinearRegression()\n",
    "\n",
    "    messages_2 = messages[:, inds]\n",
    "\n",
    "    interact_norm = getGroundTruth(graphs_gt, k=70, epsilon = 0.5)\n",
    "\n",
    "    model = model.fit(messages_2, interact_norm)\n",
    "\n",
    "    score = r2_score(interact_norm, model.predict(messages_2))\n",
    "\n",
    "    return score\n",
    "\n",
    "\n",
    "    "
   ]
  },
  {
   "cell_type": "code",
   "execution_count": 36,
   "metadata": {},
   "outputs": [
    {
     "name": "stderr",
     "output_type": "stream",
     "text": [
      "  0%|          | 0/4 [00:00<?, ?it/s]"
     ]
    },
    {
     "name": "stdout",
     "output_type": "stream",
     "text": [
      "Exception d_model\n",
      ">>>> loading simplest\n",
      "INFO >>> with NO encoder\n",
      "INFO >>> with NO dropout\n",
      "/master/code/results/ablation/pySr_stuff/noisy_action-None_dropout0_l1-0.0001/features/Distance\n",
      "/master/code/results/ablation/pySr_stuff/noisy_action-None_dropout0_l1-0.0001/features/Cosine\n",
      "/master/code/results/ablation/pySr_stuff/noisy_action-None_dropout0_l1-0.0001/features/Sine\n",
      "/master/code/results/ablation/pySr_stuff/noisy_action-None_dropout0_l1-0.0001/features/Radius 1\n",
      "/master/code/results/ablation/pySr_stuff/noisy_action-None_dropout0_l1-0.0001/features/Radius 2\n"
     ]
    },
    {
     "name": "stderr",
     "output_type": "stream",
     "text": [
      " 25%|██▌       | 1/4 [00:25<01:17, 25.88s/it]"
     ]
    },
    {
     "name": "stdout",
     "output_type": "stream",
     "text": [
      "Exception d_model\n",
      ">>>> loading simplest\n",
      "INFO >>> with NO encoder\n",
      "INFO >>> with NO dropout\n",
      "/master/code/results/ablation/pySr_stuff/noisy_action-None_dropout0_l1-0.001/features/Distance\n",
      "/master/code/results/ablation/pySr_stuff/noisy_action-None_dropout0_l1-0.001/features/Cosine\n",
      "/master/code/results/ablation/pySr_stuff/noisy_action-None_dropout0_l1-0.001/features/Sine\n",
      "/master/code/results/ablation/pySr_stuff/noisy_action-None_dropout0_l1-0.001/features/Radius 1\n",
      "/master/code/results/ablation/pySr_stuff/noisy_action-None_dropout0_l1-0.001/features/Radius 2\n"
     ]
    },
    {
     "name": "stderr",
     "output_type": "stream",
     "text": [
      " 50%|█████     | 2/4 [00:53<00:54, 27.13s/it]"
     ]
    },
    {
     "name": "stdout",
     "output_type": "stream",
     "text": [
      "Exception d_model\n",
      ">>>> loading simplest\n",
      "INFO >>> with NO encoder\n",
      "INFO >>> with NO dropout\n",
      "/master/code/results/ablation/pySr_stuff/noisy_action-None_dropout0_l1-0.01/features/Distance\n",
      "/master/code/results/ablation/pySr_stuff/noisy_action-None_dropout0_l1-0.01/features/Cosine\n",
      "/master/code/results/ablation/pySr_stuff/noisy_action-None_dropout0_l1-0.01/features/Sine\n",
      "/master/code/results/ablation/pySr_stuff/noisy_action-None_dropout0_l1-0.01/features/Radius 1\n",
      "/master/code/results/ablation/pySr_stuff/noisy_action-None_dropout0_l1-0.01/features/Radius 2\n"
     ]
    },
    {
     "name": "stderr",
     "output_type": "stream",
     "text": [
      " 75%|███████▌  | 3/4 [01:17<00:25, 25.41s/it]"
     ]
    },
    {
     "name": "stdout",
     "output_type": "stream",
     "text": [
      "Exception d_model\n",
      ">>>> loading simplest\n",
      "INFO >>> with NO encoder\n",
      "INFO >>> with NO dropout\n",
      "/master/code/results/ablation/pySr_stuff/noisy_action-None_dropout0_l1-1.0/features/Distance\n",
      "/master/code/results/ablation/pySr_stuff/noisy_action-None_dropout0_l1-1.0/features/Cosine\n",
      "/master/code/results/ablation/pySr_stuff/noisy_action-None_dropout0_l1-1.0/features/Sine\n",
      "/master/code/results/ablation/pySr_stuff/noisy_action-None_dropout0_l1-1.0/features/Radius 1\n",
      "/master/code/results/ablation/pySr_stuff/noisy_action-None_dropout0_l1-1.0/features/Radius 2\n"
     ]
    },
    {
     "name": "stderr",
     "output_type": "stream",
     "text": [
      "100%|██████████| 4/4 [01:39<00:00, 24.95s/it]\n"
     ]
    }
   ],
   "source": [
    "for i in tqdm(range(len(models_list))):\n",
    "\n",
    "    model_st_dict = models_list[i]\n",
    "    cfg = cfg_list[i]\n",
    "    path = paths_list[i]\n",
    "\n",
    "    model = getModel(cfg, model_st_dict)\n",
    "\n",
    "    mdoel = model.to('cpu')\n",
    "    \n",
    "    messages = getPrediction(model, graphs_gt)\n",
    "\n",
    "\n",
    "    # create folder\n",
    "\n",
    "    if not os.path.exists(path):\n",
    "        os.makedirs(path)\n",
    "\n",
    "    # create std bar plot\n",
    "\n",
    "    plotStdMessage(messages, os.path.join(path, 'std_messages.png'))\n",
    "    plt.close()\n",
    "\n",
    "    # plot scatter messages\n",
    "\n",
    "    if not os.path.exists(os.path.join(path, 'features')):\n",
    "        os.makedirs(os.path.join(path, 'features'))\n",
    "        \n",
    "    plot_scatter_messages(messages.copy(), graphs_gt, os.path.join(path, 'features'), nb_messages = 2)\n",
    "\n",
    "    # plot scatter loargest\n",
    "\n",
    "    if not os.path.exists(os.path.join(path, 'scatter_rot')):\n",
    "        os.makedirs(os.path.join(path, 'scatter_rot'))\n",
    "\n",
    "    plot_scatter_intens(graphs_gt, messages.copy(), os.path.join(path, 'scatter_rot'), nb_messages = 2, k=70, epsilon = 0.5)\n",
    "\n",
    "\n",
    "    # r2 score\n",
    "\n",
    "    r2 = get_R2_score(messages.copy(), graphs_gt, nb_messages=2)\n",
    "\n",
    "    d = {}\n",
    "    d[f'r2_score_{path}'] = r2\n",
    "    writeJson(d, os.path.join(path, 'r2.json'))\n",
    "\n"
   ]
  },
  {
   "cell_type": "code",
   "execution_count": null,
   "metadata": {},
   "outputs": [
    {
     "name": "stdout",
     "output_type": "stream",
     "text": [
      "(858826, 128)\n",
      "(858826, 2)\n"
     ]
    }
   ],
   "source": [
    "print(messages.shape)\n",
    "interact_norm = getGroundTruth(graphs_gt, k=70, epsilon = 0.5)\n",
    "print(interact_norm.shape)"
   ]
  },
  {
   "cell_type": "code",
   "execution_count": null,
   "metadata": {},
   "outputs": [],
   "source": [
    "std_messages = np.std(messages, axis = 0)\n",
    "inds = np.argsort(std_messages)\n",
    "inds = np.flip(inds[-2:])"
   ]
  },
  {
   "cell_type": "code",
   "execution_count": 19,
   "metadata": {},
   "outputs": [
    {
     "data": {
      "text/plain": [
       "Text(0.5, 0, 'Message x')"
      ]
     },
     "execution_count": 19,
     "metadata": {},
     "output_type": "execute_result"
    },
    {
     "data": {
      "image/png": "[encoded data removed]",
      "text/plain": [
       "<Figure size 640x480 with 1 Axes>"
      ]
     },
     "metadata": {},
     "output_type": "display_data"
    }
   ],
   "source": [
    "plt.grid(zorder = 1)\n",
    "plt.xlabel(\"Message x\")"
   ]
  },
  {
   "cell_type": "code",
   "execution_count": 18,
   "metadata": {},
   "outputs": [
    {
     "ename": "NameError",
     "evalue": "name 'inds' is not defined",
     "output_type": "error",
     "traceback": [
      "\u001b[0;31m---------------------------------------------------------------------------\u001b[0m",
      "\u001b[0;31mNameError\u001b[0m                                 Traceback (most recent call last)",
      "Cell \u001b[0;32mIn[18], line 1\u001b[0m\n\u001b[0;32m----> 1\u001b[0m plt\u001b[38;5;241m.\u001b[39mscatter(messages[:, \u001b[43minds\u001b[49m[\u001b[38;5;241m1\u001b[39m]], interact_norm[:, \u001b[38;5;241m0\u001b[39m], zorder \u001b[38;5;241m=\u001b[39m \u001b[38;5;241m2\u001b[39m)\n\u001b[1;32m      2\u001b[0m plt\u001b[38;5;241m.\u001b[39mgrid(zorder \u001b[38;5;241m=\u001b[39m \u001b[38;5;241m1\u001b[39m)\n\u001b[1;32m      3\u001b[0m plt\u001b[38;5;241m.\u001b[39mxlabel(\u001b[38;5;124m\"\u001b[39m\u001b[38;5;124mMessage x\u001b[39m\u001b[38;5;124m\"\u001b[39m)\n",
      "\u001b[0;31mNameError\u001b[0m: name 'inds' is not defined"
     ]
    }
   ],
   "source": [
    "plt.scatter(messages[:, inds[1]], interact_norm[:, 0], zorder = 2)\n",
    "plt.grid(zorder = 1)\n",
    "plt.xlabel(\"Message x\")"
   ]
  },
  {
   "cell_type": "code",
   "execution_count": null,
   "metadata": {},
   "outputs": [
    {
     "name": "stdout",
     "output_type": "stream",
     "text": [
      "0.7810496091842651\n"
     ]
    }
   ],
   "source": [
    "model = LinearRegression()\n",
    "\n",
    "model = model.fit(messages[:, inds], interact_norm)\n",
    "\n",
    "score = r2_score(interact_norm, model.predict(messages[:, inds]))\n",
    "\n",
    "print(score)"
   ]
  },
  {
   "cell_type": "code",
   "execution_count": null,
   "metadata": {},
   "outputs": [
    {
     "data": {
      "image/png": "[encoded data removed]",
      "text/plain": [
       "<Figure size 640x480 with 1 Axes>"
      ]
     },
     "metadata": {},
     "output_type": "display_data"
    }
   ],
   "source": [
    "std = np.std(messages, axis = 0)\n",
    "\n",
    "plt.bar(np.arange(std.shape[0]), std)\n",
    "\n",
    "plt.ylabel('Std of the messages')\n",
    "plt.xlabel('Features of the messages')\n",
    "plt.xticks(rotation=90)\n",
    "plt.ylim([np.min(std) - 0.001, np.max(std) + 0.001])\n",
    "plt.tight_layout()"
   ]
  }
 ],
 "metadata": {
  "kernelspec": {
   "display_name": "Python 3 (ipykernel)",
   "language": "python",
   "name": "python3"
  },
  "language_info": {
   "codemirror_mode": {
    "name": "ipython",
    "version": 3
   },
   "file_extension": ".py",
   "mimetype": "text/x-python",
   "name": "python",
   "nbconvert_exporter": "python",
   "pygments_lexer": "ipython3",
   "version": "3.11.9"
  }
 },
 "nbformat": 4,
 "nbformat_minor": 2
}

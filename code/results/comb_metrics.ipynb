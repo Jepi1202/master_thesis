{
 "cells": [
  {
   "cell_type": "code",
   "execution_count": 79,
   "metadata": {},
   "outputs": [],
   "source": [
    "import matplotlib.pyplot as plt\n",
    "import numpy \n",
    "import sys\n",
    "import os\n",
    "import numpy as np\n"
   ]
  },
  {
   "cell_type": "code",
   "execution_count": 80,
   "metadata": {},
   "outputs": [],
   "source": [
    "def path_link(path:str):\n",
    "    sys.path.append(path)\n",
    "\n",
    "path_link('/master/code/lib')"
   ]
  },
  {
   "cell_type": "code",
   "execution_count": 81,
   "metadata": {},
   "outputs": [],
   "source": [
    "import utils.stats as stats\n",
    "import utils.testing_gen as gen\n",
    "import utils.loading as load\n",
    "import utils.nn_gen as nn_gen\n",
    "from utils.tools import array2List"
   ]
  },
  {
   "cell_type": "code",
   "execution_count": 82,
   "metadata": {},
   "outputs": [],
   "source": [
    "PATH = '/master/code/results/figs'"
   ]
  },
  {
   "cell_type": "code",
   "execution_count": 83,
   "metadata": {},
   "outputs": [],
   "source": [
    "NB_SIM = 20\n",
    "MODEL_PATH = '/master/code/models'\n"
   ]
  },
  {
   "cell_type": "code",
   "execution_count": 84,
   "metadata": {},
   "outputs": [],
   "source": [
    "MODELS = ['/master/code/results/models/normal/0-001/delta/mt_normal_dType-delta_dt-0.001_lr-0.001_l1-0.0001_batch-32_end/model_trained/simplest_no-dropout_no-encoder_best.pt',\n",
    "          '/master/code/results/models/noisy/0-001/delta/mt_noisy_dType-delta_dt-0.001_lr-0.001_l1-0.0001_batch-32_end/model_trained/simplest_no-dropout_no-encoder_best.pt']"
   ]
  },
  {
   "cell_type": "code",
   "execution_count": 85,
   "metadata": {},
   "outputs": [
    {
     "name": "stdout",
     "output_type": "stream",
     "text": [
      "True\n"
     ]
    }
   ],
   "source": [
    "print(os.path.exists(MODELS[1]))"
   ]
  },
  {
   "cell_type": "code",
   "execution_count": 86,
   "metadata": {},
   "outputs": [],
   "source": [
    "def getParams():\n",
    "    params = gen.Parameters_Simulation()  \n",
    "\n",
    "\n",
    "    params.dt = 0.001\n",
    "    params.v0 = 60\n",
    "    params.k = 70\n",
    "    params.epsilon = 0.5\n",
    "    params.tau = 3.5\n",
    "    params.R = 1\n",
    "    params.N = 200\n",
    "    params.boundary = 100\n",
    "    params.nbStep = 300\n",
    "\n",
    "\n",
    "    params.noisy = 0        # function dans utils\n",
    "    params.features_x = 'delta'\n",
    "    params.features_edge = 'first'\n",
    "\n",
    "\n",
    "    return params"
   ]
  },
  {
   "cell_type": "code",
   "execution_count": 87,
   "metadata": {},
   "outputs": [],
   "source": [
    "params1 = getParams()\n",
    "\n",
    "params2 = getParams()\n",
    "params2.noisy = 1"
   ]
  },
  {
   "cell_type": "code",
   "execution_count": 88,
   "metadata": {},
   "outputs": [
    {
     "name": "stdout",
     "output_type": "stream",
     "text": [
      "v0:60, tau:3.5, k:70, epsilon:0.5\n"
     ]
    },
    {
     "name": "stderr",
     "output_type": "stream",
     "text": [
      "100%|██████████| 299/299 [00:10<00:00, 28.12it/s]\n"
     ]
    },
    {
     "name": "stdout",
     "output_type": "stream",
     "text": [
      "v0:60, tau:3.5, k:70, epsilon:0.5\n"
     ]
    },
    {
     "name": "stderr",
     "output_type": "stream",
     "text": [
      "100%|██████████| 299/299 [00:09<00:00, 30.91it/s]\n"
     ]
    },
    {
     "name": "stdout",
     "output_type": "stream",
     "text": [
      "v0:60, tau:3.5, k:70, epsilon:0.5\n"
     ]
    },
    {
     "name": "stderr",
     "output_type": "stream",
     "text": [
      "100%|██████████| 299/299 [00:08<00:00, 36.45it/s]\n"
     ]
    },
    {
     "name": "stdout",
     "output_type": "stream",
     "text": [
      "v0:60, tau:3.5, k:70, epsilon:0.5\n"
     ]
    },
    {
     "name": "stderr",
     "output_type": "stream",
     "text": [
      "100%|██████████| 299/299 [00:09<00:00, 32.29it/s]\n"
     ]
    },
    {
     "name": "stdout",
     "output_type": "stream",
     "text": [
      "v0:60, tau:3.5, k:70, epsilon:0.5\n"
     ]
    },
    {
     "name": "stderr",
     "output_type": "stream",
     "text": [
      "100%|██████████| 299/299 [00:07<00:00, 41.06it/s]\n"
     ]
    },
    {
     "name": "stdout",
     "output_type": "stream",
     "text": [
      "v0:60, tau:3.5, k:70, epsilon:0.5\n"
     ]
    },
    {
     "name": "stderr",
     "output_type": "stream",
     "text": [
      "100%|██████████| 299/299 [00:08<00:00, 36.51it/s]\n"
     ]
    },
    {
     "name": "stdout",
     "output_type": "stream",
     "text": [
      "v0:60, tau:3.5, k:70, epsilon:0.5\n"
     ]
    },
    {
     "name": "stderr",
     "output_type": "stream",
     "text": [
      "100%|██████████| 299/299 [00:05<00:00, 52.19it/s]\n"
     ]
    },
    {
     "name": "stdout",
     "output_type": "stream",
     "text": [
      "v0:60, tau:3.5, k:70, epsilon:0.5\n"
     ]
    },
    {
     "name": "stderr",
     "output_type": "stream",
     "text": [
      "100%|██████████| 299/299 [00:05<00:00, 49.89it/s]\n"
     ]
    },
    {
     "name": "stdout",
     "output_type": "stream",
     "text": [
      "v0:60, tau:3.5, k:70, epsilon:0.5\n"
     ]
    },
    {
     "name": "stderr",
     "output_type": "stream",
     "text": [
      "100%|██████████| 299/299 [00:05<00:00, 56.09it/s]\n"
     ]
    },
    {
     "name": "stdout",
     "output_type": "stream",
     "text": [
      "v0:60, tau:3.5, k:70, epsilon:0.5\n"
     ]
    },
    {
     "name": "stderr",
     "output_type": "stream",
     "text": [
      "100%|██████████| 299/299 [00:05<00:00, 59.14it/s]\n"
     ]
    },
    {
     "name": "stdout",
     "output_type": "stream",
     "text": [
      "v0:60, tau:3.5, k:70, epsilon:0.5\n"
     ]
    },
    {
     "name": "stderr",
     "output_type": "stream",
     "text": [
      "100%|██████████| 299/299 [00:08<00:00, 33.72it/s]\n"
     ]
    },
    {
     "name": "stdout",
     "output_type": "stream",
     "text": [
      "v0:60, tau:3.5, k:70, epsilon:0.5\n"
     ]
    },
    {
     "name": "stderr",
     "output_type": "stream",
     "text": [
      "100%|██████████| 299/299 [00:08<00:00, 34.78it/s]\n"
     ]
    },
    {
     "name": "stdout",
     "output_type": "stream",
     "text": [
      "v0:60, tau:3.5, k:70, epsilon:0.5\n"
     ]
    },
    {
     "name": "stderr",
     "output_type": "stream",
     "text": [
      "100%|██████████| 299/299 [00:12<00:00, 24.48it/s]\n"
     ]
    },
    {
     "name": "stdout",
     "output_type": "stream",
     "text": [
      "v0:60, tau:3.5, k:70, epsilon:0.5\n"
     ]
    },
    {
     "name": "stderr",
     "output_type": "stream",
     "text": [
      "100%|██████████| 299/299 [00:11<00:00, 26.38it/s]\n"
     ]
    },
    {
     "name": "stdout",
     "output_type": "stream",
     "text": [
      "v0:60, tau:3.5, k:70, epsilon:0.5\n"
     ]
    },
    {
     "name": "stderr",
     "output_type": "stream",
     "text": [
      "100%|██████████| 299/299 [00:14<00:00, 21.27it/s]\n"
     ]
    },
    {
     "name": "stdout",
     "output_type": "stream",
     "text": [
      "v0:60, tau:3.5, k:70, epsilon:0.5\n"
     ]
    },
    {
     "name": "stderr",
     "output_type": "stream",
     "text": [
      "100%|██████████| 299/299 [00:13<00:00, 21.55it/s]\n"
     ]
    },
    {
     "name": "stdout",
     "output_type": "stream",
     "text": [
      "v0:60, tau:3.5, k:70, epsilon:0.5\n"
     ]
    },
    {
     "name": "stderr",
     "output_type": "stream",
     "text": [
      "100%|██████████| 299/299 [00:17<00:00, 17.24it/s]\n"
     ]
    },
    {
     "name": "stdout",
     "output_type": "stream",
     "text": [
      "v0:60, tau:3.5, k:70, epsilon:0.5\n"
     ]
    },
    {
     "name": "stderr",
     "output_type": "stream",
     "text": [
      "100%|██████████| 299/299 [00:15<00:00, 19.35it/s]\n"
     ]
    },
    {
     "name": "stdout",
     "output_type": "stream",
     "text": [
      "v0:60, tau:3.5, k:70, epsilon:0.5\n"
     ]
    },
    {
     "name": "stderr",
     "output_type": "stream",
     "text": [
      "100%|██████████| 299/299 [00:16<00:00, 18.62it/s]\n"
     ]
    },
    {
     "name": "stdout",
     "output_type": "stream",
     "text": [
      "v0:60, tau:3.5, k:70, epsilon:0.5\n"
     ]
    },
    {
     "name": "stderr",
     "output_type": "stream",
     "text": [
      "100%|██████████| 299/299 [00:15<00:00, 19.53it/s]\n"
     ]
    },
    {
     "name": "stdout",
     "output_type": "stream",
     "text": [
      "v0:60, tau:3.5, k:70, epsilon:0.5\n"
     ]
    },
    {
     "name": "stderr",
     "output_type": "stream",
     "text": [
      "100%|██████████| 299/299 [00:15<00:00, 19.84it/s]\n"
     ]
    },
    {
     "name": "stdout",
     "output_type": "stream",
     "text": [
      "v0:60, tau:3.5, k:70, epsilon:0.5\n"
     ]
    },
    {
     "name": "stderr",
     "output_type": "stream",
     "text": [
      "100%|██████████| 299/299 [00:13<00:00, 21.97it/s]\n"
     ]
    },
    {
     "name": "stdout",
     "output_type": "stream",
     "text": [
      "v0:60, tau:3.5, k:70, epsilon:0.5\n"
     ]
    },
    {
     "name": "stderr",
     "output_type": "stream",
     "text": [
      "100%|██████████| 299/299 [00:10<00:00, 29.48it/s]\n"
     ]
    },
    {
     "name": "stdout",
     "output_type": "stream",
     "text": [
      "v0:60, tau:3.5, k:70, epsilon:0.5\n"
     ]
    },
    {
     "name": "stderr",
     "output_type": "stream",
     "text": [
      "100%|██████████| 299/299 [00:13<00:00, 22.65it/s]\n"
     ]
    },
    {
     "name": "stdout",
     "output_type": "stream",
     "text": [
      "v0:60, tau:3.5, k:70, epsilon:0.5\n"
     ]
    },
    {
     "name": "stderr",
     "output_type": "stream",
     "text": [
      "100%|██████████| 299/299 [00:11<00:00, 25.57it/s]\n"
     ]
    },
    {
     "name": "stdout",
     "output_type": "stream",
     "text": [
      "v0:60, tau:3.5, k:70, epsilon:0.5\n"
     ]
    },
    {
     "name": "stderr",
     "output_type": "stream",
     "text": [
      "100%|██████████| 299/299 [00:12<00:00, 23.90it/s]\n"
     ]
    },
    {
     "name": "stdout",
     "output_type": "stream",
     "text": [
      "v0:60, tau:3.5, k:70, epsilon:0.5\n"
     ]
    },
    {
     "name": "stderr",
     "output_type": "stream",
     "text": [
      "100%|██████████| 299/299 [00:14<00:00, 21.30it/s]\n"
     ]
    },
    {
     "name": "stdout",
     "output_type": "stream",
     "text": [
      "v0:60, tau:3.5, k:70, epsilon:0.5\n"
     ]
    },
    {
     "name": "stderr",
     "output_type": "stream",
     "text": [
      "100%|██████████| 299/299 [00:09<00:00, 32.96it/s]\n"
     ]
    },
    {
     "name": "stdout",
     "output_type": "stream",
     "text": [
      "v0:60, tau:3.5, k:70, epsilon:0.5\n"
     ]
    },
    {
     "name": "stderr",
     "output_type": "stream",
     "text": [
      "100%|██████████| 299/299 [00:11<00:00, 26.55it/s]\n"
     ]
    },
    {
     "name": "stdout",
     "output_type": "stream",
     "text": [
      "v0:60, tau:3.5, k:70, epsilon:0.5\n"
     ]
    },
    {
     "name": "stderr",
     "output_type": "stream",
     "text": [
      "100%|██████████| 299/299 [00:12<00:00, 23.85it/s]\n"
     ]
    },
    {
     "name": "stdout",
     "output_type": "stream",
     "text": [
      "v0:60, tau:3.5, k:70, epsilon:0.5\n"
     ]
    },
    {
     "name": "stderr",
     "output_type": "stream",
     "text": [
      "100%|██████████| 299/299 [00:11<00:00, 27.00it/s]\n"
     ]
    },
    {
     "name": "stdout",
     "output_type": "stream",
     "text": [
      "v0:60, tau:3.5, k:70, epsilon:0.5\n"
     ]
    },
    {
     "name": "stderr",
     "output_type": "stream",
     "text": [
      "100%|██████████| 299/299 [00:10<00:00, 27.44it/s]\n"
     ]
    },
    {
     "name": "stdout",
     "output_type": "stream",
     "text": [
      "v0:60, tau:3.5, k:70, epsilon:0.5\n"
     ]
    },
    {
     "name": "stderr",
     "output_type": "stream",
     "text": [
      "100%|██████████| 299/299 [00:12<00:00, 24.89it/s]\n"
     ]
    },
    {
     "name": "stdout",
     "output_type": "stream",
     "text": [
      "v0:60, tau:3.5, k:70, epsilon:0.5\n"
     ]
    },
    {
     "name": "stderr",
     "output_type": "stream",
     "text": [
      "100%|██████████| 299/299 [00:10<00:00, 27.34it/s]\n"
     ]
    },
    {
     "name": "stdout",
     "output_type": "stream",
     "text": [
      "v0:60, tau:3.5, k:70, epsilon:0.5\n"
     ]
    },
    {
     "name": "stderr",
     "output_type": "stream",
     "text": [
      "100%|██████████| 299/299 [00:13<00:00, 22.80it/s]\n"
     ]
    },
    {
     "name": "stdout",
     "output_type": "stream",
     "text": [
      "v0:60, tau:3.5, k:70, epsilon:0.5\n"
     ]
    },
    {
     "name": "stderr",
     "output_type": "stream",
     "text": [
      "100%|██████████| 299/299 [00:12<00:00, 24.32it/s]\n"
     ]
    },
    {
     "name": "stdout",
     "output_type": "stream",
     "text": [
      "v0:60, tau:3.5, k:70, epsilon:0.5\n"
     ]
    },
    {
     "name": "stderr",
     "output_type": "stream",
     "text": [
      "100%|██████████| 299/299 [00:18<00:00, 15.76it/s]\n"
     ]
    },
    {
     "name": "stdout",
     "output_type": "stream",
     "text": [
      "v0:60, tau:3.5, k:70, epsilon:0.5\n"
     ]
    },
    {
     "name": "stderr",
     "output_type": "stream",
     "text": [
      "100%|██████████| 299/299 [00:11<00:00, 26.72it/s]\n"
     ]
    },
    {
     "name": "stdout",
     "output_type": "stream",
     "text": [
      "v0:60, tau:3.5, k:70, epsilon:0.5\n"
     ]
    },
    {
     "name": "stderr",
     "output_type": "stream",
     "text": [
      "100%|██████████| 299/299 [00:09<00:00, 32.69it/s]\n"
     ]
    },
    {
     "name": "stdout",
     "output_type": "stream",
     "text": [
      "v0:60, tau:3.5, k:70, epsilon:0.5\n"
     ]
    },
    {
     "name": "stderr",
     "output_type": "stream",
     "text": [
      "100%|██████████| 299/299 [00:10<00:00, 28.36it/s]\n"
     ]
    }
   ],
   "source": [
    "data_gt_1  = gen.get_mult_data(params1, NB_SIM)\n",
    "graphs_gt_1  = gen.sims2Graphs(data_gt_1, params1.features_x)\n",
    "data_gt_list_1 = array2List(data_gt_1)\n",
    "\n",
    "\n",
    "data_gt_2 = gen.get_mult_data(params2, NB_SIM)\n",
    "graphs_gt_2 = gen.sims2Graphs(data_gt_2, params2.features_x)\n",
    "data_gt_list_2 = array2List(data_gt_2)"
   ]
  },
  {
   "cell_type": "code",
   "execution_count": 89,
   "metadata": {},
   "outputs": [],
   "source": [
    "class ID():\n",
    "    def __init__(self):\n",
    "        self.features_x = None\n",
    "        self.features_edge = None\n",
    "        self.MLP_hidden = None\n",
    "        self.l1 = None\n",
    "        self.dropout = None\n",
    "        self.layer_norm = None\n",
    "        self.nb_layer = None\n",
    "        self.model = None\n",
    "        self.dt = None\n",
    "\n",
    "        self.data_type = None\n",
    "\n",
    "\n",
    "    def get_name(self):\n",
    "        name = f'{self.model}_'\n",
    "\n",
    "        if self.data_type:\n",
    "            name += f'dType-{self.data_type}_'\n",
    "\n",
    "        if self.features_x:\n",
    "            name += f'featX-{self.features_x}_'\n",
    "\n",
    "        if self.features_edge:\n",
    "            name += f'featE-{self.features_edge}_'\n",
    "\n",
    "        if self.MLP_hidden:\n",
    "            name += f'nbHiddenMLP-{self.MLP_hidden}_'\n",
    "\n",
    "        if self.l1:\n",
    "            name += f'l1-{self.l1}_'\n",
    "\n",
    "        if self.dropout:\n",
    "            name += f'dropout-{self.dropout}_'\n",
    "\n",
    "        if self.layer_norm:\n",
    "            name += f'layerNorm-{self.layer_norm}_'\n",
    "\n",
    "        if self.nb_layer:\n",
    "            name += f'nbLayer-{self.nb_layer}_'\n",
    "\n",
    "        if self.dt:\n",
    "            name += f'dt-{self.dt}_'\n",
    "\n",
    "\n",
    "        if name.endswith('_'):\n",
    "            name = name[:-1]\n",
    "\n",
    "        return name\n",
    "    \n",
    "\n",
    "    def load_from_wb(self, name):\n",
    "\n",
    "        splits = name.split('_')\n",
    "\n",
    "        self.model = 'simplest'\n",
    "\n",
    "        if 'baseline' in name:\n",
    "            self.model = 'baseline'\n",
    "\n",
    "        if 'complex' in name:\n",
    "            print(name)\n",
    "            self.model = 'gnn' \n",
    "\n",
    "        if 'gat' in name:\n",
    "            self.model = 'gat'\n",
    "\n",
    "\n",
    "        #########\n",
    "\n",
    "        if 'noisy' in name:\n",
    "            self.data_type = 'noisy'\n",
    "\n",
    "        elif 'normal' in name:\n",
    "            self.data_type = 'normal'\n",
    "\n",
    "        for s in splits:\n",
    "            if 'featX' in s:\n",
    "                self.features_x =s.split('-')[-1]\n",
    "            if 'featE' in s:\n",
    "                self.features_edge = s.split('-')[-1]\n",
    "            if 'nbHiddenMLP' in s:\n",
    "                self.MLP_hidden = int(s.split('-')[-1])\n",
    "            if 'l1' in s:\n",
    "                self.l1 = float(s.split('-')[-1])\n",
    "            if 'dropout' in s:\n",
    "                self.dropout = s.split('-')[0]\n",
    "            if 'layerNorm' in s:\n",
    "                self.layer_norm = s.split('-')[-1]\n",
    "            if 'nbLayer' in s:\n",
    "                self.nb_layer = int(s.split('-')[-1])\n",
    "            if 'dt' in s:\n",
    "                self.dt = float(s.split('-')[-1])\n",
    "\n",
    "\n",
    "            if 'dType' in s:\n",
    "                self.features_x =s.split('-')[-1]\n"
   ]
  },
  {
   "cell_type": "code",
   "execution_count": 90,
   "metadata": {},
   "outputs": [],
   "source": [
    "def find_models_and_paths(model_path:str, display_path:str)->tuple:\n",
    "    model_list = []\n",
    "    out_list = []\n",
    "    ids_list = []\n",
    "    \n",
    "    nb = 0\n",
    "\n",
    "    for root, dirs, files in os.walk(model_path):\n",
    "        for file in files:\n",
    "            if file.endswith('.pt'):\n",
    "                f = os.path.join(root, file)\n",
    "                model_list.append(f)\n",
    "\n",
    "                # add ID detection here\n",
    "\n",
    "                id = ID()\n",
    "\n",
    "                id.load_from_wb(f.split('/')[-3])\n",
    "\n",
    "                path_d = id.get_name()\n",
    "\n",
    "                ids_list.append(id)\n",
    "                \n",
    "\n",
    "                #f_display = makedirs(display_path)\n",
    "\n",
    "                out_list.append(path_d)\n",
    "                nb += 1\n",
    "\n",
    "\n",
    "    return model_list, out_list, ids_list"
   ]
  },
  {
   "cell_type": "code",
   "execution_count": 91,
   "metadata": {},
   "outputs": [
    {
     "name": "stdout",
     "output_type": "stream",
     "text": [
      "home/jpierre/v2\n"
     ]
    }
   ],
   "source": [
    "f = '/home/jpierre/v2/fhdsbf.pt'\n",
    "a = f.split('/')\n",
    "p = '/'.join([element for element in a[:-1] if element])\n",
    "print(p)"
   ]
  },
  {
   "cell_type": "code",
   "execution_count": null,
   "metadata": {},
   "outputs": [],
   "source": []
  },
  {
   "cell_type": "code",
   "execution_count": 92,
   "metadata": {},
   "outputs": [],
   "source": [
    "def get_name_file(file, name):\n",
    "    a = file.split('/')\n",
    "    p = '/'.join([element for element in a[:-1] if element])\n",
    "\n",
    "    path_new = os.path.join(p, file_name)\n",
    "\n",
    "    return path_new"
   ]
  },
  {
   "cell_type": "code",
   "execution_count": 93,
   "metadata": {},
   "outputs": [],
   "source": [
    "def mergeData(file, data):\n",
    "    if not os.path.exists(file):\n",
    "        return data\n",
    "    \n",
    "    else:\n",
    "        res = np.load(file)\n",
    "        res = np.concatenate((res, data))\n",
    "\n",
    "        return res"
   ]
  },
  {
   "cell_type": "code",
   "execution_count": 94,
   "metadata": {},
   "outputs": [],
   "source": [
    "def save_add(path_new, data, out_mode = 'numpy'):\n",
    "   \n",
    "    if out_mode == 'numpy':\n",
    "        np.save(path_new, data)\n"
   ]
  },
  {
   "cell_type": "code",
   "execution_count": 96,
   "metadata": {},
   "outputs": [],
   "source": [
    "\n",
    "def MSD_comp(traj, tau):\n",
    "    T = traj.shape[0]\n",
    "    i = np.arange(T - tau)\n",
    "    j = i + tau\n",
    "\n",
    "    return (traj[j, :, :] - traj[i, :, :])**2\n",
    "\n",
    "\n",
    "def MSD(traj: np.array)-> np.array:\n",
    "    \"\"\"\n",
    "    Allows to compute the Mean Squared Displacement of the trajectories for all timestamps\n",
    "    \n",
    "    Args:\n",
    "    -----\n",
    "    - `traj`: np.array of N trajectories of length T [NxT]\n",
    "    \n",
    "    Output:\n",
    "    -------\n",
    "    Mean Squared Displacement for all timestamps\n",
    "    \"\"\"\n",
    "\n",
    "    res = []\n",
    "    T = traj.shape[0]\n",
    "    \n",
    "    for tau in range(1, T):\n",
    "        val = np.mean(np.mean(MSD_comp(traj, tau), axis=0), axis=0)\n",
    "        res.append(val)\n",
    "\n",
    "    return res\n",
    "\n",
    "def applyMSD(sims:list, display:bool = True, color:str = 'blue', label = 'v0')->np.array:\n",
    "    \"\"\" \n",
    "    Function to apply MSD to a group of simulations\n",
    "\n",
    "    NOTE: test\n",
    "\n",
    "    Args:\n",
    "    -----\n",
    "        - `sims` (list): list of simualtions\n",
    "\n",
    "    Returns:\n",
    "    --------\n",
    "        np array [#Sim, T-1] of MSD computations\n",
    "    \"\"\"\n",
    "\n",
    "    res = np.zeros((len(sims), sims[0].shape[0]-1))\n",
    "    for i in range(len(sims)):\n",
    "        sim = sims[i]\n",
    "        res[i, :] = np.array(MSD(sim))\n",
    "\n",
    "\n",
    "    if display:\n",
    "        x = np.arange(sims[0].shape[0]-1)\n",
    "        y = np.mean(res, axis = 0)\n",
    "        std = np.std(res, axis = 0)\n",
    "        plt.loglog(x, y, color = color, zorder = 1, label = label)\n",
    "        plt.fill_between((x), (y - std), (y+std), color = color, alpha = 0.4, zorder = 2)\n",
    "        \n",
    "        plt.xlabel('Timesteps')\n",
    "        plt.ylabel('MSD')\n",
    "        plt.grid()\n",
    "\n",
    "    return res\n"
   ]
  },
  {
   "cell_type": "code",
   "execution_count": 97,
   "metadata": {},
   "outputs": [
    {
     "name": "stdout",
     "output_type": "stream",
     "text": [
      "/master/code/results/models/normal/0-001/delta/mt_normal_dType-delta_dt-0.001_lr-0.001_l1-0.0001_batch-32_end/model_trained/simplest_no-dropout_no-encoder_best.pt\n"
     ]
    }
   ],
   "source": [
    "print(MODELS[0])"
   ]
  },
  {
   "cell_type": "code",
   "execution_count": 98,
   "metadata": {},
   "outputs": [
    {
     "name": "stdout",
     "output_type": "stream",
     "text": [
      "simplest_dType-normal_featX-delta_l1-0.0001_dt-0.001\n",
      ">>>> loading simplest\n",
      "INFO >>> with NO encoder\n",
      "INFO >>> with NO dropout\n"
     ]
    },
    {
     "name": "stderr",
     "output_type": "stream",
     "text": [
      "100%|██████████| 99/99 [00:01<00:00, 95.71it/s] \n",
      "100%|██████████| 99/99 [00:00<00:00, 112.89it/s]\n",
      "100%|██████████| 99/99 [00:00<00:00, 151.82it/s]\n",
      "100%|██████████| 99/99 [00:00<00:00, 134.54it/s]\n",
      "100%|██████████| 99/99 [00:00<00:00, 104.10it/s]\n",
      "100%|██████████| 99/99 [00:01<00:00, 70.46it/s]\n",
      "100%|██████████| 99/99 [00:01<00:00, 94.33it/s] \n",
      "100%|██████████| 99/99 [00:01<00:00, 97.17it/s] \n",
      "100%|██████████| 99/99 [00:00<00:00, 108.56it/s]\n",
      "100%|██████████| 99/99 [00:00<00:00, 141.32it/s]\n",
      "100%|██████████| 99/99 [00:00<00:00, 135.04it/s]\n",
      "100%|██████████| 99/99 [00:00<00:00, 175.11it/s]\n",
      "100%|██████████| 99/99 [00:00<00:00, 143.48it/s]\n",
      "100%|██████████| 99/99 [00:00<00:00, 163.53it/s]\n",
      "100%|██████████| 99/99 [00:00<00:00, 121.32it/s]\n",
      "100%|██████████| 99/99 [00:00<00:00, 177.56it/s]\n",
      "100%|██████████| 99/99 [00:00<00:00, 155.84it/s]\n",
      "100%|██████████| 99/99 [00:00<00:00, 164.90it/s]\n",
      "100%|██████████| 99/99 [00:00<00:00, 156.83it/s]\n",
      "100%|██████████| 99/99 [00:01<00:00, 93.40it/s]\n"
     ]
    },
    {
     "name": "stdout",
     "output_type": "stream",
     "text": [
      "simplest_dType-noisy_featX-delta_l1-0.0001_dt-0.001\n",
      ">>>> loading simplest\n",
      "INFO >>> with NO encoder\n",
      "INFO >>> with NO dropout\n"
     ]
    },
    {
     "name": "stderr",
     "output_type": "stream",
     "text": [
      "100%|██████████| 99/99 [00:00<00:00, 121.91it/s]\n",
      "100%|██████████| 99/99 [00:00<00:00, 129.44it/s]\n",
      "100%|██████████| 99/99 [00:00<00:00, 147.34it/s]\n",
      "100%|██████████| 99/99 [00:00<00:00, 150.60it/s]\n",
      "100%|██████████| 99/99 [00:00<00:00, 161.74it/s]\n",
      "100%|██████████| 99/99 [00:00<00:00, 157.80it/s]\n",
      "100%|██████████| 99/99 [00:00<00:00, 178.38it/s]\n",
      "100%|██████████| 99/99 [00:00<00:00, 183.27it/s]\n",
      "100%|██████████| 99/99 [00:00<00:00, 144.99it/s]\n",
      "100%|██████████| 99/99 [00:00<00:00, 107.26it/s]\n",
      "100%|██████████| 99/99 [00:00<00:00, 99.20it/s] \n",
      "100%|██████████| 99/99 [00:00<00:00, 162.90it/s]\n",
      "100%|██████████| 99/99 [00:00<00:00, 142.16it/s]\n",
      "100%|██████████| 99/99 [00:00<00:00, 140.51it/s]\n",
      "100%|██████████| 99/99 [00:01<00:00, 59.75it/s]\n",
      "100%|██████████| 99/99 [00:01<00:00, 87.82it/s]\n",
      "100%|██████████| 99/99 [00:00<00:00, 130.11it/s]\n",
      "100%|██████████| 99/99 [00:00<00:00, 141.90it/s]\n",
      "100%|██████████| 99/99 [00:00<00:00, 134.22it/s]\n",
      "100%|██████████| 99/99 [00:01<00:00, 79.82it/s] \n"
     ]
    }
   ],
   "source": [
    "import torch\n",
    "DEVICE = torch.device(\"cuda\" if torch.cuda.is_available() else 'cpu')\n",
    "import utils.nn_gen as nn_gen\n",
    "from utils.tools import array2List\n",
    "\n",
    "\n",
    "predList = []\n",
    "\n",
    "for i in range(len(MODELS)):\n",
    "    mod = MODELS[i]\n",
    "    id = ID()\n",
    "\n",
    "\n",
    "    if i == 1:\n",
    "        data_gt = data_gt_1\n",
    "    else:\n",
    "        data_gt = data_gt_2\n",
    "\n",
    "    id.load_from_wb(mod.split('/')[-3])\n",
    "    \n",
    "    p = id.get_name()\n",
    "    print(p)\n",
    "    # warning: issue getModelName \n",
    "    p_mod = 'simplest_no-dropout_no-encoder'\n",
    "    model = load.loadModel(p_mod, path=MODEL_PATH)\n",
    "    std_dict = torch.load(mod, map_location = 'cpu')\n",
    "    model.load_state_dict(std_dict)\n",
    "    model.eval()\n",
    "    model = model.to(DEVICE)\n",
    "\n",
    "\n",
    "    preds = nn_gen.generate_sim_batch(model, data_gt, initId = 8, nbStep = 100)\n",
    "    data_preds_list = array2List(preds)\n",
    "\n",
    "    predList.append(preds)\n",
    "\n",
    "\n",
    "\n",
    "    \n",
    "    \n",
    "\n",
    "    "
   ]
  },
  {
   "cell_type": "code",
   "execution_count": 99,
   "metadata": {},
   "outputs": [
    {
     "ename": "ValueError",
     "evalue": "could not broadcast input array from shape (99,2) into shape (99,)",
     "output_type": "error",
     "traceback": [
      "\u001b[0;31m---------------------------------------------------------------------------\u001b[0m",
      "\u001b[0;31mValueError\u001b[0m                                Traceback (most recent call last)",
      "Cell \u001b[0;32mIn[99], line 1\u001b[0m\n\u001b[0;32m----> 1\u001b[0m \u001b[43mapplyMSD\u001b[49m\u001b[43m(\u001b[49m\u001b[43mpredList\u001b[49m\u001b[43m[\u001b[49m\u001b[38;5;241;43m0\u001b[39;49m\u001b[43m]\u001b[49m\u001b[43m,\u001b[49m\u001b[43m \u001b[49m\u001b[43mcolor\u001b[49m\u001b[38;5;241;43m=\u001b[39;49m\u001b[38;5;124;43m'\u001b[39;49m\u001b[38;5;124;43mr\u001b[39;49m\u001b[38;5;124;43m'\u001b[39;49m\u001b[43m)\u001b[49m\n\u001b[1;32m      2\u001b[0m applyMSD(data_gt_1[:, :predList[\u001b[38;5;241m0\u001b[39m]\u001b[38;5;241m.\u001b[39mshape[\u001b[38;5;241m1\u001b[39m]], label \u001b[38;5;241m=\u001b[39m \u001b[38;5;124m'\u001b[39m\u001b[38;5;124mGround truth (normal)\u001b[39m\u001b[38;5;124m'\u001b[39m, color \u001b[38;5;241m=\u001b[39m \u001b[38;5;124m'\u001b[39m\u001b[38;5;124mg\u001b[39m\u001b[38;5;124m'\u001b[39m)\n\u001b[1;32m      3\u001b[0m \u001b[38;5;66;03m#plt.plot(np.arange(data_gt_1.shape[1]), np.arange(data_gt_1.shape[1]), 'grey')\u001b[39;00m\n",
      "Cell \u001b[0;32mIn[96], line 49\u001b[0m, in \u001b[0;36mapplyMSD\u001b[0;34m(sims, display, color, label)\u001b[0m\n\u001b[1;32m     47\u001b[0m \u001b[38;5;28;01mfor\u001b[39;00m i \u001b[38;5;129;01min\u001b[39;00m \u001b[38;5;28mrange\u001b[39m(\u001b[38;5;28mlen\u001b[39m(sims)):\n\u001b[1;32m     48\u001b[0m     sim \u001b[38;5;241m=\u001b[39m sims[i]\n\u001b[0;32m---> 49\u001b[0m     \u001b[43mres\u001b[49m\u001b[43m[\u001b[49m\u001b[43mi\u001b[49m\u001b[43m,\u001b[49m\u001b[43m \u001b[49m\u001b[43m:\u001b[49m\u001b[43m]\u001b[49m \u001b[38;5;241m=\u001b[39m np\u001b[38;5;241m.\u001b[39marray(MSD(sim))\n\u001b[1;32m     52\u001b[0m \u001b[38;5;28;01mif\u001b[39;00m display:\n\u001b[1;32m     53\u001b[0m     x \u001b[38;5;241m=\u001b[39m np\u001b[38;5;241m.\u001b[39marange(sims[\u001b[38;5;241m0\u001b[39m]\u001b[38;5;241m.\u001b[39mshape[\u001b[38;5;241m0\u001b[39m]\u001b[38;5;241m-\u001b[39m\u001b[38;5;241m1\u001b[39m)\n",
      "\u001b[0;31mValueError\u001b[0m: could not broadcast input array from shape (99,2) into shape (99,)"
     ]
    }
   ],
   "source": [
    "applyMSD(predList[0], color='r')\n",
    "applyMSD(data_gt_1[:, :predList[0].shape[1]], label = 'Ground truth (normal)', color = 'g')\n",
    "#plt.plot(np.arange(data_gt_1.shape[1]), np.arange(data_gt_1.shape[1]), 'grey')\n",
    "plt.grid()"
   ]
  },
  {
   "cell_type": "code",
   "execution_count": null,
   "metadata": {},
   "outputs": [
    {
     "data": {
      "image/png": "[encoded data removed]",
      "text/plain": [
       "<Figure size 640x480 with 1 Axes>"
      ]
     },
     "metadata": {},
     "output_type": "display_data"
    }
   ],
   "source": [
    "applyMSD(predList[0], color='r')\n",
    "applyMSD(predList[1], color='purple')\n",
    "applyMSD(data_gt_1[:, :predList[0].shape[1]], label = 'Ground truth (normal)', color = 'g')\n",
    "applyMSD(data_gt_2[:, :predList[0].shape[1]], label = 'Ground truth (noisy)', color = 'orange')\n",
    "plt.show()"
   ]
  },
  {
   "cell_type": "code",
   "execution_count": 119,
   "metadata": {},
   "outputs": [],
   "source": [
    "from tqdm import tqdm\n",
    "\n",
    "def rdf(sim, boundary = 120, nb_bins = 50, max_dist = 240):\n",
    "    T, N, _ = sim.shape\n",
    "\n",
    "\n",
    "    r = np.linspace(0.001, max_dist, nb_bins)\n",
    "    dr = r[1] - r[0]\n",
    "\n",
    "    g_r = np.zeros_like(r)\n",
    "\n",
    "\n",
    "    for t in tqdm(range(T)):\n",
    "        for i in range(N):\n",
    "            for j in range(i+1, N):\n",
    "\n",
    "                dist = sim[t, i] - sim[t, j]\n",
    "                dist = np.linalg.norm(dist, axis = -1)\n",
    "\n",
    "                if dist < max_dist:\n",
    "                    index_dist = int(dist / dr)\n",
    "                    g_r[index_dist] += 2\n",
    "\n",
    "    #print(g_r)\n",
    "\n",
    "    rho = N / (2 * boundary) ** 2\n",
    "\n",
    "    #print(rho)\n",
    "\n",
    "    g_r = g_r / (2 * np.pi * r * dr * rho * T * N)\n",
    "\n",
    "    #print((2 * np.pi * r * dr * rho ))\n",
    "\n",
    "    return g_r, r\n",
    "\n",
    "\n",
    "def apply_rdf(simList):\n",
    "\n",
    "    res = None\n",
    "    for i in range(len(simList)):\n",
    "\n",
    "        g_r, r = rdf(simList[i], boundary = 120, nb_bins = 50, max_dist = 240)\n",
    "\n",
    "        if res is None:\n",
    "            res = g_r\n",
    "\n",
    "        else:\n",
    "            res = np.vstack((res, g_r))\n",
    "\n",
    "\n",
    "    mean_res = np.mean(res, axis = 0)\n",
    "    std_res = np.mean(res, axis = 0)\n",
    "\n",
    "    return mean_res, std_res, r"
   ]
  },
  {
   "cell_type": "code",
   "execution_count": 120,
   "metadata": {},
   "outputs": [
    {
     "name": "stdout",
     "output_type": "stream",
     "text": [
      "(20, 100, 200, 2)\n"
     ]
    }
   ],
   "source": [
    "print(data_gt_1[:, :predList[0].shape[1]].shape)"
   ]
  },
  {
   "cell_type": "code",
   "execution_count": 126,
   "metadata": {},
   "outputs": [
    {
     "name": "stderr",
     "output_type": "stream",
     "text": [
      "100%|██████████| 300/300 [00:50<00:00,  5.90it/s]\n"
     ]
    },
    {
     "name": "stdout",
     "output_type": "stream",
     "text": [
      "[ 35758.  51480.  88622. 160918. 198930. 215900. 228760. 290692. 352480.\n",
      " 322266. 342608. 420316. 404650. 406052. 403842. 452262. 453234. 410370.\n",
      " 417164. 482578. 449662. 408180. 424292. 409668. 413568. 350782. 333990.\n",
      " 360020. 321134. 302254. 304366. 271528. 242186. 209212. 202802. 184216.\n",
      " 148354. 110942.  94044.  57444.  50874.  48206.  27830.  26206.  16998.\n",
      "   9538.   8004.   4716.   3004.      0.]\n",
      "0.003472222222222222\n",
      "[1.06856448e-04 5.23483195e-01 1.04685953e+00 1.57023587e+00\n",
      " 2.09361221e+00 2.61698855e+00 3.14036489e+00 3.66374123e+00\n",
      " 4.18711757e+00 4.71049391e+00 5.23387024e+00 5.75724658e+00\n",
      " 6.28062292e+00 6.80399926e+00 7.32737560e+00 7.85075194e+00\n",
      " 8.37412828e+00 8.89750462e+00 9.42088096e+00 9.94425729e+00\n",
      " 1.04676336e+01 1.09910100e+01 1.15143863e+01 1.20377626e+01\n",
      " 1.25611390e+01 1.30845153e+01 1.36078917e+01 1.41312680e+01\n",
      " 1.46546443e+01 1.51780207e+01 1.57013970e+01 1.62247734e+01\n",
      " 1.67481497e+01 1.72715260e+01 1.77949024e+01 1.83182787e+01\n",
      " 1.88416551e+01 1.93650314e+01 1.98884077e+01 2.04117841e+01\n",
      " 2.09351604e+01 2.14585367e+01 2.19819131e+01 2.25052894e+01\n",
      " 2.30286658e+01 2.35520421e+01 2.40754184e+01 2.45987948e+01\n",
      " 2.51221711e+01 2.56455475e+01]\n"
     ]
    },
    {
     "name": "stderr",
     "output_type": "stream",
     "text": [
      "100%|██████████| 300/300 [01:30<00:00,  3.33it/s]\n"
     ]
    },
    {
     "name": "stdout",
     "output_type": "stream",
     "text": [
      "[3.77320e+04 4.08940e+04 8.05900e+04 1.52006e+05 1.86954e+05 2.27458e+05\n",
      " 2.27604e+05 2.83972e+05 3.49684e+05 2.98636e+05 3.07804e+05 3.93174e+05\n",
      " 4.12536e+05 3.88126e+05 3.95632e+05 4.27624e+05 4.36566e+05 4.22530e+05\n",
      " 3.90118e+05 4.55524e+05 4.43252e+05 4.03092e+05 3.94016e+05 4.19310e+05\n",
      " 4.23086e+05 3.66484e+05 3.50948e+05 3.61634e+05 3.35212e+05 3.05652e+05\n",
      " 3.02590e+05 2.97654e+05 2.66888e+05 2.21832e+05 2.06884e+05 1.97566e+05\n",
      " 1.73812e+05 1.27922e+05 1.07570e+05 7.70540e+04 6.05320e+04 5.46720e+04\n",
      " 3.85400e+04 2.70100e+04 2.18700e+04 1.01960e+04 1.24820e+04 7.19000e+03\n",
      " 3.73200e+03 2.00000e+00]\n",
      "0.003472222222222222\n",
      "[1.06856448e-04 5.23483195e-01 1.04685953e+00 1.57023587e+00\n",
      " 2.09361221e+00 2.61698855e+00 3.14036489e+00 3.66374123e+00\n",
      " 4.18711757e+00 4.71049391e+00 5.23387024e+00 5.75724658e+00\n",
      " 6.28062292e+00 6.80399926e+00 7.32737560e+00 7.85075194e+00\n",
      " 8.37412828e+00 8.89750462e+00 9.42088096e+00 9.94425729e+00\n",
      " 1.04676336e+01 1.09910100e+01 1.15143863e+01 1.20377626e+01\n",
      " 1.25611390e+01 1.30845153e+01 1.36078917e+01 1.41312680e+01\n",
      " 1.46546443e+01 1.51780207e+01 1.57013970e+01 1.62247734e+01\n",
      " 1.67481497e+01 1.72715260e+01 1.77949024e+01 1.83182787e+01\n",
      " 1.88416551e+01 1.93650314e+01 1.98884077e+01 2.04117841e+01\n",
      " 2.09351604e+01 2.14585367e+01 2.19819131e+01 2.25052894e+01\n",
      " 2.30286658e+01 2.35520421e+01 2.40754184e+01 2.45987948e+01\n",
      " 2.51221711e+01 2.56455475e+01]\n"
     ]
    },
    {
     "name": "stderr",
     "output_type": "stream",
     "text": [
      "100%|██████████| 300/300 [02:18<00:00,  2.17it/s]\n"
     ]
    },
    {
     "name": "stdout",
     "output_type": "stream",
     "text": [
      "[3.18080e+04 3.87900e+04 7.33480e+04 1.59266e+05 1.97850e+05 2.43340e+05\n",
      " 2.29482e+05 2.90098e+05 3.56816e+05 3.09234e+05 3.26926e+05 3.96196e+05\n",
      " 4.09944e+05 3.88992e+05 4.04840e+05 4.55890e+05 4.53196e+05 4.10912e+05\n",
      " 3.98150e+05 4.95208e+05 4.35796e+05 3.83478e+05 4.09248e+05 4.27214e+05\n",
      " 4.06016e+05 3.53864e+05 3.54528e+05 3.81930e+05 3.34638e+05 3.01474e+05\n",
      " 2.94956e+05 2.84330e+05 2.35534e+05 2.16804e+05 2.00292e+05 1.89102e+05\n",
      " 1.47342e+05 1.18004e+05 1.01810e+05 7.17520e+04 5.97840e+04 5.21520e+04\n",
      " 2.93900e+04 2.24000e+04 1.95380e+04 1.14320e+04 1.01480e+04 7.16000e+03\n",
      " 4.83600e+03 2.00000e+00]\n",
      "0.003472222222222222\n",
      "[1.06856448e-04 5.23483195e-01 1.04685953e+00 1.57023587e+00\n",
      " 2.09361221e+00 2.61698855e+00 3.14036489e+00 3.66374123e+00\n",
      " 4.18711757e+00 4.71049391e+00 5.23387024e+00 5.75724658e+00\n",
      " 6.28062292e+00 6.80399926e+00 7.32737560e+00 7.85075194e+00\n",
      " 8.37412828e+00 8.89750462e+00 9.42088096e+00 9.94425729e+00\n",
      " 1.04676336e+01 1.09910100e+01 1.15143863e+01 1.20377626e+01\n",
      " 1.25611390e+01 1.30845153e+01 1.36078917e+01 1.41312680e+01\n",
      " 1.46546443e+01 1.51780207e+01 1.57013970e+01 1.62247734e+01\n",
      " 1.67481497e+01 1.72715260e+01 1.77949024e+01 1.83182787e+01\n",
      " 1.88416551e+01 1.93650314e+01 1.98884077e+01 2.04117841e+01\n",
      " 2.09351604e+01 2.14585367e+01 2.19819131e+01 2.25052894e+01\n",
      " 2.30286658e+01 2.35520421e+01 2.40754184e+01 2.45987948e+01\n",
      " 2.51221711e+01 2.56455475e+01]\n"
     ]
    },
    {
     "name": "stderr",
     "output_type": "stream",
     "text": [
      "100%|██████████| 300/300 [01:43<00:00,  2.91it/s]\n"
     ]
    },
    {
     "name": "stdout",
     "output_type": "stream",
     "text": [
      "[ 43390.  37930.  75668. 158064. 201640. 235232. 232436. 292602. 368756.\n",
      " 316776. 333816. 388262. 394698. 404804. 411298. 429266. 444884. 410148.\n",
      " 412296. 478472. 437608. 382898. 429140. 425770. 408752. 364586. 358560.\n",
      " 391300. 336010. 286474. 300336. 277634. 264716. 222726. 192984. 190800.\n",
      " 146922. 106024.  93010.  59852.  49374.  42526.  34130.  22842.  11240.\n",
      "   8478.  11722.   5018.   3390.      0.]\n",
      "0.003472222222222222\n",
      "[1.06856448e-04 5.23483195e-01 1.04685953e+00 1.57023587e+00\n",
      " 2.09361221e+00 2.61698855e+00 3.14036489e+00 3.66374123e+00\n",
      " 4.18711757e+00 4.71049391e+00 5.23387024e+00 5.75724658e+00\n",
      " 6.28062292e+00 6.80399926e+00 7.32737560e+00 7.85075194e+00\n",
      " 8.37412828e+00 8.89750462e+00 9.42088096e+00 9.94425729e+00\n",
      " 1.04676336e+01 1.09910100e+01 1.15143863e+01 1.20377626e+01\n",
      " 1.25611390e+01 1.30845153e+01 1.36078917e+01 1.41312680e+01\n",
      " 1.46546443e+01 1.51780207e+01 1.57013970e+01 1.62247734e+01\n",
      " 1.67481497e+01 1.72715260e+01 1.77949024e+01 1.83182787e+01\n",
      " 1.88416551e+01 1.93650314e+01 1.98884077e+01 2.04117841e+01\n",
      " 2.09351604e+01 2.14585367e+01 2.19819131e+01 2.25052894e+01\n",
      " 2.30286658e+01 2.35520421e+01 2.40754184e+01 2.45987948e+01\n",
      " 2.51221711e+01 2.56455475e+01]\n"
     ]
    },
    {
     "name": "stderr",
     "output_type": "stream",
     "text": [
      "100%|██████████| 300/300 [01:29<00:00,  3.35it/s]\n"
     ]
    },
    {
     "name": "stdout",
     "output_type": "stream",
     "text": [
      "[ 39626.  44706.  81876. 156528. 194154. 217246. 235286. 302386. 368186.\n",
      " 314824. 332384. 395948. 418512. 398180. 402006. 463924. 464306. 405584.\n",
      " 417240. 486246. 434016. 392698. 417382. 416310. 405032. 342606. 361650.\n",
      " 378284. 326888. 298342. 295174. 288726. 235630. 214852. 194628. 186196.\n",
      " 141440. 107434.  85982.  68482.  56020.  43266.  31748.  23988.  16834.\n",
      "  10734.  11082.   6894.   3870.      0.]\n",
      "0.003472222222222222\n",
      "[1.06856448e-04 5.23483195e-01 1.04685953e+00 1.57023587e+00\n",
      " 2.09361221e+00 2.61698855e+00 3.14036489e+00 3.66374123e+00\n",
      " 4.18711757e+00 4.71049391e+00 5.23387024e+00 5.75724658e+00\n",
      " 6.28062292e+00 6.80399926e+00 7.32737560e+00 7.85075194e+00\n",
      " 8.37412828e+00 8.89750462e+00 9.42088096e+00 9.94425729e+00\n",
      " 1.04676336e+01 1.09910100e+01 1.15143863e+01 1.20377626e+01\n",
      " 1.25611390e+01 1.30845153e+01 1.36078917e+01 1.41312680e+01\n",
      " 1.46546443e+01 1.51780207e+01 1.57013970e+01 1.62247734e+01\n",
      " 1.67481497e+01 1.72715260e+01 1.77949024e+01 1.83182787e+01\n",
      " 1.88416551e+01 1.93650314e+01 1.98884077e+01 2.04117841e+01\n",
      " 2.09351604e+01 2.14585367e+01 2.19819131e+01 2.25052894e+01\n",
      " 2.30286658e+01 2.35520421e+01 2.40754184e+01 2.45987948e+01\n",
      " 2.51221711e+01 2.56455475e+01]\n"
     ]
    },
    {
     "name": "stderr",
     "output_type": "stream",
     "text": [
      " 56%|█████▋    | 169/300 [00:37<00:32,  3.99it/s]"
     ]
    }
   ],
   "source": [
    "v, std_v, r = apply_rdf(data_gt_1)"
   ]
  },
  {
   "cell_type": "code",
   "execution_count": 121,
   "metadata": {},
   "outputs": [
    {
     "name": "stderr",
     "output_type": "stream",
     "text": [
      "100%|██████████| 100/100 [00:18<00:00,  5.41it/s]"
     ]
    },
    {
     "name": "stdout",
     "output_type": "stream",
     "text": [
      "[  7040.  12936.  22754.  61982.  76178.  75470.  66388. 103618. 137476.\n",
      "  91164.  97254. 151430. 144888. 123260. 120776. 165340. 158344. 121496.\n",
      " 125006. 182374. 148334. 115704. 139176. 153496. 142178. 102786. 116996.\n",
      " 138826. 109142.  87224. 107354.  99918.  81518.  67416.  67046.  66110.\n",
      "  50164.  32904.  30948.  18118.  16114.  13898.   7388.   8314.   5102.\n",
      "   2530.   2772.   1410.    740.      0.]\n",
      "0.003472222222222222\n",
      "[1.06856448e-04 5.23483195e-01 1.04685953e+00 1.57023587e+00\n",
      " 2.09361221e+00 2.61698855e+00 3.14036489e+00 3.66374123e+00\n",
      " 4.18711757e+00 4.71049391e+00 5.23387024e+00 5.75724658e+00\n",
      " 6.28062292e+00 6.80399926e+00 7.32737560e+00 7.85075194e+00\n",
      " 8.37412828e+00 8.89750462e+00 9.42088096e+00 9.94425729e+00\n",
      " 1.04676336e+01 1.09910100e+01 1.15143863e+01 1.20377626e+01\n",
      " 1.25611390e+01 1.30845153e+01 1.36078917e+01 1.41312680e+01\n",
      " 1.46546443e+01 1.51780207e+01 1.57013970e+01 1.62247734e+01\n",
      " 1.67481497e+01 1.72715260e+01 1.77949024e+01 1.83182787e+01\n",
      " 1.88416551e+01 1.93650314e+01 1.98884077e+01 2.04117841e+01\n",
      " 2.09351604e+01 2.14585367e+01 2.19819131e+01 2.25052894e+01\n",
      " 2.30286658e+01 2.35520421e+01 2.40754184e+01 2.45987948e+01\n",
      " 2.51221711e+01 2.56455475e+01]\n"
     ]
    },
    {
     "name": "stderr",
     "output_type": "stream",
     "text": [
      "\n"
     ]
    }
   ],
   "source": [
    "#v,r = rdf(data_gt_1[0, :predList[0].shape[1]])"
   ]
  },
  {
   "cell_type": "code",
   "execution_count": 124,
   "metadata": {},
   "outputs": [
    {
     "name": "stdout",
     "output_type": "stream",
     "text": [
      "[3.29413908e+03 1.23556975e+00 1.08677426e+00 1.97365253e+00\n",
      " 1.81929585e+00 1.44192454e+00 1.05701093e+00 1.41410096e+00\n",
      " 1.64165441e+00 9.67669228e-01 9.29083025e-01 1.31512519e+00\n",
      " 1.15345247e+00 9.05790810e-01 8.24142275e-01 1.05302015e+00\n",
      " 9.45435720e-01 6.82753228e-01 6.63451755e-01 9.16981503e-01\n",
      " 7.08536452e-01 5.26357452e-01 6.04357003e-01 6.37560336e-01\n",
      " 5.65943901e-01 3.92777254e-01 4.29882905e-01 4.91201497e-01\n",
      " 3.72380242e-01 2.87336544e-01 3.41861300e-01 3.07918015e-01\n",
      " 2.43364197e-01 1.95165152e-01 1.88385411e-01 1.80448177e-01\n",
      " 1.33119941e-01 8.49572596e-02 7.78041169e-02 4.43812259e-02\n",
      " 3.84854945e-02 3.23833823e-02 1.68047248e-02 1.84712132e-02\n",
      " 1.10774980e-02 5.37108415e-03 5.75690929e-03 2.86599407e-03\n",
      " 1.47280264e-03 0.00000000e+00]\n"
     ]
    }
   ],
   "source": [
    "print(v)"
   ]
  },
  {
   "cell_type": "code",
   "execution_count": 125,
   "metadata": {},
   "outputs": [
    {
     "data": {
      "text/plain": [
       "[<matplotlib.lines.Line2D at 0x7f12df974c10>]"
      ]
     },
     "execution_count": 125,
     "metadata": {},
     "output_type": "execute_result"
    },
    {
     "data": {
      "image/png": "[encoded data removed]",
      "text/plain": [
       "<Figure size 640x480 with 1 Axes>"
      ]
     },
     "metadata": {},
     "output_type": "display_data"
    }
   ],
   "source": [
    "plt.plot(r[1:], v[1:])\n",
    "#plt.fill_between(r[1:], v[1:] - std_v[1:], v[1:] + std_v[1:], color = 'green', alpha = 0.4)\n",
    "plt.xlabel(\"Distance\")\n",
    "plt.ylabel(\"RDF\")\n",
    "plt.grid()"
   ]
  },
  {
   "cell_type": "code",
   "execution_count": null,
   "metadata": {},
   "outputs": [],
   "source": []
  }
 ],
 "metadata": {
  "kernelspec": {
   "display_name": "Python 3 (ipykernel)",
   "language": "python",
   "name": "python3"
  }
 },
 "nbformat": 4,
 "nbformat_minor": 2
}

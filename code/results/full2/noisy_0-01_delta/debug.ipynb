{
 "cells": [
  {
   "cell_type": "code",
   "execution_count": 160,
   "metadata": {},
   "outputs": [],
   "source": [
    "import matplotlib.pyplot as plt\n",
    "import numpy as np\n",
    "import sys\n",
    "from tqdm import tqdm\n",
    "import os\n",
    "import torch\n",
    "from torch_geometric.data import Data\n",
    "from torch_geometric.utils import degree as deg\n",
    "\n",
    "\n",
    "def path_link(path:str):\n",
    "    sys.path.append(path)\n",
    "\n",
    "path_link('/master/code/lib')\n",
    "\n",
    "import simulation_v2 as sim\n",
    "import features as ft\n",
    "import utils.loading as load\n",
    "import utils.testing_gen as gen\n",
    "from utils.tools import array2List, makedirs, writeJson\n",
    "import utils.nn_gen as nn_gen\n",
    "\n",
    "import pandas as pd\n",
    "\n",
    "\n",
    "\n",
    "DEVICE = torch.device(\"cuda\" if torch.cuda.is_available() else 'cpu')\n",
    "\n",
    "\n",
    "#PATH = 'master/code/runs1'\n",
    "#PATH = 'master/code/runs2'\n",
    "#PATH = ['/master/code/analyze_models/exps/test_new_activation_0']\n",
    "PATH = ['/master/code/results/models']\n",
    "\n",
    "#DISPLAY_PATH = 'master/code/display_l1'\n",
    "#DISPLAY_PATH = '/master/code/display_l1_2'\n",
    "#DISPLAY_PATH = ['/master/code/analyze_models/display/test_new_activation_0']\n",
    "DISPLAY_PATH = ['/master/code/results/figures']\n",
    "\n",
    "MODEL_PATH = '/master/code/models'\n",
    "\n",
    "NB_SIM = 1\n",
    "\n",
    "\n",
    "\n",
    "class ID():\n",
    "    def __init__(self):\n",
    "        self.features_x = None\n",
    "        self.features_edge = None\n",
    "        self.MLP_hidden = None\n",
    "        self.l1 = None\n",
    "        self.dropout = None\n",
    "        self.layer_norm = None\n",
    "        self.nb_layer = None\n",
    "        self.model = None\n",
    "        self.dt = None\n",
    "\n",
    "        self.data_type = None\n",
    "\n",
    "\n",
    "    def get_name(self):\n",
    "        name = f'{self.model}_'\n",
    "\n",
    "        if self.data_type:\n",
    "            name += f'dType-{self.data_type}_'\n",
    "\n",
    "        if self.features_x:\n",
    "            name += f'featX-{self.features_x}_'\n",
    "\n",
    "        if self.features_edge:\n",
    "            name += f'featE-{self.features_edge}_'\n",
    "\n",
    "        if self.MLP_hidden:\n",
    "            name += f'nbHiddenMLP-{self.MLP_hidden}_'\n",
    "\n",
    "        if self.l1:\n",
    "            name += f'l1-{self.l1}_'\n",
    "\n",
    "        if self.dropout:\n",
    "            name += f'dropout-{self.dropout}_'\n",
    "\n",
    "        if self.layer_norm:\n",
    "            name += f'layerNorm-{self.layer_norm}_'\n",
    "\n",
    "        if self.nb_layer:\n",
    "            name += f'nbLayer-{self.nb_layer}_'\n",
    "\n",
    "        if self.dt:\n",
    "            name += f'dt-{self.dt}_'\n",
    "\n",
    "\n",
    "        if name.endswith('_'):\n",
    "            name = name[:-1]\n",
    "\n",
    "        return name\n",
    "    \n",
    "\n",
    "    def load_from_wb(self, name):\n",
    "\n",
    "        splits = name.split('_')\n",
    "\n",
    "        self.model = 'simplest'\n",
    "\n",
    "        if 'baseline' in name:\n",
    "            self.model = 'baseline'\n",
    "\n",
    "        if 'complex' in name:\n",
    "            print(name)\n",
    "            self.model = 'gnn' \n",
    "\n",
    "        if 'gat' in name:\n",
    "            self.model = 'gat'\n",
    "\n",
    "\n",
    "        #########\n",
    "\n",
    "        if 'noisy' in name:\n",
    "            self.data_type = 'noisy'\n",
    "\n",
    "        elif 'normal' in name:\n",
    "            self.data_type = 'normal'\n",
    "\n",
    "        for s in splits:\n",
    "            if 'featX' in s:\n",
    "                self.features_x =s.split('-')[-1]\n",
    "            if 'featE' in s:\n",
    "                self.features_edge = s.split('-')[-1]\n",
    "            if 'nbHiddenMLP' in s:\n",
    "                self.MLP_hidden = int(s.split('-')[-1])\n",
    "            if 'l1' in s:\n",
    "                self.l1 = float(s.split('-')[-1])\n",
    "            if 'dropout' in s:\n",
    "                self.dropout = s.split('-')[0]\n",
    "            if 'layerNorm' in s:\n",
    "                self.layer_norm = s.split('-')[-1]\n",
    "            if 'nbLayer' in s:\n",
    "                self.nb_layer = int(s.split('-')[-1])\n",
    "            if 'dt' in s:\n",
    "                self.dt = float(s.split('-')[-1])\n",
    "\n",
    "\n",
    "            if 'dType' in s:\n",
    "                self.features_x =s.split('-')[-1]\n",
    "\n",
    "\n",
    "\n",
    "        \n",
    "\n",
    "\n",
    "\n",
    "def getParams():\n",
    "    params = gen.Parameters_Simulation()  \n",
    "\n",
    "    {'dt': 0.001, 'v0': 60, 'k': 70, 'epsilon': 0.5, 'tau': 3.5, 'R': 1, 'N': 200, 'boundary': 100, 'nbStep': 150}\n",
    "\n",
    "    params.dt = 0.001\n",
    "    params.v0 = 60\n",
    "    params.k = 70\n",
    "    params.epsilon = 0.5\n",
    "    params.tau = 3.5\n",
    "    params.R = 0\n",
    "    params.N = 200\n",
    "    params.boundary = 100\n",
    "    params.nbStep = 300\n",
    "\n",
    "\n",
    "    params.noisy = 1        # function dans utils\n",
    "    params.features_x = 'delta'\n",
    "    params.features_edge = 'first'\n",
    "\n",
    "\n",
    "    return params\n",
    "\n",
    "\n",
    "\n",
    "def find_models_and_paths(model_path:str, display_path:str)->tuple:\n",
    "    model_list = []\n",
    "    out_list = []\n",
    "    \n",
    "    nb = 0\n",
    "\n",
    "    for root, dirs, files in os.walk(model_path):\n",
    "        for file in files:\n",
    "            if file.endswith('.pt'):\n",
    "                f = os.path.join(root, file)\n",
    "                model_list.append(f)\n",
    "\n",
    "                # add ID detection here\n",
    "\n",
    "                id = ID()\n",
    "\n",
    "                id.load_from_wb(f.split('/')[-3])\n",
    "\n",
    "                path_d = id.get_name()\n",
    "                \n",
    "\n",
    "                #f_display = makedirs(display_path)\n",
    "\n",
    "                out_list.append(path_d)\n",
    "                nb += 1\n",
    "\n",
    "\n",
    "    return model_list, out_list\n",
    "\n",
    "\n",
    "\n",
    "def get_gt_preds(model, graphs, device = DEVICE):\n",
    "\n",
    "    list_gt = []\n",
    "    list_preds = []\n",
    "\n",
    "    with torch.no_grad():\n",
    "    \n",
    "        for graph in graphs:\n",
    "\n",
    "            graph = graph.to(device)\n",
    "            list_gt.append(graph.y[:, 0, :].cpu().detach().numpy())\n",
    "\n",
    "            list_preds.append(model(graph).cpu().detach().numpy())\n",
    "\n",
    "    return list_gt, list_preds\n",
    "\n",
    "\n",
    "\n",
    "def plotBoxPlot(diff, vals, bins, xlabel = 'X values', ylabel = 'y values', showfliers = False):\n",
    "    \n",
    "\n",
    "    groups = np.digitize(diff, bins)\n",
    "    grouped_errors = {i: [] for i in range(len(bins)+1)}\n",
    "\n",
    "    for idx, group in enumerate(groups):\n",
    "        grouped_errors[group].append(vals[idx])\n",
    "\n",
    "    print(len(list(grouped_errors.keys())))\n",
    "\n",
    "    centers = [bins[0]-1] + [(bins[i] + bins[i+1]) / 2 for i in range(len(bins)-1)] + [bins[-1] + 1]\n",
    "    print(len(centers))\n",
    "    data_to_plot = [grouped_errors[k] for k in sorted(grouped_errors.keys())]\n",
    "    medians = [np.median(g) if g else np.nan for g in data_to_plot]\n",
    "\n",
    "    boxprops = dict(linestyle='-', linewidth=2, color='black')  # Custom box properties\n",
    "    medianprops = dict(linestyle='-', linewidth=0, color='orange')  # Invisible median line\n",
    "    boxplot_elements = plt.boxplot(data_to_plot, positions=centers, boxprops=boxprops, medianprops=medianprops, showfliers=showfliers, widths = 0.2)\n",
    "\n",
    "    plt.plot(centers, medians, 'o-', color='orange', label='Medians')\n",
    "\n",
    "\n",
    "    plt.xlabel(xlabel)\n",
    "    plt.ylabel(ylabel)\n",
    "\n",
    "    return medians\n",
    "\n",
    "\n",
    "########################################\n",
    "\n",
    "\n",
    "def errorsDiv(pred, gt):\n",
    "    \n",
    "    v = np.pi * 2\n",
    "    anglePred = np.arctan2(pred[:, 1], pred[:, 0])\n",
    "    angleGT = np.arctan2(gt[:, 1], gt[:, 0])\n",
    "\n",
    "    normPred = np.linalg.norm(pred, axis=-1)\n",
    "    normGT = np.linalg.norm(gt, axis=-1)\n",
    "\n",
    "    errorNorm = np.abs(normPred - normGT)\n",
    "    errorAngle = np.abs((anglePred - angleGT + np.pi) % (2 * np.pi) - np.pi)\n",
    "\n",
    "    return errorAngle, errorNorm\n",
    "\n",
    "\n",
    "\n",
    "\n",
    "########################################\n",
    "\n",
    "\n",
    "def getStdMessage(model, attr):\n",
    "    model.eval()\n",
    "    with torch.no_grad():\n",
    "        v = model.GNN.message(None, None, attr).cpu().detach().numpy()\n",
    "    return v\n",
    "\n",
    "\n",
    "\n",
    "def plotStdMessage(messages):\n",
    "\n",
    "    std = np.std(messages, axis = 0)\n",
    "\n",
    "    plt.plot(std)\n",
    "    plt.xlabel('Features')\n",
    "    plt.ylabel('Standard Deviation')\n",
    "\n",
    "    return std\n",
    "\n",
    "\n",
    "########################################\n",
    "\n",
    "\n",
    "\n",
    "def plotDegreeLoss(degreeList, errorList):\n",
    "    maxBin = min(np.max(degreeList), 8)\n",
    "    bins = np.arange(maxBin+2) - 0.5\n",
    "\n",
    "    plotBoxPlot(degreeList, errorList, bins, xlabel = 'Degree', ylabel = 'L1 Error')\n",
    "\n",
    "    return None\n",
    "\n",
    "\n",
    "def get_degree_list(grpahs):\n",
    "\n",
    "    deg_list = []\n",
    "\n",
    "    for graph in grpahs:\n",
    "        degs = deg(graph.edge_index[0, :], num_nodes=graph.x.size(0))\n",
    "        deg_list.append(degs)\n",
    "\n",
    "    return deg_list\n",
    "\n",
    "\n",
    "\n",
    "################################################\n",
    "\n",
    "\n",
    "def plotDistLoss(distList, errorList):\n",
    "    bins = np.linspace(0, 6, 20)\n",
    "\n",
    "    plotBoxPlot(distList, errorList, bins, xlabel = 'Distance', ylabel = 'L1 Error')\n",
    "\n",
    "    return None\n",
    "\n",
    "\n",
    "###############################################\n",
    "\n",
    "def get_se(gts, preds):\n",
    "\n",
    "    vals = (gts - preds) ** 2\n",
    "\n",
    "    return vals\n",
    "\n",
    "def get_ma(gts, preds):\n",
    "\n",
    "    vals = np.abs(gts - preds)\n",
    "\n",
    "    return vals\n",
    "\n",
    "\n",
    "def get_mae(gts, preds):\n",
    "\n",
    "    vals = np.abs(gts - preds)\n",
    "\n",
    "    return np.mean(vals), np.std(vals)\n",
    "\n",
    "\n",
    "###############################################\n",
    "\n",
    "\n",
    "def error_speed(model, graphs):\n",
    "\n",
    "    speed_norm = []\n",
    "    errors = []\n",
    "\n",
    "    for graph in graphs:\n",
    "        speeds = graph.x[:, 2:4]\n",
    "        norm = np.abs(speeds.cpu().detach().numpy()).reshape(-1)\n",
    "        speed_norm.extend(norm.tolist())\n",
    "\n",
    "        preds = model(graph).cpu().detach().numpy()\n",
    "        y = graph.y.cpu().detach().numpy()[:, 0, :]\n",
    "\n",
    "        ers = (np.abs(preds - y)).reshape(-1)      ## MAE here\n",
    "\n",
    "\n",
    "\n",
    "        errors.extend(ers.tolist())\n",
    "\n",
    "    speed_norm = np.array(speed_norm)\n",
    "    errors = np.array(errors)\n",
    "\n",
    "    print(errors.shape)\n",
    "    print(speed_norm.shape)\n",
    "\n",
    "    plt.scatter(speed_norm, errors)\n",
    "    plt.grid()\n",
    "    plt.xlabel('Speed norm')\n",
    "    plt.ylabel('L1 Error')\n",
    "\n",
    "\n",
    "    return speed_norm, errors\n",
    "\n",
    "\n",
    "\n",
    "\n",
    "############################################################\n",
    "\n",
    "def get_pd_dict(d: dict) -> pd.DataFrame:\n",
    "    df = pd.DataFrame.from_dict(d)\n",
    "    # keys are columns by default (^^)\n",
    "\n",
    "    return df\n"
   ]
  },
  {
   "cell_type": "code",
   "execution_count": 78,
   "metadata": {},
   "outputs": [
    {
     "name": "stdout",
     "output_type": "stream",
     "text": [
      "v0:60, tau:3.5, k:70, epsilon:0.5\n"
     ]
    },
    {
     "name": "stderr",
     "output_type": "stream",
     "text": [
      "100%|██████████| 299/299 [00:02<00:00, 108.89it/s]\n"
     ]
    }
   ],
   "source": [
    "list_exp = PATH\n",
    "list_disp = DISPLAY_PATH\n",
    "\n",
    "params = getParams()                # adapt ...\n",
    "data_gt = gen.get_mult_data(params, NB_SIM)\n",
    "graphs_gt = gen.sims2Graphs(data_gt)\n",
    "\n",
    "i = 0\n",
    "\n",
    "models_dir = list_exp[i]\n",
    "path_dis = list_disp[i]\n",
    "\n",
    "models, paths = find_models_and_paths(models_dir, path_dis)"
   ]
  },
  {
   "cell_type": "code",
   "execution_count": 79,
   "metadata": {},
   "outputs": [
    {
     "name": "stdout",
     "output_type": "stream",
     "text": [
      "{'dt': 0.001, 'v0': 60, 'k': 70, 'epsilon': 0.5, 'tau': 3.5, 'R': 1, 'N': 200, 'boundary': 100, 'nbStep': 300, 'noisy': 1, 'features_x': 'delta', 'features_edge': 'first'}\n"
     ]
    }
   ],
   "source": [
    "print(params.__dict__)"
   ]
  },
  {
   "cell_type": "code",
   "execution_count": 80,
   "metadata": {},
   "outputs": [],
   "source": [
    "i = 0\n",
    "\n",
    "models_dir = list_exp[i]\n",
    "path_dis = list_disp[i]\n",
    "\n",
    "j = 0\n",
    "model_p = models[j]\n",
    "path = paths[j]\n",
    "\n",
    "#model = load.loadModel(load.getModelName(model_p), path=MODEL_PATH)\n",
    "#std_dict = torch.load(model_p)\n",
    "#model.load_state_dict(std_dict)\n",
    "#model.eval()\n",
    "#model = model.to(DEVICE)"
   ]
  },
  {
   "cell_type": "code",
   "execution_count": 81,
   "metadata": {},
   "outputs": [
    {
     "name": "stdout",
     "output_type": "stream",
     "text": [
      "simplest_dType-noisy_featX-delta_l1-0.0001_dt-0.001\n"
     ]
    }
   ],
   "source": [
    "print(path)"
   ]
  },
  {
   "cell_type": "code",
   "execution_count": 82,
   "metadata": {},
   "outputs": [
    {
     "name": "stdout",
     "output_type": "stream",
     "text": [
      "['/master/code/results/figures']\n"
     ]
    }
   ],
   "source": [
    "print(list_disp)"
   ]
  },
  {
   "cell_type": "code",
   "execution_count": 83,
   "metadata": {},
   "outputs": [],
   "source": [
    "path_display_exp = makedirs(os.path.join(path_dis, path))"
   ]
  },
  {
   "cell_type": "code",
   "execution_count": 84,
   "metadata": {},
   "outputs": [
    {
     "name": "stdout",
     "output_type": "stream",
     "text": [
      ">>>> loading simplest\n",
      "INFO >>> with NO encoder\n",
      "INFO >>> with NO dropout\n"
     ]
    }
   ],
   "source": [
    "\n",
    "model = load.loadModel(load.getModelName(model_p), path=MODEL_PATH)\n",
    "std_dict = torch.load(model_p, map_location='cpu')\n",
    "model.load_state_dict(std_dict)\n",
    "model.eval()\n",
    "model = model.to(DEVICE)"
   ]
  },
  {
   "cell_type": "code",
   "execution_count": 85,
   "metadata": {},
   "outputs": [],
   "source": [
    "gt, preds = get_gt_preds(model, graphs_gt)"
   ]
  },
  {
   "cell_type": "code",
   "execution_count": 86,
   "metadata": {},
   "outputs": [],
   "source": [
    "error_norm = []\n",
    "error_angle = []\n",
    "for i in range(len(preds)):\n",
    "    e_norm, e_angle = errorsDiv(preds[i], gt[i])\n",
    "\n",
    "    error_norm.append(e_norm)\n",
    "    error_angle.append(e_angle)\n",
    "\n",
    "error_angle = np.stack(error_angle).reshape(-1)\n",
    "error_norm = np.stack(error_norm).reshape(-1)\n"
   ]
  },
  {
   "cell_type": "code",
   "execution_count": null,
   "metadata": {},
   "outputs": [],
   "source": []
  },
  {
   "cell_type": "code",
   "execution_count": 87,
   "metadata": {},
   "outputs": [],
   "source": [
    "errors_MAE = []\n",
    "\n",
    "for i in range(len(preds)):\n",
    "    e = get_ma(preds[i], gt[i])\n",
    "    errors_MAE.append(e)\n",
    "\n",
    "errors_MAE = np.stack(errors_MAE).reshape(-1)\n"
   ]
  },
  {
   "cell_type": "code",
   "execution_count": 88,
   "metadata": {},
   "outputs": [],
   "source": [
    "d = {}\n",
    "\n",
    "d['MAE'] = float(np.mean(errors_MAE))\n",
    "d['MAE-std'] = float(np.std(errors_MAE))\n",
    "\n",
    "d['angle-error'] =float(np.mean(error_angle))\n",
    "d['angle-std'] = float(np.std(error_angle))\n",
    "\n",
    "d['norm-error'] = float(np.mean(error_norm))\n",
    "d['norm-std'] = float(np.std(error_norm))"
   ]
  },
  {
   "cell_type": "code",
   "execution_count": 89,
   "metadata": {},
   "outputs": [
    {
     "name": "stdout",
     "output_type": "stream",
     "text": [
      "{'MAE': 0.0004013448196928948, 'MAE-std': 0.0011860370868816972, 'angle-error': 0.0004015648446511477, 'angle-std': 0.0008493481436744332, 'norm-error': 0.01716194674372673, 'norm-std': 0.08005509525537491}\n"
     ]
    }
   ],
   "source": [
    "print(d)"
   ]
  },
  {
   "cell_type": "code",
   "execution_count": 90,
   "metadata": {},
   "outputs": [],
   "source": [
    "writeJson(d, os.path.join(path_display_exp, 'data.json'))"
   ]
  },
  {
   "cell_type": "code",
   "execution_count": 91,
   "metadata": {},
   "outputs": [],
   "source": [
    "messages = getStdMessage(model, graphs_gt[0].edge_attr.to(DEVICE))\n",
    "_ =  plotStdMessage(messages)\n",
    "plt.savefig(os.path.join(path_display_exp, 'messages.png'))\n",
    "plt.close()"
   ]
  },
  {
   "cell_type": "code",
   "execution_count": 92,
   "metadata": {},
   "outputs": [],
   "source": [
    "deg_list = get_degree_list(graphs_gt)"
   ]
  },
  {
   "cell_type": "code",
   "execution_count": 93,
   "metadata": {},
   "outputs": [
    {
     "name": "stdout",
     "output_type": "stream",
     "text": [
      "[5.7680160e-04 1.9612722e-04 2.1349601e-03 ... 3.2019708e-04 7.5612217e-05\n",
      " 1.6864389e-05]\n"
     ]
    }
   ],
   "source": [
    "print(errors_MAE)"
   ]
  },
  {
   "cell_type": "code",
   "execution_count": 170,
   "metadata": {},
   "outputs": [],
   "source": [
    "def plotDegreeLoss(degreeList, models, graphs, device = DEVICE):\n",
    "\n",
    "    list_gt, list_preds = get_gt_preds(model, graphs, device = device)\n",
    "\n",
    "\n",
    "    errors_MSE = []\n",
    "\n",
    "    for i in range(len(list_gt)):\n",
    "        e = get_ma(list_preds[i], list_gt[i])\n",
    "        errors_MSE.append(e)\n",
    "\n",
    "\n",
    "    errors_MSE = np.stack(errors_MSE).reshape(-1)\n",
    "\n",
    "\n",
    "    degList = [degreeList[i].cpu().detach().numpy() for i in range(len(degreeList))]\n",
    "    degList = np.stack(degList).reshape(-1)\n",
    "\n",
    "    maxBin = min(np.max(degList), 8)\n",
    "    bins = np.arange(maxBin+2) - 0.5\n",
    "\n",
    "    plotBoxPlot(degList, errors_MSE, bins, xlabel = 'Degree', ylabel = 'L1 Error')\n",
    "\n",
    "    return None"
   ]
  },
  {
   "cell_type": "code",
   "execution_count": 171,
   "metadata": {},
   "outputs": [
    {
     "name": "stdout",
     "output_type": "stream",
     "text": [
      "6\n",
      "6\n"
     ]
    },
    {
     "data": {
      "image/png": "[encoded data removed]",
      "text/plain": [
       "<Figure size 640x480 with 1 Axes>"
      ]
     },
     "metadata": {},
     "output_type": "display_data"
    }
   ],
   "source": [
    "plotDegreeLoss(deg_list, model, graphs_gt)"
   ]
  },
  {
   "cell_type": "code",
   "execution_count": null,
   "metadata": {},
   "outputs": [],
   "source": [
    "plt.savefig(os.path.join(path_display_exp, 'errors-degs.png'))\n",
    "plt.close()"
   ]
  },
  {
   "cell_type": "code",
   "execution_count": 161,
   "metadata": {},
   "outputs": [
    {
     "name": "stdout",
     "output_type": "stream",
     "text": [
      "(115600,)\n",
      "(115600,)\n"
     ]
    },
    {
     "data": {
      "image/png": "[encoded data removed]",
      "text/plain": [
       "<Figure size 640x480 with 1 Axes>"
      ]
     },
     "metadata": {},
     "output_type": "display_data"
    }
   ],
   "source": [
    "speed_norm, errors = error_speed(model, graphs_gt)"
   ]
  },
  {
   "cell_type": "code",
   "execution_count": 162,
   "metadata": {},
   "outputs": [],
   "source": [
    "maxBin = 20\n",
    "bins = np.linspace(0, np.max(speed_norm), maxBin+2)\n"
   ]
  },
  {
   "cell_type": "code",
   "execution_count": 163,
   "metadata": {},
   "outputs": [
    {
     "name": "stdout",
     "output_type": "stream",
     "text": [
      "[0.         0.         0.         ... 0.01101279 0.0101167  0.05914095]\n"
     ]
    }
   ],
   "source": [
    "print(speed_norm)"
   ]
  },
  {
   "cell_type": "code",
   "execution_count": 164,
   "metadata": {},
   "outputs": [
    {
     "name": "stdout",
     "output_type": "stream",
     "text": [
      "[0.         0.00723807 0.01447614 0.02171421 0.02895228 0.03619035\n",
      " 0.04342842 0.05066649 0.05790456 0.06514263 0.07238069 0.07961876\n",
      " 0.08685683 0.0940949  0.10133297 0.10857104 0.11580911 0.12304718\n",
      " 0.13028525 0.13752332 0.14476139 0.15199946]\n"
     ]
    }
   ],
   "source": [
    "print(bins)"
   ]
  },
  {
   "cell_type": "code",
   "execution_count": 167,
   "metadata": {},
   "outputs": [],
   "source": [
    "import matplotlib.ticker as ticker\n",
    "\n",
    "def plotBoxPlot2(diff, vals, bins, xlabel = 'X values', ylabel = 'y values', showfliers = False):\n",
    "    \n",
    "\n",
    "    groups = np.digitize(diff, bins)\n",
    "    grouped_errors = {i: [] for i in range(len(bins)+1)}\n",
    "\n",
    "    for idx, group in enumerate(groups):\n",
    "        grouped_errors[group].append(vals[idx])\n",
    "\n",
    "    plt.grid(zorder = 2)\n",
    "    centers = [bins[0]-1] + [(bins[i] + bins[i+1]) / 2 for i in range(len(bins)-1)] + [bins[-1] + 1]\n",
    "    data_to_plot = [grouped_errors[k] for k in sorted(grouped_errors.keys())]\n",
    "    medians = [np.median(g) if g else np.nan for g in data_to_plot]\n",
    "\n",
    "    boxprops = dict(linestyle='-', linewidth=1, color='black')  # Custom box properties\n",
    "    medianprops = dict(linestyle='-', linewidth=0, color='orange')  # Invisible median line\n",
    "    boxplot_elements = plt.boxplot(data_to_plot, positions=centers, boxprops=boxprops, medianprops=medianprops, showfliers=showfliers, widths = 0.0051, zorder = 1)\n",
    "\n",
    "\n",
    "    plt.plot(centers[:-1], medians[:-1], '-', color='orange', label='Medians', alpha = 0.8)\n",
    "\n",
    "    plt.xlabel(xlabel)\n",
    "    plt.ylabel(ylabel)\n",
    "\n",
    "    #v = np.linalg.norm(0, 0.15, 5)\n",
    "    #plt.xticks(ticks=v, labels=[f'{v[i]}' for i in len(v)])\n",
    "\n",
    "    plt.gca().xaxis.set_major_locator(ticker.MaxNLocator(nbins=5))\n",
    "    plt.gca().xaxis.set_major_formatter(ticker.FuncFormatter(lambda val, _: f'{val:.2g}'))\n",
    "    \n",
    "    plt.xlim([-0.001, np.max(bins) + 0.01])\n",
    "\n",
    "    return medians"
   ]
  },
  {
   "cell_type": "code",
   "execution_count": 169,
   "metadata": {},
   "outputs": [
    {
     "data": {
      "image/png": "[encoded data removed]",
      "text/plain": [
       "<Figure size 640x480 with 1 Axes>"
      ]
     },
     "metadata": {},
     "output_type": "display_data"
    }
   ],
   "source": [
    "_ = plotBoxPlot2(speed_norm, errors, bins, xlabel = 'Absolute speed', ylabel = 'L1 Error')"
   ]
  },
  {
   "cell_type": "code",
   "execution_count": null,
   "metadata": {},
   "outputs": [],
   "source": []
  }
 ],
 "metadata": {
  "kernelspec": {
   "display_name": "Python 3 (ipykernel)",
   "language": "python",
   "name": "python3"
  },
  "language_info": {
   "codemirror_mode": {
    "name": "ipython",
    "version": 3
   },
   "file_extension": ".py",
   "mimetype": "text/x-python",
   "name": "python",
   "nbconvert_exporter": "python",
   "pygments_lexer": "ipython3",
   "version": "3.11.9"
  }
 },
 "nbformat": 4,
 "nbformat_minor": 2
}

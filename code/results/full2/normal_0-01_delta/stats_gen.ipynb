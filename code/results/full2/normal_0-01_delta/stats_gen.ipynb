{
 "cells": [
  {
   "cell_type": "code",
   "execution_count": 1,
   "metadata": {},
   "outputs": [
    {
     "name": "stdout",
     "output_type": "stream",
     "text": [
      "yessss\n"
     ]
    }
   ],
   "source": [
    "import matplotlib.pyplot as plt\n",
    "import numpy as np\n",
    "import sys\n",
    "from tqdm import tqdm\n",
    "import os\n",
    "import torch\n",
    "from torch_geometric.data import Data\n",
    "\n",
    "def path_link(path:str):\n",
    "    sys.path.append(path)\n",
    "\n",
    "path_link('/master/code/lib')\n",
    "\n",
    "import simulation_v2 as sim\n",
    "import features as ft\n",
    "import utils.loading as load\n",
    "import utils.testing_gen as gen\n",
    "from utils.tools import array2List, makedirs\n",
    "import utils.nn_gen as nn_gen"
   ]
  },
  {
   "cell_type": "code",
   "execution_count": 2,
   "metadata": {},
   "outputs": [],
   "source": [
    "#PATH = 'master/code/runs1'\n",
    "#PATH = 'master/code/runs2'\n",
    "#PATH = ['/master/code/analyze_models/exps/test_new_activation_0']\n",
    "PATH = ['/master/code/analyze_models/exps/exp-test']\n",
    "\n",
    "#DISPLAY_PATH = 'master/code/display_l1'\n",
    "#DISPLAY_PATH = '/master/code/display_l1_2'\n",
    "#DISPLAY_PATH = ['/master/code/analyze_models/display/test_new_activation_0']\n",
    "DISPLAY_PATH = ['/master/code/analyze_models/display/exp-test']\n",
    "\n",
    "MODEL_PATH = '/master/code/models/mod_base'\n",
    "\n",
    "NB_SIM = 10"
   ]
  },
  {
   "cell_type": "markdown",
   "metadata": {},
   "source": [
    "### Rollout MSE function"
   ]
  },
  {
   "cell_type": "code",
   "execution_count": 26,
   "metadata": {},
   "outputs": [],
   "source": [
    "def MSE_rollout(roll, sim, display:bool = False):\n",
    "    x = np.arange(roll.shape[0])\n",
    "    vals = ((roll - sim) ** 2).reshape(x.shape[0], -1)\n",
    "    y = np.mean(vals, axis=1)\n",
    "    std = np.std(vals, axis=1)\n",
    "\n",
    "    if display:\n",
    "        plt.plot(x, y, 'blue')\n",
    "        plt.fill_between(x, y-std, y+std, zorder=  2, alpha = 0.4)\n",
    "        plt.xlabel('Time')\n",
    "        plt.ylabel('Rollout MSE')\n",
    "        plt.grid(zorder = 1)\n",
    "\n",
    "    return x, y\n",
    "\n",
    "\n",
    "def applyMSE_rollout(simList, predList, color = 'blue', display:bool = False):\n",
    "\n",
    "    res = np.zeros((len(simList), simList[0].shape[0]))\n",
    "\n",
    "    for i in range(len(simList)):\n",
    "        _, res[i] = MSE_rollout(predList[i], simList[i])\n",
    "\n",
    "    res = np.mean(res, axis = 0)\n",
    "\n",
    "    x = np.arange(res.shape[0])\n",
    "    if display:\n",
    "        plt.plot(x, res, color)\n",
    "        #std = np.std(res, axis = 0)\n",
    "        #plt.fill_between(x, res-std, res+std, zorder=  2, alpha = 0.4)\n",
    "        plt.xlabel('Timesteps')\n",
    "        plt.ylabel('Rollout MSE')\n",
    "        plt.grid(zorder = 1)"
   ]
  },
  {
   "cell_type": "markdown",
   "metadata": {},
   "source": [
    "### MSD functions"
   ]
  },
  {
   "cell_type": "code",
   "execution_count": 45,
   "metadata": {},
   "outputs": [],
   "source": [
    "def MSD_comp(traj, tau):\n",
    "    T = traj.shape[0]\n",
    "    i = np.arange(T - tau)\n",
    "    j = i + tau\n",
    "\n",
    "    return np.linalg.norm(traj[j, :, :] - traj[i, :, :], axis=-1)**2\n",
    "\n",
    "\n",
    "def MSD(traj: np.array)-> np.array:\n",
    "    \"\"\"\n",
    "    Allows to compute the Mean Squared Displacement of the trajectories for all timestamps\n",
    "    \n",
    "    Args:\n",
    "    -----\n",
    "    - `traj`: np.array of N trajectories of length T [NxT]\n",
    "    \n",
    "    Output:\n",
    "    -------\n",
    "    Mean Squared Displacement for all timestamps\n",
    "    \"\"\"\n",
    "\n",
    "    res = []\n",
    "    T = traj.shape[0]\n",
    "    \n",
    "    for tau in range(1, T):\n",
    "        val = np.mean(np.mean(MSD_comp(traj, tau), axis=0), axis=0)\n",
    "        res.append(val)\n",
    "\n",
    "    return res\n",
    "\n",
    "def applyMSD(sims:list, display:bool = False, color:str = 'blue')->np.array:\n",
    "    \"\"\" \n",
    "    Function to apply MSD to a group of simulations\n",
    "\n",
    "    NOTE: test\n",
    "\n",
    "    Args:\n",
    "    -----\n",
    "        - `sims` (list): list of simualtions\n",
    "\n",
    "    Returns:\n",
    "    --------\n",
    "        np array [#Sim, T-1] of MSD computations\n",
    "    \"\"\"\n",
    "\n",
    "    res = np.zeros((len(sims), sims[0].shape[0]-1))\n",
    "    for i in range(len(sims)):\n",
    "        sim = sims[i]\n",
    "        res[i, :] = np.array(MSD(sim))\n",
    "\n",
    "\n",
    "    if display:\n",
    "        x = np.arange(sims[0].shape[0]-1)\n",
    "        y = np.mean(res, axis = 0)\n",
    "        std = np.std(res, axis = 0)\n",
    "        plt.loglog(x, y, color = color, zorder = 1)\n",
    "        plt.fill_between((x), (y - std), (y+std), color = color, alpha = 0.4, zorder = 2)\n",
    "        \n",
    "        plt.xlabel('Timesteps')\n",
    "        plt.ylabel('MSD')\n",
    "\n",
    "    return res"
   ]
  },
  {
   "cell_type": "markdown",
   "metadata": {},
   "source": [
    "### Scattering function"
   ]
  },
  {
   "cell_type": "code",
   "execution_count": 72,
   "metadata": {},
   "outputs": [],
   "source": [
    "def SelfIntermediateA(data, qval, verbose=False):\n",
    "    T, N, _ = data.shape  # T is the number of time steps, N is the number of particles\n",
    "    qval = np.array(qval, dtype=np.complex128)  # Ensure wave vector is complex for the computation\n",
    "    \n",
    "    SelfInt = np.empty((T-1,), dtype=np.complex128)\n",
    "    \n",
    "    for t in range(T-1):\n",
    "        smax = T - t  \n",
    "        \n",
    "        rt = data[:smax]       \n",
    "        rtplus = data[t:] \n",
    "        dr = rt - rtplus\n",
    "        \n",
    "        exp_factor = np.exp(1j * (qval[0] * dr[:, :, 0] + qval[1] * dr[:, :, 1]))\n",
    "        \n",
    "        SelfInt[t] = np.sum(exp_factor) / (N * smax)\n",
    "    \n",
    "    SelfInt_mod = np.sqrt(np.real(SelfInt)**2 + np.imag(SelfInt)**2)\n",
    "    \n",
    "    tval = np.linspace(0, T-1, num=T-1)\n",
    "    \n",
    "    if verbose:\n",
    "        plt.figure(figsize=(10, 5))\n",
    "        plt.semilogy(tval, SelfInt_mod, '.-r', lw=2)\n",
    "        plt.xlabel('time')\n",
    "        plt.ylabel('F_s(k,t)')\n",
    "        plt.title('Self-intermediate Function')\n",
    "        plt.grid(True)\n",
    "        plt.ylim([0, 1])\n",
    "        plt.show()\n",
    "    \n",
    "    return tval, SelfInt_mod, SelfInt\n",
    "\n",
    "\n",
    "def applySelfScattering(simList, qval = None, display:bool = False, color = 'blue'):\n",
    "    if qval is None:\n",
    "        R = 1       #ngfjdngjdnsjhnjfnvjfdnbjvnfdjkgnfjkdhvbjkdhgjklhgjkd\n",
    "        qval = 2*np.pi/R*np.array([1,0])\n",
    "\n",
    "    res = np.zeros((len(simList),simList[0].shape[0]-1 ))\n",
    "\n",
    "    for i in range(len(simList)):\n",
    "        sim = simList[i]\n",
    "\n",
    "        val = SelfIntermediateA(sim.copy(), qval.copy(), verbose = False)[1]\n",
    "        res[i] = val\n",
    "\n",
    "    r = np.mean(res, axis=0)\n",
    "    delta = np.std(r, axis = 0)\n",
    "\n",
    "    if display:\n",
    "        #plt.figure(figsize=(10, 5))\n",
    "        t = np.arange(1, simList[0].shape[0])\n",
    "\n",
    "        plt.grid()\n",
    "        plt.semilogy(t, r, color = color, lw=2)\n",
    "       # plt.fill_between(t, r-delta, r+delta, color = color, alpha = 0.4)\n",
    "        plt.xlabel('time')\n",
    "        plt.ylabel('F_s(k,t)')\n",
    "        plt.title('Self-intermediate Function')\n",
    "        plt.grid(True)\n",
    "\n",
    "    return r"
   ]
  },
  {
   "cell_type": "markdown",
   "metadata": {},
   "source": [
    "### Main - test"
   ]
  },
  {
   "cell_type": "code",
   "execution_count": 6,
   "metadata": {},
   "outputs": [
    {
     "name": "stdout",
     "output_type": "stream",
     "text": [
      "v0:60, tau:3.5, k:70, epsilon:0.5\n"
     ]
    },
    {
     "name": "stderr",
     "output_type": "stream",
     "text": [
      "100%|██████████| 149/149 [00:02<00:00, 69.69it/s]\n"
     ]
    },
    {
     "name": "stdout",
     "output_type": "stream",
     "text": [
      "v0:60, tau:3.5, k:70, epsilon:0.5\n"
     ]
    },
    {
     "name": "stderr",
     "output_type": "stream",
     "text": [
      "100%|██████████| 149/149 [00:02<00:00, 69.45it/s]\n"
     ]
    },
    {
     "name": "stdout",
     "output_type": "stream",
     "text": [
      "v0:60, tau:3.5, k:70, epsilon:0.5\n"
     ]
    },
    {
     "name": "stderr",
     "output_type": "stream",
     "text": [
      "100%|██████████| 149/149 [00:02<00:00, 57.98it/s]\n"
     ]
    },
    {
     "name": "stdout",
     "output_type": "stream",
     "text": [
      "v0:60, tau:3.5, k:70, epsilon:0.5\n"
     ]
    },
    {
     "name": "stderr",
     "output_type": "stream",
     "text": [
      "100%|██████████| 149/149 [00:02<00:00, 64.44it/s]\n"
     ]
    },
    {
     "name": "stdout",
     "output_type": "stream",
     "text": [
      "v0:60, tau:3.5, k:70, epsilon:0.5\n"
     ]
    },
    {
     "name": "stderr",
     "output_type": "stream",
     "text": [
      "100%|██████████| 149/149 [00:02<00:00, 61.11it/s]\n"
     ]
    },
    {
     "name": "stdout",
     "output_type": "stream",
     "text": [
      "v0:60, tau:3.5, k:70, epsilon:0.5\n"
     ]
    },
    {
     "name": "stderr",
     "output_type": "stream",
     "text": [
      "100%|██████████| 149/149 [00:01<00:00, 77.33it/s] \n"
     ]
    },
    {
     "name": "stdout",
     "output_type": "stream",
     "text": [
      "v0:60, tau:3.5, k:70, epsilon:0.5\n"
     ]
    },
    {
     "name": "stderr",
     "output_type": "stream",
     "text": [
      "100%|██████████| 149/149 [00:02<00:00, 71.65it/s]\n"
     ]
    },
    {
     "name": "stdout",
     "output_type": "stream",
     "text": [
      "v0:60, tau:3.5, k:70, epsilon:0.5\n"
     ]
    },
    {
     "name": "stderr",
     "output_type": "stream",
     "text": [
      "100%|██████████| 149/149 [00:02<00:00, 62.70it/s]\n"
     ]
    },
    {
     "name": "stdout",
     "output_type": "stream",
     "text": [
      "v0:60, tau:3.5, k:70, epsilon:0.5\n"
     ]
    },
    {
     "name": "stderr",
     "output_type": "stream",
     "text": [
      "100%|██████████| 149/149 [00:01<00:00, 77.63it/s]\n"
     ]
    },
    {
     "name": "stdout",
     "output_type": "stream",
     "text": [
      "v0:60, tau:3.5, k:70, epsilon:0.5\n"
     ]
    },
    {
     "name": "stderr",
     "output_type": "stream",
     "text": [
      "100%|██████████| 149/149 [00:02<00:00, 71.93it/s]\n"
     ]
    }
   ],
   "source": [
    "if PATH is None:\n",
    "        # check if listdir only outputs the last element (...)\n",
    "        list_exp = [os.listdir('/master/code/analyze_models/exp/')]\n",
    "        list_disp = [os.path.join('/master/code/analyze_models/display', list_exp[i]) for i in range(len(list_exp))]\n",
    "\n",
    "else:\n",
    "    list_exp = PATH\n",
    "    list_disp = DISPLAY_PATH\n",
    "\n",
    "params = gen.Parameters_Simulation()\n",
    "data_gt = gen.get_mult_data(params, NB_SIM)\n",
    "data_gt_list = array2List(data_gt)"
   ]
  },
  {
   "cell_type": "code",
   "execution_count": 7,
   "metadata": {},
   "outputs": [],
   "source": [
    "exp = list_exp[0]\n",
    "disp = list_disp[0]"
   ]
  },
  {
   "cell_type": "code",
   "execution_count": 8,
   "metadata": {},
   "outputs": [
    {
     "name": "stderr",
     "output_type": "stream",
     "text": [
      "4it [00:00, 45.94it/s]\n"
     ]
    }
   ],
   "source": [
    "model_list = load.findModels(exp)"
   ]
  },
  {
   "cell_type": "code",
   "execution_count": 9,
   "metadata": {},
   "outputs": [
    {
     "name": "stdout",
     "output_type": "stream",
     "text": [
      ">>>> loading simplest\n",
      "INFO >>> with NO encoder\n",
      "INFO >>> with NO dropout\n"
     ]
    },
    {
     "data": {
      "text/plain": [
       "Simplest(\n",
       "  (GNN): GN_edge()\n",
       ")"
      ]
     },
     "execution_count": 9,
     "metadata": {},
     "output_type": "execute_result"
    }
   ],
   "source": [
    "DEVICE = torch.device(\"cuda\" if torch.cuda.is_available() else 'cpu')\n",
    "\n",
    "model_path = model_list[0]\n",
    "name_plot = load.getName(model_path)\n",
    "model = load.loadModel(load.getModelName(name_plot), path=MODEL_PATH)\n",
    "std_dict = torch.load(model_path)\n",
    "model.load_state_dict(std_dict)\n",
    "model = model.to(DEVICE)\n",
    "model.eval()"
   ]
  },
  {
   "cell_type": "code",
   "execution_count": 10,
   "metadata": {},
   "outputs": [
    {
     "name": "stderr",
     "output_type": "stream",
     "text": [
      "100%|██████████| 99/99 [00:09<00:00, 10.20it/s]\n",
      "100%|██████████| 99/99 [00:13<00:00,  7.49it/s]\n",
      "100%|██████████| 99/99 [00:16<00:00,  6.05it/s]\n",
      "100%|██████████| 99/99 [00:20<00:00,  4.81it/s]\n",
      "100%|██████████| 99/99 [00:18<00:00,  5.36it/s]\n",
      "100%|██████████| 99/99 [00:15<00:00,  6.46it/s]\n",
      "100%|██████████| 99/99 [00:17<00:00,  5.51it/s]\n",
      "100%|██████████| 99/99 [00:23<00:00,  4.29it/s]\n",
      "100%|██████████| 99/99 [00:31<00:00,  3.13it/s]\n",
      "100%|██████████| 99/99 [00:37<00:00,  2.64it/s]\n"
     ]
    }
   ],
   "source": [
    "preds = nn_gen.generate_sim_batch(model, data_gt)\n",
    "data_preds = array2List(preds)"
   ]
  },
  {
   "cell_type": "code",
   "execution_count": 14,
   "metadata": {},
   "outputs": [],
   "source": [
    "data_gt = data_gt[:, :preds.shape[1], :, :]\n",
    "data_gt_list = [d[:preds.shape[1], :, :] for d in data_gt_list]"
   ]
  },
  {
   "cell_type": "code",
   "execution_count": 27,
   "metadata": {},
   "outputs": [
    {
     "data": {
      "image/png": "[encoded data removed]",
      "text/plain": [
       "<Figure size 640x480 with 1 Axes>"
      ]
     },
     "metadata": {},
     "output_type": "display_data"
    }
   ],
   "source": [
    "applyMSE_rollout(data_gt_list, data_preds, display = True)"
   ]
  },
  {
   "cell_type": "code",
   "execution_count": 47,
   "metadata": {},
   "outputs": [
    {
     "data": {
      "image/png": "[encoded data removed]",
      "text/plain": [
       "<Figure size 640x480 with 1 Axes>"
      ]
     },
     "metadata": {},
     "output_type": "display_data"
    }
   ],
   "source": [
    "r = applyMSD(data_gt_list,\n",
    "         display = True)\n",
    "\n",
    "r = applyMSD(data_preds,\n",
    "         display = True,\n",
    "         color='red')"
   ]
  },
  {
   "cell_type": "code",
   "execution_count": 73,
   "metadata": {},
   "outputs": [
    {
     "data": {
      "text/plain": [
       "array([1.        , 0.96222361, 0.85323953, 0.68544194, 0.47766114,\n",
       "       0.25348126, 0.06507447, 0.17307907, 0.31815711, 0.40886466,\n",
       "       0.43851628, 0.40919721, 0.3297771 , 0.21460514, 0.08452131,\n",
       "       0.078572  , 0.19034468, 0.2820023 , 0.33739861, 0.3524143 ,\n",
       "       0.32926092, 0.27563544, 0.20433102, 0.13559351, 0.10536224,\n",
       "       0.12087762, 0.14621479, 0.15683043, 0.14782841, 0.12610015,\n",
       "       0.1096482 , 0.12807571, 0.16853677, 0.2059355 , 0.22665633,\n",
       "       0.22380318, 0.19548938, 0.14437717, 0.07938094, 0.04076142,\n",
       "       0.09005899, 0.15663895, 0.20693514, 0.23460934, 0.23793396,\n",
       "       0.21980724, 0.18868626, 0.16014176, 0.15489134, 0.17741463,\n",
       "       0.20965701, 0.2345653 , 0.2425281 , 0.22983873, 0.19736167,\n",
       "       0.14998348, 0.09767704, 0.06960325, 0.1002775 , 0.14563751,\n",
       "       0.18474862, 0.21068114, 0.22166255, 0.21875529, 0.20466792,\n",
       "       0.18277465, 0.15650678, 0.12978251, 0.10463505, 0.08282037,\n",
       "       0.0651373 , 0.06656134, 0.07931675, 0.10104185, 0.11942702,\n",
       "       0.12626154, 0.11922603, 0.09853829, 0.06771339, 0.04150647,\n",
       "       0.04899243, 0.08924978, 0.125131  , 0.14828469, 0.15475558,\n",
       "       0.14316702, 0.11496061, 0.07501096, 0.04641389, 0.06501521,\n",
       "       0.10137158, 0.13874131, 0.16171956, 0.16647302, 0.15296425,\n",
       "       0.12539777, 0.0950399 , 0.08600693, 0.11385465])"
      ]
     },
     "execution_count": 73,
     "metadata": {},
     "output_type": "execute_result"
    },
    {
     "data": {
      "image/png": "[encoded data removed]",
      "text/plain": [
       "<Figure size 640x480 with 1 Axes>"
      ]
     },
     "metadata": {},
     "output_type": "display_data"
    }
   ],
   "source": [
    "r = applySelfScattering(data_gt_list, \n",
    "                    qval = None, \n",
    "                    display = True, \n",
    "                    color = 'blue')\n",
    "\n",
    "\n",
    "r = applySelfScattering(data_preds, \n",
    "                    qval = None, \n",
    "                    display = True, \n",
    "                    color = 'red')"
   ]
  },
  {
   "cell_type": "code",
   "execution_count": 67,
   "metadata": {},
   "outputs": [
    {
     "name": "stdout",
     "output_type": "stream",
     "text": [
      "[1.         0.96758782 0.87413497 0.73020361 0.55150678 0.3568794\n",
      " 0.16687571 0.05567599 0.14857677 0.23853995 0.28051044 0.27539197\n",
      " 0.23004537 0.15645469 0.08313469 0.08334406 0.14247989 0.19943335\n",
      " 0.23096278 0.23167396 0.20265142 0.14974854 0.08391049 0.05379909\n",
      " 0.09146942 0.14249767 0.17691452 0.18731832 0.17265521 0.13599968\n",
      " 0.08432859 0.03916415 0.05607778 0.10309009 0.13934088 0.1566499\n",
      " 0.15297321 0.13001818 0.09396147 0.06694667 0.0728318  0.09297195\n",
      " 0.12157314 0.13855939 0.13963905 0.1245349  0.09744278 0.06975348\n",
      " 0.0662282  0.08428175 0.10800055 0.12628314 0.13030119 0.11849192\n",
      " 0.0927112  0.05871953 0.03591178 0.05579443 0.08375758 0.10752392\n",
      " 0.11930906 0.11653784 0.1006234  0.07769728 0.06069699 0.06049999\n",
      " 0.08176915 0.10079916 0.11122011 0.10970302 0.09582097 0.07256253\n",
      " 0.04937691 0.04377374 0.06830633 0.0944988  0.1119315  0.11653833\n",
      " 0.10731055 0.08574796 0.05641016 0.03623612 0.0499159  0.07839508\n",
      " 0.10299511 0.11764999 0.12038748 0.1114847  0.09299893 0.0696688\n",
      " 0.05651985 0.06140973 0.07592833 0.0891669  0.09612308 0.09415422\n",
      " 0.08357281 0.06719581 0.05134154]\n"
     ]
    }
   ],
   "source": [
    "print(r)"
   ]
  },
  {
   "cell_type": "code",
   "execution_count": 64,
   "metadata": {},
   "outputs": [
    {
     "name": "stdout",
     "output_type": "stream",
     "text": [
      "[ 0.         -0.03294909 -0.13452049 -0.31443186 -0.59510115 -1.03035736\n",
      " -1.79050597 -2.88820624 -1.90665347 -1.43321849 -1.27114435 -1.28955985\n",
      " -1.46947873 -1.85498883 -2.48729322 -2.48477797 -1.94855439 -1.61227517\n",
      " -1.46549871 -1.46242424 -1.5962679  -1.89879777 -2.47800468 -2.9224988\n",
      " -2.39175058 -1.94842962 -1.73208857 -1.67494584 -1.75645869 -1.99510271\n",
      " -2.47303431 -3.23999346 -2.88101568 -2.27215197 -1.97083199 -1.85374189\n",
      " -1.87749248 -2.04008102 -2.36487047 -2.70385889 -2.61960257 -2.3754575\n",
      " -2.10723925 -1.97645626 -1.96869437 -2.08316927 -2.32848997 -2.66278801\n",
      " -2.71464899 -2.47358997 -2.22561896 -2.06922878 -2.03790666 -2.13291049\n",
      " -2.37826605 -2.83498293 -3.32668995 -2.88608127 -2.4798286  -2.23004198\n",
      " -2.12603802 -2.14953921 -2.29637045 -2.55493501 -2.80186123 -2.80511215\n",
      " -2.50385527 -2.29462522 -2.19624408 -2.2099784  -2.34527374 -2.62330663\n",
      " -3.00827239 -3.12872129 -2.68375281 -2.35916819 -2.18986824 -2.14953506\n",
      " -2.23202829 -2.45634298 -2.87510602 -3.31769884 -2.99741578 -2.54599407\n",
      " -2.2730738  -2.14004121 -2.11703975 -2.19386794 -2.3751673  -2.66400262\n",
      " -2.8731633  -2.79018694 -2.57796538 -2.41724538 -2.34212581 -2.36282121\n",
      " -2.48203702 -2.70014437 -2.96925509]\n"
     ]
    }
   ],
   "source": [
    "print(np.log(r))"
   ]
  },
  {
   "cell_type": "code",
   "execution_count": null,
   "metadata": {},
   "outputs": [],
   "source": []
  }
 ],
 "metadata": {
  "kernelspec": {
   "display_name": "Python 3 (ipykernel)",
   "language": "python",
   "name": "python3"
  },
  "language_info": {
   "codemirror_mode": {
    "name": "ipython",
    "version": 3
   },
   "file_extension": ".py",
   "mimetype": "text/x-python",
   "name": "python",
   "nbconvert_exporter": "python",
   "pygments_lexer": "ipython3",
   "version": "3.11.9"
  }
 },
 "nbformat": 4,
 "nbformat_minor": 2
}

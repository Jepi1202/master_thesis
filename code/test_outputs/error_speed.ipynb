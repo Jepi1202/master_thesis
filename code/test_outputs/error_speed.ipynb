{
 "cells": [
  {
   "cell_type": "code",
   "execution_count": 1,
   "metadata": {},
   "outputs": [],
   "source": [
    "import torch\n",
    "import numpy\n",
    "import matplotlib.pyplot as plt\n",
    "from tqdm import tqdm\n",
    "import sys\n",
    "import os\n",
    "from torch_geometric.loader import DataLoader\n",
    "from torch_geometric.data import Data\n",
    "import numpy as np"
   ]
  },
  {
   "cell_type": "code",
   "execution_count": 2,
   "metadata": {},
   "outputs": [
    {
     "name": "stdout",
     "output_type": "stream",
     "text": [
      "yessss\n"
     ]
    }
   ],
   "source": [
    "def path_link(path:str):\n",
    "    sys.path.append(path)\n",
    "\n",
    "path_link('master/code/lib')\n",
    "\n",
    "import dataLoading as dl\n",
    "from norm import normalizeGraph\n",
    "import features as ft\n",
    "import simulation as sim \n",
    "\n",
    "DEVICE = torch.device('cuda:0' if torch.cuda.is_available() else 'cpu')"
   ]
  },
  {
   "cell_type": "code",
   "execution_count": 3,
   "metadata": {},
   "outputs": [],
   "source": [
    "#PATH = 'master/code/runs1'\n",
    "#PATH = 'master/code/runs2'\n",
    "PATH = 'master/code/test_new_activation'\n",
    "\n",
    "\n",
    "#DISPLAY_PATH = 'master/code/display_l1'\n",
    "#DISPLAY_PATH = '/master/code/display_l1_2'\n",
    "DISPLAY_PATH = 'master/code/display_l1_test_new_activation'\n",
    "\n",
    "MODEL_PATH = 'master/code/models/mod_base'"
   ]
  },
  {
   "cell_type": "code",
   "execution_count": 4,
   "metadata": {},
   "outputs": [],
   "source": [
    "def getErrors(model, loader):\n",
    "\n",
    "    errorList = []\n",
    "\n",
    "    vals = []\n",
    "\n",
    "    with torch.no_grad():\n",
    "        for data, _ in tqdm(loader):\n",
    "            vals.extend(data.x.cpu().numpy().tolist())\n",
    "            data.x = data.x[:, 2:]\n",
    "            data = data.to(DEVICE)\n",
    "\n",
    "            data = normalizeGraph(data)\n",
    "\n",
    "            pred = model(data)\n",
    "\n",
    "            pred = pred.cpu().detach().numpy()\n",
    "            y = data.y.cpu().numpy()\n",
    "\n",
    "            errorList.extend((np.sum((pred - y[:, 0, :])**2, axis = -1)).tolist())\n",
    "\n",
    "\n",
    "\n",
    "    return errorList,vals"
   ]
  },
  {
   "cell_type": "code",
   "execution_count": 5,
   "metadata": {},
   "outputs": [],
   "source": [
    "def getSim():\n",
    "    lim = 0.85 * 100\n",
    "\n",
    "    xPos = np.linspace(-lim, lim, 10)\n",
    "    yPos = np.linspace(-lim, lim, 10)\n",
    "    gridX, gridY = np.meshgrid(xPos, yPos)\n",
    "    delta = np.random.uniform(0, 7, gridX.shape + (2,))\n",
    "\n",
    "    gridX2 = gridX + delta[:, :, 0]\n",
    "    gridY2 = gridY + delta[:, :, 1]\n",
    "\n",
    "    pos = np.stack([gridX.ravel(), gridY.ravel()], axis=1)\n",
    "    pos_perturbed = np.stack([gridX2.ravel(), gridY2.ravel()], axis=1)\n",
    "\n",
    "    pos = np.concatenate([pos, pos_perturbed], axis=0)\n",
    "\n",
    "    angles = np.random.rand(pos.shape[0]) * 2 * np.pi\n",
    "\n",
    "    data = sim.compute_main(200, (60, 3.5, 70, 0.5), 120, T = 200, initialization = (pos, angles), dt = 0.001)[0]\n",
    "\n",
    "    x, y, attr, inds = ft.processSimulation(data)\n",
    "\n",
    "    return x, y, attr, inds\n",
    "\n",
    "\n",
    "def getErrors(model):\n",
    "\n",
    "    errorList = []\n",
    "    errorList2 = []\n",
    "\n",
    "    vals = []\n",
    "    \n",
    "    xList, yList, attrList, indsList = getSim()\n",
    "\n",
    "    for t in range(len(xList)):\n",
    "        vals.extend(xList[t].cpu().numpy().tolist())\n",
    "\n",
    "        data= Data(x = xList[t][:, 2:], y = yList[t] , edge_attr = attrList[t], edge_index = indsList[t])\n",
    "\n",
    "        data = normalizeGraph(data)\n",
    "        data = data.to(DEVICE)\n",
    "\n",
    "        pred = model(data)\n",
    "\n",
    "        pred = pred.cpu().detach().numpy()\n",
    "        y = data.y.cpu().numpy()\n",
    "\n",
    "        errorList.extend((np.sum(np.abs(pred - y[:, 0, :])/(np.abs(y[:, 0, :])), axis = -1)).tolist())\n",
    "        errorList2.append((np.sum(np.abs(pred - y[:, 0, :])/(np.abs(y[:, 0, :])), axis = -1)).tolist())\n",
    "\n",
    "\n",
    "    return errorList,vals, errorList2\n",
    "\n"
   ]
  },
  {
   "cell_type": "markdown",
   "metadata": {},
   "source": [
    "### ======="
   ]
  },
  {
   "cell_type": "code",
   "execution_count": 6,
   "metadata": {},
   "outputs": [],
   "source": [
    "def findModels(path):\n",
    "    pathLists = []\n",
    "    for root, dirs, files in tqdm(os.walk(path)):\n",
    "            for file in files:\n",
    "                  \n",
    "                  if file.endswith('.pt'):\n",
    "                        pathLists.append(os.path.join(root, file))\n",
    "\n",
    "\n",
    "    return pathLists\n",
    "\n",
    "\n",
    "def delete_wandb_dirs(start_path):\n",
    "    for root, dirs, files in os.walk(start_path, topdown=False):\n",
    "        for dir_name in dirs:\n",
    "            if dir_name == \"wandb\":\n",
    "                dir_path = os.path.join(root, dir_name)\n",
    "                print(f\"Deleting: {dir_path}\")\n",
    "                shutil.rmtree(dir_path)\n",
    "\n",
    "\n",
    "def getLoader(path, batch_size = 32, shuffleBool = True, root = None, jsonFile = None, mode = 'training'):\n",
    "    datasetTraining = dl.DataLoader2(root, path = path, jsonFile = jsonFile, mode = mode)\n",
    "    loader = DataLoader(datasetTraining, batch_size=batch_size, shuffle = shuffleBool)\n",
    "    \n",
    "    return loader\n",
    "\n",
    "\n",
    "def getName(path):\n",
    "    run_name = path.split('/')[-3]\n",
    "\n",
    "    model_type = path.split('/')[-1].split('.')[0]\n",
    "\n",
    "    if 'best' in model_type:\n",
    "        model_type = '_best'\n",
    "\n",
    "    else:\n",
    "         model_type = '_latest'\n",
    "\n",
    "    name = run_name + model_type\n",
    "\n",
    "    return name\n",
    "\n",
    "\n",
    "def getModelName(key):\n",
    "\n",
    "    name = ''\n",
    "\n",
    "    #if 'simplest' in key:\n",
    "    #    name = name + 'simplest'\n",
    "    \n",
    "    name = name + 'simplest'\n",
    "\n",
    "    ## other possibilities\n",
    "\n",
    "    if 'no-dropout' in key:\n",
    "        name = name + '_no-dropout'\n",
    "    else:\n",
    "        name = name + '_dropout'\n",
    "\n",
    "    if 'no-encoder' in key:\n",
    "        name = name + '_no-encoder'\n",
    "    else:\n",
    "        name = name + '_encoder'\n",
    "\n",
    "    if 'relu' in key:\n",
    "        name = name + '-relu'\n",
    "\n",
    "    return name\n",
    "         \n",
    "\n",
    "def loadModel(modelName:str, inputShape:int = 8, edges_shape = 5, path = None):\n",
    "    \"\"\" \n",
    "    Function to import the model\n",
    "\n",
    "    Args:\n",
    "    -----\n",
    "        - `modelName`: name of the model\n",
    "        - `inputShape`: inout shape of the NN\n",
    "        - `edges_shape`: edge shape of the NN\n",
    "        - `path`: path where the models are\n",
    "    \"\"\"\n",
    "\n",
    "    sys.path.append(path)\n",
    "\n",
    "    loadFun = __import__(f'{modelName}', fromlist = ('loadNetwork'))\n",
    "\n",
    "    model = loadFun.loadNetwork(inputShape, edges_shape)\n",
    "\n",
    "    return model\n",
    "\n",
    "\n",
    "\n",
    "def findLoader(key):\n",
    "\n",
    "    # remains initial conditions to consider\n",
    "    if 'normal' in key:\n",
    "        if '0_01' in key:\n",
    "            dataloader_path = '/master/code/simulation/path/mew_0_01_normal.json'\n",
    "\n",
    "        else:       # 0.001\n",
    "            dataloader_path = '/master/code/simulation/path/mew_0_001_normal.json'\n",
    "\n",
    "    else:       # noisy\n",
    "        if '0_01' in key:\n",
    "            dataloader_path = '/master/code/simulation/path/mew_0_01_noisy.json'\n",
    "\n",
    "        else:       # 0.001\n",
    "            dataloader_path = '/master/code/simulation/path/mew_0_001_noisy.json'\n",
    "\n",
    "    print(dataloader_path)\n",
    "\n",
    "\n",
    "    return getLoader(None, 128, True, None, dataloader_path, 'test')\n",
    "\n",
    "\n",
    "def plotModels(modelList, pathPlot = DISPLAY_PATH):\n",
    "    \n",
    "    nb = 0\n",
    "    with torch.no_grad():\n",
    "        # get the data for the different models\n",
    "\n",
    "        for model_path in tqdm(modelList):\n",
    "            # find name that identify the model\n",
    "            name_plot = getName(model_path)\n",
    "\n",
    "            # load model\n",
    "            try:\n",
    "                model = loadModel(getModelName(name_plot), path=MODEL_PATH)\n",
    "                std_dict = torch.load(model_path)\n",
    "                model.load_state_dict(std_dict)\n",
    "                model.eval()\n",
    "\n",
    "                # condition loader on the dt\n",
    "                loader = findLoader(model_path)\n",
    "\n",
    "                # get data\n",
    "                for data, _ in loader:\n",
    "                    break\n",
    "\n",
    "                # get messages\n",
    "                message = model.message(data).cpu().detach().numpy()\n",
    "\n",
    "                # plot the message\n",
    "                plotStdMessage(message)\n",
    "\n",
    "                path = os.path.join(pathPlot, f\"{name_plot}.png\")\n",
    "\n",
    "                nb_plot = 0\n",
    "                while os.path.exists(path):\n",
    "                    nb_plot += 1\n",
    "                    path = os.path.join(pathPlot, f\"{name_plot}_{nb_plot}.png\")\n",
    "\n",
    "                plt.savefig(path)\n",
    "                plt.close()\n",
    "\n",
    "            except:\n",
    "                print(f'Issue >>> {nb}')\n",
    "                nb += 1"
   ]
  },
  {
   "cell_type": "code",
   "execution_count": 7,
   "metadata": {},
   "outputs": [
    {
     "name": "stderr",
     "output_type": "stream",
     "text": [
      "0it [00:00, ?it/s]"
     ]
    },
    {
     "name": "stderr",
     "output_type": "stream",
     "text": [
      "14it [00:00, 81.31it/s]"
     ]
    },
    {
     "name": "stdout",
     "output_type": "stream",
     "text": [
      "/master/code/simulation/path/mew_0_001_normal.json\n"
     ]
    },
    {
     "name": "stderr",
     "output_type": "stream",
     "text": [
      "\n"
     ]
    }
   ],
   "source": [
    "model_list = findModels(PATH)\n",
    "loader = findLoader(model_list[])"
   ]
  },
  {
   "cell_type": "code",
   "execution_count": 52,
   "metadata": {},
   "outputs": [
    {
     "name": "stdout",
     "output_type": "stream",
     "text": [
      ">>>> loading simplest\n",
      "INFO >>> relu end of message MLP\n",
      "INFO >>> with NO encoder\n",
      "INFO >>> with NO dropout\n"
     ]
    }
   ],
   "source": [
    "model_path = model_list[4]\n",
    "\n",
    "name_plot = getName(model_path)\n",
    "try:\n",
    "    model = loadModel(getModelName(name_plot), path=MODEL_PATH)\n",
    "    std_dict = torch.load(model_path)\n",
    "    model.load_state_dict(std_dict)\n",
    "    model = model.to(DEVICE)\n",
    "    model.eval()\n",
    "except:\n",
    "    print(\"njfngkvjsdn\")"
   ]
  },
  {
   "cell_type": "code",
   "execution_count": 53,
   "metadata": {},
   "outputs": [
    {
     "name": "stdout",
     "output_type": "stream",
     "text": [
      "v0:60, tau:3.5, k:70, epsilon:0.5\n"
     ]
    },
    {
     "name": "stderr",
     "output_type": "stream",
     "text": [
      "100%|██████████| 200/200 [00:02<00:00, 85.64it/s] \n"
     ]
    }
   ],
   "source": [
    "#errors, vals = getErrors(model, loader)\n",
    "errors, vals, error2 = getErrors(model)"
   ]
  },
  {
   "cell_type": "code",
   "execution_count": 54,
   "metadata": {},
   "outputs": [],
   "source": [
    "errors = np.array(errors)\n",
    "vals = np.array(vals)"
   ]
  },
  {
   "cell_type": "code",
   "execution_count": 55,
   "metadata": {},
   "outputs": [
    {
     "data": {
      "image/png": "[encoded data removed]",
      "text/plain": [
       "<Figure size 640x480 with 1 Axes>"
      ]
     },
     "metadata": {},
     "output_type": "display_data"
    }
   ],
   "source": [
    "plt.hist(errors, density = True, bins = 150)\n",
    "plt.show()"
   ]
  },
  {
   "cell_type": "code",
   "execution_count": 56,
   "metadata": {},
   "outputs": [
    {
     "name": "stdout",
     "output_type": "stream",
     "text": [
      "0.03828274644911289\n"
     ]
    }
   ],
   "source": [
    "print(np.median(errors))"
   ]
  },
  {
   "cell_type": "code",
   "execution_count": 57,
   "metadata": {},
   "outputs": [
    {
     "name": "stdout",
     "output_type": "stream",
     "text": [
      "(37800, 10)\n"
     ]
    }
   ],
   "source": [
    "print(vals.shape)"
   ]
  },
  {
   "cell_type": "code",
   "execution_count": 58,
   "metadata": {},
   "outputs": [],
   "source": [
    "speeds = np.sqrt(vals[:, 2]**2 + vals[:, 3]**2)"
   ]
  },
  {
   "cell_type": "code",
   "execution_count": 59,
   "metadata": {},
   "outputs": [
    {
     "data": {
      "image/png": "[encoded data removed]",
      "text/plain": [
       "<Figure size 640x480 with 1 Axes>"
      ]
     },
     "metadata": {},
     "output_type": "display_data"
    }
   ],
   "source": [
    "plt.scatter(speeds, errors)\n",
    "plt.show()"
   ]
  },
  {
   "cell_type": "code",
   "execution_count": 60,
   "metadata": {},
   "outputs": [
    {
     "data": {
      "image/png": "[encoded data removed]",
      "text/plain": [
       "<Figure size 640x480 with 1 Axes>"
      ]
     },
     "metadata": {},
     "output_type": "display_data"
    }
   ],
   "source": [
    "def plotErrorTime(errorTime):\n",
    "    vals = [np.median(errorTime[i]) for i in range(len(errorTime))]\n",
    "    plt.plot(vals)\n",
    "    plt.show()\n",
    "\n",
    "plotErrorTime(error2)"
   ]
  },
  {
   "cell_type": "code",
   "execution_count": 42,
   "metadata": {},
   "outputs": [
    {
     "data": {
      "image/png": "[encoded data removed]",
      "text/plain": [
       "<Figure size 640x480 with 1 Axes>"
      ]
     },
     "metadata": {},
     "output_type": "display_data"
    }
   ],
   "source": [
    "plt.hist(speeds, density = True, bins = 100)\n",
    "plt.show()"
   ]
  },
  {
   "cell_type": "code",
   "execution_count": null,
   "metadata": {},
   "outputs": [],
   "source": [
    "plt.boxplot(vals[:, 2]**2 + vals[:, 3]**2)\n",
    "plt.show()"
   ]
  },
  {
   "cell_type": "code",
   "execution_count": 61,
   "metadata": {},
   "outputs": [
    {
     "name": "stdout",
     "output_type": "stream",
     "text": [
      "tensor([[-0.0600,  0.0017],\n",
      "        [ 0.0567,  0.0196],\n",
      "        [ 0.0278, -0.0532],\n",
      "        [-0.0454,  0.0393],\n",
      "        [ 0.0476,  0.0365],\n",
      "        [ 0.0592, -0.0101],\n",
      "        [-0.0496,  0.0338],\n",
      "        [ 0.0232, -0.0554],\n",
      "        [-0.0409, -0.0439],\n",
      "        [-0.0011,  0.0600],\n",
      "        [-0.0373, -0.0265],\n",
      "        [ 0.0716,  0.0601],\n",
      "        [-0.0598, -0.0052],\n",
      "        [ 0.0292, -0.0022],\n",
      "        [-0.0506, -0.0323],\n",
      "        [-0.0018,  0.0866],\n",
      "        [-0.0289,  0.0151],\n",
      "        [-0.0216,  0.0560],\n",
      "        [ 0.0577, -0.0164],\n",
      "        [ 0.0275, -0.0533],\n",
      "        [ 0.0408, -0.0199],\n",
      "        [ 0.0561,  0.0212],\n",
      "        [ 0.0483,  0.0356],\n",
      "        [ 0.0324,  0.0505],\n",
      "        [ 0.0361, -0.0507],\n",
      "        [ 0.0293, -0.0523],\n",
      "        [ 0.0596, -0.0067],\n",
      "        [-0.0527,  0.0286],\n",
      "        [ 0.0051, -0.0598],\n",
      "        [-0.0319, -0.0508],\n",
      "        [-0.0437, -0.0411],\n",
      "        [-0.0599, -0.0038],\n",
      "        [-0.0307, -0.0516],\n",
      "        [ 0.0594, -0.0084],\n",
      "        [-0.0600,  0.0023],\n",
      "        [-0.0409,  0.0198],\n",
      "        [ 0.0570,  0.0186],\n",
      "        [-0.0430,  0.0418],\n",
      "        [-0.0537,  0.0268],\n",
      "        [ 0.0477,  0.0364],\n",
      "        [ 0.0586,  0.0128],\n",
      "        [-0.0317, -0.0378],\n",
      "        [ 0.0549, -0.0243],\n",
      "        [-0.0094, -0.0322],\n",
      "        [ 0.0480, -0.0360],\n",
      "        [-0.0046, -0.0598],\n",
      "        [ 0.0397, -0.0427],\n",
      "        [ 0.0553, -0.0152],\n",
      "        [-0.0187,  0.0795],\n",
      "        [-0.0302,  0.0082],\n",
      "        [ 0.0208,  0.0714],\n",
      "        [-0.0531, -0.0280],\n",
      "        [-0.0345,  0.0491],\n",
      "        [ 0.0600, -0.0018],\n",
      "        [ 0.0398,  0.0449],\n",
      "        [-0.0568, -0.0194],\n",
      "        [ 0.0324, -0.0505],\n",
      "        [ 0.0492,  0.0344],\n",
      "        [-0.0594,  0.0082],\n",
      "        [-0.0603,  0.0043],\n",
      "        [ 0.0041,  0.0599],\n",
      "        [-0.0830, -0.0409],\n",
      "        [ 0.0534,  0.1101],\n",
      "        [ 0.0599,  0.0036],\n",
      "        [ 0.0144,  0.0582],\n",
      "        [-0.0135,  0.0585],\n",
      "        [-0.0301,  0.0519],\n",
      "        [ 0.0521,  0.0328],\n",
      "        [-0.0819, -0.0782],\n",
      "        [-0.0562, -0.0210],\n",
      "        [ 0.0394, -0.0452],\n",
      "        [ 0.0212, -0.0664],\n",
      "        [-0.0165, -0.0577],\n",
      "        [-0.0599,  0.0028],\n",
      "        [ 0.0555, -0.0227],\n",
      "        [ 0.0229,  0.0555],\n",
      "        [-0.0424, -0.0425],\n",
      "        [-0.0362, -0.0478],\n",
      "        [-0.0429, -0.0420],\n",
      "        [ 0.0403,  0.0201],\n",
      "        [ 0.0379,  0.0465],\n",
      "        [ 0.0449,  0.0860],\n",
      "        [-0.0491,  0.0345],\n",
      "        [ 0.0576, -0.0167],\n",
      "        [-0.0269,  0.0536],\n",
      "        [ 0.0010, -0.0003],\n",
      "        [ 0.0524, -0.0293],\n",
      "        [-0.0152, -0.0580],\n",
      "        [ 0.0166, -0.0537],\n",
      "        [-0.0056, -0.0597],\n",
      "        [ 0.0363, -0.0454],\n",
      "        [-0.0599,  0.0035],\n",
      "        [ 0.0544,  0.0253],\n",
      "        [ 0.0091, -0.0019],\n",
      "        [ 0.0214,  0.0560],\n",
      "        [-0.0389,  0.0473],\n",
      "        [-0.0436,  0.0412],\n",
      "        [-0.0572,  0.0180],\n",
      "        [-0.0416, -0.0433],\n",
      "        [-0.0300, -0.0763],\n",
      "        [-0.0543, -0.0256],\n",
      "        [-0.0266, -0.0538],\n",
      "        [-0.0225, -0.0556],\n",
      "        [ 0.0550, -0.0240],\n",
      "        [-0.0482,  0.0357],\n",
      "        [-0.0073,  0.0596],\n",
      "        [-0.0234,  0.0552],\n",
      "        [-0.0589,  0.0114],\n",
      "        [-0.0479,  0.0362],\n",
      "        [-0.0447,  0.0400],\n",
      "        [ 0.0256,  0.0387],\n",
      "        [-0.0656,  0.0048],\n",
      "        [-0.0304, -0.0517],\n",
      "        [-0.0479, -0.1121],\n",
      "        [ 0.0278, -0.0532],\n",
      "        [-0.0404, -0.1020],\n",
      "        [-0.0597, -0.0886],\n",
      "        [ 0.0388,  0.0458],\n",
      "        [-0.0394,  0.0452],\n",
      "        [ 0.0432,  0.0416],\n",
      "        [-0.0570, -0.0690],\n",
      "        [ 0.0299,  0.0520],\n",
      "        [-0.0117,  0.0589],\n",
      "        [ 0.0015, -0.0600],\n",
      "        [-0.0793,  0.0294],\n",
      "        [ 0.0488, -0.0348],\n",
      "        [ 0.0301, -0.0519],\n",
      "        [-0.0485, -0.0353],\n",
      "        [ 0.0589,  0.0115],\n",
      "        [-0.0342,  0.0493],\n",
      "        [ 0.0529, -0.0282],\n",
      "        [-0.0584, -0.0138],\n",
      "        [-0.0275, -0.0533],\n",
      "        [ 0.0411, -0.0437],\n",
      "        [-0.0041, -0.0599],\n",
      "        [-0.0362,  0.0544],\n",
      "        [ 0.0584,  0.0137],\n",
      "        [ 0.0571, -0.0183],\n",
      "        [ 0.0597,  0.0056],\n",
      "        [-0.0435, -0.0414],\n",
      "        [-0.0261, -0.0540],\n",
      "        [ 0.0182, -0.0560],\n",
      "        [-0.0600, -0.0023],\n",
      "        [ 0.0105,  0.0337],\n",
      "        [-0.0418,  0.0430],\n",
      "        [-0.0373, -0.0470],\n",
      "        [-0.0533,  0.0270],\n",
      "        [-0.0270, -0.0614],\n",
      "        [-0.0284,  0.0328],\n",
      "        [-0.0086, -0.0746],\n",
      "        [-0.0570, -0.0581],\n",
      "        [-0.0160,  0.0578],\n",
      "        [ 0.0437, -0.0411],\n",
      "        [ 0.0584,  0.0136],\n",
      "        [-0.0600,  0.0017],\n",
      "        [-0.0575, -0.0173],\n",
      "        [ 0.0568,  0.0193],\n",
      "        [ 0.0490, -0.0346],\n",
      "        [-0.0340,  0.0494],\n",
      "        [ 0.0248, -0.0488],\n",
      "        [ 0.0398, -0.0449],\n",
      "        [ 0.0496,  0.0667],\n",
      "        [-0.0628, -0.0996],\n",
      "        [ 0.0539,  0.0263],\n",
      "        [-0.0472,  0.0370],\n",
      "        [-0.0369, -0.0473],\n",
      "        [-0.0543,  0.0256],\n",
      "        [ 0.0556,  0.0221],\n",
      "        [ 0.0836, -0.0202],\n",
      "        [ 0.0118,  0.0588],\n",
      "        [ 0.0458, -0.0388],\n",
      "        [-0.0596,  0.0077],\n",
      "        [-0.0350, -0.0487],\n",
      "        [ 0.0572,  0.0182],\n",
      "        [ 0.0563,  0.0208],\n",
      "        [-0.0096, -0.0592],\n",
      "        [ 0.0600, -0.0009],\n",
      "        [-0.0311, -0.0513],\n",
      "        [ 0.0582, -0.0147],\n",
      "        [-0.0321,  0.0509],\n",
      "        [-0.0041, -0.0599],\n",
      "        [-0.0688, -0.0233],\n",
      "        [ 0.0214,  0.0561],\n",
      "        [ 0.0532, -0.0277],\n",
      "        [ 0.0183,  0.0571],\n",
      "        [ 0.1183,  0.0133],\n",
      "        [-0.0104, -0.0591],\n",
      "        [ 0.0397,  0.0450],\n",
      "        [-0.0789, -0.0066],\n",
      "        [ 0.0021,  0.0600],\n",
      "        [-0.0084,  0.0262],\n",
      "        [-0.0505,  0.0324],\n",
      "        [-0.0477, -0.0364],\n",
      "        [-0.1262, -0.0195],\n",
      "        [-0.0582,  0.0147],\n",
      "        [-0.0585,  0.0104],\n",
      "        [ 0.0480, -0.0360],\n",
      "        [ 0.0265, -0.0538],\n",
      "        [-0.0220, -0.0558],\n",
      "        [ 0.0192,  0.0747]])\n"
     ]
    }
   ],
   "source": [
    "print(y[0][:, 0, :])"
   ]
  }
 ],
 "metadata": {
  "kernelspec": {
   "display_name": "Python 3 (ipykernel)",
   "language": "python",
   "name": "python3"
  }
 },
 "nbformat": 4,
 "nbformat_minor": 2
}

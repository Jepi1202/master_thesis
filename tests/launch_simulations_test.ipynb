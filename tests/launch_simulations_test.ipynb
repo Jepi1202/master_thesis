{
 "cells": [
  {
   "cell_type": "code",
   "execution_count": 2,
   "metadata": {},
   "outputs": [],
   "source": [
    "import numpy as np\n",
    "import matplotlib.pyplot as plt\n",
    "INIT_SIM = 'easy'\n",
    "BOUNDARY = 120\n",
    "INIT_DIST = 7"
   ]
  },
  {
   "cell_type": "code",
   "execution_count": 11,
   "metadata": {},
   "outputs": [],
   "source": [
    "def initialConditions(n:int = None):\n",
    "    \"\"\" \n",
    "    Generate intial conditions for the simulations\n",
    "    Gives the initial positions and the initial angles ([0, 2 pi])\n",
    "    of the cells \n",
    "\n",
    "    Args:\n",
    "    -----\n",
    "        - `n` (optional): number of cells \n",
    "\n",
    "    Returns:\n",
    "    --------\n",
    "        tuple (pos, angles)\n",
    "        pos: np.array [N, 2]\n",
    "        angles: np.array [N]\n",
    "    \"\"\"\n",
    "\n",
    "    if INIT_SIM == 'easy':\n",
    "        lim = 0.85 * BOUNDARY\n",
    "        delta = np.random.uniform(0, INIT_DIST, gridX.shape + (2,))\n",
    "\n",
    "        xPos = np.linspace(-lim, lim, 5)\n",
    "        yPos = np.linspace(-lim, lim, 5)\n",
    "        gridX, gridY = np.meshgrid(xPos, yPos)\n",
    "\n",
    "        gridX2 = gridX + delta[:, :, 0]\n",
    "        gridY2 = gridY + delta[:, :, 1]\n",
    "\n",
    "        pos = np.stack([gridX.ravel(), gridY.ravel()], axis=1)\n",
    "        pos_perturbed = np.stack([gridX2.ravel(), gridY2.ravel()], axis=1)\n",
    "\n",
    "        pos = np.concatenate([pos, pos_perturbed], axis=0)\n",
    "\n",
    "        angles = np.random.rand(pos.shape[0]) * 2 * np.pi\n",
    "\n",
    "        return (pos, angles)\n",
    "    \n",
    "\n",
    "    elif INIT_SIM == 'circle':\n",
    "        return None\n",
    "    \n",
    "\n",
    "    elif INIT_SIM == 'random':\n",
    "        assert n is not None\n",
    "\n",
    "        lim = 0.85 * BOUNDARY\n",
    "        pos = np.random.uniform(-lim , lim ,(n,2))\n",
    "\n",
    "        angles = np.random.rand(n) * 2 * np.pi\n",
    "\n",
    "        return (pos, angles)\n"
   ]
  },
  {
   "cell_type": "code",
   "execution_count": 12,
   "metadata": {},
   "outputs": [
    {
     "name": "stdout",
     "output_type": "stream",
     "text": [
      "(10,)\n",
      "(10,)\n",
      "(20,)\n"
     ]
    }
   ],
   "source": [
    "p, a = initialConditions()"
   ]
  },
  {
   "cell_type": "code",
   "execution_count": 8,
   "metadata": {},
   "outputs": [
    {
     "name": "stdout",
     "output_type": "stream",
     "text": [
      "[-102.          -51.            0.           51.          102.\n",
      " -102.          -51.            0.           51.          102.\n",
      " -101.29493511  -44.22210347    0.47487233   57.19515437  107.78775968\n",
      " -100.37266198  -44.60655775    5.43040091   56.36123109  108.27123038]\n"
     ]
    }
   ],
   "source": [
    "print(p)"
   ]
  }
 ],
 "metadata": {
  "kernelspec": {
   "display_name": "RLenv",
   "language": "python",
   "name": "python3"
  },
  "language_info": {
   "codemirror_mode": {
    "name": "ipython",
    "version": 3
   },
   "file_extension": ".py",
   "mimetype": "text/x-python",
   "name": "python",
   "nbconvert_exporter": "python",
   "pygments_lexer": "ipython3",
   "version": "3.10.10"
  }
 },
 "nbformat": 4,
 "nbformat_minor": 2
}

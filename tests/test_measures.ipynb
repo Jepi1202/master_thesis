{
 "cells": [
  {
   "cell_type": "code",
   "execution_count": 1,
   "metadata": {},
   "outputs": [
    {
     "name": "stdout",
     "output_type": "stream",
     "text": [
      "yessss\n"
     ]
    }
   ],
   "source": [
    "import os\n",
    "import sys\n",
    "import numpy as np\n",
    "import torch\n",
    "import matplotlib.pyplot as plt\n",
    "\n",
    "def path_link(path:str):\n",
    "    sys.path.append(path)\n",
    "\n",
    "path_link('master/code/lib')\n",
    "\n",
    "import features as ft\n",
    "import simulation as sim \n",
    "import display as disp\n",
    "\n",
    "\n",
    "DEVICE = torch.device(\"cuda:0\" if torch.cuda.is_available() else \"cpu\")\n"
   ]
  },
  {
   "cell_type": "code",
   "execution_count": 2,
   "metadata": {},
   "outputs": [],
   "source": [
    "import measure as meas\n",
    "import NNSimulator as nnsim"
   ]
  },
  {
   "cell_type": "code",
   "execution_count": 3,
   "metadata": {},
   "outputs": [],
   "source": [
    "lim = 0.85 * 100\n",
    "\n",
    "xPos = np.linspace(-lim, lim, 10)\n",
    "yPos = np.linspace(-lim, lim, 10)\n",
    "gridX, gridY = np.meshgrid(xPos, yPos)\n",
    "delta = np.random.uniform(0, 7, gridX.shape + (2,))\n",
    "\n",
    "gridX2 = gridX + delta[:, :, 0]\n",
    "gridY2 = gridY + delta[:, :, 1]\n",
    "\n",
    "pos = np.stack([gridX.ravel(), gridY.ravel()], axis=1)\n",
    "pos_perturbed = np.stack([gridX2.ravel(), gridY2.ravel()], axis=1)\n",
    "\n",
    "pos = np.concatenate([pos, pos_perturbed], axis=0)\n",
    "\n",
    "angles = np.random.rand(pos.shape[0]) * 2 * np.pi\n"
   ]
  },
  {
   "cell_type": "code",
   "execution_count": 28,
   "metadata": {},
   "outputs": [
    {
     "name": "stdout",
     "output_type": "stream",
     "text": [
      "v0:60, tau:3.5, k:70, epsilon:0.5\n"
     ]
    },
    {
     "name": "stderr",
     "output_type": "stream",
     "text": [
      "100%|██████████| 1000/1000 [00:10<00:00, 91.27it/s]\n"
     ]
    }
   ],
   "source": [
    "# generate a simulation\n",
    "data = sim.compute_main(200, (60, 3.5, 70, 0.5), 120, T = 1000, initialization = (pos, angles), dt = 0.001)[0]\n",
    "#data = sim.compute_main(100, (60, 3.5, 70, 0.5), 120, T = 1000, dt = 0.001)[0]\n",
    "\n",
    "# get speeds\n",
    "x, y, attr, inds = ft.processSimulation(data)"
   ]
  },
  {
   "cell_type": "code",
   "execution_count": 221,
   "metadata": {},
   "outputs": [],
   "source": [
    "def loadModel(modelName:str, inputShape:int = 8, edges_shape = 5, path = None):\n",
    "    \"\"\" \n",
    "    Function to import the model\n",
    "\n",
    "    Args:\n",
    "    -----\n",
    "        - `modelName`: name of the model\n",
    "        - `inputShape`: inout shape of the NN\n",
    "        - `edges_shape`: edge shape of the NN\n",
    "        - `path`: path where the models are\n",
    "    \"\"\"\n",
    "\n",
    "    sys.path.append(path)\n",
    "\n",
    "    loadFun = __import__(f'{modelName}', fromlist = ('loadNetwork'))\n",
    "\n",
    "    model = loadFun.loadNetwork(inputShape, edges_shape)\n",
    "\n",
    "    return model\n",
    "\n"
   ]
  },
  {
   "cell_type": "code",
   "execution_count": 222,
   "metadata": {},
   "outputs": [
    {
     "name": "stdout",
     "output_type": "stream",
     "text": [
      "True\n"
     ]
    }
   ],
   "source": [
    "print(os.path.exists('/master/code/models'))\n",
    "path_link('/master/code/models')\n"
   ]
  },
  {
   "cell_type": "code",
   "execution_count": 223,
   "metadata": {},
   "outputs": [],
   "source": [
    "mod = loadModel('cramner_L1',path = '/master/code/models')\n",
    "#mod = loadModel('basic',path = '/master/code/models')"
   ]
  },
  {
   "cell_type": "code",
   "execution_count": 224,
   "metadata": {},
   "outputs": [
    {
     "name": "stdout",
     "output_type": "stream",
     "text": [
      "enc.mlp.0.weight >>>>> torch.Size([48, 8])\n",
      "enc.mlp.0.bias >>>>> torch.Size([48])\n",
      "enc.mlp.3.weight >>>>> torch.Size([88, 48])\n",
      "enc.mlp.3.bias >>>>> torch.Size([88])\n",
      "enc.mlp.6.weight >>>>> torch.Size([128, 88])\n",
      "enc.mlp.6.bias >>>>> torch.Size([128])\n",
      "norm1.weight >>>>> torch.Size([128])\n",
      "norm1.bias >>>>> torch.Size([128])\n",
      "GNN.messageMLP.mlp.0.weight >>>>> torch.Size([128, 5])\n",
      "GNN.messageMLP.mlp.0.bias >>>>> torch.Size([128])\n",
      "GNN.messageMLP.mlp.3.weight >>>>> torch.Size([128, 128])\n",
      "GNN.messageMLP.mlp.3.bias >>>>> torch.Size([128])\n",
      "GNN.messageMLP.mlp.6.weight >>>>> torch.Size([128, 128])\n",
      "GNN.messageMLP.mlp.6.bias >>>>> torch.Size([128])\n",
      "GNN.norm.weight >>>>> torch.Size([128])\n",
      "GNN.norm.bias >>>>> torch.Size([128])\n",
      "GNN.updateMLP.mlp.0.weight >>>>> torch.Size([172, 256])\n",
      "GNN.updateMLP.mlp.0.bias >>>>> torch.Size([172])\n",
      "GNN.updateMLP.mlp.3.weight >>>>> torch.Size([88, 172])\n",
      "GNN.updateMLP.mlp.3.bias >>>>> torch.Size([88])\n",
      "GNN.updateMLP.mlp.6.weight >>>>> torch.Size([2, 88])\n",
      "GNN.updateMLP.mlp.6.bias >>>>> torch.Size([2])\n"
     ]
    }
   ],
   "source": [
    "for name, param in mod.named_parameters():\n",
    "    print(f'{name} >>>>> {param.shape}')"
   ]
  },
  {
   "cell_type": "code",
   "execution_count": 225,
   "metadata": {},
   "outputs": [],
   "source": [
    "std = torch.load('/master/code/models/cramner_best2.pt')"
   ]
  },
  {
   "cell_type": "code",
   "execution_count": 226,
   "metadata": {},
   "outputs": [],
   "source": [
    "mod.load_state_dict(std)\n",
    "mod.eval()\n",
    "mod = mod.to(DEVICE)"
   ]
  },
  {
   "cell_type": "code",
   "execution_count": 227,
   "metadata": {},
   "outputs": [
    {
     "name": "stdout",
     "output_type": "stream",
     "text": [
      "tensor([[-2.5423e-02,  4.8428e-02],\n",
      "        [ 3.8884e-02, -4.2634e-02],\n",
      "        [-1.7834e-02, -5.0284e-02],\n",
      "        [ 5.8333e-02, -4.6066e-03],\n",
      "        [ 1.0241e-02, -5.4808e-02],\n",
      "        [-5.2145e-02, -1.5984e-02],\n",
      "        [ 4.7781e-02,  1.3661e-02],\n",
      "        [-4.1261e-02, -3.3099e-02],\n",
      "        [ 5.8232e-02, -5.1954e-03],\n",
      "        [ 2.4171e-02, -5.2084e-02],\n",
      "        [ 5.4548e-02, -2.2814e-02],\n",
      "        [ 4.6151e-02,  3.5816e-02],\n",
      "        [-4.9692e-02,  1.7537e-02],\n",
      "        [-4.9257e-02,  2.4733e-02],\n",
      "        [-5.3456e-02,  2.7461e-03],\n",
      "        [-3.5091e-02, -4.0769e-02],\n",
      "        [-5.1599e-02,  1.6060e-02],\n",
      "        [-2.1317e-02,  4.7353e-02],\n",
      "        [-2.5445e-02,  2.7260e-02],\n",
      "        [ 5.9320e-02,  4.7607e-03],\n",
      "        [ 1.2506e-02,  5.6072e-02],\n",
      "        [-5.2139e-02, -1.7751e-02],\n",
      "        [-9.5653e-03,  1.0456e-02],\n",
      "        [-4.5717e-02,  3.0121e-02],\n",
      "        [ 1.1244e-02,  5.6199e-02],\n",
      "        [-3.4269e-02, -3.6938e-02],\n",
      "        [-4.4274e-02,  2.8614e-02],\n",
      "        [-6.1306e-03, -7.2145e-03],\n",
      "        [-3.5891e-02,  4.0916e-02],\n",
      "        [-1.9120e-03, -3.0195e-03],\n",
      "        [-5.1590e-02, -9.7341e-03],\n",
      "        [-5.3035e-02, -9.9074e-03],\n",
      "        [ 5.5948e-02, -1.8277e-02],\n",
      "        [-4.6457e-02,  2.9396e-02],\n",
      "        [ 1.1506e-03,  5.7005e-02],\n",
      "        [ 5.4826e-02,  2.4813e-02],\n",
      "        [ 5.6141e-02,  2.1793e-02],\n",
      "        [ 3.6917e-02, -4.2017e-02],\n",
      "        [ 1.2721e-02,  5.4622e-02],\n",
      "        [-5.2234e-02, -9.3521e-03],\n",
      "        [ 5.6988e-02,  8.3077e-03],\n",
      "        [ 3.5537e-02, -3.1178e-02],\n",
      "        [ 5.4667e-02, -2.2465e-02],\n",
      "        [-7.1635e-03, -5.1932e-02],\n",
      "        [-1.3450e-02,  5.5058e-02],\n",
      "        [-4.8724e-02, -7.6050e-03],\n",
      "        [ 3.7009e-02, -4.4099e-02],\n",
      "        [ 3.4107e-02,  9.7608e-03],\n",
      "        [-4.8027e-02, -2.7627e-02],\n",
      "        [ 9.0907e-04, -5.5475e-02],\n",
      "        [ 1.4254e-02, -5.5223e-02],\n",
      "        [-5.3183e-02,  4.3604e-03],\n",
      "        [-1.5737e-02, -5.0762e-02],\n",
      "        [ 4.7035e-02,  3.6446e-02],\n",
      "        [ 5.8598e-02,  1.1644e-02],\n",
      "        [-4.2367e-02, -3.2855e-02],\n",
      "        [ 4.5099e-02,  3.8197e-02],\n",
      "        [-7.6644e-03,  3.9339e-02],\n",
      "        [ 3.0638e-02,  4.8859e-02],\n",
      "        [ 1.9992e-02, -5.3636e-02],\n",
      "        [-3.9486e-02,  3.6976e-02],\n",
      "        [-5.0835e-02,  2.1165e-02],\n",
      "        [ 5.4977e-02, -1.8686e-02],\n",
      "        [ 5.4719e-02, -2.2323e-02],\n",
      "        [-7.2520e-03, -3.1075e-02],\n",
      "        [ 5.5632e-02,  2.3021e-02],\n",
      "        [-1.8264e-03,  5.5084e-02],\n",
      "        [ 4.8978e-02,  2.5504e-02],\n",
      "        [-4.2899e-02, -1.1614e-02],\n",
      "        [-4.3619e-02, -3.3433e-02],\n",
      "        [-4.6315e-02, -3.0218e-02],\n",
      "        [-5.3188e-02, -8.2493e-03],\n",
      "        [ 1.5942e-02,  5.5711e-02],\n",
      "        [ 4.5180e-02, -2.5931e-02],\n",
      "        [ 8.0789e-03,  4.9255e-02],\n",
      "        [-2.0207e-02,  1.1518e-03],\n",
      "        [-2.2487e-02,  4.6653e-02],\n",
      "        [ 2.8583e-02, -5.0010e-02],\n",
      "        [-5.1270e-02,  1.8412e-02],\n",
      "        [-2.8686e-02, -4.6593e-02],\n",
      "        [-1.3316e-02,  2.2904e-02],\n",
      "        [ 5.6032e-02, -1.4191e-04],\n",
      "        [-3.5939e-02,  4.5385e-02],\n",
      "        [ 5.5675e-02, -1.9950e-02],\n",
      "        [-3.5475e-02,  4.1346e-02],\n",
      "        [-5.1242e-02,  1.8686e-02],\n",
      "        [-5.2165e-02, -9.2542e-03],\n",
      "        [ 5.5739e-02, -1.9756e-02],\n",
      "        [ 5.1227e-02, -2.9189e-02],\n",
      "        [-4.4084e-02,  2.9380e-02],\n",
      "        [ 4.8594e-02,  2.7271e-02],\n",
      "        [-6.8940e-03, -5.3800e-02],\n",
      "        [ 5.7776e-02, -7.3701e-03],\n",
      "        [ 1.9828e-02, -5.3690e-02],\n",
      "        [ 1.4010e-02, -5.5265e-02],\n",
      "        [-5.1177e-02,  1.0847e-02],\n",
      "        [-5.2042e-02, -2.3438e-03],\n",
      "        [ 2.3389e-02,  5.2692e-02],\n",
      "        [-3.1222e-02, -4.4061e-02],\n",
      "        [ 3.0769e-02,  4.8727e-02],\n",
      "        [-3.4019e-02,  3.4312e-02],\n",
      "        [ 5.6250e-02, -1.5117e-02],\n",
      "        [-2.5279e-02,  4.9159e-02],\n",
      "        [-5.2751e-02, -1.2410e-02],\n",
      "        [-1.0818e-02, -5.1244e-02],\n",
      "        [ 5.0607e-02,  3.1672e-02],\n",
      "        [ 4.7913e-02,  1.3626e-02],\n",
      "        [-2.8040e-02, -4.4511e-02],\n",
      "        [-3.3704e-02,  4.3125e-02],\n",
      "        [ 4.4230e-02, -3.6967e-02],\n",
      "        [-2.9579e-02, -4.5773e-02],\n",
      "        [-3.7601e-02,  2.8720e-02],\n",
      "        [ 4.0864e-03,  7.0042e-03],\n",
      "        [-3.2779e-02,  4.3972e-02],\n",
      "        [-4.0487e-02, -3.6205e-02],\n",
      "        [-4.6507e-02,  2.2068e-02],\n",
      "        [ 5.0689e-02, -1.6131e-02],\n",
      "        [ 4.6221e-02, -3.4587e-02],\n",
      "        [-2.5834e-02,  2.7548e-02],\n",
      "        [-4.9596e-02, -2.4553e-02],\n",
      "        [-5.2199e-02, -1.5707e-02],\n",
      "        [ 6.7659e-03,  5.6562e-02],\n",
      "        [ 5.1016e-04, -2.7175e-02],\n",
      "        [-2.6248e-02, -4.8112e-02],\n",
      "        [-4.7430e-02, -2.8581e-02],\n",
      "        [ 5.5004e-02, -1.1784e-02],\n",
      "        [ 3.8147e-02,  4.3789e-02],\n",
      "        [-6.1906e-03, -7.3732e-03],\n",
      "        [ 5.2878e-03, -5.5859e-02],\n",
      "        [-1.9111e-03, -3.1306e-03],\n",
      "        [-5.1708e-02, -9.5743e-03],\n",
      "        [ 4.0847e-02,  3.9610e-02],\n",
      "        [-2.9889e-02,  4.3771e-02],\n",
      "        [ 3.0266e-02, -4.9047e-02],\n",
      "        [ 9.1517e-03,  5.5415e-02],\n",
      "        [ 4.9732e-02,  2.6128e-02],\n",
      "        [-4.0133e-02,  2.9443e-02],\n",
      "        [ 3.6932e-02, -4.2046e-02],\n",
      "        [-4.9460e-05,  5.6594e-02],\n",
      "        [-3.6200e-02, -3.8269e-02],\n",
      "        [ 5.5806e-02,  8.3325e-03],\n",
      "        [ 3.6163e-02, -3.1649e-02],\n",
      "        [ 5.8454e-02,  1.2777e-02],\n",
      "        [-1.6307e-02, -4.9849e-02],\n",
      "        [ 2.1035e-02, -5.1244e-02],\n",
      "        [ 3.2732e-02, -4.7550e-02],\n",
      "        [-5.3207e-02,  4.2176e-03],\n",
      "        [ 3.4333e-02,  9.8407e-03],\n",
      "        [ 5.9232e-02,  3.5710e-03],\n",
      "        [ 5.8932e-02,  2.1103e-04],\n",
      "        [ 5.8961e-02,  5.6180e-04],\n",
      "        [ 5.7564e-02, -8.4525e-03],\n",
      "        [ 4.6014e-02,  3.6378e-02],\n",
      "        [-1.2978e-02, -5.1588e-02],\n",
      "        [-2.8186e-04, -5.4261e-02],\n",
      "        [-5.3397e-02, -5.5698e-03],\n",
      "        [-4.9816e-02, -2.4047e-02],\n",
      "        [-8.3888e-03,  3.5799e-02],\n",
      "        [ 5.8909e-02, -5.4531e-05],\n",
      "        [-1.2642e-02,  5.5388e-02],\n",
      "        [-3.2707e-02, -4.2587e-02],\n",
      "        [ 3.2541e-02, -4.7677e-02],\n",
      "        [ 5.8294e-02, -4.8474e-03],\n",
      "        [-4.6314e-02,  2.9547e-02],\n",
      "        [-7.2476e-03, -3.1322e-02],\n",
      "        [ 4.9995e-02,  3.2462e-02],\n",
      "        [-4.1916e-02,  2.8561e-02],\n",
      "        [ 4.4356e-02,  2.5461e-02],\n",
      "        [ 5.5870e-03, -5.5866e-02],\n",
      "        [ 7.0242e-03,  5.6514e-02],\n",
      "        [-4.6123e-02, -3.0492e-02],\n",
      "        [-4.5042e-02,  3.0727e-02],\n",
      "        [ 1.3875e-02,  5.5919e-02],\n",
      "        [ 4.5382e-02, -2.6021e-02],\n",
      "        [ 5.0995e-02, -2.6922e-02],\n",
      "        [-4.6194e-02, -2.6333e-02],\n",
      "        [-5.0412e-02,  4.4156e-04],\n",
      "        [-4.7192e-02, -2.8936e-02],\n",
      "        [-4.5042e-02,  3.0727e-02],\n",
      "        [-3.9238e-02,  3.7213e-02],\n",
      "        [-1.3229e-02,  2.3102e-02],\n",
      "        [ 5.4140e-02, -2.2668e-02],\n",
      "        [-4.1110e-02,  2.7050e-02],\n",
      "        [-5.0185e-02, -2.3077e-02],\n",
      "        [-2.4962e-02, -4.8663e-02],\n",
      "        [-5.0485e-02, -2.2234e-02],\n",
      "        [-4.9497e-02, -2.1984e-02],\n",
      "        [-5.2916e-02, -1.1047e-02],\n",
      "        [ 4.0768e-02, -1.5484e-02],\n",
      "        [ 7.9078e-03,  5.6455e-02],\n",
      "        [ 5.8573e-02,  1.0598e-02],\n",
      "        [ 2.8945e-02, -4.9789e-02],\n",
      "        [ 3.0958e-02,  4.8541e-02],\n",
      "        [ 3.7339e-02,  4.4363e-02],\n",
      "        [ 4.2797e-02, -3.6956e-02],\n",
      "        [ 5.9194e-02,  6.9049e-03],\n",
      "        [-3.8724e-02, -3.5099e-02],\n",
      "        [ 5.7962e-02,  1.0526e-02],\n",
      "        [ 2.0467e-02, -1.7552e-02],\n",
      "        [ 5.8707e-02,  1.0654e-02]], device='cuda:0', grad_fn=<AddmmBackward0>)\n",
      "-------\n",
      "tensor([[[-0.0221,  0.0558],\n",
      "         [-0.0891,  0.0746],\n",
      "         [-0.0221,  0.0558],\n",
      "         ...,\n",
      "         [-0.0221,  0.0558],\n",
      "         [-0.0221,  0.0558],\n",
      "         [-0.0883,  0.0776]],\n",
      "\n",
      "        [[ 0.0409, -0.0439],\n",
      "         [ 0.0409, -0.0439],\n",
      "         [ 0.0409, -0.0439],\n",
      "         ...,\n",
      "         [ 0.0409, -0.0439],\n",
      "         [ 0.0409, -0.0439],\n",
      "         [ 0.0409, -0.0439]],\n",
      "\n",
      "        [[-0.0204, -0.0564],\n",
      "         [-0.0204, -0.0564],\n",
      "         [-0.0204, -0.0564],\n",
      "         ...,\n",
      "         [-0.0204, -0.0564],\n",
      "         [-0.0204, -0.0564],\n",
      "         [-0.0204, -0.0564]],\n",
      "\n",
      "        ...,\n",
      "\n",
      "        [[ 0.0595,  0.0076],\n",
      "         [ 0.0595,  0.0076],\n",
      "         [ 0.0595,  0.0076],\n",
      "         ...,\n",
      "         [ 0.0595,  0.0076],\n",
      "         [ 0.0595,  0.0076],\n",
      "         [ 0.0595,  0.0076]],\n",
      "\n",
      "        [[ 0.0194, -0.0568],\n",
      "         [ 0.0221,  0.0125],\n",
      "         [ 0.0215,  0.0113],\n",
      "         ...,\n",
      "         [ 0.0194, -0.0568],\n",
      "         [ 0.0194, -0.0568],\n",
      "         [ 0.0177,  0.0121]],\n",
      "\n",
      "        [[ 0.0595,  0.0075],\n",
      "         [ 0.0595,  0.0075],\n",
      "         [ 0.0595,  0.0075],\n",
      "         ...,\n",
      "         [ 0.0595,  0.0075],\n",
      "         [ 0.0595,  0.0075],\n",
      "         [ 0.0595,  0.0075]]])\n"
     ]
    }
   ],
   "source": [
    "s = Data(x = x[150][:, 2:], edge_attr = attr[150], edge_index = inds[150], y=y[150]).to(DEVICE)\n",
    "s = normalizeGraph(s).to(DEVICE)\n",
    "pred = mod(s)\n",
    "print(pred)\n",
    "print('-------')\n",
    "print(y[150])"
   ]
  },
  {
   "cell_type": "code",
   "execution_count": 228,
   "metadata": {},
   "outputs": [],
   "source": [
    "from features import processSimulation\n",
    "from torch_geometric.data import Data\n",
    "from tqdm import tqdm\n",
    "from norm import normalizeGraph\n",
    "\n",
    "class OneStepSimulator():\n",
    "    def __init__(self, model):\n",
    "        self.model = model\n",
    "\n",
    "    def simulate(self, sim, device = DEVICE):\n",
    "\n",
    "        BOUNDARY = 120\n",
    "\n",
    "        self.model.eval()\n",
    "        with torch.no_grad():\n",
    "            x, y, attr, inds = processSimulation(sim)\n",
    "\n",
    "            hist = np.zeros((len(x)+1, sim.shape[1], sim.shape[2]))\n",
    "            hist[0] = sim[0]\n",
    "\n",
    "            for t in range(len(x)):\n",
    "\n",
    "                pos = x[t][:, :2].to(device)\n",
    "\n",
    "                data = Data(x = x[t][:, 2:], y = y[t] , edge_attr = attr[t], edge_index = inds[t])\n",
    "\n",
    "                data = normalizeGraph(data).to(DEVICE)\n",
    "\n",
    "\n",
    "                pred = self.model(data)\n",
    "                nextPose = pos + pred\n",
    "\n",
    "                pred[:, 0] = torch.where((nextPose[:, 0] < -BOUNDARY) | (nextPose[:, 0] > BOUNDARY), -pred[:, 0], pred[:, 0])\n",
    "                pred[:, 1] = torch.where((nextPose[:, 1] < -BOUNDARY) | (nextPose[:, 1] > BOUNDARY), -pred[:, 1], pred[:, 1])\n",
    "\n",
    "                nextPose = pos + pred\n",
    "\n",
    "                hist[t+1] = nextPose.cpu().numpy()\n",
    "\n",
    "\n",
    "        return hist\n"
   ]
  },
  {
   "cell_type": "code",
   "execution_count": 229,
   "metadata": {},
   "outputs": [],
   "source": [
    "import numpy as np\n",
    "import torch\n",
    "import yaml\n",
    "import os\n",
    "from tqdm import tqdm\n",
    "from torch_geometric.data import Data\n",
    "from norm import normalizeGraph\n",
    "from features import optimized_getGraph, getFeatures, processSimulation\n",
    "\n",
    "\n",
    "\n",
    "OUTPUT_TYPE = 'speed'\n",
    "THRESHOLD_DIST = 6\n",
    "BOUNDARY = 120\n",
    "R_PARAM = 1\n",
    "\n",
    "\n",
    "NB_HIST = 4\n",
    "\n",
    "DEVICE = torch.device(\"cuda:0\" if torch.cuda.is_available() else \"cpu\")\n",
    "\n",
    "\n",
    "###############\n",
    "# Simulator\n",
    "###############\n",
    "\n",
    "class NNSimulator():\n",
    "    def __init__(self, model):\n",
    "        self.model = model\n",
    "\n",
    "\n",
    "    def runSim(self, T, state, pos, debug = None, train = False):\n",
    "        return genSim(self.model, T, state, pos, train = train, debug = debug)\n",
    "        \n",
    "        \n",
    "def genSim(model, T, state, pos, radius=None, train = True, debug = None):\n",
    "    \"\"\" \n",
    "    Function to simulate froma model T timesteps\n",
    "\n",
    "    Args:\n",
    "    ----\n",
    "        - `model`:\n",
    "        - `T`:\n",
    "        - `state`:\n",
    "        - `pos`:\n",
    "        - `train`:\n",
    "\n",
    "    Ouptuts:\n",
    "    --------\n",
    "        historic of positions (list)\n",
    "        and the list of speeds if training mode\n",
    "    \"\"\"\n",
    "    \n",
    "    #if radius is None:\n",
    "    radius = np.ones(pos.shape[0]) * R_PARAM\n",
    "\n",
    "    pos = pos.to(DEVICE)\n",
    "    hist = [torch.unsqueeze(pos, dim = 0)]          # [ [1, N, 2] ]\n",
    "\n",
    "\n",
    "    # if training, keep the computation graph\n",
    "    if train:\n",
    "\n",
    "        yList = []  # list of speeds\n",
    "\n",
    "        for i in range(T):\n",
    "            \n",
    "            # one-step transition\n",
    "\n",
    "            if debug is not None:\n",
    "                y = model(debug[i]).to(DEVICE)\n",
    "            else:\n",
    "                y = model(state)\n",
    "\n",
    "            # update of the states and positions\n",
    "            #with torch.no_grad():  # ?\n",
    "\n",
    "            if OUTPUT_TYPE == 'speed':\n",
    "                # Effect of boundary conditioned by previous position\n",
    "                nPose = hist[-1][0] + y\n",
    "                vNext = boundaryEffect(nPose, y, BOUNDARY )\n",
    "                \n",
    "            elif OUTPUT_TYPE == 'acceleration':\n",
    "                v = state.x[:, :2]\n",
    "                vNext = v + y\n",
    "                nPose = hist[-1][0] + vNext\n",
    "                vNext = boundaryEffect(nPose, vNext, BOUNDARY)\n",
    "\n",
    "            yList.append(vNext)\n",
    "            state, position = updateData(state, hist[-1][0], vNext, radius = radius)\n",
    "            hist.append(torch.unsqueeze(position, dim = 0))\n",
    "\n",
    "        return torch.cat(hist, dim = 0), torch.stack(yList)       # [T, N, 2], [T, N, 2]\n",
    "\n",
    "    # if not training, do not keep the comptutation graph\n",
    "    else:\n",
    "        model.eval()\n",
    "        with torch.no_grad():\n",
    "\n",
    "            for i in tqdm(range(T)):\n",
    "\n",
    "                # one-step transition\n",
    "                if debug is not None:\n",
    "                    y = model(debug[i]).to(DEVICE)\n",
    "                else:\n",
    "                    y = model(state)\n",
    "\n",
    "\n",
    "                if OUTPUT_TYPE == 'speed':\n",
    "                    # Effect of boundary conditioned by previous position\n",
    "                    nPose = hist[-1][0] + y\n",
    "                    vNext = boundaryEffect(nPose, y, BOUNDARY )\n",
    "\n",
    "                elif OUTPUT_TYPE == 'acceleration':\n",
    "                    v = state.x[:, :2]\n",
    "                    vNext = v + y\n",
    "                    nPose = hist[-1][0] + vNext\n",
    "                    vNext = boundaryEffect(nPose, vNext, BOUNDARY )   \n",
    "\n",
    "                state, position = updateData(state, hist[-1][0], vNext, radius = radius)\n",
    "                hist.append(torch.unsqueeze(position, dim = 0))\n",
    "\n",
    "        return torch.cat(hist, dim = 0)\n",
    "\n",
    "\n",
    "def boundaryEffect(x:np.array, v:np.array, boundary:float = BOUNDARY):\n",
    "    \"\"\" \n",
    "    Function to apply boundary effects\n",
    "\n",
    "    Args:\n",
    "    -----\n",
    "        - `x`: positions\n",
    "        - `v`: speeds\n",
    "        - `boundary`: fronteers\n",
    "\n",
    "    Returns:\n",
    "    --------\n",
    "        the speeds affected to \n",
    "    \"\"\"\n",
    "    \n",
    "    for j in range(x.shape[0]):\n",
    "        if x[j, 0] < - boundary or x[j, 0] > boundary:\n",
    "            v[j, 0] = -v[j, 0]\n",
    "\n",
    "        if x[j, 1] < - boundary or x[j, 1] > boundary:\n",
    "            v[j, 1] = -v[j, 1]\n",
    "        \n",
    "    return v\n",
    "\n",
    "\n",
    "def updateState(prevState, prevPos, speed):\n",
    "    \"\"\" \n",
    "    Updates the prevStates into the following one\n",
    "\n",
    "    Args:\n",
    "    -----\n",
    "        - `prevState`:previous state[[x, y, v_x, v_y]_t xN R]   [N, D]\n",
    "        - `prevPos`: previous position\n",
    "        - `speed`: speed [v_x, v_y]    [N, 2]\n",
    "    \"\"\"\n",
    "\n",
    "    # get the next positions\n",
    "    nextPos = prevPos + speed\n",
    "        \n",
    "\n",
    "    # get new state by concatenation\n",
    "    nextState = torch.cat((speed, prevState[:, :-2]), dim = -1)\n",
    "\n",
    "    return nextState, nextPos\n",
    "\n",
    "\n",
    "def updateData(prevState, prevPose, speed, radius, device = DEVICE, threshold = THRESHOLD_DIST):\n",
    "\n",
    "    newS, nextPose = updateState(prevState.x,prevPose, speed)\n",
    "\n",
    "    newGraph, newInds = optimized_getGraph(nextPose.cpu().detach().numpy().copy(), radius = radius)\n",
    "\n",
    "    data = Data(x = newS, edge_index = newInds, edge_attr = newGraph)\n",
    "    \n",
    "    data = normalizeGraph(data)\n",
    "\n",
    "    return data.to(device), nextPose\n",
    "\n",
    "\n",
    "def getSimulationVideo(model:torch.tensor, initPos:torch.tensor, nbTimesteps:int, initState:torch.tensor, train = False, debug = None) -> torch.tensor:\n",
    "    \"\"\" \n",
    "    Function to create a simulation from the model\n",
    "\n",
    "    Args:\n",
    "    -----\n",
    "        - `model`\n",
    "        - `initPos`\n",
    "        - `initState`\n",
    "        - `nbTimesteps`\n",
    "        - `outputPath`\n",
    "\n",
    "    Retruns:\n",
    "    --------\n",
    "        tensor of the different positions\n",
    "    \"\"\"\n",
    "\n",
    "    model.eval()\n",
    "    simulator = NNSimulator(model)\n",
    "\n",
    "    res = simulator.runSim(nbTimesteps, initState, initPos, train = train, debug = debug)\n",
    "\n",
    "    #create_simulation_video_cv2(res, outputPath, fps = 10, size = (600,600))\n",
    "\n",
    "    return res\n",
    "\n",
    "\n",
    "\n",
    "def getSimulationData(model:torch.tensor, nbTimesteps:int, d:np.array, i = 5, display =True, train = False, debug = None, radius = None) -> torch.tensor:\n",
    "    if radius is None:\n",
    "        radius = np.ones(d.shape[1]) * R_PARAM\n",
    "\n",
    "    x, y, attr, inds = processSimulation(d)\n",
    "    data = Data(x = x[i][:, 2:], y = y[i] , edge_attr = attr[i], edge_index = inds[i])\n",
    "    pos = x[i][:, :2]\n",
    "    s = normalizeGraph(data).to(DEVICE)\n",
    "\n",
    "    res = getSimulationVideo(model, pos, nbTimesteps, s, train = train, debug = debug)\n",
    "    \n",
    "    return res\n",
    "\n",
    "\n",
    "class OneStepSimulator():\n",
    "    def __init__(self, model):\n",
    "        self.model = model\n",
    "\n",
    "    def simulate(self, sim, device = DEVICE):\n",
    "\n",
    "        BOUNDARY = 120\n",
    "\n",
    "        hist = np.zeros_like(sim)\n",
    "        hist[0] = sim[0]\n",
    "        self.model.eval\n",
    "        with torch.no_grad():\n",
    "            x, y, attr, inds = processSimulation(sim)\n",
    "\n",
    "            for t in range(len(x)):\n",
    "\n",
    "                pos = x[t][:, :2].to(device)\n",
    "\n",
    "                data = Data(x = x[t][:, 2:], y = y[t] , edge_attr = attr[t], edge_index = inds[t])\n",
    "\n",
    "                data = normalizeGraph(data).to(DEVICE)\n",
    "\n",
    "\n",
    "                pred = self.model(data)\n",
    "                nextPose = pos + pred\n",
    "\n",
    "                pred[:, 0] = torch.where((nextPose[:, 0] < -BOUNDARY) | (nextPose[:, 0] > BOUNDARY), -pred[:, 0], pred[:, 0])\n",
    "                pred[:, 1] = torch.where((nextPose[:, 1] < -BOUNDARY) | (nextPose[:, 1] > BOUNDARY), -pred[:, 1], pred[:, 1])\n",
    "\n",
    "                nextPose = pos + pred\n",
    "\n",
    "                hist[t+1] = nextPose.cpu().numpy()\n",
    "\n",
    "\n",
    "        return hist\n"
   ]
  },
  {
   "cell_type": "code",
   "execution_count": 230,
   "metadata": {},
   "outputs": [],
   "source": [
    "mod = mod.to(DEVICE)"
   ]
  },
  {
   "cell_type": "code",
   "execution_count": 231,
   "metadata": {},
   "outputs": [],
   "source": [
    "# 1: error heatmap\n",
    "oneStepSimulator = OneStepSimulator(mod)\n",
    "out = oneStepSimulator.simulate(data)"
   ]
  },
  {
   "cell_type": "code",
   "execution_count": 232,
   "metadata": {},
   "outputs": [
    {
     "name": "stdout",
     "output_type": "stream",
     "text": [
      "[[[-85.02210078 -84.94421868]\n",
      "  [-66.09305286 -85.06286395]\n",
      "  [-47.24260494 -85.05643177]\n",
      "  ...\n",
      "  [ 47.7955368   91.56905548]\n",
      "  [ 72.76351295  85.54818666]\n",
      "  [ 90.20342792  91.49563912]]\n",
      "\n",
      " [[-85.06032562 -84.85112   ]\n",
      "  [-66.07652283 -85.14035034]\n",
      "  [-47.27960205 -85.1386795 ]\n",
      "  ...\n",
      "  [ 47.89388275  91.58296967]\n",
      "  [ 72.79833984  85.46022797]\n",
      "  [ 90.30183411  91.50930786]]\n",
      "\n",
      " [[-85.0849762  -84.78053284]\n",
      "  [-66.06610107 -85.23121643]\n",
      "  [-47.30083847 -85.21455383]\n",
      "  ...\n",
      "  [ 47.97032928  91.59353638]\n",
      "  [ 72.8232193   85.3844986 ]\n",
      "  [ 90.37824249  91.51959991]]\n",
      "\n",
      " ...\n",
      "\n",
      " [[  0.           0.        ]\n",
      "  [  0.           0.        ]\n",
      "  [  0.           0.        ]\n",
      "  ...\n",
      "  [  0.           0.        ]\n",
      "  [  0.           0.        ]\n",
      "  [  0.           0.        ]]\n",
      "\n",
      " [[  0.           0.        ]\n",
      "  [  0.           0.        ]\n",
      "  [  0.           0.        ]\n",
      "  ...\n",
      "  [  0.           0.        ]\n",
      "  [  0.           0.        ]\n",
      "  [  0.           0.        ]]\n",
      "\n",
      " [[  0.           0.        ]\n",
      "  [  0.           0.        ]\n",
      "  [  0.           0.        ]\n",
      "  ...\n",
      "  [  0.           0.        ]\n",
      "  [  0.           0.        ]\n",
      "  [  0.           0.        ]]]\n"
     ]
    }
   ],
   "source": [
    "print(out)"
   ]
  },
  {
   "cell_type": "code",
   "execution_count": 233,
   "metadata": {},
   "outputs": [
    {
     "name": "stdout",
     "output_type": "stream",
     "text": [
      "[[[ -85.02210078  -84.94421868]\n",
      "  [ -66.09305286  -85.06286395]\n",
      "  [ -47.24260494  -85.05643177]\n",
      "  ...\n",
      "  [  47.7955368    91.56905548]\n",
      "  [  72.76351295   85.54818666]\n",
      "  [  90.20342792   91.49563912]]\n",
      "\n",
      " [[ -85.04420156  -84.88843736]\n",
      "  [ -66.07981504  -85.12986673]\n",
      "  [ -47.26298766  -85.11286354]\n",
      "  ...\n",
      "  [  47.85505186   91.5766685 ]\n",
      "  [  72.78289415   85.49140313]\n",
      "  [  90.26296336   91.50309102]]\n",
      "\n",
      " [[ -85.06630234  -84.83265605]\n",
      "  [ -66.07208264  -85.20162796]\n",
      "  [ -47.28337038  -85.16929531]\n",
      "  ...\n",
      "  [  47.91456691   91.58428153]\n",
      "  [  72.80227534   85.4346196 ]\n",
      "  [  90.32249881   91.51054292]]\n",
      "\n",
      " ...\n",
      "\n",
      " [[-109.38725802  -29.19728922]\n",
      "  [ -25.24307506 -112.47877025]\n",
      "  [ -67.36131952  -98.22676252]\n",
      "  ...\n",
      "  [ 101.5491633   101.28730699]\n",
      "  [  93.03893786   31.20985893]\n",
      "  [  95.30522182   97.2164941 ]]\n",
      "\n",
      " [[-109.4093588   -29.1415079 ]\n",
      "  [ -25.20220578 -112.43484187]\n",
      "  [ -67.38170224  -98.17033074]\n",
      "  ...\n",
      "  [ 101.60867836  101.29492002]\n",
      "  [  93.05831905   31.1530754 ]\n",
      "  [  95.24568637   97.223946  ]]\n",
      "\n",
      " [[-109.43145958  -29.08572659]\n",
      "  [ -25.16133651 -112.39091349]\n",
      "  [ -67.40208495  -98.11389897]\n",
      "  ...\n",
      "  [ 101.66819342  101.30253305]\n",
      "  [  93.07770024   31.09629186]\n",
      "  [  95.18615093   97.2313979 ]]]\n"
     ]
    }
   ],
   "source": [
    "print(data)"
   ]
  },
  {
   "cell_type": "code",
   "execution_count": 234,
   "metadata": {},
   "outputs": [
    {
     "name": "stdout",
     "output_type": "stream",
     "text": [
      "[[[-85.02210078 -84.94421868]\n",
      "  [-66.09305286 -85.06286395]\n",
      "  [-47.24260494 -85.05643177]\n",
      "  ...\n",
      "  [ 47.7955368   91.56905548]\n",
      "  [ 72.76351295  85.54818666]\n",
      "  [ 90.20342792  91.49563912]]\n",
      "\n",
      " [[-85.06032562 -84.85112   ]\n",
      "  [-66.07652283 -85.14035034]\n",
      "  [-47.27960205 -85.1386795 ]\n",
      "  ...\n",
      "  [ 47.89388275  91.58296967]\n",
      "  [ 72.79833984  85.46022797]\n",
      "  [ 90.30183411  91.50930786]]\n",
      "\n",
      " [[-85.0849762  -84.78053284]\n",
      "  [-66.06610107 -85.23121643]\n",
      "  [-47.30083847 -85.21455383]\n",
      "  ...\n",
      "  [ 47.97032928  91.59353638]\n",
      "  [ 72.8232193   85.3844986 ]\n",
      "  [ 90.37824249  91.51959991]]\n",
      "\n",
      " ...\n",
      "\n",
      " [[  0.           0.        ]\n",
      "  [  0.           0.        ]\n",
      "  [  0.           0.        ]\n",
      "  ...\n",
      "  [  0.           0.        ]\n",
      "  [  0.           0.        ]\n",
      "  [  0.           0.        ]]\n",
      "\n",
      " [[  0.           0.        ]\n",
      "  [  0.           0.        ]\n",
      "  [  0.           0.        ]\n",
      "  ...\n",
      "  [  0.           0.        ]\n",
      "  [  0.           0.        ]\n",
      "  [  0.           0.        ]]\n",
      "\n",
      " [[  0.           0.        ]\n",
      "  [  0.           0.        ]\n",
      "  [  0.           0.        ]\n",
      "  ...\n",
      "  [  0.           0.        ]\n",
      "  [  0.           0.        ]\n",
      "  [  0.           0.        ]]]\n"
     ]
    }
   ],
   "source": [
    "print(out)"
   ]
  },
  {
   "cell_type": "code",
   "execution_count": 235,
   "metadata": {},
   "outputs": [
    {
     "name": "stdout",
     "output_type": "stream",
     "text": [
      "(1000, 200, 2)\n"
     ]
    }
   ],
   "source": [
    "print(out.shape)"
   ]
  },
  {
   "cell_type": "code",
   "execution_count": 236,
   "metadata": {},
   "outputs": [
    {
     "name": "stderr",
     "output_type": "stream",
     "text": [
      "100%|██████████| 1000/1000 [04:41<00:00,  3.56it/s]\n"
     ]
    }
   ],
   "source": [
    "res = getSimulationData(mod, 1000, data, i = 5, display =True, train = False).detach().cpu().numpy()"
   ]
  },
  {
   "cell_type": "code",
   "execution_count": null,
   "metadata": {},
   "outputs": [],
   "source": []
  },
  {
   "cell_type": "code",
   "execution_count": 237,
   "metadata": {},
   "outputs": [
    {
     "name": "stdout",
     "output_type": "stream",
     "text": [
      "tensor([[-2.5423e-02,  4.8428e-02],\n",
      "        [ 3.8884e-02, -4.2634e-02],\n",
      "        [-1.7834e-02, -5.0284e-02],\n",
      "        [ 5.8333e-02, -4.6066e-03],\n",
      "        [ 1.0241e-02, -5.4808e-02],\n",
      "        [-5.2145e-02, -1.5984e-02],\n",
      "        [ 4.7781e-02,  1.3661e-02],\n",
      "        [-4.1261e-02, -3.3099e-02],\n",
      "        [ 5.8232e-02, -5.1954e-03],\n",
      "        [ 2.4171e-02, -5.2084e-02],\n",
      "        [ 5.4548e-02, -2.2814e-02],\n",
      "        [ 4.6151e-02,  3.5816e-02],\n",
      "        [-4.9692e-02,  1.7537e-02],\n",
      "        [-4.9257e-02,  2.4733e-02],\n",
      "        [-5.3456e-02,  2.7461e-03],\n",
      "        [-3.5091e-02, -4.0769e-02],\n",
      "        [-5.1599e-02,  1.6060e-02],\n",
      "        [-2.1317e-02,  4.7353e-02],\n",
      "        [-2.5445e-02,  2.7260e-02],\n",
      "        [ 5.9320e-02,  4.7607e-03],\n",
      "        [ 1.2506e-02,  5.6072e-02],\n",
      "        [-5.2139e-02, -1.7751e-02],\n",
      "        [-9.5653e-03,  1.0456e-02],\n",
      "        [-4.5717e-02,  3.0121e-02],\n",
      "        [ 1.1244e-02,  5.6199e-02],\n",
      "        [-3.4269e-02, -3.6938e-02],\n",
      "        [-4.4274e-02,  2.8614e-02],\n",
      "        [-6.1306e-03, -7.2145e-03],\n",
      "        [-3.5891e-02,  4.0916e-02],\n",
      "        [-1.9120e-03, -3.0195e-03],\n",
      "        [-5.1590e-02, -9.7341e-03],\n",
      "        [-5.3035e-02, -9.9074e-03],\n",
      "        [ 5.5948e-02, -1.8277e-02],\n",
      "        [-4.6457e-02,  2.9396e-02],\n",
      "        [ 1.1506e-03,  5.7005e-02],\n",
      "        [ 5.4826e-02,  2.4813e-02],\n",
      "        [ 5.6141e-02,  2.1793e-02],\n",
      "        [ 3.6917e-02, -4.2017e-02],\n",
      "        [ 1.2721e-02,  5.4622e-02],\n",
      "        [-5.2234e-02, -9.3521e-03],\n",
      "        [ 5.6988e-02,  8.3077e-03],\n",
      "        [ 3.5537e-02, -3.1178e-02],\n",
      "        [ 5.4667e-02, -2.2465e-02],\n",
      "        [-7.1635e-03, -5.1932e-02],\n",
      "        [-1.3450e-02,  5.5058e-02],\n",
      "        [-4.8724e-02, -7.6050e-03],\n",
      "        [ 3.7009e-02, -4.4099e-02],\n",
      "        [ 3.4107e-02,  9.7608e-03],\n",
      "        [-4.8027e-02, -2.7627e-02],\n",
      "        [ 9.0907e-04, -5.5475e-02],\n",
      "        [ 1.4254e-02, -5.5223e-02],\n",
      "        [-5.3183e-02,  4.3604e-03],\n",
      "        [-1.5737e-02, -5.0762e-02],\n",
      "        [ 4.7035e-02,  3.6446e-02],\n",
      "        [ 5.8598e-02,  1.1644e-02],\n",
      "        [-4.2367e-02, -3.2855e-02],\n",
      "        [ 4.5099e-02,  3.8197e-02],\n",
      "        [-7.6644e-03,  3.9339e-02],\n",
      "        [ 3.0638e-02,  4.8859e-02],\n",
      "        [ 1.9992e-02, -5.3636e-02],\n",
      "        [-3.9486e-02,  3.6976e-02],\n",
      "        [-5.0835e-02,  2.1165e-02],\n",
      "        [ 5.4977e-02, -1.8686e-02],\n",
      "        [ 5.4719e-02, -2.2323e-02],\n",
      "        [-7.2520e-03, -3.1075e-02],\n",
      "        [ 5.5632e-02,  2.3021e-02],\n",
      "        [-1.8264e-03,  5.5084e-02],\n",
      "        [ 4.8978e-02,  2.5504e-02],\n",
      "        [-4.2899e-02, -1.1614e-02],\n",
      "        [-4.3619e-02, -3.3433e-02],\n",
      "        [-4.6315e-02, -3.0218e-02],\n",
      "        [-5.3188e-02, -8.2493e-03],\n",
      "        [ 1.5942e-02,  5.5711e-02],\n",
      "        [ 4.5180e-02, -2.5931e-02],\n",
      "        [ 8.0789e-03,  4.9255e-02],\n",
      "        [-2.0207e-02,  1.1518e-03],\n",
      "        [-2.2487e-02,  4.6653e-02],\n",
      "        [ 2.8583e-02, -5.0010e-02],\n",
      "        [-5.1270e-02,  1.8412e-02],\n",
      "        [-2.8686e-02, -4.6593e-02],\n",
      "        [-1.3316e-02,  2.2904e-02],\n",
      "        [ 5.6032e-02, -1.4191e-04],\n",
      "        [-3.5939e-02,  4.5385e-02],\n",
      "        [ 5.5675e-02, -1.9950e-02],\n",
      "        [-3.5475e-02,  4.1346e-02],\n",
      "        [-5.1242e-02,  1.8686e-02],\n",
      "        [-5.2165e-02, -9.2542e-03],\n",
      "        [ 5.5739e-02, -1.9756e-02],\n",
      "        [ 5.1227e-02, -2.9189e-02],\n",
      "        [-4.4084e-02,  2.9380e-02],\n",
      "        [ 4.8594e-02,  2.7271e-02],\n",
      "        [-6.8940e-03, -5.3800e-02],\n",
      "        [ 5.7776e-02, -7.3701e-03],\n",
      "        [ 1.9828e-02, -5.3690e-02],\n",
      "        [ 1.4010e-02, -5.5265e-02],\n",
      "        [-5.1177e-02,  1.0847e-02],\n",
      "        [-5.2042e-02, -2.3438e-03],\n",
      "        [ 2.3389e-02,  5.2692e-02],\n",
      "        [-3.1222e-02, -4.4061e-02],\n",
      "        [ 3.0769e-02,  4.8727e-02],\n",
      "        [-3.4019e-02,  3.4312e-02],\n",
      "        [ 5.6250e-02, -1.5117e-02],\n",
      "        [-2.5279e-02,  4.9159e-02],\n",
      "        [-5.2751e-02, -1.2410e-02],\n",
      "        [-1.0818e-02, -5.1244e-02],\n",
      "        [ 5.0607e-02,  3.1672e-02],\n",
      "        [ 4.7913e-02,  1.3626e-02],\n",
      "        [-2.8040e-02, -4.4511e-02],\n",
      "        [-3.3704e-02,  4.3125e-02],\n",
      "        [ 4.4230e-02, -3.6967e-02],\n",
      "        [-2.9579e-02, -4.5773e-02],\n",
      "        [-3.7601e-02,  2.8720e-02],\n",
      "        [ 4.0864e-03,  7.0042e-03],\n",
      "        [-3.2779e-02,  4.3972e-02],\n",
      "        [-4.0487e-02, -3.6205e-02],\n",
      "        [-4.6507e-02,  2.2068e-02],\n",
      "        [ 5.0689e-02, -1.6131e-02],\n",
      "        [ 4.6221e-02, -3.4587e-02],\n",
      "        [-2.5834e-02,  2.7548e-02],\n",
      "        [-4.9596e-02, -2.4553e-02],\n",
      "        [-5.2199e-02, -1.5707e-02],\n",
      "        [ 6.7659e-03,  5.6562e-02],\n",
      "        [ 5.1016e-04, -2.7175e-02],\n",
      "        [-2.6248e-02, -4.8112e-02],\n",
      "        [-4.7430e-02, -2.8581e-02],\n",
      "        [ 5.5004e-02, -1.1784e-02],\n",
      "        [ 3.8147e-02,  4.3789e-02],\n",
      "        [-6.1906e-03, -7.3732e-03],\n",
      "        [ 5.2878e-03, -5.5859e-02],\n",
      "        [-1.9111e-03, -3.1306e-03],\n",
      "        [-5.1708e-02, -9.5743e-03],\n",
      "        [ 4.0847e-02,  3.9610e-02],\n",
      "        [-2.9889e-02,  4.3771e-02],\n",
      "        [ 3.0266e-02, -4.9047e-02],\n",
      "        [ 9.1517e-03,  5.5415e-02],\n",
      "        [ 4.9732e-02,  2.6128e-02],\n",
      "        [-4.0133e-02,  2.9443e-02],\n",
      "        [ 3.6932e-02, -4.2046e-02],\n",
      "        [-4.9460e-05,  5.6594e-02],\n",
      "        [-3.6200e-02, -3.8269e-02],\n",
      "        [ 5.5806e-02,  8.3325e-03],\n",
      "        [ 3.6163e-02, -3.1649e-02],\n",
      "        [ 5.8454e-02,  1.2777e-02],\n",
      "        [-1.6307e-02, -4.9849e-02],\n",
      "        [ 2.1035e-02, -5.1244e-02],\n",
      "        [ 3.2732e-02, -4.7550e-02],\n",
      "        [-5.3207e-02,  4.2176e-03],\n",
      "        [ 3.4333e-02,  9.8407e-03],\n",
      "        [ 5.9232e-02,  3.5710e-03],\n",
      "        [ 5.8932e-02,  2.1103e-04],\n",
      "        [ 5.8961e-02,  5.6180e-04],\n",
      "        [ 5.7564e-02, -8.4525e-03],\n",
      "        [ 4.6014e-02,  3.6378e-02],\n",
      "        [-1.2978e-02, -5.1588e-02],\n",
      "        [-2.8186e-04, -5.4261e-02],\n",
      "        [-5.3397e-02, -5.5698e-03],\n",
      "        [-4.9816e-02, -2.4047e-02],\n",
      "        [-8.3888e-03,  3.5799e-02],\n",
      "        [ 5.8909e-02, -5.4531e-05],\n",
      "        [-1.2642e-02,  5.5388e-02],\n",
      "        [-3.2707e-02, -4.2587e-02],\n",
      "        [ 3.2541e-02, -4.7677e-02],\n",
      "        [ 5.8294e-02, -4.8474e-03],\n",
      "        [-4.6314e-02,  2.9547e-02],\n",
      "        [-7.2476e-03, -3.1322e-02],\n",
      "        [ 4.9995e-02,  3.2462e-02],\n",
      "        [-4.1916e-02,  2.8561e-02],\n",
      "        [ 4.4356e-02,  2.5461e-02],\n",
      "        [ 5.5870e-03, -5.5866e-02],\n",
      "        [ 7.0242e-03,  5.6514e-02],\n",
      "        [-4.6123e-02, -3.0492e-02],\n",
      "        [-4.5042e-02,  3.0727e-02],\n",
      "        [ 1.3875e-02,  5.5919e-02],\n",
      "        [ 4.5382e-02, -2.6021e-02],\n",
      "        [ 5.0995e-02, -2.6922e-02],\n",
      "        [-4.6194e-02, -2.6333e-02],\n",
      "        [-5.0412e-02,  4.4156e-04],\n",
      "        [-4.7192e-02, -2.8936e-02],\n",
      "        [-4.5042e-02,  3.0727e-02],\n",
      "        [-3.9238e-02,  3.7213e-02],\n",
      "        [-1.3229e-02,  2.3102e-02],\n",
      "        [ 5.4140e-02, -2.2668e-02],\n",
      "        [-4.1110e-02,  2.7050e-02],\n",
      "        [-5.0185e-02, -2.3077e-02],\n",
      "        [-2.4962e-02, -4.8663e-02],\n",
      "        [-5.0485e-02, -2.2234e-02],\n",
      "        [-4.9497e-02, -2.1984e-02],\n",
      "        [-5.2916e-02, -1.1047e-02],\n",
      "        [ 4.0768e-02, -1.5484e-02],\n",
      "        [ 7.9078e-03,  5.6455e-02],\n",
      "        [ 5.8573e-02,  1.0598e-02],\n",
      "        [ 2.8945e-02, -4.9789e-02],\n",
      "        [ 3.0958e-02,  4.8541e-02],\n",
      "        [ 3.7339e-02,  4.4363e-02],\n",
      "        [ 4.2797e-02, -3.6956e-02],\n",
      "        [ 5.9194e-02,  6.9049e-03],\n",
      "        [-3.8724e-02, -3.5099e-02],\n",
      "        [ 5.7962e-02,  1.0526e-02],\n",
      "        [ 2.0467e-02, -1.7552e-02],\n",
      "        [ 5.8707e-02,  1.0654e-02]], device='cuda:0', grad_fn=<AddmmBackward0>)\n"
     ]
    }
   ],
   "source": [
    "y = mod(s.to(DEVICE))\n",
    "print(y)"
   ]
  },
  {
   "cell_type": "code",
   "execution_count": 238,
   "metadata": {},
   "outputs": [
    {
     "name": "stdout",
     "output_type": "stream",
     "text": [
      "[[[-85.17113495 -84.55641937]\n",
      "  [-65.97727203 -85.5021286 ]\n",
      "  [-47.38273621 -85.44530487]\n",
      "  ...\n",
      "  [ 48.21131134  91.62557983]\n",
      "  [ 72.89935303  85.15370178]\n",
      "  [ 90.61934662  91.5510025 ]]\n",
      "\n",
      " [[-85.19322205 -84.50066376]\n",
      "  [-65.92798615 -85.54229736]\n",
      "  [-47.40311813 -85.5017395 ]\n",
      "  ...\n",
      "  [ 48.27082825  91.63319397]\n",
      "  [ 72.91873169  85.0969162 ]\n",
      "  [ 90.67888641  91.55845642]]\n",
      "\n",
      " [[-85.21531677 -84.44490051]\n",
      "  [-65.8765564  -85.57778931]\n",
      "  [-47.42350006 -85.55817413]\n",
      "  ...\n",
      "  [ 48.33034134  91.64080811]\n",
      "  [ 72.93811035  85.04013062]\n",
      "  [ 90.73841858  91.56590271]]\n",
      "\n",
      " ...\n",
      "\n",
      " [[  0.           0.        ]\n",
      "  [  0.           0.        ]\n",
      "  [  0.           0.        ]\n",
      "  ...\n",
      "  [  0.           0.        ]\n",
      "  [  0.           0.        ]\n",
      "  [  0.           0.        ]]\n",
      "\n",
      " [[  0.           0.        ]\n",
      "  [  0.           0.        ]\n",
      "  [  0.           0.        ]\n",
      "  ...\n",
      "  [  0.           0.        ]\n",
      "  [  0.           0.        ]\n",
      "  [  0.           0.        ]]\n",
      "\n",
      " [[  0.           0.        ]\n",
      "  [  0.           0.        ]\n",
      "  [  0.           0.        ]\n",
      "  ...\n",
      "  [  0.           0.        ]\n",
      "  [  0.           0.        ]\n",
      "  [  0.           0.        ]]]\n"
     ]
    }
   ],
   "source": [
    "print(out[6:])"
   ]
  },
  {
   "cell_type": "code",
   "execution_count": 46,
   "metadata": {},
   "outputs": [
    {
     "name": "stdout",
     "output_type": "stream",
     "text": [
      "[[[-85.15471  -84.60953 ]\n",
      "  [-65.994644 -85.450226]\n",
      "  [-47.364902 -85.39502 ]\n",
      "  ...\n",
      "  [ 48.152626  91.61473 ]\n",
      "  [ 72.8798    85.20749 ]\n",
      "  [ 90.56064   91.54035 ]]\n",
      "\n",
      " [[-85.1743   -84.567444]\n",
      "  [-65.98023  -85.491646]\n",
      "  [-47.386196 -85.44314 ]\n",
      "  ...\n",
      "  [ 48.198406  91.62248 ]\n",
      "  [ 72.8958    85.15905 ]\n",
      "  [ 90.60641   91.548   ]]\n",
      "\n",
      " [[-85.19402  -84.52547 ]\n",
      "  [-65.959335 -85.53299 ]\n",
      "  [-47.408024 -85.490814]\n",
      "  ...\n",
      "  [ 48.24413   91.6303  ]\n",
      "  [ 72.91155   85.11071 ]\n",
      "  [ 90.652115  91.55572 ]]\n",
      "\n",
      " ...\n",
      "\n",
      " [[-85.57497  -83.92122 ]\n",
      "  [-65.69818  -86.15412 ]\n",
      "  [-47.9498   -86.1373  ]\n",
      "  ...\n",
      "  [ 48.901123  91.8037  ]\n",
      "  [ 73.10332   84.33938 ]\n",
      "  [ 91.34441   91.72243 ]]\n",
      "\n",
      " [[-85.60053  -83.88459 ]\n",
      "  [-65.6854   -86.19335 ]\n",
      "  [-47.992268 -86.17179 ]\n",
      "  ...\n",
      "  [ 48.93916   91.81649 ]\n",
      "  [ 73.11135   84.29037 ]\n",
      "  [ 91.38726   91.733765]]\n",
      "\n",
      " [[-85.62615  -83.848   ]\n",
      "  [-65.67282  -86.23258 ]\n",
      "  [-48.03507  -86.20599 ]\n",
      "  ...\n",
      "  [ 48.97719   91.82939 ]\n",
      "  [ 73.11906   84.24129 ]\n",
      "  [ 91.43011   91.74513 ]]]\n"
     ]
    }
   ],
   "source": [
    "print(res)"
   ]
  },
  {
   "cell_type": "code",
   "execution_count": 47,
   "metadata": {},
   "outputs": [],
   "source": [
    "d2 = data[6:, :, :]"
   ]
  },
  {
   "cell_type": "code",
   "execution_count": 48,
   "metadata": {},
   "outputs": [
    {
     "name": "stdout",
     "output_type": "stream",
     "text": [
      "[[[ -85.15470547  -84.60953077]\n",
      "  [ -65.99464067  -85.45022767]\n",
      "  [ -47.36490125  -85.3950224 ]\n",
      "  ...\n",
      "  [  48.15262713   91.61473364]\n",
      "  [  72.87980011   85.20748548]\n",
      "  [  90.56064059   91.54035052]]\n",
      "\n",
      " [[ -85.17680625  -84.55374945]\n",
      "  [ -65.9537714   -85.49415605]\n",
      "  [ -47.38528397  -85.45145417]\n",
      "  ...\n",
      "  [  48.21214219   91.62234667]\n",
      "  [  72.8991813    85.15070195]\n",
      "  [  90.62017603   91.54780242]]\n",
      "\n",
      " [[ -85.19890703  -84.49796814]\n",
      "  [ -65.91290212  -85.53808443]\n",
      "  [ -47.40566669  -85.50788594]\n",
      "  ...\n",
      "  [  48.27165724   91.6299597 ]\n",
      "  [  72.9185625    85.09391842]\n",
      "  [  90.67971148   91.55525432]]\n",
      "\n",
      " ...\n",
      "\n",
      " [[-109.38725802  -29.19728922]\n",
      "  [ -25.24307506 -112.47877025]\n",
      "  [ -67.36131952  -98.22676252]\n",
      "  ...\n",
      "  [ 101.5491633   101.28730699]\n",
      "  [  93.03893786   31.20985893]\n",
      "  [  95.30522182   97.2164941 ]]\n",
      "\n",
      " [[-109.4093588   -29.1415079 ]\n",
      "  [ -25.20220578 -112.43484187]\n",
      "  [ -67.38170224  -98.17033074]\n",
      "  ...\n",
      "  [ 101.60867836  101.29492002]\n",
      "  [  93.05831905   31.1530754 ]\n",
      "  [  95.24568637   97.223946  ]]\n",
      "\n",
      " [[-109.43145958  -29.08572659]\n",
      "  [ -25.16133651 -112.39091349]\n",
      "  [ -67.40208495  -98.11389897]\n",
      "  ...\n",
      "  [ 101.66819342  101.30253305]\n",
      "  [  93.07770024   31.09629186]\n",
      "  [  95.18615093   97.2313979 ]]]\n"
     ]
    }
   ],
   "source": [
    "print(d2)"
   ]
  },
  {
   "cell_type": "code",
   "execution_count": 51,
   "metadata": {},
   "outputs": [],
   "source": [
    "inds = np.arange(res.shape[0]-1)\n",
    "inds1 = inds + 1\n",
    "\n",
    "s = res[inds1] - res[inds]\n",
    "speeds = d2[inds1]-d2[inds]\n",
    "\n",
    "s = np.linalg.norm(s, axis = -1)\n",
    "s = np.mean(s, axis =-1)\n",
    "speeds = np.linalg.norm(speeds, axis = -1)\n",
    "speeds = np.mean(speeds, axis =-1)"
   ]
  },
  {
   "cell_type": "code",
   "execution_count": 52,
   "metadata": {},
   "outputs": [
    {
     "data": {
      "text/plain": [
       "[<matplotlib.lines.Line2D at 0x7fc682dcf810>]"
      ]
     },
     "execution_count": 52,
     "metadata": {},
     "output_type": "execute_result"
    },
    {
     "data": {
      "image/png": "[encoded data removed]",
      "text/plain": [
       "<Figure size 640x480 with 1 Axes>"
      ]
     },
     "metadata": {},
     "output_type": "display_data"
    }
   ],
   "source": [
    "plt.plot(s)\n",
    "plt.plot(speeds)"
   ]
  },
  {
   "cell_type": "markdown",
   "metadata": {},
   "source": [
    "### - get the video"
   ]
  },
  {
   "cell_type": "code",
   "execution_count": 53,
   "metadata": {},
   "outputs": [],
   "source": [
    "p = '/master/tests/data/comcomparing_1_stepp.mp4'\n",
    "vidParams = disp.videoParameters(p)\n",
    "import cv2\n",
    "\n",
    "def compareVideo(data, ground_truth, video_params, bounds=None):\n",
    "    \"\"\"\n",
    "    Creates an MP4 video from a PyTorch tensor representing cell movements using cv2,\n",
    "    and includes ground truth data visualized in a different color.\n",
    "\n",
    "    Parameters:\n",
    "    - data: A PyTorch tensor of shape [T, N, 2], where T is the number of timesteps,\n",
    "            N is the number of cells, and 2 corresponds to the coordinates (x, y).\n",
    "    - ground_truth: A PyTorch tensor of shape [T, N, 2], same format as data, representing the ground truth.\n",
    "    - video_params: An instance of videoParameters class containing video settings.\n",
    "    - bounds: Tuple of ((min_x, max_x), (min_y, max_y)) specifying the bounds for the positions.\n",
    "              If None, it uses the minimum and maximum values from the data.\n",
    "    \"\"\"\n",
    "    \n",
    "    if bounds:\n",
    "        min_x, max_x = bounds[0]\n",
    "        min_y, max_y = bounds[1]\n",
    "    else:\n",
    "        min_x, max_x = min(data.min(), ground_truth.min()), max(data.max(), ground_truth.max())\n",
    "        min_y, max_y = min(data.min(), ground_truth.min()), max(data.max(), ground_truth.max())\n",
    "\n",
    "    # Normalize coordinates to fit within the video frame size\n",
    "    data[:, :, 0] = (data[:, :, 0] - min_x) / (max_x - min_x) * (video_params.size[0] - 1)\n",
    "    data[:, :, 1] = (data[:, :, 1] - min_y) / (max_y - min_y) * (video_params.size[1] - 1)\n",
    "    ground_truth[:, :, 0] = (ground_truth[:, :, 0] - min_x) / (max_x - min_x) * (video_params.size[0] - 1)\n",
    "    ground_truth[:, :, 1] = (ground_truth[:, :, 1] - min_y) / (max_y - min_y) * (video_params.size[1] - 1)\n",
    "\n",
    "    # Define the codec and create VideoWriter object\n",
    "    fourcc = cv2.VideoWriter_fourcc(*'mp4v')  # Be sure to use lowercase\n",
    "    out = cv2.VideoWriter(video_params.path, fourcc, video_params.fps, video_params.size)\n",
    "\n",
    "    # Colors (BGR format) and radius\n",
    "    pred_color = (0, 255, 0)  # Green for predictions\n",
    "    gt_color = (0, 0, 255)  # Red for ground truth\n",
    "\n",
    "    for i in range(data.shape[0]):\n",
    "        frame = np.zeros((video_params.size[1], video_params.size[0], 3), dtype=np.uint8)\n",
    "        \n",
    "        # Draw ground truth and predictions\n",
    "        for (x, y), (gt_x, gt_y) in zip(data[i], ground_truth[i]):\n",
    "            cv2.circle(frame, (int(x), int(y)), radius=5, color=pred_color, thickness=-1)\n",
    "            cv2.circle(frame, (int(gt_x), int(gt_y)), radius=2, color=gt_color, thickness=-1)\n",
    "        \n",
    "        # Draw legend\n",
    "        cv2.rectangle(frame, (10, 10), (10 + 20, 30), pred_color, -1)  # Prediction color box\n",
    "        cv2.rectangle(frame, (10, 40), (10 + 20, 60), gt_color, -1)  # Ground truth color box\n",
    "        cv2.putText(frame, 'Prediction', (35, 25), cv2.FONT_HERSHEY_SIMPLEX, 0.5, (255, 255, 255), 1, cv2.LINE_AA)\n",
    "        cv2.putText(frame, 'Ground Truth', (35, 55), cv2.FONT_HERSHEY_SIMPLEX, 0.5, (255, 255, 255), 1, cv2.LINE_AA)\n",
    "\n",
    "        out.write(frame)\n",
    "\n",
    "    out.release()"
   ]
  },
  {
   "cell_type": "code",
   "execution_count": 61,
   "metadata": {},
   "outputs": [],
   "source": [
    "#compareVideo(out.copy(), data.copy(), vidParams,bounds=((-140, 140), (-140, 140)))\n",
    "compareVideo(res[:900].copy(), d2[:900].copy(), vidParams,bounds=((-140, 140), (-140, 140)))"
   ]
  },
  {
   "cell_type": "code",
   "execution_count": 363,
   "metadata": {},
   "outputs": [],
   "source": [
    "p = '/master/tests/data/1_step_color.mp4'\n",
    "vidParams = disp.videoParameters(p)\n",
    "import cv2\n",
    "import numpy as np\n",
    "import matplotlib.pyplot as plt\n",
    "from matplotlib.colors import Normalize\n",
    "\n",
    "def videoColors(data, errors, video_params, bounds=None):\n",
    "    \"\"\"\n",
    "    Creates an MP4 video from a PyTorch tensor representing cell movements using cv2,\n",
    "    with cell colors indicating error values, based on specified video parameters and position bounds.\n",
    "\n",
    "    Parameters:\n",
    "    - data: A PyTorch tensor of shape [T, N, 2], where T is the number of timesteps,\n",
    "            N is the number of cells, and 2 corresponds to the coordinates (x, y).\n",
    "    - errors: A PyTorch tensor of shape [T, N], representing the error of each cell at each timestep.\n",
    "    - video_params: An instance of videoParameters class containing video settings.\n",
    "    - bounds: Tuple of ((min_x, max_x), (min_y, max_y)) specifying the bounds for the positions.\n",
    "              If None, it uses the minimum and maximum values from the data.\n",
    "    \"\"\"\n",
    "\n",
    "    if bounds:\n",
    "        min_x, max_x = bounds[0]\n",
    "        min_y, max_y = bounds[1]\n",
    "    else:\n",
    "        min_x, max_x = data[:, :, 0].min(), data[:, :, 0].max()\n",
    "        min_y, max_y = data[:, :, 1].min(), data[:, :, 1].max()\n",
    "\n",
    "    # Normalize coordinates to fit within the video frame size\n",
    "    data[:, :, 0] = (data[:, :, 0] - min_x) / (max_x - min_x) * (video_params.size[0] - 1)\n",
    "    data[:, :, 1] = (data[:, :, 1] - min_y) / (max_y - min_y) * (video_params.size[1] - 1)\n",
    "\n",
    "    # Normalize errors for color mapping\n",
    "    norm = Normalize(vmin=errors.min(), vmax=errors.max())\n",
    "    cmap = plt.get_cmap('jet')\n",
    "\n",
    "    # Define the codec and create VideoWriter object\n",
    "    fourcc = cv2.VideoWriter_fourcc(*'mp4v')  # Be sure to use lowercase\n",
    "    out = cv2.VideoWriter(video_params.path, fourcc, video_params.fps, video_params.size)\n",
    "\n",
    "    for i in range(data.shape[0]):\n",
    "        frame = np.zeros((video_params.size[1], video_params.size[0], 3), dtype=np.uint8)\n",
    "        for idx, (x, y) in enumerate(data[i]):\n",
    "            color_value = cmap(norm(errors[i, idx]))[:3]  # Get RGB from RGBA\n",
    "            color = tuple(int(255 * c) for c in color_value[::-1])  # Convert to BGR for OpenCV\n",
    "            #print(color)\n",
    "            #print(x)\n",
    "            #print(y)\n",
    "            cv2.circle(frame, (int(x), int(y)), radius=5, color=color, thickness=-1)\n",
    "        out.write(frame)\n",
    "\n",
    "    out.release()"
   ]
  },
  {
   "cell_type": "code",
   "execution_count": 364,
   "metadata": {},
   "outputs": [],
   "source": [
    "errors = (out[:900] - data[:900]) ** 2\n",
    "errors = np.mean(errors, axis = -1)"
   ]
  },
  {
   "cell_type": "code",
   "execution_count": 365,
   "metadata": {},
   "outputs": [],
   "source": [
    "videoColors(out[:900].copy(), errors.copy(), vidParams,bounds=((-140, 140), (-140, 140)))"
   ]
  },
  {
   "cell_type": "markdown",
   "metadata": {},
   "source": [
    "### heatmap"
   ]
  },
  {
   "cell_type": "code",
   "execution_count": 65,
   "metadata": {},
   "outputs": [],
   "source": [
    "errors = (data - out)**2"
   ]
  },
  {
   "cell_type": "code",
   "execution_count": 66,
   "metadata": {},
   "outputs": [],
   "source": [
    "def heatmap(values, positions, grid_size=(50, 50), plot_size=(8, 6), mode = 'max', display = True):\n",
    "    \"\"\"\n",
    "    Visualizes the mean acceleration at different positions in a heatmap manner.\n",
    "\n",
    "    Parameters:\n",
    "    - values: np.array of shape [T, N], representing the acceleration vectors of N cells over T timesteps.\n",
    "    - positions: np.array of shape [T, N, 2], representing the spatial positions of N cells over T timesteps.\n",
    "    - grid_size: Tuple representing the dimensions of the grid used to calculate mean values.\n",
    "    - plot_size: Tuple representing the size of the output plot.\n",
    "    \"\"\"\n",
    "    \n",
    "    # Flatten the position and acceleration_norms arrays\n",
    "    flattened_positions = positions.reshape(-1, 2)\n",
    "    flattened_values = values.flatten()\n",
    "\n",
    "    # Create a grid\n",
    "    x_positions, y_positions = flattened_positions[:, 0], flattened_positions[:, 1]\n",
    "    x_edges = np.linspace(x_positions.min(), x_positions.max(), grid_size[0] + 1)\n",
    "    y_edges = np.linspace(y_positions.min(), y_positions.max(), grid_size[1] + 1)\n",
    "\n",
    "    # Digitize the positions to find out which grid cell each belongs to\n",
    "    x_inds = np.digitize(x_positions, x_edges) - 1\n",
    "    y_inds = np.digitize(y_positions, y_edges) - 1\n",
    "\n",
    "    # Accumulate the acceleration norms in their respective grid cells and count the entries\n",
    "    accumulation_grid = np.zeros(grid_size, dtype=np.float64)\n",
    "    count_grid = np.zeros(grid_size, dtype=np.int32)\n",
    "\n",
    "    for x_ind, y_ind, v in zip(x_inds, y_inds, flattened_values):\n",
    "        if 0 <= x_ind < grid_size[0] and 0 <= y_ind < grid_size[1]:\n",
    "            if mode == 'mean':\n",
    "                accumulation_grid[x_ind, y_ind] += v\n",
    "            elif mode == 'max':\n",
    "                accumulation_grid[x_ind, y_ind] = max(accumulation_grid[x_ind, y_ind], v)\n",
    "            elif mode == 'min':\n",
    "                accumulation_grid[x_ind, y_ind] = min(accumulation_grid[x_ind, y_ind], v)\n",
    "\n",
    "            count_grid[x_ind, y_ind] += 1\n",
    "\n",
    "\n",
    "    if display:\n",
    "        # Avoid division by zero\n",
    "        if mode == 'mean':\n",
    "            with np.errstate(divide='ignore', invalid='ignore'):\n",
    "                mean_acceleration_grid = np.true_divide(accumulation_grid, count_grid)\n",
    "\n",
    "        else:\n",
    "            mean_acceleration_grid = accumulation_grid\n",
    "\n",
    "        if np.any(count_grid == 0):\n",
    "            mean_acceleration_grid[count_grid == 0] = np.nan  # Set cells with no data to NaN\n",
    "\n",
    "        # Plotting the heatmap\n",
    "        plt.figure(figsize=plot_size)\n",
    "        plt.imshow(mean_acceleration_grid.T, origin='lower', extent=[x_edges[0], x_edges[-1], y_edges[0], y_edges[-1]], aspect='auto', cmap='jet')\n",
    "        plt.colorbar(label='Error')\n",
    "        plt.xlabel('X Position')\n",
    "        plt.ylabel('Y Position')\n",
    "        plt.title('Heatmap of Error')\n",
    "    "
   ]
  },
  {
   "cell_type": "code",
   "execution_count": 67,
   "metadata": {},
   "outputs": [
    {
     "data": {
      "image/png": "[encoded data removed]",
      "text/plain": [
       "<Figure size 800x600 with 2 Axes>"
      ]
     },
     "metadata": {},
     "output_type": "display_data"
    }
   ],
   "source": [
    "r = heatmap(errors, data, grid_size=(50, 50), plot_size=(8, 6), mode = 'mean', display = True)"
   ]
  },
  {
   "cell_type": "code",
   "execution_count": 68,
   "metadata": {},
   "outputs": [
    {
     "data": {
      "image/png": "[encoded data removed]",
      "text/plain": [
       "<Figure size 800x600 with 2 Axes>"
      ]
     },
     "metadata": {},
     "output_type": "display_data"
    }
   ],
   "source": [
    "r = heatmap(errors, data, grid_size=(50, 50), plot_size=(8, 6), mode = 'max', display = True)"
   ]
  },
  {
   "cell_type": "markdown",
   "metadata": {},
   "source": [
    "### ============="
   ]
  },
  {
   "cell_type": "code",
   "execution_count": 370,
   "metadata": {},
   "outputs": [],
   "source": [
    "def MSE_rollout(roll, sim):\n",
    "    x = np.arange(roll.shape[0])\n",
    "    vals = ((roll - sim) ** 2).reshape(x.shape[0], -1)\n",
    "    y = np.mean(vals, axis=1)\n",
    "    std = np.std(vals, axis=1)\n",
    "\n",
    "    plt.plot(x, y, 'blue')\n",
    "    plt.fill_between(x, y-std, y+std, zorder=  2, alpha = 0.4)\n",
    "    plt.xlabel('Time')\n",
    "    plt.ylabel('Rollout MSE')\n",
    "    plt.grid(zorder = 1)\n",
    "\n",
    "    return x, y"
   ]
  },
  {
   "cell_type": "code",
   "execution_count": 371,
   "metadata": {},
   "outputs": [
    {
     "data": {
      "text/plain": [
       "(0.0, 0.005)"
      ]
     },
     "execution_count": 371,
     "metadata": {},
     "output_type": "execute_result"
    },
    {
     "data": {
      "image/png": "[encoded data removed]",
      "text/plain": [
       "<Figure size 640x480 with 1 Axes>"
      ]
     },
     "metadata": {},
     "output_type": "display_data"
    }
   ],
   "source": [
    "res = MSE_rollout(out, data)\n",
    "plt.xlim([0, 900])\n",
    "plt.ylim([0, 0.005])"
   ]
  },
  {
   "cell_type": "markdown",
   "metadata": {},
   "source": [
    "### MSD"
   ]
  },
  {
   "cell_type": "code",
   "execution_count": 372,
   "metadata": {},
   "outputs": [],
   "source": [
    "import stats"
   ]
  },
  {
   "cell_type": "code",
   "execution_count": 373,
   "metadata": {},
   "outputs": [],
   "source": [
    "def MSD_comp(traj, tau):\n",
    "    T = traj.shape[0]\n",
    "    i = np.arange(T - tau)\n",
    "    j = i + tau\n",
    "\n",
    "    return np.linalg.norm(traj[j, :, :] - traj[i, :, :], axis=-1)**2\n",
    "\n",
    "def MSD(traj: np.array)-> np.array:\n",
    "    \"\"\"\n",
    "    Allows to compute the Mean Squared Displacement of the trajectories for all timestamps\n",
    "    \n",
    "    Args:\n",
    "    -----\n",
    "    - `traj`: np.array of N trajectories of length T [NxT]\n",
    "    \n",
    "    Output:\n",
    "    -------\n",
    "    Mean Squared Displacement for all timestamps\n",
    "    \"\"\"\n",
    "\n",
    "    res = []\n",
    "    T = traj.shape[0]\n",
    "    \n",
    "    for tau in range(1, T):\n",
    "        val = np.mean(np.mean(MSD_comp(traj, tau), axis=0), axis=0)\n",
    "        res.append(val)\n",
    "\n",
    "    return res\n",
    "\n",
    "def applyMSD(sims:list, dislpay:bool = True, color:str = 'blue')->np.array:\n",
    "    \"\"\" \n",
    "    Function to apply MSD to a group of simulations\n",
    "\n",
    "    NOTE: test\n",
    "\n",
    "    Args:\n",
    "    -----\n",
    "        - `sims` (list): list of simualtions\n",
    "\n",
    "    Returns:\n",
    "    --------\n",
    "        np array [#Sim, T-1] of MSD computations\n",
    "    \"\"\"\n",
    "\n",
    "    res = np.zeros((len(sims), sims[0].shape[0]-1))\n",
    "    for i in range(len(sims)):\n",
    "        sim = sims[i]\n",
    "        res[i, :] = np.array(MSD(sim))\n",
    "\n",
    "\n",
    "    if dislpay:\n",
    "        x = np.arange(sims[0].shape[0]-1)\n",
    "        y = np.mean(res, axis = 0)\n",
    "        std = np.std(res, axis = 0)\n",
    "        plt.plot(x, y, color = color, zorder = 1)\n",
    "        #plt.fill_between(x, y - std, y+std, color = 'red', alpha = 0.4, zorder = 2)\n",
    "        \n",
    "\n",
    "    return res"
   ]
  },
  {
   "cell_type": "code",
   "execution_count": 374,
   "metadata": {},
   "outputs": [
    {
     "data": {
      "image/png": "[encoded data removed]",
      "text/plain": [
       "<Figure size 640x480 with 1 Axes>"
      ]
     },
     "metadata": {},
     "output_type": "display_data"
    }
   ],
   "source": [
    "a = applyMSD([data], True)\n",
    "b = applyMSD([out], True, color = 'red')\n",
    "plt.grid()\n",
    "\n",
    "plt.show()"
   ]
  },
  {
   "cell_type": "code",
   "execution_count": 219,
   "metadata": {},
   "outputs": [],
   "source": [
    "def scaleMagnVel(sim:np.array, bins:np.array, bins2:np.array, display:bool = True)->np.array:\n",
    "    \"\"\" \n",
    "    Fucntion to compute the velocity maginutude distr\n",
    "\n",
    "    Args:\n",
    "    -----\n",
    "        - `sim`: simulatioon \n",
    "        - `bins`: bins array\n",
    "        - `bins2`: component histogram bins\n",
    "\n",
    "    Returns:\n",
    "    --------\n",
    "        the tuple of velocities magnitude and components\n",
    "    \"\"\"\n",
    "\n",
    "    # get the velocits\n",
    "\n",
    "    inds0 = np.arange(sim.shape[0]-1)\n",
    "    inds = inds0 + 1\n",
    "\n",
    "    speeds = sim[inds] - sim[inds0]\n",
    "    vmagn = np.linalg.norm(speeds, axis=-1)\n",
    "    vx = speeds[:, :, 0]\n",
    "    vy = speeds[:, :, 1]\n",
    "\n",
    "    # average speed according to the cells\n",
    "    avgSpeed = np.mean(vmagn, axis = -1)\n",
    "\n",
    "\n",
    "    # intitialize the three histograms\n",
    "\n",
    "    magnDist = np.zeros(len(bins)-1)\n",
    "    magnDistX = np.zeros(len(bins2)-1)\n",
    "    magnDistY = np.zeros(len(bins2)-1)\n",
    "\n",
    "\n",
    "    # loop over cells\n",
    "    for i in range(speeds.shape[0]):\n",
    "                \n",
    "        vdist,_=np.histogram(vmagn[i, :]/avgSpeed[i],bins,density=True)\n",
    "        magnDist += vdist\n",
    "\n",
    "        vdistx,_=np.histogram(vx[i, :]/avgSpeed[i],bins2,density=True)\n",
    "        magnDistX += vdistx\n",
    "\n",
    "\n",
    "        vdisty,_=np.histogram(vy[i, :]/avgSpeed[i],bins2,density=True)\n",
    "        magnDistY += vdisty\n",
    "    \n",
    "    magnDist = magnDist/speeds.shape[0]\n",
    "    magnDistX = magnDistX/speeds.shape[0]\n",
    "    magnDistY = magnDistY/speeds.shape[0]\n",
    "    \n",
    "\n",
    "\n",
    "    if display:\n",
    "        fig=plt.figure()\n",
    "        db=bins[1]-bins[0]\n",
    "        plt.grid()\n",
    "        plt.semilogy(bins[1:]-db/2,magnDist,'r.-',lw=2)\n",
    "        plt.xlabel('v/<v>')\n",
    "        plt.ylabel('P(frac{v}{<v>})')\n",
    "        plt.title('Scaled velocity magnitude distribution')\n",
    "\n",
    "        fig=plt.figure()\n",
    "        db=bins2[1]-bins2[0]\n",
    "        plt.grid()\n",
    "        plt.semilogy(bins2[1:]-db/2,magnDistX,'r.-',lw=2)\n",
    "        plt.semilogy(bins2[1:]-db/2,magnDistY,'k.-',lw=2)\n",
    "        plt.xlabel('v/<v>')\n",
    "        plt.ylabel('$P(fracv/<v>)$')\n",
    "        plt.title('Scaled velocity component (x & y) distribution')\n",
    "\n",
    "\n",
    "    return magnDist, magnDistX, magnDistY"
   ]
  },
  {
   "cell_type": "code",
   "execution_count": 224,
   "metadata": {},
   "outputs": [
    {
     "data": {
      "image/png": "[encoded data removed]",
      "text/plain": [
       "<Figure size 640x480 with 1 Axes>"
      ]
     },
     "metadata": {},
     "output_type": "display_data"
    },
    {
     "data": {
      "image/png": "[encoded data removed]",
      "text/plain": [
       "<Figure size 640x480 with 1 Axes>"
      ]
     },
     "metadata": {},
     "output_type": "display_data"
    }
   ],
   "source": [
    "a = np.linspace(0, 5, 100)\n",
    "b= np.linspace(-5, 5, 100)\n",
    "res = scaleMagnVel(data, a, b)"
   ]
  },
  {
   "cell_type": "code",
   "execution_count": 228,
   "metadata": {},
   "outputs": [
    {
     "name": "stdout",
     "output_type": "stream",
     "text": [
      "(1000, 100, 2)\n",
      "(1000, 100, 2)\n"
     ]
    }
   ],
   "source": [
    "print(out.shape)\n",
    "print(data.shape)"
   ]
  },
  {
   "cell_type": "code",
   "execution_count": 230,
   "metadata": {},
   "outputs": [
    {
     "name": "stdout",
     "output_type": "stream",
     "text": [
      "[[[ -8.1573174   -6.4755326 ]\n",
      "  [  9.66396793  -2.96524812]\n",
      "  [  8.8131778   -4.51966391]\n",
      "  ...\n",
      "  [ -9.40695045  -5.68911859]\n",
      "  [  1.82371428 -11.02456058]\n",
      "  [ -9.50501506   2.64205487]]\n",
      "\n",
      " [[ -8.13160229  -7.69113159]\n",
      "  [ 10.41846657  -2.04727459]\n",
      "  [  8.15658188  -3.01830673]\n",
      "  ...\n",
      "  [ -9.05066967  -6.65540504]\n",
      "  [  1.76220036 -12.8708477 ]\n",
      "  [ -9.65820312   2.69908953]]\n",
      "\n",
      " [[ -7.37226343  -8.75876713]\n",
      "  [ 10.86333942  -0.99794197]\n",
      "  [  7.17398405  -2.52245855]\n",
      "  ...\n",
      "  [-11.00755119  -7.70520592]\n",
      "  [  2.46740222 -12.69450855]\n",
      "  [ -8.2700758    1.88701534]]\n",
      "\n",
      " ...\n",
      "\n",
      " [[  0.           0.        ]\n",
      "  [  0.           0.        ]\n",
      "  [  0.           0.        ]\n",
      "  ...\n",
      "  [  0.           0.        ]\n",
      "  [  0.           0.        ]\n",
      "  [  0.           0.        ]]\n",
      "\n",
      " [[  0.           0.        ]\n",
      "  [  0.           0.        ]\n",
      "  [  0.           0.        ]\n",
      "  ...\n",
      "  [  0.           0.        ]\n",
      "  [  0.           0.        ]\n",
      "  [  0.           0.        ]]\n",
      "\n",
      " [[  0.           0.        ]\n",
      "  [  0.           0.        ]\n",
      "  [  0.           0.        ]\n",
      "  ...\n",
      "  [  0.           0.        ]\n",
      "  [  0.           0.        ]\n",
      "  [  0.           0.        ]]]\n"
     ]
    }
   ],
   "source": [
    "print(out)"
   ]
  },
  {
   "cell_type": "code",
   "execution_count": 231,
   "metadata": {},
   "outputs": [
    {
     "data": {
      "image/png": "[encoded data removed]",
      "text/plain": [
       "<Figure size 640x480 with 1 Axes>"
      ]
     },
     "metadata": {},
     "output_type": "display_data"
    },
    {
     "data": {
      "image/png": "[encoded data removed]",
      "text/plain": [
       "<Figure size 640x480 with 1 Axes>"
      ]
     },
     "metadata": {},
     "output_type": "display_data"
    }
   ],
   "source": [
    "a = np.linspace(0, 5, 100)\n",
    "b= np.linspace(-5, 5, 100)\n",
    "res = scaleMagnVel(out[:900, :, :], a, b)"
   ]
  },
  {
   "cell_type": "markdown",
   "metadata": {},
   "source": [
    "### scattering"
   ]
  },
  {
   "cell_type": "code",
   "execution_count": null,
   "metadata": {},
   "outputs": [],
   "source": []
  },
  {
   "cell_type": "markdown",
   "metadata": {},
   "source": [
    "### -------------"
   ]
  },
  {
   "cell_type": "markdown",
   "metadata": {},
   "source": [
    "### division angle - norm"
   ]
  },
  {
   "cell_type": "code",
   "execution_count": 174,
   "metadata": {},
   "outputs": [],
   "source": [
    "def errorsDiv(pred, gt):\n",
    "    \n",
    "    v = np.pi * 2\n",
    "    anglePred = np.arctan2(pred[:, 1], pred[:, 0])\n",
    "    angleGT = np.arctan2(gt[:, 1], gt[:, 0])\n",
    "    #angleGT2 = -(v-angleGT)\n",
    "\n",
    "    normPred = np.linalg.norm(pred, axis=-1)\n",
    "    normGT = np.linalg.norm(gt, axis=-1)\n",
    "\n",
    "    errorNorm = np.abs(normPred - normGT)\n",
    "    errorAngle = errorAngle = np.abs((anglePred - angleGT + np.pi) % (2 * np.pi) - np.pi)\n",
    "    #errorAnges2 = np.abs(anglePred - angleGT2)\n",
    "    #errorAngle = np.minimum(errorAngle, errorAnges2)\n",
    "\n",
    "    return errorAngle, errorNorm"
   ]
  },
  {
   "cell_type": "code",
   "execution_count": 33,
   "metadata": {},
   "outputs": [],
   "source": [
    "inds = np.arange(data.shape[0]-1)\n",
    "inds1 = inds + 1\n",
    "\n",
    "speeds = data[inds1] - data[inds]\n",
    "speeds2 = data2[inds1] - data2[inds]"
   ]
  },
  {
   "cell_type": "code",
   "execution_count": 34,
   "metadata": {},
   "outputs": [],
   "source": [
    "an, no = errorsDiv(speeds[0], speeds2[0])"
   ]
  },
  {
   "cell_type": "code",
   "execution_count": 42,
   "metadata": {},
   "outputs": [
    {
     "name": "stdout",
     "output_type": "stream",
     "text": [
      "(100,)\n",
      "5.0792703376600914e-17\n",
      "1.5221624302338426e-16\n",
      "(100,)\n",
      "1.1102230246251565e-16\n",
      "2.669157179762418e-16\n"
     ]
    }
   ],
   "source": [
    "print(an.shape)\n",
    "print(np.mean(an))\n",
    "print(np.std(an))\n",
    "\n",
    "print(no.shape)\n",
    "print(np.mean(no))\n",
    "print(np.std(no))"
   ]
  },
  {
   "cell_type": "markdown",
   "metadata": {},
   "source": [
    "### distance error"
   ]
  },
  {
   "cell_type": "code",
   "execution_count": null,
   "metadata": {},
   "outputs": [],
   "source": []
  },
  {
   "cell_type": "markdown",
   "metadata": {},
   "source": [
    "### degree error"
   ]
  },
  {
   "cell_type": "code",
   "execution_count": 189,
   "metadata": {},
   "outputs": [],
   "source": [
    "def getStdMessage(model, attr):\n",
    "    model.eval()\n",
    "    with torch.no_grad():\n",
    "        v = mod.GNN.message(None, None, attr).cpu().detach().numpy()\n",
    "    return v\n",
    "\n",
    "\n",
    "\n",
    "def plotStdMessage(messages):\n",
    "\n",
    "    std = np.std(messages, axis = 0)\n",
    "\n",
    "    plt.plot(std)\n",
    "    plt.xlabel('features')\n",
    "    plt.ylabel('Standard Deviation')\n",
    "\n",
    "    return std\n"
   ]
  },
  {
   "cell_type": "code",
   "execution_count": 207,
   "metadata": {},
   "outputs": [
    {
     "name": "stderr",
     "output_type": "stream",
     "text": [
      "100%|██████████| 989/989 [00:19<00:00, 50.07it/s] \n"
     ]
    }
   ],
   "source": [
    "import numpy as np\n",
    "import torch\n",
    "import matplotlib.pyplot as plt\n",
    "from tqdm import tqdm\n",
    "from torch_geometric.utils import degree as deg\n",
    "\n",
    "mod.eval()\n",
    "\n",
    "distList = []\n",
    "errorList = []\n",
    "degreeList = []\n",
    "normError = []\n",
    "angleError = []\n",
    "messages = None\n",
    "x, y, attr, inds = ft.processSimulation(data)\n",
    "with torch.no_grad():\n",
    "    for i in tqdm(range(len(x))):\n",
    "        s = Data(x = x[i][:, 2:], y = y[i], edge_index = inds[i], edge_attr = attr[i]).to(DEVICE)\n",
    "\n",
    "        degs = deg(s.edge_index[0, :], num_nodes=s.x.size(0))\n",
    "\n",
    "        pred = mod(s)\n",
    "\n",
    "        errorAngle, errorNorm = errorsDiv(pred.cpu().numpy(), s.y[:, 0, :].cpu().numpy())\n",
    "        normError.extend(errorNorm.tolist())\n",
    "        angleError.extend(errorAngle.tolist())\n",
    "\n",
    "\n",
    "        errors = torch.mean(torch.abs(pred - s.y[:, 0, :]),dim = -1)      # [N]\n",
    "\n",
    "        dist = s.edge_attr[:, 0]        # [N]\n",
    "\n",
    "        distList.extend(dist.cpu().numpy().tolist())  \n",
    "        errorList.extend(errors.cpu().numpy().tolist())\n",
    "        degreeList.extend(degs.cpu().numpy().tolist())\n",
    "\n",
    "        m = getStdMessage(mod, s.edge_attr)\n",
    "        if messages is None:\n",
    "            messages = m\n",
    "\n",
    "        else:\n",
    "            messages = np.vstack((messages, m))\n",
    "    \n",
    "distList = np.array(distList)\n",
    "errorList = np.array(errorList)\n",
    "degreeList = np.array(degreeList)\n",
    "normError = np.array(normError)\n",
    "angleError = np.array(angleError)\n",
    "\n",
    "\n",
    "\n",
    "\n",
    "\n"
   ]
  },
  {
   "cell_type": "code",
   "execution_count": 208,
   "metadata": {},
   "outputs": [
    {
     "data": {
      "image/png": "[encoded data removed]",
      "text/plain": [
       "<Figure size 640x480 with 1 Axes>"
      ]
     },
     "metadata": {},
     "output_type": "display_data"
    }
   ],
   "source": [
    "plotStdMessage(messages)\n",
    "plt.show()"
   ]
  },
  {
   "cell_type": "code",
   "execution_count": 209,
   "metadata": {},
   "outputs": [
    {
     "name": "stdout",
     "output_type": "stream",
     "text": [
      "2.9988901777424783\n",
      "16.818191963840473\n"
     ]
    }
   ],
   "source": [
    "aError = 180 * angleError / np.pi\n",
    "\n",
    "print(np.median(aError))\n",
    "print(np.std(aError))"
   ]
  },
  {
   "cell_type": "code",
   "execution_count": 210,
   "metadata": {},
   "outputs": [
    {
     "name": "stdout",
     "output_type": "stream",
     "text": [
      "tensor([[[-0.0221,  0.0558],\n",
      "         [-0.0221,  0.0558],\n",
      "         [-0.0221,  0.0558],\n",
      "         ...,\n",
      "         [-0.0221,  0.0558],\n",
      "         [-0.0221,  0.0558],\n",
      "         [-0.0221,  0.0558]],\n",
      "\n",
      "        [[ 0.0409,  0.0439],\n",
      "         [ 0.0409,  0.0439],\n",
      "         [ 0.0409,  0.0439],\n",
      "         ...,\n",
      "         [ 0.0409,  0.0439],\n",
      "         [ 0.0409,  0.0439],\n",
      "         [ 0.0409,  0.0439]],\n",
      "\n",
      "        [[-0.0204,  0.0564],\n",
      "         [-0.0204,  0.0564],\n",
      "         [-0.0204,  0.0564],\n",
      "         ...,\n",
      "         [-0.0204,  0.0564],\n",
      "         [-0.0204,  0.0564],\n",
      "         [-0.0204,  0.0564]],\n",
      "\n",
      "        ...,\n",
      "\n",
      "        [[ 0.0595,  0.0076],\n",
      "         [ 0.0595,  0.0076],\n",
      "         [ 0.0595,  0.0076],\n",
      "         ...,\n",
      "         [ 0.0595,  0.0076],\n",
      "         [ 0.0595,  0.0076],\n",
      "         [ 0.0595,  0.0076]],\n",
      "\n",
      "        [[ 0.0194, -0.0568],\n",
      "         [ 0.0194, -0.0568],\n",
      "         [ 0.0194, -0.0568],\n",
      "         ...,\n",
      "         [ 0.0194, -0.0568],\n",
      "         [ 0.0194, -0.0568],\n",
      "         [ 0.0194, -0.0568]],\n",
      "\n",
      "        [[-0.0595,  0.0075],\n",
      "         [-0.0595,  0.0075],\n",
      "         [-0.0595,  0.0075],\n",
      "         ...,\n",
      "         [-0.0595,  0.0075],\n",
      "         [-0.0595,  0.0075],\n",
      "         [-0.0595,  0.0075]]], device='cuda:0')\n"
     ]
    }
   ],
   "source": [
    "print(s.y)"
   ]
  },
  {
   "cell_type": "code",
   "execution_count": 211,
   "metadata": {},
   "outputs": [
    {
     "data": {
      "image/png": "[encoded data removed]",
      "text/plain": [
       "<Figure size 640x480 with 1 Axes>"
      ]
     },
     "metadata": {},
     "output_type": "display_data"
    }
   ],
   "source": [
    "plt.boxplot(normError)\n",
    "plt.show()"
   ]
  },
  {
   "cell_type": "code",
   "execution_count": 212,
   "metadata": {},
   "outputs": [
    {
     "data": {
      "image/png": "[encoded data removed]",
      "text/plain": [
       "<Figure size 640x480 with 1 Axes>"
      ]
     },
     "metadata": {},
     "output_type": "display_data"
    }
   ],
   "source": [
    "plt.hist(normError, bins='auto',density = True)\n",
    "plt.show()"
   ]
  },
  {
   "cell_type": "code",
   "execution_count": 213,
   "metadata": {},
   "outputs": [
    {
     "data": {
      "image/png": "[encoded data removed]",
      "text/plain": [
       "<Figure size 640x480 with 1 Axes>"
      ]
     },
     "metadata": {},
     "output_type": "display_data"
    }
   ],
   "source": [
    "plt.boxplot(aError)\n",
    "plt.show()"
   ]
  },
  {
   "cell_type": "code",
   "execution_count": 214,
   "metadata": {},
   "outputs": [
    {
     "data": {
      "image/png": "[encoded data removed]",
      "text/plain": [
       "<Figure size 640x480 with 1 Axes>"
      ]
     },
     "metadata": {},
     "output_type": "display_data"
    }
   ],
   "source": [
    "plt.hist(aError, density = True, bins = 'auto')\n",
    "plt.show()"
   ]
  },
  {
   "cell_type": "code",
   "execution_count": 215,
   "metadata": {},
   "outputs": [
    {
     "name": "stdout",
     "output_type": "stream",
     "text": [
      "0.004763532429933548\n",
      "0.007997567661377842\n"
     ]
    }
   ],
   "source": [
    "print(np.median(normError))\n",
    "print(np.std(normError))"
   ]
  },
  {
   "cell_type": "code",
   "execution_count": 216,
   "metadata": {},
   "outputs": [],
   "source": [
    "def plotBoxPlot(diff, vals, bins, xlabel = 'X values', ylabel = 'y values', showfliers = False):\n",
    "\n",
    "    groups = np.digitize(diff, bins)\n",
    "    grouped_errors = {i: [] for i in range(1, len(bins))}\n",
    "\n",
    "    for idx, group in enumerate(groups):\n",
    "        grouped_errors[group].append(vals[idx])\n",
    "\n",
    "    \n",
    "    centers = [(bins[i] + bins[i+1]) / 2 for i in range(len(bins)-1)]\n",
    "    data_to_plot = [grouped_errors[k] for k in sorted(grouped_errors.keys())]\n",
    "    medians = [np.median(g) if g else 0 for g in data_to_plot]\n",
    "\n",
    "    boxprops = dict(linestyle='-', linewidth=2, color='black')  # Custom box properties\n",
    "    medianprops = dict(linestyle='-', linewidth=0, color='orange')  # Invisible median line\n",
    "    boxplot_elements = plt.boxplot(data_to_plot, positions=centers, boxprops=boxprops, medianprops=medianprops, showfliers=showfliers, widths = 0.2)\n",
    "\n",
    "    plt.plot(centers, medians, 'o-', color='orange', label='Medians')\n",
    "\n",
    "\n",
    "    plt.xlabel(xlabel)\n",
    "    plt.ylabel(ylabel)\n",
    "\n",
    "    return medians"
   ]
  },
  {
   "cell_type": "code",
   "execution_count": 217,
   "metadata": {},
   "outputs": [
    {
     "name": "stdout",
     "output_type": "stream",
     "text": [
      "5.0\n"
     ]
    }
   ],
   "source": [
    "print(max(degreeList))"
   ]
  },
  {
   "cell_type": "code",
   "execution_count": 218,
   "metadata": {},
   "outputs": [
    {
     "name": "stdout",
     "output_type": "stream",
     "text": [
      "[-0.5  0.5  1.5  2.5  3.5  4.5  5.5]\n"
     ]
    }
   ],
   "source": [
    "print(bins)"
   ]
  },
  {
   "cell_type": "code",
   "execution_count": 219,
   "metadata": {},
   "outputs": [
    {
     "data": {
      "image/png": "[encoded data removed]",
      "text/plain": [
       "<Figure size 640x480 with 1 Axes>"
      ]
     },
     "metadata": {},
     "output_type": "display_data"
    }
   ],
   "source": [
    "bins = np.arange(7) - 0.5\n",
    "plotBoxPlot(degreeList, errorList, bins, xlabel = 'Degree', ylabel = 'L1 Error')\n",
    "plt.show()"
   ]
  },
  {
   "cell_type": "code",
   "execution_count": 220,
   "metadata": {},
   "outputs": [
    {
     "data": {
      "image/png": "[encoded data removed]",
      "text/plain": [
       "<Figure size 640x480 with 1 Axes>"
      ]
     },
     "metadata": {},
     "output_type": "display_data"
    }
   ],
   "source": [
    "bins = np.linspace(0, 6, 20)\n",
    "plotBoxPlot(distList, errorList, bins, xlabel = 'Distance', ylabel = 'L1 Error')\n",
    "plt.show()"
   ]
  },
  {
   "cell_type": "code",
   "execution_count": null,
   "metadata": {},
   "outputs": [],
   "source": [
    "bins = np.linspace(0, 6, 20)\n",
    "plotBoxPlot(distList, errorList, bins)\n",
    "plt.show()"
   ]
  },
  {
   "cell_type": "code",
   "execution_count": 81,
   "metadata": {},
   "outputs": [
    {
     "name": "stdout",
     "output_type": "stream",
     "text": [
      "[  0 179  92  14 106  71 188  20 102 121  74  87 116  99 103 151 130 149\n",
      "  52   1  87 157  37 129 191 187  20 160  57  21  88  48  58 169 187  14\n",
      " 189 189 174 189  50 107  54  63 130  50 134  20  72 166  17 131  88  59\n",
      "  13   8  89  52 129  83  91 110 187 198 171   7 174  34  80 163  49 103\n",
      " 131   1 133  53 105   3  53 190 145  43 161 189  13  94  47  14 199 189\n",
      "  39  81 110  52  23 153 187 123  40 156]\n",
      "[1 9 5 1 5 4 9 1 5 6 4 4 6 5 5 7 6 7 3 1 4 8 2 6 9 9 1 8 3 1 4 3 3 8 9 1 9\n",
      " 9 8 9 3 5 3 3 6 3 7 1 4 8 1 6 4 3 1 1 5 3 6 4 5 5 9 9 8 1 8 2 4 8 3 5 6 1\n",
      " 6 3 5 1 3 9 7 2 8 9 1 5 3 1 9 9 2 4 5 3 2 7 9 6 2 8]\n"
     ]
    }
   ],
   "source": [
    "print(distances)\n",
    "print(groups)"
   ]
  },
  {
   "cell_type": "markdown",
   "metadata": {},
   "source": [
    "### L1 vect"
   ]
  },
  {
   "cell_type": "code",
   "execution_count": 240,
   "metadata": {},
   "outputs": [
    {
     "name": "stdout",
     "output_type": "stream",
     "text": [
      "messageMLP.mlp.0.weight >>>>  torch.Size([128, 5])\n",
      "messageMLP.mlp.0.bias >>>>  torch.Size([128])\n",
      "messageMLP.mlp.3.weight >>>>  torch.Size([128, 128])\n",
      "messageMLP.mlp.3.bias >>>>  torch.Size([128])\n",
      "messageMLP.mlp.6.weight >>>>  torch.Size([128, 128])\n",
      "messageMLP.mlp.6.bias >>>>  torch.Size([128])\n",
      "norm.weight >>>>  torch.Size([128])\n",
      "norm.bias >>>>  torch.Size([128])\n",
      "updateMLP.mlp.0.weight >>>>  torch.Size([172, 256])\n",
      "updateMLP.mlp.0.bias >>>>  torch.Size([172])\n",
      "updateMLP.mlp.3.weight >>>>  torch.Size([88, 172])\n",
      "updateMLP.mlp.3.bias >>>>  torch.Size([88])\n",
      "updateMLP.mlp.6.weight >>>>  torch.Size([2, 88])\n",
      "updateMLP.mlp.6.bias >>>>  torch.Size([2])\n"
     ]
    }
   ],
   "source": [
    "for n, p in mod.GNN.named_parameters():\n",
    "    print(f'{n} >>>>  {p.shape}')"
   ]
  },
  {
   "cell_type": "code",
   "execution_count": 249,
   "metadata": {},
   "outputs": [
    {
     "name": "stdout",
     "output_type": "stream",
     "text": [
      "GN_edge()\n"
     ]
    }
   ],
   "source": [
    "print(mod.GNN)"
   ]
  },
  {
   "cell_type": "code",
   "execution_count": 255,
   "metadata": {},
   "outputs": [
    {
     "name": "stdout",
     "output_type": "stream",
     "text": [
      "torch.Size([1, 1716, 128])\n"
     ]
    },
    {
     "ename": "RuntimeError",
     "evalue": "stack expects each tensor to be equal size, but got [1, 1716, 128] at entry 0 and [1, 1536, 128] at entry 1",
     "output_type": "error",
     "traceback": [
      "\u001b[0;31m---------------------------------------------------------------------------\u001b[0m",
      "\u001b[0;31mRuntimeError\u001b[0m                              Traceback (most recent call last)",
      "Cell \u001b[0;32mIn[255], line 14\u001b[0m\n\u001b[1;32m     11\u001b[0m     \u001b[38;5;28mprint\u001b[39m(vect\u001b[38;5;241m.\u001b[39mshape)\n\u001b[1;32m     13\u001b[0m \u001b[38;5;28;01melse\u001b[39;00m:\n\u001b[0;32m---> 14\u001b[0m     vect \u001b[38;5;241m=\u001b[39m \u001b[43mtorch\u001b[49m\u001b[38;5;241;43m.\u001b[39;49m\u001b[43mstack\u001b[49m\u001b[43m(\u001b[49m\u001b[43m(\u001b[49m\u001b[43mvect\u001b[49m\u001b[43m,\u001b[49m\u001b[43mmod\u001b[49m\u001b[38;5;241;43m.\u001b[39;49m\u001b[43mGNN\u001b[49m\u001b[38;5;241;43m.\u001b[39;49m\u001b[43mmessage\u001b[49m\u001b[43m(\u001b[49m\u001b[38;5;28;43;01mNone\u001b[39;49;00m\u001b[43m,\u001b[49m\u001b[43m \u001b[49m\u001b[38;5;28;43;01mNone\u001b[39;49;00m\u001b[43m,\u001b[49m\u001b[43m \u001b[49m\u001b[43ma\u001b[49m\u001b[43m)\u001b[49m\u001b[38;5;241;43m.\u001b[39;49m\u001b[43mcpu\u001b[49m\u001b[43m(\u001b[49m\u001b[43m)\u001b[49m\u001b[38;5;241;43m.\u001b[39;49m\u001b[43munsqueeze\u001b[49m\u001b[43m(\u001b[49m\u001b[43mdim\u001b[49m\u001b[43m \u001b[49m\u001b[38;5;241;43m=\u001b[39;49m\u001b[43m \u001b[49m\u001b[38;5;241;43m0\u001b[39;49m\u001b[43m)\u001b[49m\u001b[43m)\u001b[49m\u001b[43m,\u001b[49m\u001b[43m \u001b[49m\u001b[43mdim\u001b[49m\u001b[43m \u001b[49m\u001b[38;5;241;43m=\u001b[39;49m\u001b[43m \u001b[49m\u001b[38;5;241;43m0\u001b[39;49m\u001b[43m)\u001b[49m\n\u001b[1;32m     15\u001b[0m     \u001b[38;5;28mprint\u001b[39m(vect\u001b[38;5;241m.\u001b[39mshape)\n",
      "\u001b[0;31mRuntimeError\u001b[0m: stack expects each tensor to be equal size, but got [1, 1716, 128] at entry 0 and [1, 1536, 128] at entry 1"
     ]
    }
   ],
   "source": [
    "x, y, attr, inds = processSimulation(data)\n",
    "\n",
    "vect = None\n",
    "\n",
    "for t in range(len(x)):\n",
    "\n",
    "    a = attr[t].to(DEVICE)\n",
    "\n",
    "    if vect is None:\n",
    "        vect = mod.GNN.message(None, None, a).cpu().unsqueeze(dim = 0)\n",
    "        print(vect.shape)\n",
    "\n",
    "    else:\n",
    "        vect = torch.stack((vect,mod.GNN.message(None, None, a).cpu().unsqueeze(dim = 0)), dim = 0)\n",
    "        print(vect.shape)\n",
    "\n",
    "\n"
   ]
  },
  {
   "cell_type": "code",
   "execution_count": 267,
   "metadata": {},
   "outputs": [
    {
     "data": {
      "text/plain": [
       "SimpleMod(\n",
       "  (enc): MLP(\n",
       "    (mlp): Sequential(\n",
       "      (0): Linear(in_features=8, out_features=48, bias=True)\n",
       "      (1): LeakyReLU(negative_slope=0.01)\n",
       "      (2): Dropout(p=0.3, inplace=False)\n",
       "      (3): Linear(in_features=48, out_features=88, bias=True)\n",
       "      (4): LeakyReLU(negative_slope=0.01)\n",
       "      (5): Dropout(p=0.3, inplace=False)\n",
       "      (6): Linear(in_features=88, out_features=128, bias=True)\n",
       "    )\n",
       "  )\n",
       "  (norm1): LayerNorm((128,), eps=1e-05, elementwise_affine=True)\n",
       "  (GNN): GN_edge()\n",
       ")"
      ]
     },
     "execution_count": 267,
     "metadata": {},
     "output_type": "execute_result"
    }
   ],
   "source": [
    "std = torch.load('/master/code/models/cramner_best2.pt')\n",
    "mod.load_state_dict(std)\n",
    "mod.eval()"
   ]
  },
  {
   "cell_type": "code",
   "execution_count": 200,
   "metadata": {},
   "outputs": [],
   "source": [
    "a = attr[0].to(DEVICE)"
   ]
  },
  {
   "cell_type": "code",
   "execution_count": 201,
   "metadata": {},
   "outputs": [],
   "source": [
    "mod.eval()\n",
    "with torch.no_grad():\n",
    "    v = mod.GNN.message(None, None, a).cpu().detach().numpy()"
   ]
  },
  {
   "cell_type": "code",
   "execution_count": 272,
   "metadata": {},
   "outputs": [],
   "source": [
    "a2 = a.cpu().numpy()"
   ]
  },
  {
   "cell_type": "code",
   "execution_count": 202,
   "metadata": {},
   "outputs": [],
   "source": [
    "values = np.std(v,axis = 0)"
   ]
  },
  {
   "cell_type": "code",
   "execution_count": null,
   "metadata": {},
   "outputs": [],
   "source": [
    "def getStdMessage(model, attr):\n",
    "    model.eval()\n",
    "    with torch.no_grad():\n",
    "        v = mod.GNN.message(None, None, attr).cpu().detach().numpy()\n",
    "    return v\n",
    "\n",
    "\n",
    "\n",
    "def plotStdMessage(messages):\n",
    "\n",
    "    std = np.std(v, axis = 0)\n",
    "\n",
    "    plt.plot(std)\n",
    "    plt.xlabel('features')\n",
    "    plt.ylabel('Standard Deviation')\n",
    "\n",
    "    return std\n"
   ]
  },
  {
   "cell_type": "code",
   "execution_count": null,
   "metadata": {},
   "outputs": [],
   "source": [
    "def getStdMessage(model, attr):\n",
    "    model.eval()\n",
    "    with torch.no_grad():\n",
    "        v = mod.GNN.message(None, None, attr).cpu().detach().numpy()\n",
    "    std = np.std(v, axis = 0)\n",
    "\n",
    "    plt.plot(std)\n",
    "    plt.xlabel('features')\n",
    "    plt.ylabel('Standard Deviation')\n",
    "\n",
    "    return std"
   ]
  },
  {
   "cell_type": "code",
   "execution_count": 203,
   "metadata": {},
   "outputs": [
    {
     "data": {
      "text/plain": [
       "[<matplotlib.lines.Line2D at 0x7fc682a8c150>]"
      ]
     },
     "execution_count": 203,
     "metadata": {},
     "output_type": "execute_result"
    },
    {
     "data": {
      "image/png": "[encoded data removed]",
      "text/plain": [
       "<Figure size 640x480 with 1 Axes>"
      ]
     },
     "metadata": {},
     "output_type": "display_data"
    }
   ],
   "source": [
    "plt.plot(values)"
   ]
  },
  {
   "cell_type": "code",
   "execution_count": 276,
   "metadata": {},
   "outputs": [
    {
     "data": {
      "text/plain": [
       "True"
      ]
     },
     "execution_count": 276,
     "metadata": {},
     "output_type": "execute_result"
    }
   ],
   "source": [
    "os.path.exists('/master/code')"
   ]
  },
  {
   "cell_type": "code",
   "execution_count": 286,
   "metadata": {},
   "outputs": [
    {
     "name": "stdout",
     "output_type": "stream",
     "text": [
      "[ 33  67  86  26 124  81 117  49   9 110  70  90   2  66   0  48  16  30\n",
      " 111  39 123  73  20  76  51  93  61 109  57 104  56 112 115  12  46   8\n",
      "  54  94  19  36  75  78  91 106  62 102 126  47  72  77  79 125  99  14\n",
      "  18 119  31  45  28  58  40  34  11  74  50  64  82 108  25  53  87  21\n",
      "  85 121  15  80  60  92 118  42 101 116  27   6  24  52  10  68  38   3\n",
      "  84 120  59  32  65  83  43  22  55  23 114  63 103  95  89  96  98  88\n",
      " 107  17  44   1 100 127   4  97  69  29  35  37 122  71  41   7 105   5\n",
      " 113  13]\n"
     ]
    }
   ],
   "source": [
    "inds = np.argsort(values)\n",
    "print(inds)"
   ]
  },
  {
   "cell_type": "code",
   "execution_count": 289,
   "metadata": {},
   "outputs": [
    {
     "name": "stdout",
     "output_type": "stream",
     "text": [
      "[0.10199607 0.16727437 0.35626298 0.5089267 ]\n"
     ]
    }
   ],
   "source": [
    "print(values[inds[-4:]])"
   ]
  },
  {
   "cell_type": "code",
   "execution_count": 279,
   "metadata": {},
   "outputs": [
    {
     "data": {
      "text/plain": [
       "['data',\n",
       " 'launch_simulations_test.ipynb',\n",
       " 'pySr_test.ipynb',\n",
       " 'test_features.ipynb',\n",
       " 'test_measures.ipynb',\n",
       " 'test_sim.ipynb']"
      ]
     },
     "execution_count": 279,
     "metadata": {},
     "output_type": "execute_result"
    }
   ],
   "source": [
    "os.listdir('/master/tests')"
   ]
  },
  {
   "cell_type": "code",
   "execution_count": 292,
   "metadata": {},
   "outputs": [
    {
     "name": "stdout",
     "output_type": "stream",
     "text": [
      "(1536, 128)\n"
     ]
    }
   ],
   "source": [
    "print(v.shape)"
   ]
  },
  {
   "cell_type": "code",
   "execution_count": 291,
   "metadata": {},
   "outputs": [],
   "source": [
    "np.save('/master/tests/messages', a2)\n",
    "np.save('/master/tests/feats', v[:, inds[-4:]])"
   ]
  },
  {
   "cell_type": "markdown",
   "metadata": {},
   "source": [
    "### impact of teh degree "
   ]
  },
  {
   "cell_type": "code",
   "execution_count": null,
   "metadata": {},
   "outputs": [],
   "source": [
    "d = {}\n",
    "degMax = 20\n",
    "for i in range(degMax):\n",
    "    d[i] = []\n",
    "\n",
    "\n",
    "def getErrorDegree(graph, errors, d,degMax = 15):\n",
    "\n",
    "    degrees = deg(graph.edge_index[0], num_nodes=graph.x.size(0))\n",
    "    \n",
    "    for i in range(degMax):\n",
    "        inds = degree == i\n",
    "\n",
    "        d[i].appned(errors[inds])\n",
    "\n",
    "    return d\n",
    "\n",
    "\n",
    "#s = Data(x = x[0], edge_index = inds[0], edge_attr = attr[0])\n",
    "\n",
    "#d = getErrorDegree(s, errors, d,degMax = 15)\n",
    "\n",
    "def plotDistanceError(d, max_deg = 15, display:bool = True):\n",
    "    x = np.arange(max_deg) \n",
    "    y= []\n",
    "    std = []\n",
    "    for i in range(max_deg):\n",
    "        y.append(np.mean(d[i]))\n",
    "        std.append(np.std(d[i]))\n",
    "\n",
    "    if display:\n",
    "        plt.plot(x, y)\n",
    "        # fill between\n",
    "\n",
    "    return x, y"
   ]
  },
  {
   "cell_type": "markdown",
   "metadata": {},
   "source": [
    "### importance of the distance"
   ]
  },
  {
   "cell_type": "code",
   "execution_count": null,
   "metadata": {},
   "outputs": [],
   "source": []
  }
 ],
 "metadata": {
  "kernelspec": {
   "display_name": "Python 3 (ipykernel)",
   "language": "python",
   "name": "python3"
  },
  "language_info": {
   "codemirror_mode": {
    "name": "ipython",
    "version": 3
   },
   "file_extension": ".py",
   "mimetype": "text/x-python",
   "name": "python",
   "nbconvert_exporter": "python",
   "pygments_lexer": "ipython3",
   "version": "3.11.9"
  }
 },
 "nbformat": 4,
 "nbformat_minor": 2
}
